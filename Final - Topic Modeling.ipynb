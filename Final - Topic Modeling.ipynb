{
 "cells": [
  {
   "cell_type": "code",
   "execution_count": 55,
   "metadata": {},
   "outputs": [
    {
     "name": "stdout",
     "output_type": "stream",
     "text": [
      "bs4 4.6.3\n",
      "sklearn 0.19.1\n",
      "nltk 3.3\n",
      "re 2.2.1\n",
      "requests 2.19.1\n",
      "pandas 0.22.0\n",
      "seaborn 0.8.1\n",
      "numpy 1.14.2\n",
      "pyLDAvis  2.1.2\n",
      "matplotlib 2.2.2\n"
     ]
    }
   ],
   "source": [
    "import bs4; print( 'bs4 ' + bs4.__version__)\n",
    "from bs4 import BeautifulSoup, SoupStrainer\n",
    "\n",
    "import sklearn; print( 'sklearn ' + sklearn.__version__)\n",
    "from sklearn.feature_extraction.text import CountVectorizer, TfidfVectorizer\n",
    "from sklearn.decomposition import NMF, LatentDirichletAllocation\n",
    "from sklearn.manifold import TSNE\n",
    "\n",
    "import nltk; print( 'nltk ' + nltk.__version__)\n",
    "from nltk import word_tokenize, pos_tag, RegexpParser;\n",
    "from nltk.corpus import stopwords, wordnet\n",
    "from nltk.tokenize import sent_tokenize\n",
    "from nltk.stem.porter import PorterStemmer\n",
    "from nltk.stem import SnowballStemmer, LancasterStemmer\n",
    "\n",
    "# from autocorrect import spell; print('autocorrect 0.3.0')\n",
    "\n",
    "import re; print('re ' + re.__version__)\n",
    "import requests; print('requests ' + requests.__version__)\n",
    "\n",
    "import pandas as pd; print('pandas ' + pd.__version__)\n",
    "import seaborn as sns; print('seaborn ' + sns.__version__)\n",
    "import numpy as np; print('numpy ' + np.__version__)\n",
    "\n",
    "import pyLDAvis; print('pyLDAvis ', pyLDAvis.__version__)\n",
    "import pyLDAvis.sklearn\n",
    "\n",
    "import matplotlib; print('matplotlib', matplotlib.__version__)\n",
    "import matplotlib.pyplot as plt;"
   ]
  },
  {
   "cell_type": "markdown",
   "metadata": {},
   "source": [
    "# Final Project - Topic Modeling\n",
    "\n",
    "First we continue where we left off with [Homework 5](https://github.com/kjprice/smu-nlp/blob/e769b93945e6f45ae90aab3ec53b6595ae7bc7da/homework/Homework%205.ipynb)."
   ]
  },
  {
   "cell_type": "markdown",
   "metadata": {},
   "source": [
    "### Code from Homework 5\n"
   ]
  },
  {
   "cell_type": "code",
   "execution_count": 2,
   "metadata": {},
   "outputs": [],
   "source": [
    "# The home page for various movies' reviews, from which will get the links for individual reviews\n",
    "review_home_urls = {\n",
    "    'green_mile': 'https://www.imdb.com/title/tt0120689/reviews?ref_=tt_ql_3',\n",
    "    'forest_gump': 'https://www.imdb.com/title/tt0109830/reviews?ref_=tt_ov_rt',\n",
    "    'cast_away': 'https://www.imdb.com/title/tt0162222/reviews?ref_=tt_ov_rt',\n",
    "    'terminal': 'https://www.imdb.com/title/tt0362227/reviews?ref_=tt_ql_3',\n",
    "    'catch_me_if_you_can': 'https://www.imdb.com/title/tt0264464/reviews?ref_=tt_ql_3',\n",
    "    'road_to_perdition': 'https://www.imdb.com/title/tt0257044/reviews?ref_=tt_ql_3',\n",
    "}\n",
    "def get_text_from_url(url):\n",
    "    return requests.get(url).text\n",
    "text = get_text_from_url(review_home_urls['green_mile'])\n"
   ]
  },
  {
   "cell_type": "code",
   "execution_count": 3,
   "metadata": {},
   "outputs": [],
   "source": [
    "def get_all_links_from_html(html):\n",
    "    tags = BeautifulSoup(html, 'html.parser', parse_only=SoupStrainer('a', href=True))\n",
    "    urls = [str(tag.attrs['href']) for tag in tags]\n",
    "    return urls\n",
    "all_links = get_all_links_from_html(text)"
   ]
  },
  {
   "cell_type": "code",
   "execution_count": 4,
   "metadata": {},
   "outputs": [],
   "source": [
    "def get_review_urls_from_links(links):\n",
    "    url_template = 'https://www.imdb.com{}'\n",
    "    # url_template = 'http://www.gutenberg.org/files/{}/{}-h/{}-h.htm'\n",
    "    return [url_template.format(link) for link in links]\n",
    "\n",
    "urls = get_review_urls_from_links(all_links)"
   ]
  },
  {
   "cell_type": "code",
   "execution_count": 5,
   "metadata": {},
   "outputs": [],
   "source": [
    "def relevent_link(link):\n",
    "    if '/review/' in link:\n",
    "        return True\n",
    "    return False"
   ]
  },
  {
   "cell_type": "code",
   "execution_count": 6,
   "metadata": {},
   "outputs": [
    {
     "data": {
      "text/plain": [
       "25"
      ]
     },
     "execution_count": 6,
     "metadata": {},
     "output_type": "execute_result"
    }
   ],
   "source": [
    "def get_relevent_links(links):\n",
    "    relevent_links = filter(relevent_link, all_links)\n",
    "    unique_relevent_links = set(relevent_links)\n",
    "    return list(unique_relevent_links)\n",
    "relevent_urls = get_relevent_links(urls)\n",
    "len(relevent_urls)"
   ]
  },
  {
   "cell_type": "code",
   "execution_count": 7,
   "metadata": {},
   "outputs": [
    {
     "name": "stderr",
     "output_type": "stream",
     "text": [
      "<input>:6: DeprecationWarning: invalid escape sequence \\s\n",
      "<input>:6: DeprecationWarning: invalid escape sequence \\s\n",
      "<input>:6: DeprecationWarning: invalid escape sequence \\s\n",
      "<ipython-input-7-fe7ee7139024>:6: DeprecationWarning: invalid escape sequence \\s\n",
      "  return re.split('\\\\n\\\\n\\s+\\d+ out of \\d+', text)[0]\n"
     ]
    }
   ],
   "source": [
    "def strain_content(name, attrs):\n",
    "    if name == 'div' and dict(attrs).get('class', None) == 'content':\n",
    "        return True\n",
    "    return False\n",
    "def clean_review_text(text):\n",
    "    return re.split('\\\\n\\\\n\\s+\\d+ out of \\d+', text)[0]\n",
    "def get_review_from_url(url):\n",
    "    html = get_text_from_url(url)\n",
    "    tags = BeautifulSoup(html, 'html.parser', parse_only=SoupStrainer(strain_content))\n",
    "    review = clean_review_text(tags.text)\n",
    "    return review"
   ]
  },
  {
   "cell_type": "code",
   "execution_count": 8,
   "metadata": {},
   "outputs": [],
   "source": [
    "def get_review_from_site(url):\n",
    "    reviews = []\n",
    "\n",
    "    reviews_home_text = get_text_from_url(url)\n",
    "    all_links = get_all_links_from_html(reviews_home_text)\n",
    "    relevent_links = get_relevent_links(all_links)\n",
    "\n",
    "    \n",
    "    \n",
    "    \n",
    "    review_urls = get_review_urls_from_links(relevent_links)\n",
    "    for url in review_urls:\n",
    "        reviews.append(get_review_from_url(url))\n",
    "        # break\n",
    "    return reviews"
   ]
  },
  {
   "cell_type": "code",
   "execution_count": 9,
   "metadata": {},
   "outputs": [],
   "source": [
    "def get_reviews_from_all_sites():\n",
    "    all_reviews = []\n",
    "    review_titles = review_home_urls.keys()\n",
    "    for title in review_titles:\n",
    "        review_home_url = review_home_urls[title]\n",
    "        all_reviews = all_reviews + get_review_from_site(review_home_url)\n",
    "    return all_reviews"
   ]
  },
  {
   "cell_type": "markdown",
   "metadata": {},
   "source": [
    "## Retrieve All Reviews"
   ]
  },
  {
   "cell_type": "code",
   "execution_count": 10,
   "metadata": {},
   "outputs": [],
   "source": [
    "all_reviews = get_reviews_from_all_sites()"
   ]
  },
  {
   "cell_type": "code",
   "execution_count": 11,
   "metadata": {},
   "outputs": [
    {
     "data": {
      "text/plain": [
       "150"
      ]
     },
     "execution_count": 11,
     "metadata": {},
     "output_type": "execute_result"
    }
   ],
   "source": [
    "len(all_reviews)"
   ]
  },
  {
   "cell_type": "code",
   "execution_count": 12,
   "metadata": {},
   "outputs": [
    {
     "data": {
      "text/plain": [
       "'\\nHaving doubts about seeing this movie because of the length (3 hours can be death to a film).I was '"
      ]
     },
     "execution_count": 12,
     "metadata": {},
     "output_type": "execute_result"
    }
   ],
   "source": [
    "all_reviews[0][0:100]"
   ]
  },
  {
   "cell_type": "markdown",
   "metadata": {},
   "source": [
    "## Preprocess Data"
   ]
  },
  {
   "cell_type": "code",
   "execution_count": 13,
   "metadata": {},
   "outputs": [],
   "source": [
    "def sentences_to_words(sentences):\n",
    "    return [word_tokenize(sentence) for sentence in sentences]\n",
    "# sentences_to_words([all_reviews[0]])[0][0:5]"
   ]
  },
  {
   "cell_type": "code",
   "execution_count": 14,
   "metadata": {},
   "outputs": [
    {
     "data": {
      "text/plain": [
       "['boss', '.']"
      ]
     },
     "execution_count": 14,
     "metadata": {},
     "output_type": "execute_result"
    }
   ],
   "source": [
    "custom_stop_words = ['the', 'green', 'mile', 'shawshank', 'redemption', 'one']\n",
    "stop_words = custom_stop_words + stopwords.words('english')\n",
    "def remove_stop_words(words):\n",
    "    return [word for word in words if word not in stop_words]\n",
    "remove_stop_words(['he', 'her', 'boss', '.', 'the'])"
   ]
  },
  {
   "cell_type": "code",
   "execution_count": 15,
   "metadata": {},
   "outputs": [],
   "source": [
    "def include_only_numbers_and_letters(words):\n",
    "    regex_matcher = '^[a-zA-Z0-9]+$'\n",
    "    return [word for word in words if re.match(regex_matcher, word)]\n",
    "# include_only_numbers_and_letters(['1', 'KJ', '.'])"
   ]
  },
  {
   "cell_type": "code",
   "execution_count": 16,
   "metadata": {},
   "outputs": [
    {
     "data": {
      "text/plain": [
       "['run', 'fastest', 'hat', 'movie']"
      ]
     },
     "execution_count": 16,
     "metadata": {},
     "output_type": "execute_result"
    }
   ],
   "source": [
    "#stemmer = PorterStemmer()\n",
    "#stemmer = SnowballStemmer('english')\n",
    "stemmer = LancasterStemmer()\n",
    "def lemmatize_word(word):\n",
    "    lemma_word = stemmer.stem(word)\n",
    "    if wordnet.synsets(lemma_word):\n",
    "        return lemma_word\n",
    "    else:\n",
    "        return word\n",
    "def lemmatize_words(words):\n",
    "    return [lemmatize_word(word) for word in words]\n",
    "lemmatize_words(['running', 'fastest', 'hats', 'movie'])"
   ]
  },
  {
   "cell_type": "code",
   "execution_count": 17,
   "metadata": {},
   "outputs": [
    {
     "data": {
      "text/plain": [
       "['doubt', 'see', 'movie', 'length', '3']"
      ]
     },
     "execution_count": 17,
     "metadata": {},
     "output_type": "execute_result"
    }
   ],
   "source": [
    "def preprocess_documents(documents):\n",
    "    documents_with_formatted_words = [document.lower().strip() for document in documents]\n",
    "    documents_of_words = sentences_to_words(documents_with_formatted_words)\n",
    "    content_words_and_characters = [remove_stop_words(words) for words in documents_of_words]\n",
    "    content_words = [include_only_numbers_and_letters(characters) for characters in content_words_and_characters]\n",
    "    lematized_words = [lemmatize_words(words) for words in content_words]\n",
    "    return lematized_words  \n",
    "preprocess_documents(all_reviews[0:2])[0][0:5]"
   ]
  },
  {
   "cell_type": "code",
   "execution_count": 18,
   "metadata": {},
   "outputs": [
    {
     "data": {
      "text/plain": [
       "['doubt', 'see', 'movie', 'length', '3', 'hour', 'dea']"
      ]
     },
     "execution_count": 18,
     "metadata": {},
     "output_type": "execute_result"
    }
   ],
   "source": [
    "documents_of_words = preprocess_documents(all_reviews)\n",
    "documents_of_words[0][0:7]"
   ]
  },
  {
   "cell_type": "markdown",
   "metadata": {},
   "source": [
    "### Take a look at words"
   ]
  },
  {
   "cell_type": "code",
   "execution_count": 19,
   "metadata": {},
   "outputs": [
    {
     "data": {
      "text/plain": [
       "17454"
      ]
     },
     "execution_count": 19,
     "metadata": {},
     "output_type": "execute_result"
    }
   ],
   "source": [
    "list_of_all_words = [word for document in documents_of_words for word in document]\n",
    "len(list_of_all_words)"
   ]
  },
  {
   "cell_type": "code",
   "execution_count": 20,
   "metadata": {},
   "outputs": [
    {
     "data": {
      "text/plain": [
       "1134"
      ]
     },
     "execution_count": 20,
     "metadata": {},
     "output_type": "execute_result"
    }
   ],
   "source": [
    "# Unique Words\n",
    "len(set(list_of_all_words))"
   ]
  },
  {
   "cell_type": "markdown",
   "metadata": {},
   "source": [
    "### Flatten documents back to sentences"
   ]
  },
  {
   "cell_type": "code",
   "execution_count": 21,
   "metadata": {},
   "outputs": [],
   "source": [
    "flattened_documents = [' '.join(document) for document in documents_of_words]"
   ]
  },
  {
   "cell_type": "markdown",
   "metadata": {},
   "source": [
    "## Perform Topic Modeling"
   ]
  },
  {
   "cell_type": "markdown",
   "metadata": {},
   "source": [
    "Inspired, in part by https://medium.com/mlreview/topic-modeling-with-scikit-learn-e80d33668730"
   ]
  },
  {
   "cell_type": "code",
   "execution_count": 82,
   "metadata": {},
   "outputs": [],
   "source": [
    "# Settings\n",
    "NUMBER_OF_FEATURES = 1000\n",
    "NUMBER_OF_TOPICS  = 10\n",
    "NUMBER_OF_TOP_WORDS = 10"
   ]
  },
  {
   "cell_type": "code",
   "execution_count": 83,
   "metadata": {},
   "outputs": [],
   "source": [
    "def topics_to_map(model, feature_names, no_top_words):\n",
    "    map = []\n",
    "    for topic_idx, topic in enumerate(model.components_):\n",
    "        stuff = \" \".join([feature_names[i]\n",
    "                        for i in topic.argsort()[:-no_top_words - 1:-1]])\n",
    "        map.append(stuff)\n",
    "    return map\n"
   ]
  },
  {
   "cell_type": "code",
   "execution_count": 129,
   "metadata": {},
   "outputs": [],
   "source": [
    "# Helper function \n",
    "def display_topics(model, feature_names, no_top_words):\n",
    "    for topic_idx, topic in enumerate(model.components_):\n",
    "        print (\"Topic {}:\".format(topic_idx), end=' ')\n",
    "        stuff = \" \".join([feature_names[i]\n",
    "                        for i in topic.argsort()[:-no_top_words - 1:-1]])\n",
    "        print (stuff)"
   ]
  },
  {
   "cell_type": "markdown",
   "metadata": {},
   "source": [
    "### Vectorize (Bag Of Words)"
   ]
  },
  {
   "cell_type": "code",
   "execution_count": 85,
   "metadata": {},
   "outputs": [],
   "source": [
    "tf_vectorizer = TfidfVectorizer(max_features=NUMBER_OF_FEATURES)\n",
    "tf = tf_vectorizer.fit_transform(flattened_documents)\n",
    "tf_feature_names = tf_vectorizer.get_feature_names()"
   ]
  },
  {
   "cell_type": "code",
   "execution_count": 86,
   "metadata": {},
   "outputs": [
    {
     "data": {
      "text/plain": [
       "'doubt see movie length 3 hour dea film surprised look watch throughout whole movie tom hank opinion '"
      ]
     },
     "execution_count": 86,
     "metadata": {},
     "output_type": "execute_result"
    }
   ],
   "source": [
    "flattened_documents[0][0:100]"
   ]
  },
  {
   "cell_type": "markdown",
   "metadata": {},
   "source": [
    "### NMF"
   ]
  },
  {
   "cell_type": "code",
   "execution_count": 122,
   "metadata": {},
   "outputs": [],
   "source": [
    "nmf = NMF(n_components=NUMBER_OF_TOPICS, random_state=1, alpha=.1, l1_ratio=.7, init='nndsvd').fit(tf)"
   ]
  },
  {
   "cell_type": "code",
   "execution_count": 130,
   "metadata": {},
   "outputs": [
    {
     "name": "stdout",
     "output_type": "stream",
     "text": [
      "Topic 0: prison film paul guard coffey john story movie man duncan\n",
      "Topic 1: gave movie long whole hop perform side pussycat known till\n",
      "Topic 2: movie watch movies ev ca seen feel poss think recommend\n",
      "Topic 3: book read great story would movie screen king job delacroix\n",
      "Topic 4: products art never us cent provide profit unfortunately expense pond\n",
      "Topic 5: scenes film talented keep quiver ensemble edge screenwriter provides conclusion\n",
      "Topic 6: rich ful either tour rank reason required pick desert definitely\n",
      "Topic 7: love world year hop watch pure disgust race exquisitely practically\n",
      "Topic 8: find edgecomb right shot slant injustice period shad toward study\n",
      "Topic 9: twice wo dvd excess saw trail pretty disappoint buy october\n"
     ]
    }
   ],
   "source": [
    "nmf_topic_map = topics_to_map(nmf, tf_feature_names, NUMBER_OF_TOP_WORDS)\n",
    "display_topics(nmf, tf_feature_names, NUMBER_OF_TOP_WORDS)"
   ]
  },
  {
   "cell_type": "markdown",
   "metadata": {},
   "source": [
    "### LDA"
   ]
  },
  {
   "cell_type": "code",
   "execution_count": 89,
   "metadata": {
    "scrolled": true
   },
   "outputs": [
    {
     "name": "stderr",
     "output_type": "stream",
     "text": [
      "/usr/local/lib/python3.6/site-packages/sklearn/decomposition/online_lda.py:294: DeprecationWarning: n_topics has been renamed to n_components in version 0.19 and will be removed in 0.21\n",
      "  DeprecationWarning)\n"
     ]
    }
   ],
   "source": [
    "lda = LatentDirichletAllocation(n_topics=NUMBER_OF_TOPICS, max_iter=50, learning_method='online', learning_offset=50.,random_state=0).fit(tf)\n",
    "\n"
   ]
  },
  {
   "cell_type": "code",
   "execution_count": 90,
   "metadata": {},
   "outputs": [
    {
     "name": "stdout",
     "output_type": "stream",
     "text": [
      "Topic 0:\n",
      "prison men heart steven stay darabont king movie man emotional\n",
      "Topic 1:\n",
      "see cast excel october buy wo trail saw pretty dvd\n",
      "Topic 2:\n",
      "movie book perform hop gave long film michael read david\n",
      "Topic 3:\n",
      "movie watch ev seen think movies love tear story tissues\n",
      "Topic 4:\n",
      "products art film never scenes us ostensible sorry provide react\n",
      "Topic 5:\n",
      "mak edgecomb paul find hum duncan michael hank right pain\n",
      "Topic 6:\n",
      "movie forget poss recommend emotions would movies experience ca anyone\n",
      "Topic 7:\n",
      "book story three yet movie several cast screen hour five\n",
      "Topic 8:\n",
      "mom steal pick lay award watchingboth us enough mad penal\n",
      "Topic 9:\n",
      "rich ful either stamina squeamish rank reason desert required creepy\n"
     ]
    }
   ],
   "source": [
    "display_topics(lda, tf_feature_names, NUMBER_OF_TOP_WORDS)\n"
   ]
  },
  {
   "cell_type": "code",
   "execution_count": 91,
   "metadata": {},
   "outputs": [],
   "source": [
    "topic_map = nmf.transform(tf)"
   ]
  },
  {
   "cell_type": "markdown",
   "metadata": {},
   "source": [
    "# Visualizations"
   ]
  },
  {
   "cell_type": "markdown",
   "metadata": {},
   "source": [
    "### Word counts per document"
   ]
  },
  {
   "cell_type": "code",
   "execution_count": 112,
   "metadata": {},
   "outputs": [],
   "source": [
    "number_of_words = [len(review.split(' ')) for review in all_reviews]"
   ]
  },
  {
   "cell_type": "code",
   "execution_count": 118,
   "metadata": {},
   "outputs": [
    {
     "data": {
      "text/plain": [
       "<matplotlib.axes._subplots.AxesSubplot at 0x11548b3c8>"
      ]
     },
     "execution_count": 118,
     "metadata": {},
     "output_type": "execute_result"
    },
    {
     "data": {
      "image/png": "[encoded data removed]",
      "text/plain": [
       "<Figure size 432x288 with 1 Axes>"
      ]
     },
     "metadata": {},
     "output_type": "display_data"
    }
   ],
   "source": [
    "sns.boxplot(number_of_words)"
   ]
  },
  {
   "cell_type": "code",
   "execution_count": 126,
   "metadata": {},
   "outputs": [
    {
     "data": {
      "text/plain": [
       "165.0"
      ]
     },
     "execution_count": 126,
     "metadata": {},
     "output_type": "execute_result"
    }
   ],
   "source": [
    "np.median(number_of_words)"
   ]
  },
  {
   "cell_type": "markdown",
   "metadata": {},
   "source": [
    "### Scatterplot"
   ]
  },
  {
   "cell_type": "markdown",
   "metadata": {},
   "source": [
    "With help from https://shuaiw.github.io/2016/12/22/topic-modeling-and-tsne-visualzation.html"
   ]
  },
  {
   "cell_type": "code",
   "execution_count": 92,
   "metadata": {},
   "outputs": [],
   "source": [
    "tsne_model = TSNE(n_components=2, verbose=1, random_state=0, angle=.99, init='pca')"
   ]
  },
  {
   "cell_type": "code",
   "execution_count": 93,
   "metadata": {},
   "outputs": [
    {
     "name": "stdout",
     "output_type": "stream",
     "text": [
      "[t-SNE] Computing 91 nearest neighbors...\n",
      "[t-SNE] Indexed 150 samples in 0.000s...\n",
      "[t-SNE] Computed neighbors for 150 samples in 0.002s...\n",
      "[t-SNE] Computed conditional probabilities for sample 150 / 150\n",
      "[t-SNE] Mean sigma: 0.067913\n",
      "[t-SNE] KL divergence after 250 iterations with early exaggeration: 47.277386\n",
      "[t-SNE] Error after 1000 iterations: -3.305540\n"
     ]
    }
   ],
   "source": [
    "tsne_lda = tsne_model.fit_transform(topic_map)"
   ]
  },
  {
   "cell_type": "code",
   "execution_count": 94,
   "metadata": {},
   "outputs": [],
   "source": [
    "categories = review_home_urls.keys()"
   ]
  },
  {
   "cell_type": "code",
   "execution_count": 95,
   "metadata": {},
   "outputs": [],
   "source": [
    "categories_vector = []\n",
    "for category in categories:\n",
    "    for i in range(int(len(all_reviews) / len(categories))):\n",
    "        categories_vector.append(category)"
   ]
  },
  {
   "cell_type": "code",
   "execution_count": 96,
   "metadata": {},
   "outputs": [],
   "source": [
    "primary_topics = [np.argmax(transformed_topics) for transformed_topics in lda.transform(tf)]\n",
    "primary_topics_text = [nmf_topic_map[topic_index] for topic_index in primary_topics]"
   ]
  },
  {
   "cell_type": "code",
   "execution_count": 97,
   "metadata": {},
   "outputs": [],
   "source": [
    "category_df = pd.DataFrame({\n",
    "    'x': tsne_lda[:, 0],\n",
    "    'y': tsne_lda[:, 1],\n",
    "    'group': categories_vector,\n",
    "    'primary_topic': primary_topics,\n",
    "    'primary_topics_text': primary_topics_text\n",
    "    \n",
    "    #text: all_reviews\n",
    "})"
   ]
  },
  {
   "cell_type": "code",
   "execution_count": 98,
   "metadata": {},
   "outputs": [
    {
     "data": {
      "text/plain": [
       "<seaborn.axisgrid.FacetGrid at 0x11542e4a8>"
      ]
     },
     "execution_count": 98,
     "metadata": {},
     "output_type": "execute_result"
    },
    {
     "data": {
      "image/png": "[encoded data removed]",
      "text/plain": [
       "<Figure size 501.875x360 with 1 Axes>"
      ]
     },
     "metadata": {},
     "output_type": "display_data"
    }
   ],
   "source": [
    "sns.lmplot(x='x', y='y', fit_reg=False, data=category_df, hue='group', x_jitter=40, y_jitter=40)"
   ]
  },
  {
   "cell_type": "markdown",
   "metadata": {},
   "source": [
    "### pyLDAvis"
   ]
  },
  {
   "cell_type": "code",
   "execution_count": 99,
   "metadata": {},
   "outputs": [
    {
     "name": "stderr",
     "output_type": "stream",
     "text": [
      "/usr/local/lib/python3.6/site-packages/pyLDAvis/_prepare.py:223: RuntimeWarning: divide by zero encountered in log\n",
      "  kernel = (topic_given_term * np.log((topic_given_term.T / topic_proportion).T))\n",
      "/usr/local/lib/python3.6/site-packages/pyLDAvis/_prepare.py:240: RuntimeWarning: divide by zero encountered in log\n",
      "  log_lift = np.log(topic_term_dists / term_proportion)\n",
      "/usr/local/lib/python3.6/site-packages/pyLDAvis/_prepare.py:241: RuntimeWarning: divide by zero encountered in log\n",
      "  log_ttd = np.log(topic_term_dists)\n"
     ]
    },
    {
     "data": {
      "text/html": [
       "\n",
       "<link rel=\"stylesheet\" type=\"text/css\" href=\"https://cdn.rawgit.com/bmabey/pyLDAvis/files/ldavis.v1.0.0.css\">\n",
       "\n",
       "\n",
       "<div id=\"ldavis_el8825246951712648521643921\"></div>\n",
       "<script type=\"text/javascript\">\n",
       "\n",
       "var ldavis_el8825246951712648521643921_data = {\"mdsDat\": {\"Freq\": [42.29540137523981, 19.234170212585216, 9.335602131104956, 7.46079666865585, 4.310667447633079, 3.748459445333373, 3.7318135967880375, 3.4823394443720534, 3.2124829016281686, 3.1882667766594555], \"cluster\": [1, 1, 1, 1, 1, 1, 1, 1, 1, 1], \"topics\": [1, 2, 3, 4, 5, 6, 7, 8, 9, 10], \"x\": [27.327932357788086, -412.613525390625, 382.196533203125, -218.84228515625, 35.24223327636719, -291.3353271484375, 130.44285583496094, -146.0768585205078, 353.8720397949219, 149.00120544433594], \"y\": [164.00833129882812, 57.829952239990234, -225.4329071044922, 326.8787841796875, -378.30169677734375, -303.2148132324219, -95.50981140136719, -54.533775329589844, 133.0333251953125, 420.516845703125]}, \"tinfo\": {\"Category\": [\"Default\", \"Default\", \"Default\", \"Default\", \"Default\", \"Default\", \"Default\", \"Default\", \"Default\", \"Default\", \"Default\", \"Default\", \"Default\", \"Default\", \"Default\", \"Default\", \"Default\", \"Default\", \"Default\", \"Default\", \"Default\", \"Default\", \"Default\", \"Default\", \"Default\", \"Default\", \"Default\", \"Default\", \"Default\", \"Default\", \"Topic1\", \"Topic1\", \"Topic1\", \"Topic1\", \"Topic1\", \"Topic1\", \"Topic1\", \"Topic1\", \"Topic1\", \"Topic1\", \"Topic1\", \"Topic1\", \"Topic1\", \"Topic1\", \"Topic1\", \"Topic1\", \"Topic1\", \"Topic1\", \"Topic1\", \"Topic1\", \"Topic1\", \"Topic1\", \"Topic1\", \"Topic1\", \"Topic1\", \"Topic1\", \"Topic1\", \"Topic1\", \"Topic1\", \"Topic1\", \"Topic1\", \"Topic1\", \"Topic1\", \"Topic1\", \"Topic1\", \"Topic1\", \"Topic1\", \"Topic1\", \"Topic1\", \"Topic1\", \"Topic1\", \"Topic1\", \"Topic1\", \"Topic1\", \"Topic1\", \"Topic1\", \"Topic1\", \"Topic1\", \"Topic1\", \"Topic1\", \"Topic1\", \"Topic1\", \"Topic1\", \"Topic1\", \"Topic1\", \"Topic1\", \"Topic1\", \"Topic1\", \"Topic1\", \"Topic1\", \"Topic1\", \"Topic1\", \"Topic1\", \"Topic1\", \"Topic1\", \"Topic1\", \"Topic1\", \"Topic1\", \"Topic1\", \"Topic1\", \"Topic1\", \"Topic1\", \"Topic1\", \"Topic1\", \"Topic1\", \"Topic1\", \"Topic1\", \"Topic1\", \"Topic1\", \"Topic1\", \"Topic1\", \"Topic1\", \"Topic1\", \"Topic1\", \"Topic1\", \"Topic1\", \"Topic2\", \"Topic2\", \"Topic2\", \"Topic2\", \"Topic2\", \"Topic2\", \"Topic2\", \"Topic2\", \"Topic2\", \"Topic2\", \"Topic2\", \"Topic2\", \"Topic2\", \"Topic2\", \"Topic2\", \"Topic2\", \"Topic2\", \"Topic2\", \"Topic2\", \"Topic2\", \"Topic2\", \"Topic2\", \"Topic2\", \"Topic2\", \"Topic2\", \"Topic2\", \"Topic2\", \"Topic2\", \"Topic2\", \"Topic2\", \"Topic2\", \"Topic2\", \"Topic2\", \"Topic2\", \"Topic2\", \"Topic2\", \"Topic2\", \"Topic2\", \"Topic2\", \"Topic2\", \"Topic2\", \"Topic2\", \"Topic2\", \"Topic2\", \"Topic2\", \"Topic2\", \"Topic2\", \"Topic2\", \"Topic2\", \"Topic2\", \"Topic2\", \"Topic2\", \"Topic2\", \"Topic2\", \"Topic2\", \"Topic2\", \"Topic2\", \"Topic2\", \"Topic2\", \"Topic2\", \"Topic2\", \"Topic2\", \"Topic2\", \"Topic2\", \"Topic2\", \"Topic2\", \"Topic2\", \"Topic2\", \"Topic2\", \"Topic2\", \"Topic2\", \"Topic2\", \"Topic2\", \"Topic2\", \"Topic3\", \"Topic3\", \"Topic3\", \"Topic3\", \"Topic3\", \"Topic3\", \"Topic3\", \"Topic3\", \"Topic3\", \"Topic3\", \"Topic3\", \"Topic3\", \"Topic3\", \"Topic3\", \"Topic3\", \"Topic3\", \"Topic3\", \"Topic3\", \"Topic3\", \"Topic3\", \"Topic3\", \"Topic3\", \"Topic3\", \"Topic3\", \"Topic3\", \"Topic3\", \"Topic3\", \"Topic3\", \"Topic3\", \"Topic3\", \"Topic3\", \"Topic3\", \"Topic3\", \"Topic3\", \"Topic3\", \"Topic3\", \"Topic3\", \"Topic3\", \"Topic3\", \"Topic3\", \"Topic3\", \"Topic3\", \"Topic3\", \"Topic3\", \"Topic3\", \"Topic3\", \"Topic3\", \"Topic3\", \"Topic3\", \"Topic3\", \"Topic3\", \"Topic4\", \"Topic4\", \"Topic4\", \"Topic4\", \"Topic4\", \"Topic4\", \"Topic4\", \"Topic4\", \"Topic4\", \"Topic4\", \"Topic4\", \"Topic4\", \"Topic4\", \"Topic4\", \"Topic4\", \"Topic4\", \"Topic4\", \"Topic4\", \"Topic4\", \"Topic4\", \"Topic4\", \"Topic4\", \"Topic4\", \"Topic4\", \"Topic4\", \"Topic4\", \"Topic4\", \"Topic4\", \"Topic4\", \"Topic4\", \"Topic4\", \"Topic4\", \"Topic4\", \"Topic4\", \"Topic4\", \"Topic4\", \"Topic4\", \"Topic4\", \"Topic4\", \"Topic4\", \"Topic4\", \"Topic4\", \"Topic4\", \"Topic4\", \"Topic4\", \"Topic4\", \"Topic4\", \"Topic4\", \"Topic4\", \"Topic4\", \"Topic4\", \"Topic4\", \"Topic4\", \"Topic5\", \"Topic5\", \"Topic5\", \"Topic5\", \"Topic5\", \"Topic5\", \"Topic5\", \"Topic5\", \"Topic5\", \"Topic5\", \"Topic5\", \"Topic5\", \"Topic5\", \"Topic5\", \"Topic5\", \"Topic5\", \"Topic5\", \"Topic5\", \"Topic5\", \"Topic5\", \"Topic5\", \"Topic5\", \"Topic5\", \"Topic5\", \"Topic5\", \"Topic5\", \"Topic5\", \"Topic5\", \"Topic5\", \"Topic5\", \"Topic5\", \"Topic5\", \"Topic5\", \"Topic5\", \"Topic5\", \"Topic5\", \"Topic5\", \"Topic5\", \"Topic5\", \"Topic5\", \"Topic5\", \"Topic5\", \"Topic5\", \"Topic6\", \"Topic6\", \"Topic6\", \"Topic6\", \"Topic6\", \"Topic6\", \"Topic6\", \"Topic6\", \"Topic6\", \"Topic6\", \"Topic6\", \"Topic6\", \"Topic6\", \"Topic6\", \"Topic6\", \"Topic6\", \"Topic6\", \"Topic6\", \"Topic6\", \"Topic6\", \"Topic6\", \"Topic6\", \"Topic6\", \"Topic6\", \"Topic6\", \"Topic6\", \"Topic6\", \"Topic6\", \"Topic6\", \"Topic6\", \"Topic6\", \"Topic6\", \"Topic6\", \"Topic7\", \"Topic7\", \"Topic7\", \"Topic7\", \"Topic7\", \"Topic7\", \"Topic7\", \"Topic7\", \"Topic7\", \"Topic7\", \"Topic7\", \"Topic7\", \"Topic7\", \"Topic7\", \"Topic7\", \"Topic7\", \"Topic7\", \"Topic7\", \"Topic7\", \"Topic7\", \"Topic7\", \"Topic7\", \"Topic7\", \"Topic7\", \"Topic7\", \"Topic7\", \"Topic7\", \"Topic7\", \"Topic7\", \"Topic7\", \"Topic7\", \"Topic7\", \"Topic7\", \"Topic7\", \"Topic8\", \"Topic8\", \"Topic8\", \"Topic8\", \"Topic8\", \"Topic8\", \"Topic8\", \"Topic8\", \"Topic8\", \"Topic8\", \"Topic8\", \"Topic8\", \"Topic8\", \"Topic8\", \"Topic8\", \"Topic8\", \"Topic8\", \"Topic8\", \"Topic8\", \"Topic8\", \"Topic8\", \"Topic8\", \"Topic8\", \"Topic8\", \"Topic8\", \"Topic8\", \"Topic8\", \"Topic8\", \"Topic8\", \"Topic8\", \"Topic8\", \"Topic8\", \"Topic8\", \"Topic8\", \"Topic8\", \"Topic9\", \"Topic9\", \"Topic9\", \"Topic9\", \"Topic9\", \"Topic9\", \"Topic9\", \"Topic9\", \"Topic9\", \"Topic9\", \"Topic9\", \"Topic9\", \"Topic9\", \"Topic9\", \"Topic9\", \"Topic9\", \"Topic9\", \"Topic9\", \"Topic9\", \"Topic9\", \"Topic9\", \"Topic9\", \"Topic9\", \"Topic9\", \"Topic9\", \"Topic9\", \"Topic9\", \"Topic9\", \"Topic9\", \"Topic9\", \"Topic9\", \"Topic9\", \"Topic9\", \"Topic10\", \"Topic10\", \"Topic10\", \"Topic10\", \"Topic10\", \"Topic10\", \"Topic10\", \"Topic10\", \"Topic10\", \"Topic10\", \"Topic10\", \"Topic10\", \"Topic10\", \"Topic10\", \"Topic10\", \"Topic10\", \"Topic10\", \"Topic10\", \"Topic10\", \"Topic10\", \"Topic10\", \"Topic10\", \"Topic10\", \"Topic10\", \"Topic10\", \"Topic10\", \"Topic10\", \"Topic10\", \"Topic10\", \"Topic10\", \"Topic10\", \"Topic10\", \"Topic10\"], \"Freq\": [6.0, 20.0, 10.0, 6.0, 4.0, 4.0, 8.0, 7.0, 5.0, 5.0, 4.0, 3.0, 7.0, 6.0, 3.0, 3.0, 3.0, 4.0, 6.0, 5.0, 6.0, 3.0, 6.0, 2.0, 6.0, 3.0, 2.0, 3.0, 2.0, 3.0, 1.2905477063110984, 1.0368752286887237, 0.7545481492705387, 1.0898563521600093, 0.7805701608606985, 0.7805701608606985, 0.7805701608606985, 0.7347276522119466, 0.7347276522119466, 1.0110919827650202, 0.7301541884563212, 1.392062080377148, 0.7805701608606985, 1.090836566573605, 1.1517242391796456, 0.7347276522119466, 0.8430956924848169, 0.7301541884563212, 0.7301541884563212, 0.7805701608606985, 0.7805701608606985, 0.7805701608606985, 0.7301541884563212, 0.7805701608606985, 0.7545481492705387, 0.7805701608606985, 0.8718544888912189, 0.7301541884563212, 0.7805701608606985, 1.0632326297061052, 3.956167923559826, 2.8309216948416913, 2.7770736738661523, 2.327823690088621, 1.9062709232038095, 1.895553749674653, 1.875878664546821, 1.8091033730420887, 1.783590102664538, 1.7267145229160241, 1.7231279605227794, 1.6337608764651315, 1.6214028870711212, 1.4741291108820889, 1.4433737584606834, 1.331827165859432, 1.3283567136874204, 1.3283567136874204, 1.3231466991858236, 1.2908461848271164, 1.271925718160954, 1.2690305788003258, 1.2690305788003258, 1.2657670121163358, 1.2651447079012588, 1.2489641060028494, 1.2489641060028494, 1.2470729013000852, 2.241971400039373, 3.8296754609564148, 3.731796451973286, 5.831212598836829, 4.147317386268239, 2.7298880450593783, 3.024668740383016, 3.2598210319752985, 2.432006162835898, 2.014467036970611, 2.3941910887366213, 5.095031563891135, 2.8304950206138084, 1.8790184459162147, 3.227755607316334, 3.0831758627040964, 3.422242723363385, 2.539265204669395, 2.782152551953487, 2.3646612979447283, 2.278473877710816, 2.6947113588676825, 2.540817289738415, 3.072962724107604, 2.346173602822929, 2.2503326406112634, 2.1804904297053933, 2.163783175012795, 1.4086897324199257, 1.9024360381472303, 0.8643796918656275, 0.9413825820775648, 0.8670747432963478, 0.9464219022500598, 0.8643796918656275, 0.9413825820775648, 0.9413825820775648, 0.9413825820775648, 0.9464219022500598, 0.9464219022500598, 0.9464219022500598, 0.8670747432963478, 0.9413825820775648, 0.8643796918656275, 1.4086897324199257, 1.4086897324199257, 0.9413825820775648, 0.9413825820775648, 0.8643796918656275, 1.4086897324199257, 0.9464219022500598, 0.9413825820775648, 0.8670747432963478, 1.4086897324199257, 0.9413825820775648, 1.6505986137145676, 0.8643796918656275, 0.9413825820775648, 2.6588286449207468, 2.061130356054654, 2.0445678754525396, 1.9196224782567035, 1.89704593528579, 1.6525864436218731, 1.6505986137145676, 1.4086897324199257, 1.4086897324199257, 1.4086897324199257, 1.4086897324199257, 1.4086897324199257, 0.9464219022500598, 0.9464219022500598, 0.9464219022500598, 0.9464219022500598, 0.9413825820775648, 4.537966729017032, 3.4342093689293822, 2.9392035159297083, 1.7991240353673952, 1.8707165890528537, 1.8895666045007034, 10.431110859924893, 4.540286533333352, 1.4711976650878675, 2.0354338990158998, 2.47790449982573, 2.820042270823672, 3.0505180172129758, 3.635105051712357, 3.233555460355132, 1.8793783351426139, 2.1336397631014186, 1.6890741846275439, 1.8585466974636395, 1.7790378241525766, 1.7045003223383253, 2.433068413819018, 2.122696452757925, 1.9470626331429457, 1.8767303540044111, 1.8857132136523729, 1.893158859334476, 1.4000668928140345, 2.6351962012167776, 2.6351962012167776, 4.553415021023709, 2.353755004363009, 2.353755004363009, 2.3296742127450503, 2.349064765789801, 2.328454789546715, 2.111197171417879, 2.1407672860322213, 1.258934284151114, 2.386138451644232, 0.19536828589186658, 0.19536828589186658, 0.19536828589186658, 0.19536828589186658, 0.19536828589186658, 0.19536828589186658, 0.19536828589186658, 0.19536828589186658, 0.19536828589186658, 0.19536828589186658, 0.19536828589186658, 0.19536828589186658, 0.19536828589186658, 2.329221623124518, 2.329221623124518, 1.3686258320650642, 2.1451629009624544, 2.1338363028954963, 2.114603425343759, 1.2055892275720648, 1.8172093278504602, 1.9589095846943916, 2.895516544890542, 1.918410146842485, 2.1697958964687922, 1.255999462807166, 1.0409775970391004, 1.9183535475734996, 1.941906915371032, 1.7965937943814836, 2.8430411217720875, 1.974270789042703, 2.9571407576359734, 2.826600716631145, 4.318587983242, 1.8869595410691842, 2.0894289299129207, 1.9847457875119205, 0.7375811682177024, 0.6289848438777761, 0.6289848438777761, 0.6289848438777761, 0.7375811682177024, 0.7375811682177024, 0.6289848438777761, 0.7375811682177024, 0.6289848438777761, 0.7375811682177024, 0.7375811682177024, 0.7375811682177024, 0.7375811682177024, 0.6289848438777761, 6.459176326282443, 0.7375811682177024, 0.7375811682177024, 0.6289848438777761, 0.6289848438777761, 0.7375811682177024, 0.6289848438777761, 0.7375811682177024, 0.7375811682177024, 0.7375811682177024, 0.7375811682177024, 0.7375811682177024, 0.7375811682177024, 0.7375811682177024, 0.6289848438777761, 2.735728135535507, 1.320217672157862, 2.2159359096351086, 1.6243624766862603, 1.1348339910239504, 1.818660546296342, 2.025871612855161, 0.9675476683286912, 1.1778553126427174, 1.350011667786679, 0.9970234434859361, 1.1395806837227218, 1.5057678853675007, 0.9367101448309837, 0.9864999370540634, 0.9191065913105951, 0.8719714655373147, 0.8340100525023935, 0.8234229484906137, 0.8164750638644338, 0.8024700240119974, 0.8229170382057944, 0.7777862605038619, 0.7539897034239397, 0.8356881764815813, 0.8356881764815813, 0.8356881764815813, 1.7419710052690787, 0.8356881764815813, 0.8356881764815813, 0.8356881764815813, 0.8356881764815813, 0.8356881764815813, 0.8356881764815813, 0.8356881764815813, 0.8356881764815813, 0.8356881764815813, 0.8356881764815813, 0.8356881764815813, 0.8356881764815813, 0.8356881764815813, 0.8356881764815813, 0.8356881764815813, 0.8356881764815813, 0.8356881764815813, 0.8356881764815813, 0.8356881764815813, 0.8356881764815813, 0.8356881764815813, 0.8356881764815813, 0.8356881764815813, 0.8356881764815813, 0.8356881764815813, 0.8356881764815813, 0.8356881764815813, 0.8356881764815813, 0.8356881764815813, 0.8356881764815813, 0.8356881764815813, 0.8356881764815813, 0.8356881764815813, 0.8356881764815813, 0.8356881764815813, 1.5055342361297892, 1.2974180008524414, 0.8356881764815813, 0.9325837376585251, 0.9106786766099495, 0.9106786766099495, 0.9106786766099495, 1.888959102291026, 0.9106786766099495, 0.9106786766099495, 0.9106786766099495, 0.9106786766099495, 0.9106786766099495, 0.9106786766099495, 0.9106786766099495, 0.9106786766099495, 0.9106786766099495, 0.9106786766099495, 0.9106786766099495, 0.9106786766099495, 0.9106786766099495, 0.9106786766099495, 1.888959102291026, 0.7615703000649366, 0.7615703000649366, 1.591470057199587, 0.7615262112832546, 0.7674938978734951, 0.7674938978734951, 0.7613919662251906, 0.7611075822206169, 0.7619341540642299, 0.6751602202109848, 0.6697241496866615, 0.7619341540642299, 0.7619341540642299, 0.7780868169871185, 1.1203424629021435, 1.1203424629021435, 1.1203424629021435, 1.1203424629021435, 1.1203424629021435, 1.1203424629021435, 1.1203424629021435, 1.1203424629021435, 1.1203424629021435, 1.1203424629021435, 1.1203424629021435, 1.1203424629021435, 1.1203424629021435, 1.1203424629021435, 1.1203424629021435, 0.9524948638215814, 0.9383513323332346, 0.9383513323332346, 0.938301286622842, 0.9380123794847436, 0.8391397433588724, 0.9387041860194067, 0.8396876267953941, 0.8373987139708875, 1.4536956042095848, 0.8249408351153635, 0.7457160464564261, 0.6820727617754285, 0.6818345370518517, 1.1776765769472723, 1.173129280479986, 1.1002826785772273, 0.8242219694909501, 0.8580587276264215, 1.1470155046170694, 1.1470155046170694, 1.1470155046170694, 1.1470155046170694, 1.1470155046170694, 1.1470155046170694, 1.1470155046170694, 1.1470155046170694, 1.1470155046170694, 1.1470155046170694, 0.9634390397641222, 1.769903768740208, 0.9604336539182208, 0.9609974801885122, 0.8504935608544091, 0.9652530914152566, 0.8677013912611151, 1.768212965493393, 0.8460889662309912, 0.8477086395505193, 0.8459222410978408, 0.9613029320027023, 0.7673020452882036, 0.9670671430663913, 0.8643155194282225, 0.7839029950785994, 1.4798387249946594, 0.7149386147325774, 0.7635644832339838, 0.7791918608394073, 1.3707258818687298, 1.1258679145399613, 1.19244622166598, 0.9180324674822616, 0.8055545033349485, 1.3387241768363987, 1.3387241768363987, 1.3387241768363987, 1.3387241768363987, 1.3387241768363987, 1.3387241768363987, 1.3387241768363987, 1.3387241768363987, 1.3387241768363987, 1.3387241768363987, 1.1236516525843414, 1.1234488851644449, 1.1353231872149088, 0.9909561757013534, 1.7202001552071142, 0.9900608361111853, 0.9919720421415361, 0.9912226438649284, 0.7682194279862958, 0.8962567471398858, 0.7620481776357779, 0.8265366635072069, 0.7582078265772241, 0.9313732286311337, 0.8392823990080821, 0.7062632871778609, 0.7134147762699123, 0.6599052366913826, 0.660512525207525, 0.6618208329339883, 1.417951600325252, 0.6628961854717772, 0.6660185752253519, 1.1793230965436245, 1.1793230965436245, 1.1793230965436245, 1.1793230965436245, 1.1793230965436245, 1.1793230965436245, 1.1793230965436245, 1.1793230965436245, 1.1793230965436245, 1.1793230965436245, 0.9898935657869407, 0.9898935657869407, 0.9898935657869407, 0.9898935657869407, 0.9898935657869407, 0.8737675757197358, 0.9898935657869407, 0.8737675757197358, 0.9898935657869407, 0.8737675757197358, 0.9898935657869407, 0.8737675757197358, 0.8737675757197358, 0.8737675757197358, 0.7897883346673424, 0.7897883346673424, 0.8737675757197358, 0.6698212183428635, 0.7239630248195679, 0.6698212183428635, 0.7239630248195679, 0.9902945287309428, 0.7795976362826661], \"Term\": [\"book\", \"movie\", \"film\", \"prison\", \"gave\", \"year\", \"ev\", \"watch\", \"hum\", \"hop\", \"edgecomb\", \"find\", \"story\", \"perform\", \"yet\", \"love\", \"another\", \"whole\", \"long\", \"see\", \"seen\", \"scenes\", \"mak\", \"world\", \"michael\", \"three\", \"read\", \"never\", \"cry\", \"right\", \"crime\", \"know\", \"firm\", \"flaw\", \"able\", \"gary\", \"sin\", \"rest\", \"ward\", \"liv\", \"el\", \"murder\", \"disturb\", \"black\", \"tells\", \"difficult\", \"occasionally\", \"cur\", \"minutes\", \"subject\", \"elaine\", \"audiences\", \"recently\", \"executions\", \"rather\", \"worthy\", \"mat\", \"rap\", \"elect\", \"mess\", \"guard\", \"come\", \"however\", \"row\", \"direct\", \"convict\", \"block\", \"around\", \"quest\", \"deserves\", \"place\", \"quit\", \"pain\", \"cell\", \"chair\", \"heart\", \"person\", \"god\", \"always\", \"size\", \"mouse\", \"mag\", \"miracles\", \"unusual\", \"unto\", \"penal\", \"contain\", \"gift\", \"pow\", \"coffey\", \"john\", \"prison\", \"paul\", \"men\", \"dea\", \"man\", \"could\", \"two\", \"another\", \"film\", \"edgecomb\", \"hutchison\", \"duncan\", \"mak\", \"story\", \"many\", \"michael\", \"year\", \"real\", \"ev\", \"perform\", \"movie\", \"time\", \"cast\", \"king\", \"hank\", \"1000\", \"song\", \"poignant\", \"creative\", \"create\", \"cop\", \"convincing\", \"concepts\", \"spent\", \"talk\", \"spot\", \"spotlight\", \"steal\", \"climax\", \"cliches\", \"strangle\", \"pillow\", \"described\", \"differently\", \"discuss\", \"overload\", \"overall\", \"origin\", \"electrifying\", \"elite\", \"norm\", \"enhancing\", \"especially\", \"everywhere\", \"expand\", \"recommend\", \"title\", \"laugh\", \"ad\", \"emotions\", \"script\", \"without\", \"boggling\", \"unforgettable\", \"tightest\", \"word\", \"bed\", \"success\", \"undeniable\", \"try\", \"already\", \"intriguing\", \"movies\", \"ca\", \"poss\", \"goes\", \"sur\", \"interest\", \"movie\", \"watch\", \"lot\", \"say\", \"forget\", \"think\", \"feel\", \"ev\", \"seen\", \"anyone\", \"mind\", \"comes\", \"cry\", \"tissues\", \"dram\", \"time\", \"would\", \"hour\", \"like\", \"see\", \"story\", \"surprised\", \"side\", \"pussycat\", \"gave\", \"known\", \"till\", \"carry\", \"miracle\", \"opinion\", \"let\", \"marvel\", \"throughout\", \"depth\", \"knew\", \"evident\", \"opening\", \"remain\", \"express\", \"exceptional\", \"laughter\", \"masterwork\", \"subtleties\", \"silence\", \"delivering\", \"countless\", \"sequence\", \"weak\", \"vulnerable\", \"affect\", \"together\", \"cam\", \"car\", \"friend\", \"part\", \"giant\", \"whole\", \"roles\", \"emotion\", \"enjoy\", \"look\", \"david\", \"bet\", \"mors\", \"hop\", \"excel\", \"long\", \"perform\", \"movie\", \"bring\", \"seen\", \"time\", \"anticipating\", \"receive\", \"ago\", \"scene\", \"although\", \"critics\", \"rita\", \"reply\", \"recognition\", \"anxiously\", \"engross\", \"anyway\", \"ot\", \"detract\", \"book\", \"mark\", \"losing\", \"left\", \"exact\", \"complaint\", \"unfair\", \"dull\", \"discovered\", \"detest\", \"told\", \"drag\", \"times\", \"detail\", \"eduard\", \"read\", \"job\", \"great\", \"screen\", \"delacroix\", \"would\", \"story\", \"favorite\", \"several\", \"king\", \"point\", \"never\", \"movie\", \"portray\", \"three\", \"length\", \"people\", \"adapt\", \"way\", \"work\", \"novel\", \"darabont\", \"see\", \"play\", \"occasions\", \"purposes\", \"profit\", \"products\", \"pond\", \"per\", \"ostensible\", \"obviously\", \"obsess\", \"maxim\", \"mainstream\", \"low\", \"leis\", \"inst\", \"expense\", \"effect\", \"draw\", \"downgrade\", \"consumed\", \"condition\", \"cinema\", \"cheap\", \"cent\", \"bombard\", \"artwork\", \"provide\", \"95\", \"sorry\", \"trig\", \"struggle\", \"social\", \"sometime\", \"treat\", \"unfortunately\", \"wake\", \"react\", \"situations\", \"unrealistic\", \"seek\", \"art\", \"never\", \"relations\", \"us\", \"67\", \"desert\", \"island\", \"ful\", \"reason\", \"rank\", \"pick\", \"squeamish\", \"stamina\", \"definitely\", \"required\", \"de\", \"dat\", \"creepy\", \"tour\", \"chock\", \"rabbit\", \"likes\", \"rich\", \"list\", \"capital\", \"either\", \"evil\", \"children\", \"despite\", \"reward\", \"wonderfully\", \"deeply\", \"moving\", \"tale\", \"outstanding\", \"journey\", \"slow\", \"believable\", \"shot\", \"char\", \"realm\", \"period\", \"compel\", \"nowhere\", \"shad\", \"slant\", \"study\", \"suppress\", \"member\", \"bind\", \"toward\", \"injustice\", \"production\", \"found\", \"gives\", \"natural\", \"calls\", \"clear\", \"gem\", \"extraordinary\", \"single\", \"find\", \"got\", \"oscar\", \"jet\", \"hug\", \"right\", \"edgecomb\", \"hum\", \"vulnerable\", \"michael\", \"12\", \"remember\", \"exquisitely\", \"disgust\", \"outlook\", \"destruct\", \"practically\", \"pure\", \"race\", \"release\", \"compass\", \"world\", \"greatest\", \"give\", \"brought\", \"fin\", \"box\", \"love\", \"bit\", \"old\", \"anything\", \"avail\", \"award\", \"remind\", \"tear\", \"chang\", \"year\", \"portray\", \"want\", \"tissues\", \"hop\", \"hum\", \"watch\", \"ev\", \"film\", \"screenwriter\", \"seat\", \"provides\", \"quiver\", \"conclusion\", \"keep\", \"skills\", \"talented\", \"edge\", \"ensemble\", \"drama\", \"solid\", \"delivers\", \"strong\", \"scenes\", \"beauty\", \"class\", \"cry\", \"frank\", \"car\", \"perfect\", \"another\", \"work\", \"yet\", \"three\", \"writ\", \"darabont\", \"good\", \"support\", \"mad\", \"film\", \"bring\", \"prison\", \"disappoint\", \"october\", \"excess\", \"wo\", \"pretty\", \"twice\", \"trail\", \"saw\", \"dvd\", \"buy\", \"thought\", \"enough\", \"lead\", \"worth\", \"soon\", \"might\", \"picture\", \"far\", \"liked\", \"stand\", \"avail\", \"become\", \"expect\", \"class\", \"others\", \"first\", \"love\", \"wonderful\", \"every\", \"way\", \"touch\", \"see\", \"movie\"], \"Total\": [6.0, 20.0, 10.0, 6.0, 4.0, 4.0, 8.0, 7.0, 5.0, 5.0, 4.0, 3.0, 7.0, 6.0, 3.0, 3.0, 3.0, 4.0, 6.0, 5.0, 6.0, 3.0, 6.0, 2.0, 6.0, 3.0, 2.0, 3.0, 2.0, 3.0, 1.2905477063110984, 1.0368752286887237, 0.7545481492705387, 1.0898563521600093, 0.7805701608606985, 0.7805701608606985, 0.7805701608606985, 0.7347276522119466, 0.7347276522119466, 1.0110919827650202, 0.7301541884563212, 1.392062080377148, 0.7805701608606985, 1.090836566573605, 1.1517242391796456, 0.7347276522119466, 0.8430956924848169, 0.7301541884563212, 0.7301541884563212, 0.7805701608606985, 0.7805701608606985, 0.7805701608606985, 0.7301541884563212, 0.7805701608606985, 0.7545481492705387, 0.7805701608606985, 0.8718544888912189, 0.7301541884563212, 0.7805701608606985, 1.0632326297061052, 3.956167923559826, 2.8309216948416913, 2.7770736738661523, 2.327823690088621, 1.9062709232038095, 1.895553749674653, 1.875878664546821, 1.8091033730420887, 1.783590102664538, 1.7267145229160241, 1.7231279605227794, 1.6337608764651315, 1.6214028870711212, 1.4741291108820889, 1.4433737584606834, 1.331827165859432, 1.3283567136874204, 1.3283567136874204, 1.3231466991858236, 1.2908461848271164, 1.271925718160954, 1.2690305788003258, 1.2690305788003258, 1.2657670121163358, 1.2651447079012588, 1.2489641060028494, 1.2489641060028494, 1.2470729013000852, 2.303303593083543, 4.097974795127568, 4.001244623919865, 6.497231174062181, 4.913341213259045, 3.2005644879440043, 3.736772984849368, 4.164671172835479, 3.113171641117907, 2.484991604464347, 3.2207277522438282, 10.237334396927466, 4.283063736068287, 2.3174480556075503, 5.785258819551441, 6.287832978850111, 7.776864271110645, 4.6218793576263915, 6.215469999079566, 4.209998789496353, 4.376022160859896, 8.055647633778866, 6.737174086137628, 20.885627914570843, 6.763987804153868, 5.99797852571405, 5.323088108147336, 6.109762857482648, 1.4086897324199257, 1.9024360381472303, 0.8643796918656275, 0.9413825820775648, 0.8670747432963478, 0.9464219022500598, 0.8643796918656275, 0.9413825820775648, 0.9413825820775648, 0.9413825820775648, 0.9464219022500598, 0.9464219022500598, 0.9464219022500598, 0.8670747432963478, 0.9413825820775648, 0.8643796918656275, 1.4086897324199257, 1.4086897324199257, 0.9413825820775648, 0.9413825820775648, 0.8643796918656275, 1.4086897324199257, 0.9464219022500598, 0.9413825820775648, 0.8670747432963478, 1.4086897324199257, 0.9413825820775648, 1.6505986137145676, 0.8643796918656275, 0.9413825820775648, 2.6588286449207468, 2.061130356054654, 2.0445678754525396, 1.9196224782567035, 1.89704593528579, 1.6525864436218731, 1.6505986137145676, 1.4086897324199257, 1.4086897324199257, 1.4086897324199257, 1.4086897324199257, 1.4086897324199257, 0.9464219022500598, 0.9464219022500598, 0.9464219022500598, 0.9464219022500598, 0.9413825820775648, 4.789373667196918, 3.888152723579067, 3.395100584125383, 1.9581895947136674, 2.21044936807455, 2.2823771947291305, 20.885627914570843, 7.38655296926325, 1.7205286802581063, 2.717024533359389, 3.6215470986456952, 4.794936170522103, 5.444672210020605, 8.055647633778866, 6.914285023823299, 2.590638013408441, 3.770788830096771, 2.2155913014284425, 2.849769341328568, 2.558229684991984, 2.4162194354400364, 6.763987804153868, 5.6579508796973945, 5.205861786864303, 5.566673169535969, 5.867686478537385, 7.776864271110645, 1.4000668928140345, 2.6351962012167776, 2.6351962012167776, 4.68657071729542, 2.4862769875980444, 2.4862769875980444, 2.482318847801385, 2.756025352740412, 2.7341666711373436, 2.5231427757104123, 2.612025751542504, 1.5530777667842397, 3.073477984313252, 0.25923778555654087, 0.25923778555654087, 0.25923778555654087, 0.25923778555654087, 0.25923778555654087, 0.25923778555654087, 0.25923778555654087, 0.25923778555654087, 0.25923778555654087, 0.25923778555654087, 0.25923778555654087, 0.25923778555654087, 0.25923778555654087, 3.153443592615468, 3.153443592615468, 1.8615687753654373, 3.0102435672966337, 2.9946372368516903, 3.028017992374908, 1.7477864346493368, 2.813323428403784, 3.0693469137462976, 4.753524740218939, 3.0515238037811505, 3.5047181262789673, 1.9368941232413994, 1.621086375286997, 3.2199278716257886, 3.325380631602598, 3.0586756312478416, 5.378089090382364, 3.6415443331025066, 6.466248591659019, 6.737174086137628, 20.885627914570843, 4.343755493037528, 6.914285023823299, 6.763987804153868, 0.7375811682177024, 0.6289848438777761, 0.6289848438777761, 0.6289848438777761, 0.7375811682177024, 0.7375811682177024, 0.6289848438777761, 0.7375811682177024, 0.6289848438777761, 0.7375811682177024, 0.7375811682177024, 0.7375811682177024, 0.7375811682177024, 0.6289848438777761, 6.459176326282443, 0.7375811682177024, 0.7375811682177024, 0.6289848438777761, 0.6289848438777761, 0.7375811682177024, 0.6289848438777761, 0.7375811682177024, 0.7375811682177024, 0.7375811682177024, 0.7375811682177024, 0.7375811682177024, 0.7375811682177024, 0.7375811682177024, 0.6289848438777761, 2.8903018996349257, 1.5665139450469063, 3.6302396258808525, 2.5240805349688804, 1.6494266413912657, 5.6579508796973945, 7.776864271110645, 1.6236726964335975, 2.519175705255379, 5.323088108147336, 2.4930468125712513, 3.8944640732959144, 20.885627914570843, 2.2525088567694094, 3.723936286238028, 3.0927227320073403, 2.764169357417873, 2.376885817771756, 2.602966384855536, 3.048834490249618, 2.5368507797483, 4.032705501377006, 5.867686478537385, 2.363582597869585, 0.8356881764815813, 0.8356881764815813, 0.8356881764815813, 1.7419710052690787, 0.8356881764815813, 0.8356881764815813, 0.8356881764815813, 0.8356881764815813, 0.8356881764815813, 0.8356881764815813, 0.8356881764815813, 0.8356881764815813, 0.8356881764815813, 0.8356881764815813, 0.8356881764815813, 0.8356881764815813, 0.8356881764815813, 0.8356881764815813, 0.8356881764815813, 0.8356881764815813, 0.8356881764815813, 0.8356881764815813, 0.8356881764815813, 0.8356881764815813, 0.8356881764815813, 0.8356881764815813, 0.8356881764815813, 0.8356881764815813, 0.8356881764815813, 0.8356881764815813, 0.8356881764815813, 0.8356881764815813, 0.8356881764815813, 0.8356881764815813, 0.8356881764815813, 0.8356881764815813, 0.8356881764815813, 0.8356881764815813, 0.8356881764815813, 1.6642577649913546, 3.8944640732959144, 0.8356881764815813, 3.4123686870237413, 0.9106786766099495, 0.9106786766099495, 0.9106786766099495, 1.888959102291026, 0.9106786766099495, 0.9106786766099495, 0.9106786766099495, 0.9106786766099495, 0.9106786766099495, 0.9106786766099495, 0.9106786766099495, 0.9106786766099495, 0.9106786766099495, 0.9106786766099495, 0.9106786766099495, 0.9106786766099495, 0.9106786766099495, 0.9106786766099495, 1.888959102291026, 0.9920095380760734, 0.9920095380760734, 2.109424149618439, 1.0198881470671428, 1.0898710413243753, 1.0898710413243753, 1.1047751713839316, 1.2845993843545647, 1.4598248206288265, 1.3026271133519542, 1.3189786517435107, 1.5388680727195987, 1.930849504550265, 2.0787092774431244, 1.1203424629021435, 1.1203424629021435, 1.1203424629021435, 1.1203424629021435, 1.1203424629021435, 1.1203424629021435, 1.1203424629021435, 1.1203424629021435, 1.1203424629021435, 1.1203424629021435, 1.1203424629021435, 1.1203424629021435, 1.1203424629021435, 1.1203424629021435, 1.1203424629021435, 1.1106530130298333, 1.253194847417764, 1.253194847417764, 1.2740675352347104, 1.3945627475979467, 1.2998270486198504, 1.7126598701603672, 1.5987787390267418, 1.6617191287606539, 3.3408496312770852, 2.1039149180166143, 2.158746064318601, 2.076572797727443, 2.267019599681263, 3.9161990315033446, 4.283063736068287, 5.647734065474932, 3.153443592615468, 6.215469999079566, 1.1470155046170694, 1.1470155046170694, 1.1470155046170694, 1.1470155046170694, 1.1470155046170694, 1.1470155046170694, 1.1470155046170694, 1.1470155046170694, 1.1470155046170694, 1.1470155046170694, 1.2179537593147538, 2.394856697472108, 1.4207911528023407, 1.4777645601942804, 1.4134818661909256, 1.6448389359731062, 1.481998135215063, 3.2354960959666736, 1.5698119976082063, 1.6648948171876534, 1.6707957312552826, 1.951196497789643, 1.5918173692725923, 2.0717241126314594, 2.054830514232777, 2.0544343647538597, 4.209998789496353, 2.2525088567694094, 2.475639295014779, 2.558229684991984, 5.378089090382364, 5.647734065474932, 7.38655296926325, 8.055647633778866, 10.237334396927466, 1.3387241768363987, 1.3387241768363987, 1.3387241768363987, 1.3387241768363987, 1.3387241768363987, 1.3387241768363987, 1.3387241768363987, 1.3387241768363987, 1.3387241768363987, 1.3387241768363987, 1.3435595901944972, 1.4353803551819486, 1.4714263839804318, 1.7312376203372475, 3.1289803122258086, 2.136681286458315, 2.144982408815137, 2.849769341328568, 2.5207622811619554, 3.028017992374908, 2.6192150541942327, 3.2207277522438282, 3.048834490249618, 3.7966863969413795, 3.723936286238028, 3.480259996332718, 4.032705501377006, 3.8525524182278836, 3.9477815173962796, 4.073675287813065, 10.237334396927466, 4.343755493037528, 6.497231174062181, 1.1793230965436245, 1.1793230965436245, 1.1793230965436245, 1.1793230965436245, 1.1793230965436245, 1.1793230965436245, 1.1793230965436245, 1.1793230965436245, 1.1793230965436245, 1.1793230965436245, 1.2308519262724456, 1.2308519262724456, 1.2308519262724456, 1.3228716643341547, 1.413778252943408, 1.4286553949910585, 1.6371749436928038, 1.5164695989637318, 1.7625543773650945, 1.716034430147634, 1.951196497789643, 1.8882472310469154, 2.0569741710197533, 2.144982408815137, 2.6831055128752683, 2.6917525527597297, 3.2354960959666736, 2.5731116185675287, 2.7959069861314134, 2.602966384855536, 2.909068780079176, 5.867686478537385, 20.885627914570843], \"loglift\": [30.0, 29.0, 28.0, 27.0, 26.0, 25.0, 24.0, 23.0, 22.0, 21.0, 20.0, 19.0, 18.0, 17.0, 16.0, 15.0, 14.0, 13.0, 12.0, 11.0, 10.0, 9.0, 8.0, 7.0, 6.0, 5.0, 4.0, 3.0, 2.0, 1.0, 0.8605, 0.8605, 0.8605, 0.8605, 0.8605, 0.8605, 0.8605, 0.8605, 0.8605, 0.8605, 0.8605, 0.8605, 0.8605, 0.8605, 0.8605, 0.8605, 0.8605, 0.8605, 0.8605, 0.8605, 0.8605, 0.8605, 0.8605, 0.8605, 0.8605, 0.8605, 0.8605, 0.8605, 0.8605, 0.8605, 0.8605, 0.8605, 0.8605, 0.8605, 0.8605, 0.8605, 0.8605, 0.8605, 0.8605, 0.8605, 0.8605, 0.8605, 0.8605, 0.8605, 0.8605, 0.8605, 0.8605, 0.8605, 0.8605, 0.8605, 0.8605, 0.8605, 0.8605, 0.8605, 0.8605, 0.8605, 0.8605, 0.8605, 0.8335, 0.7928, 0.7908, 0.7523, 0.691, 0.7014, 0.6491, 0.6155, 0.6136, 0.6506, 0.5639, 0.1627, 0.4463, 0.6508, 0.277, 0.1478, 0.0396, 0.2616, 0.0567, 0.2837, 0.2079, -0.2346, -0.1147, -1.0559, -0.1983, -0.1199, -0.032, -0.1775, 1.6485, 1.6485, 1.6485, 1.6485, 1.6485, 1.6485, 1.6485, 1.6485, 1.6485, 1.6485, 1.6485, 1.6485, 1.6485, 1.6485, 1.6485, 1.6485, 1.6485, 1.6485, 1.6485, 1.6485, 1.6485, 1.6485, 1.6485, 1.6485, 1.6485, 1.6485, 1.6485, 1.6485, 1.6485, 1.6485, 1.6485, 1.6485, 1.6485, 1.6485, 1.6485, 1.6485, 1.6485, 1.6485, 1.6485, 1.6485, 1.6485, 1.6485, 1.6485, 1.6485, 1.6485, 1.6485, 1.6485, 1.5946, 1.5243, 1.5043, 1.5638, 1.4816, 1.4596, 0.9542, 1.1618, 1.4919, 1.3597, 1.269, 1.1177, 1.0692, 0.8527, 0.8885, 1.3275, 1.079, 1.3771, 1.221, 1.2852, 1.2995, 0.626, 0.6681, 0.665, 0.5612, 0.5133, 0.2356, 2.3713, 2.3713, 2.3713, 2.3425, 2.3166, 2.3166, 2.3079, 2.2116, 2.2107, 2.1931, 2.1724, 2.1614, 2.1182, 2.0885, 2.0885, 2.0885, 2.0885, 2.0885, 2.0885, 2.0885, 2.0885, 2.0885, 2.0885, 2.0885, 2.0885, 2.0885, 2.0684, 2.0684, 2.0637, 2.0325, 2.0324, 2.0123, 2.0, 1.9343, 1.9223, 1.8756, 1.9072, 1.8919, 1.9382, 1.9284, 1.8534, 1.8334, 1.8392, 1.7339, 1.7591, 1.589, 1.5028, 0.7952, 1.5376, 1.1746, 1.1452, 2.5955, 2.5955, 2.5955, 2.5955, 2.5955, 2.5955, 2.5955, 2.5955, 2.5955, 2.5955, 2.5955, 2.5955, 2.5955, 2.5955, 2.5955, 2.5955, 2.5955, 2.5955, 2.5955, 2.5955, 2.5955, 2.5955, 2.5955, 2.5955, 2.5955, 2.5955, 2.5955, 2.5955, 2.5955, 2.5405, 2.4245, 2.1019, 2.1547, 2.2216, 1.4605, 1.2504, 2.0778, 1.8353, 1.2236, 1.679, 1.3666, -0.0343, 1.7181, 1.2671, 1.3821, 1.4418, 1.5482, 1.4446, 1.278, 1.4445, 1.0062, 0.5747, 1.453, 3.1441, 3.1441, 3.1441, 3.1441, 3.1441, 3.1441, 3.1441, 3.1441, 3.1441, 3.1441, 3.1441, 3.1441, 3.1441, 3.1441, 3.1441, 3.1441, 3.1441, 3.1441, 3.1441, 3.1441, 3.1441, 3.1441, 3.1441, 3.1441, 3.1441, 3.1441, 3.1441, 3.1441, 3.1441, 3.1441, 3.1441, 3.1441, 3.1441, 3.1441, 3.1441, 3.1441, 3.1441, 3.1441, 3.1441, 3.0438, 2.0449, 3.1441, 1.8469, 3.2838, 3.2838, 3.2838, 3.2838, 3.2838, 3.2838, 3.2838, 3.2838, 3.2838, 3.2838, 3.2838, 3.2838, 3.2838, 3.2838, 3.2838, 3.2838, 3.2838, 3.2838, 3.2838, 3.0195, 3.0195, 3.0021, 2.9917, 2.9331, 2.9331, 2.9116, 2.7604, 2.6336, 2.6266, 2.6061, 2.5809, 2.354, 2.3012, 3.2883, 3.2883, 3.2883, 3.2883, 3.2883, 3.2883, 3.2883, 3.2883, 3.2883, 3.2883, 3.2883, 3.2883, 3.2883, 3.2883, 3.2883, 3.1347, 2.9989, 2.9989, 2.9824, 2.8917, 2.8507, 2.687, 2.6443, 2.603, 2.4562, 2.352, 2.2253, 2.1749, 2.0868, 2.0867, 1.9933, 1.6526, 1.9465, 1.3082, 3.3575, 3.3575, 3.3575, 3.3575, 3.3575, 3.3575, 3.3575, 3.3575, 3.3575, 3.3575, 3.123, 3.0551, 2.9659, 2.9272, 2.8495, 2.8245, 2.8222, 2.7533, 2.7394, 2.6825, 2.6768, 2.6496, 2.6277, 2.5956, 2.4915, 2.394, 2.3119, 2.2099, 2.1812, 2.1687, 1.9905, 1.7448, 1.5338, 1.1856, 0.8152, 3.4381, 3.4381, 3.4381, 3.4381, 3.4381, 3.4381, 3.4381, 3.4381, 3.4381, 3.4381, 3.2594, 3.1931, 3.1788, 2.8802, 2.8399, 2.6689, 2.6669, 2.3821, 2.2499, 2.2207, 2.2035, 2.078, 2.0466, 2.0329, 1.9481, 1.8433, 1.706, 1.6737, 1.6502, 1.6208, 1.4613, 1.5582, 1.1603, 3.4457, 3.4457, 3.4457, 3.4457, 3.4457, 3.4457, 3.4457, 3.4457, 3.4457, 3.4457, 3.2278, 3.2278, 3.2278, 3.1557, 3.0893, 2.954, 2.9426, 2.8944, 2.8688, 2.7707, 2.7671, 2.6751, 2.5895, 2.5476, 2.2227, 2.2195, 2.1366, 2.0998, 2.0945, 2.0883, 2.0548, 1.6665, 0.1577], \"logprob\": [30.0, 29.0, 28.0, 27.0, 26.0, 25.0, 24.0, 23.0, 22.0, 21.0, 20.0, 19.0, 18.0, 17.0, 16.0, 15.0, 14.0, 13.0, 12.0, 11.0, 10.0, 9.0, 8.0, 7.0, 6.0, 5.0, 4.0, 3.0, 2.0, 1.0, -6.0211, -6.24, -6.5578, -6.1902, -6.5239, -6.5239, -6.5239, -6.5845, -6.5845, -6.2652, -6.5907, -5.9454, -6.5239, -6.1893, -6.1349, -6.5845, -6.4469, -6.5907, -6.5907, -6.5239, -6.5239, -6.5239, -6.5907, -6.5239, -6.5578, -6.5239, -6.4133, -6.5907, -6.5239, -6.2149, -4.9009, -5.2356, -5.2548, -5.4313, -5.6311, -5.6367, -5.6471, -5.6834, -5.6976, -5.73, -5.7321, -5.7853, -5.7929, -5.8881, -5.9092, -5.9896, -5.9923, -5.9923, -5.9962, -6.0209, -6.0357, -6.0379, -6.0379, -6.0405, -6.041, -6.0539, -6.0539, -6.0554, -5.4688, -4.9334, -4.9593, -4.513, -4.8537, -5.2719, -5.1694, -5.0945, -5.3875, -5.5758, -5.4032, -4.6479, -5.2357, -5.6455, -5.1044, -5.1502, -5.0459, -5.3443, -5.253, -5.4156, -5.4527, -5.2849, -5.3437, -5.1536, -5.4234, -5.4651, -5.4967, -5.5043, -5.1456, -4.8451, -5.634, -5.5486, -5.6308, -5.5433, -5.634, -5.5486, -5.5486, -5.5486, -5.5433, -5.5433, -5.5433, -5.6308, -5.5486, -5.634, -5.1456, -5.1456, -5.5486, -5.5486, -5.634, -5.1456, -5.5433, -5.5486, -5.6308, -5.1456, -5.5486, -4.9871, -5.634, -5.5486, -4.5103, -4.765, -4.773, -4.8361, -4.8479, -4.9859, -4.9871, -5.1456, -5.1456, -5.1456, -5.1456, -5.1456, -5.5433, -5.5433, -5.5433, -5.5433, -5.5486, -3.9757, -4.2544, -4.4101, -4.9009, -4.8619, -4.8519, -3.1434, -3.9752, -5.1021, -4.7775, -4.5808, -4.4515, -4.3729, -4.1976, -4.3146, -4.8573, -4.7304, -4.964, -4.8684, -4.9121, -4.9549, -4.5991, -4.7355, -4.8219, -4.8587, -4.8539, -4.85, -4.4288, -3.7964, -3.7964, -3.2495, -3.9093, -3.9093, -3.9196, -3.9113, -3.9202, -4.0181, -4.0042, -4.5351, -3.8957, -6.3982, -6.3982, -6.3982, -6.3982, -6.3982, -6.3982, -6.3982, -6.3982, -6.3982, -6.3982, -6.3982, -6.3982, -6.3982, -3.9198, -3.9198, -4.4515, -4.0021, -4.0074, -4.0165, -4.5784, -4.1681, -4.093, -3.7022, -4.1139, -3.9907, -4.5374, -4.7252, -4.1139, -4.1017, -4.1795, -3.7205, -4.0852, -3.6811, -3.7263, -3.3024, -4.1304, -4.0285, -4.0799, -4.8456, -5.0048, -5.0048, -5.0048, -4.8456, -4.8456, -5.0048, -4.8456, -5.0048, -4.8456, -4.8456, -4.8456, -4.8456, -5.0048, -2.6757, -4.8456, -4.8456, -5.0048, -5.0048, -4.8456, -5.0048, -4.8456, -4.8456, -4.8456, -4.8456, -4.8456, -4.8456, -4.8456, -5.0048, -3.5348, -4.2634, -3.7455, -4.0561, -4.4147, -3.9431, -3.8352, -4.5742, -4.3775, -4.2411, -4.5442, -4.4105, -4.1319, -4.6066, -4.5548, -4.6255, -4.6782, -4.7227, -4.7355, -4.7439, -4.7612, -4.7361, -4.7925, -4.8236, -4.1721, -4.1721, -4.1721, -3.4376, -4.1721, -4.1721, -4.1721, -4.1721, -4.1721, -4.1721, -4.1721, -4.1721, -4.1721, -4.1721, -4.1721, -4.1721, -4.1721, -4.1721, -4.1721, -4.1721, -4.1721, -4.1721, -4.1721, -4.1721, -4.1721, -4.1721, -4.1721, -4.1721, -4.1721, -4.1721, -4.1721, -4.1721, -4.1721, -4.1721, -4.1721, -4.1721, -4.1721, -4.1721, -4.1721, -3.5835, -3.7322, -4.1721, -4.0624, -3.9464, -3.9464, -3.9464, -3.2168, -3.9464, -3.9464, -3.9464, -3.9464, -3.9464, -3.9464, -3.9464, -3.9464, -3.9464, -3.9464, -3.9464, -3.9464, -3.9464, -3.9464, -3.2168, -4.1252, -4.1252, -3.3882, -4.1253, -4.1175, -4.1175, -4.1255, -4.1258, -4.1248, -4.2457, -4.2538, -4.1248, -4.1248, -4.1038, -3.7348, -3.7348, -3.7348, -3.7348, -3.7348, -3.7348, -3.7348, -3.7348, -3.7348, -3.7348, -3.7348, -3.7348, -3.7348, -3.7348, -3.7348, -3.8971, -3.912, -3.912, -3.9121, -3.9124, -4.0238, -3.9117, -4.0231, -4.0259, -3.4743, -4.0409, -4.1418, -4.231, -4.2314, -3.6849, -3.6887, -3.7528, -4.0417, -4.0015, -3.6421, -3.6421, -3.6421, -3.6421, -3.6421, -3.6421, -3.6421, -3.6421, -3.6421, -3.6421, -3.8165, -3.2083, -3.8196, -3.819, -3.9412, -3.8146, -3.9211, -3.2093, -3.9464, -3.9444, -3.9466, -3.8187, -4.0441, -3.8127, -3.925, -4.0227, -3.3873, -4.1148, -4.049, -4.0287, -3.4639, -3.6607, -3.6032, -3.8647, -3.9955, -3.4068, -3.4068, -3.4068, -3.4068, -3.4068, -3.4068, -3.4068, -3.4068, -3.4068, -3.4068, -3.582, -3.5822, -3.5716, -3.7077, -3.1561, -3.7086, -3.7066, -3.7074, -3.9622, -3.8081, -3.9703, -3.8891, -3.9754, -3.7697, -3.8738, -4.0463, -4.0363, -4.1142, -4.1133, -4.1113, -3.3494, -4.1097, -4.105, -3.5261, -3.5261, -3.5261, -3.5261, -3.5261, -3.5261, -3.5261, -3.5261, -3.5261, -3.5261, -3.7012, -3.7012, -3.7012, -3.7012, -3.7012, -3.8259, -3.7012, -3.8259, -3.7012, -3.8259, -3.7012, -3.8259, -3.8259, -3.8259, -3.927, -3.927, -3.8259, -4.0917, -4.014, -4.0917, -4.014, -3.7008, -3.94]}, \"token.table\": {\"Topic\": [2, 8, 6, 5, 1, 2, 1, 4, 3, 4, 2, 4, 1, 1, 9, 4, 4, 1, 2, 2, 8, 4, 1, 5, 5, 1, 8, 10, 1, 8, 1, 9, 5, 10, 2, 7, 1, 2, 3, 7, 1, 8, 1, 1, 2, 5, 4, 8, 3, 4, 7, 9, 1, 8, 10, 2, 7, 3, 8, 6, 3, 9, 3, 1, 3, 4, 9, 1, 5, 1, 1, 8, 7, 5, 6, 6, 5, 9, 10, 7, 2, 2, 1, 1, 1, 2, 8, 7, 4, 2, 9, 5, 5, 1, 1, 2, 2, 1, 2, 2, 6, 1, 4, 2, 9, 1, 1, 4, 9, 6, 1, 3, 6, 1, 3, 5, 6, 6, 1, 4, 9, 1, 3, 2, 6, 1, 6, 8, 4, 4, 4, 2, 1, 1, 10, 4, 2, 8, 1, 5, 4, 1, 2, 9, 5, 4, 1, 3, 10, 9, 1, 7, 4, 5, 4, 6, 1, 1, 1, 2, 2, 1, 3, 2, 4, 2, 2, 3, 10, 9, 2, 1, 2, 8, 9, 1, 10, 2, 6, 4, 3, 7, 10, 10, 1, 2, 2, 10, 5, 8, 5, 7, 10, 2, 4, 1, 2, 1, 2, 3, 5, 8, 9, 1, 8, 1, 7, 1, 2, 6, 8, 10, 1, 2, 3, 7, 1, 9, 3, 6, 1, 3, 2, 7, 1, 2, 3, 1, 4, 8, 7, 1, 2, 1, 2, 9, 10, 1, 7, 1, 2, 4, 8, 1, 1, 2, 3, 7, 1, 3, 4, 8, 2, 3, 4, 9, 10, 1, 1, 2, 7, 1, 2, 7, 8, 1, 7, 5, 2, 2, 6, 1, 7, 4, 1, 2, 6, 9, 1, 2, 4, 1, 3, 2, 10, 4, 5, 1, 2, 3, 4, 3, 1, 2, 3, 4, 2, 10, 6, 6, 1, 1, 2, 3, 10, 3, 4, 2, 2, 8, 10, 5, 2, 3, 8, 9, 1, 5, 1, 2, 9, 1, 3, 1, 2, 10, 4, 3, 1, 5, 7, 1, 1, 1, 3, 7, 1, 10, 1, 2, 1, 3, 1, 1, 3, 1, 1, 2, 3, 4, 10, 2, 1, 6, 1, 7, 2, 4, 5, 2, 1, 2, 4, 7, 5, 5, 1, 5, 10, 2, 8, 3, 2, 1, 6, 7, 5, 4, 1, 2, 10, 8, 2, 6, 2, 2, 1, 1, 3, 1, 7, 1, 2, 3, 4, 5, 1, 7, 9, 1, 3, 9, 7, 1, 6, 1, 10, 2, 1, 1, 4, 2, 1, 4, 5, 5, 4, 8, 2, 1, 8, 10, 1, 9, 7, 5, 5, 5, 9, 8, 5, 3, 1, 1, 9, 6, 8, 6, 1, 1, 5, 4, 1, 9, 7, 6, 4, 1, 4, 2, 5, 8, 8, 1, 8, 4, 6, 1, 6, 6, 1, 2, 7, 4, 1, 3, 1, 10, 2, 4, 6, 9, 1, 4, 9, 2, 9, 1, 2, 3, 4, 10, 5, 2, 3, 8, 10, 1, 4, 7, 7, 3, 1, 4, 7, 5, 1, 9, 7, 1, 6, 5, 9, 5, 2, 10, 5, 2, 2, 2, 6, 6, 2, 10, 2, 1, 2, 4, 2, 1, 9, 5, 7, 1, 2, 1, 3, 9, 7, 2, 3, 1, 6, 9, 2, 2, 8, 1, 1, 2, 10, 1, 4, 9, 10, 3, 2, 3, 1, 2, 3, 4, 2, 8, 2, 3, 7, 4, 1, 2, 10, 6, 7, 10, 5, 5, 2, 10, 1, 2, 4, 2, 5, 5, 1, 1, 1, 2, 5, 3, 7, 5, 2, 8, 1, 2, 3, 8, 1, 4, 6, 10, 3, 7, 3, 7, 8, 2, 10, 1, 2, 10, 1, 6, 2, 1, 4, 9, 1, 8, 10, 1, 1, 2, 4, 1, 2, 9, 10, 1, 8, 1, 7, 9], \"Freq\": [0.7098795263327037, 0.871827796550884, 1.0980821509103011, 1.1966185811198204, 1.2811148185543582, 1.0418715256013729, 0.8414371380594662, 0.4207185690297331, 0.5371813350294802, 1.5898634279243766, 1.0566112191851875, 1.355782987811916, 0.7557740956579746, 0.6209776652517844, 0.3104888326258922, 1.355782987811916, 1.355782987811916, 0.3860052986269293, 0.7720105972538586, 0.5985172102688411, 0.5985172102688411, 1.355782987811916, 1.1055200215767162, 1.201736919647414, 1.1966185811198204, 1.2811148185543582, 0.5125060449487385, 0.5125060449487385, 0.6282127707005527, 0.6282127707005527, 0.4680155184293131, 0.4680155184293131, 0.5295916676364262, 0.5295916676364262, 0.7098795263327037, 0.8925842169809333, 0.3007174548671353, 0.3007174548671353, 0.6014349097342706, 0.8925842169809333, 0.6370189561066025, 0.6370189561066025, 0.9167276113057622, 1.0661670383053077, 0.7098795263327037, 1.1966185811198204, 0.9289110092235676, 0.674764681707837, 0.4604310724224092, 0.2302155362112046, 0.2302155362112046, 0.2302155362112046, 0.7074728186607845, 0.7074728186607845, 0.8479440476751562, 0.7715746302368706, 0.7170706386087266, 0.6678605259389053, 0.33393026296945266, 1.0080548236858926, 0.660498056826729, 0.3302490284133645, 0.8056982694916168, 0.3334456753097333, 0.3334456753097333, 0.16672283765486665, 0.16672283765486665, 0.6783666319442131, 1.1966185811198204, 0.6928212419951928, 0.48675198251943635, 0.48675198251943635, 0.8925842169809333, 1.1966185811198204, 0.9175397474409752, 1.0980821509103011, 1.1966185811198204, 0.4662042895505088, 0.4662042895505088, 0.7693331209423552, 1.0622673703958605, 1.1533031122534048, 0.9760918990414341, 1.0597255323121058, 0.45134678013732815, 0.9026935602746563, 0.8210492330699163, 0.8925842169809333, 1.355782987811916, 1.0622673703958605, 0.746979861350638, 1.1966185811198204, 1.1966185811198204, 0.8006635220289658, 1.05510065348623, 1.156898998681537, 1.0566112191851875, 0.6424316518834218, 1.1533031122534048, 1.0622673703958605, 1.0980821509103011, 0.774864807484258, 1.355782987811916, 0.7018111855563708, 0.3509055927781854, 1.3695737363558538, 0.4959449677932299, 0.24797248389661494, 0.24797248389661494, 1.0980821509103011, 0.31056596292484195, 0.6211319258496839, 1.0980821509103011, 0.8028317513971034, 0.26761058379903446, 0.685013698814386, 0.685013698814386, 1.0980821509103011, 0.6062712793074057, 0.6062712793074057, 0.6796126608079761, 0.32536429579255416, 0.6507285915851083, 0.7098795263327037, 1.0980821509103011, 1.1582690557455089, 0.9175397474409752, 0.871827796550884, 1.355782987811916, 1.355782987811916, 1.5898634279243766, 1.0622673703958605, 1.3610485422583911, 1.0491688120797977, 0.8479440476751562, 1.355782987811916, 1.0622673703958605, 0.871827796550884, 1.2811148185543582, 1.1966185811198204, 1.355782987811916, 0.4138696946694671, 0.8277393893389342, 0.7442915128574515, 1.1966185811198204, 1.355782987811916, 0.5185593408304254, 0.1728531136101418, 0.8479440476751562, 0.746979861350638, 0.7004331910208514, 0.23347773034028382, 1.5898634279243766, 1.1966185811198204, 0.474063028140113, 0.948126056280226, 1.3695737363558538, 1.2811148185543582, 1.2811148185543582, 1.0622673703958605, 1.1533031122534048, 0.28532965105006064, 0.5706593021001213, 1.054270728398941, 1.355782987811916, 1.0622673703958605, 0.516290481756688, 0.516290481756688, 0.812445411714498, 0.746979861350638, 1.2116816186456905, 0.3724095363134341, 0.4965460484179121, 0.12413651210447803, 0.12413651210447803, 0.35766568950981475, 0.35766568950981475, 1.156898998681537, 0.9804996782006591, 1.5898634279243766, 0.5492175343904296, 0.2746087671952148, 0.2746087671952148, 0.8479440476751562, 1.2811148185543582, 1.0622673703958605, 0.4861509755877226, 0.4861509755877226, 1.1966185811198204, 0.871827796550884, 0.6254774194762879, 0.6254774194762879, 0.6594263417369808, 0.61588767378826, 0.61588767378826, 0.3673315716452343, 0.5509973574678514, 0.4884083889552979, 0.09768167779105959, 0.09768167779105959, 0.09768167779105959, 0.09768167779105959, 0.09768167779105959, 0.6079622619149565, 0.6079622619149565, 0.5986501102222529, 0.29932505511112645, 1.3252964717583, 0.37150517382244, 0.37150517382244, 0.37150517382244, 0.37150517382244, 0.9175521141094227, 0.5522501697542233, 0.2761250848771116, 0.797960510339252, 0.39670539640852054, 0.39670539640852054, 0.572152283697426, 1.0587841724970637, 1.2811148185543582, 1.0668781720390763, 0.5838870971539513, 0.5838870971539513, 0.32580220747333116, 0.32580220747333116, 0.6516044149466623, 0.8018777402327407, 0.6766977818635269, 0.6766977818635269, 0.797960510339252, 0.7528098361652222, 1.0213515613601483, 0.25956817492440115, 0.25956817492440115, 0.25956817492440115, 0.25956817492440115, 0.4753043915590997, 0.4753043915590997, 0.2754639095641949, 0.2754639095641949, 0.5509278191283898, 0.7038332115368395, 1.0110794276904032, 0.3273449472020985, 0.16367247360104925, 0.16367247360104925, 0.16367247360104925, 0.7508481773268959, 0.5578189482515081, 0.18593964941716937, 0.18593964941716937, 0.3841823086902734, 0.1920911543451367, 0.1920911543451367, 0.1920911543451367, 0.1920911543451367, 1.0802738250092936, 0.4411077875729867, 0.4411077875729867, 0.4411077875729867, 0.35412432257144794, 0.17706216128572397, 0.17706216128572397, 0.17706216128572397, 0.8630182649231691, 0.8925842169809333, 1.1966185811198204, 0.8762793479617453, 1.0622673703958605, 1.0980821509103011, 0.48156269844928085, 0.48156269844928085, 0.638360100886339, 0.9996889408079614, 0.5179067543293183, 0.5179067543293183, 0.746979861350638, 0.3757217538704401, 0.18786087693522005, 0.18786087693522005, 0.9644361947624521, 0.8044156021136529, 0.978201811743386, 0.812445411714498, 1.5898634279243766, 1.1966185811198204, 0.3233396869531034, 0.3233396869531034, 0.3233396869531034, 0.3233396869531034, 0.7926622382424962, 0.17964050871040427, 0.35928101742080853, 0.17964050871040427, 0.17964050871040427, 0.5673583821538237, 0.5673583821538237, 1.0980821509103011, 1.0080548236858926, 0.9890296996177468, 0.30929834689310454, 0.15464917344655227, 0.4639475203396568, 0.15464917344655227, 0.6168702761584558, 1.355782987811916, 0.5812166989567324, 0.3090716138543906, 0.6181432277087812, 0.3090716138543906, 1.1966185811198204, 0.24547857385482627, 0.49095714770965254, 0.24547857385482627, 0.24547857385482627, 0.78800307628942, 1.1966185811198204, 0.4771119096341878, 0.31807460642279184, 0.15903730321139592, 0.7203449865544792, 0.24011499551815974, 0.6490866091192561, 0.21636220303975204, 0.21636220303975204, 1.355782987811916, 0.7656892351918512, 1.1469803880596523, 1.1966185811198204, 0.8925842169809333, 0.9373346518404808, 0.9405279447418917, 0.4826666367055529, 0.16088887890185094, 0.16088887890185094, 0.6999588588725125, 0.6999588588725125, 0.2651965000051028, 0.5303930000102056, 1.3695737363558538, 0.7256827293012128, 0.78800307628942, 0.3269388848506411, 0.6538777697012822, 0.7862094348134381, 0.14363944489823322, 0.4787981496607774, 0.19151925986431095, 0.09575962993215548, 0.04787981496607774, 1.043977845004179, 0.7676793993845052, 0.7676793993845052, 0.7183587672534493, 0.7848877491535633, 0.2567747400359743, 0.2567747400359743, 0.2567747400359743, 0.7098795263327037, 0.39418952347651187, 0.39418952347651187, 0.39418952347651187, 0.8925842169809333, 1.1966185811198204, 1.1966185811198204, 1.1861049806253265, 1.1966185811198204, 0.8479440476751562, 0.6006385446554539, 0.6006385446554539, 0.731484302369925, 1.0566112191851875, 0.46323188101127855, 0.46323188101127855, 0.46323188101127855, 1.1966185811198204, 1.355782987811916, 0.372702450649576, 0.372702450649576, 0.372702450649576, 0.871827796550884, 0.6498282846512813, 0.6498282846512813, 0.7098795263327037, 1.156898998681537, 1.2334997155535914, 0.3554514884082764, 0.7109029768165528, 0.81410995621588, 0.20352748905397, 0.8006635220289658, 0.3617723339984284, 0.3617723339984284, 0.3617723339984284, 1.1966185811198204, 0.38179377382497404, 0.38179377382497404, 0.38179377382497404, 0.445290556788904, 0.445290556788904, 0.14843018559630133, 0.8925842169809333, 0.7528098361652222, 1.0980821509103011, 0.6108082730269527, 0.6108082730269527, 0.7098795263327037, 1.1606799064378368, 0.8461730940999057, 0.42308654704995285, 1.156898998681537, 0.4011156128145989, 0.4011156128145989, 0.4011156128145989, 1.1966185811198204, 0.4439494197746325, 0.4439494197746325, 0.8836262507294271, 0.8683180133116991, 0.871827796550884, 0.8479440476751562, 0.923470296693891, 0.1539117161156485, 0.9003712124923925, 1.1481247356875863, 1.1966185811198204, 1.1966185811198204, 0.746979861350638, 0.871827796550884, 1.1966185811198204, 1.138435156598502, 1.1213338743089925, 1.2241693559998068, 0.746979861350638, 1.0980821509103011, 0.871827796550884, 1.0980821509103011, 1.3695737363558538, 1.3252964717583, 1.1966185811198204, 1.0379538554013787, 0.45703607671104585, 0.22851803835552292, 0.8925842169809333, 1.0980821509103011, 1.5898634279243766, 1.3695737363558538, 1.5898634279243766, 1.1283164132186574, 1.1966185811198204, 0.871827796550884, 0.871827796550884, 0.48268975289852734, 0.48268975289852734, 1.355782987811916, 1.0980821509103011, 1.3610485422583911, 0.9051615440880323, 1.0587841724970637, 0.25534963671550714, 0.25534963671550714, 0.25534963671550714, 1.5898634279243766, 0.32770512842170774, 0.6554102568434155, 0.8591715981393159, 0.8479440476751562, 0.7360993525984677, 1.5898634279243766, 0.3195929345073595, 0.639185869014719, 0.39618387216489076, 0.7923677443297815, 0.746979861350638, 1.210224135456855, 0.746979861350638, 0.1704249202232881, 0.3408498404465762, 0.1704249202232881, 0.1704249202232881, 0.1704249202232881, 1.1966185811198204, 0.4338843408484671, 0.2892562272323114, 0.1446281136161557, 0.1446281136161557, 0.39695524131716964, 0.39695524131716964, 0.8925842169809333, 0.8925842169809333, 1.138435156598502, 1.2811148185543582, 0.6017864166646633, 0.6017864166646633, 1.1966185811198204, 0.7746856378042675, 0.746979861350638, 0.8925842169809333, 0.4810677524035638, 0.4810677524035638, 1.1966185811198204, 0.6966794525157342, 1.1966185811198204, 1.0512837014734995, 0.7073245029183717, 1.1966185811198204, 1.0622673703958605, 1.0566112191851875, 1.0566112191851875, 1.0980821509103011, 1.0980821509103011, 0.5827388905675791, 0.5827388905675791, 1.0566112191851875, 0.38575959350921757, 0.2571730623394784, 0.2571730623394784, 1.156898998681537, 0.5776214589220853, 0.5776214589220853, 1.1966185811198204, 0.8925842169809333, 1.2811148185543582, 1.0566112191851875, 0.2533068245021675, 0.506613649004335, 0.2533068245021675, 0.8925842169809333, 0.9047934003311437, 0.7142515869295869, 0.758162384719522, 0.758162384719522, 0.746979861350638, 1.0622673703958605, 0.48665814191170664, 0.48665814191170664, 0.8682633967244483, 0.417106699416653, 0.6256600491249795, 0.812445411714498, 0.26853305833817415, 0.26853305833817415, 0.26853305833817415, 0.26853305833817415, 0.6438827606621222, 0.7098795263327037, 0.8044156021136529, 0.2956835609271456, 0.2956835609271456, 0.2956835609271456, 1.355782987811916, 0.7817906311278954, 0.3908953155639477, 0.9703413440711883, 0.6643980645712704, 0.3321990322856352, 1.355782987811916, 0.687505229747633, 0.3437526148738165, 0.3437526148738165, 1.0980821509103011, 0.8925842169809333, 0.8479440476751562, 1.1966185811198204, 1.1966185811198204, 1.0566112191851875, 0.8479440476751562, 0.8048316929549991, 1.0566112191851875, 1.5898634279243766, 0.7098795263327037, 1.1966185811198204, 1.1966185811198204, 0.7904234146138858, 0.7900348092719063, 0.29305156966265483, 0.29305156966265483, 0.29305156966265483, 0.6342272951016062, 0.3171136475508031, 1.1966185811198204, 0.8078721338877684, 0.4039360669438842, 1.3610485422583911, 0.6769057259598464, 0.1353811451919693, 0.1353811451919693, 0.38417707036792936, 0.38417707036792936, 0.38417707036792936, 0.38417707036792936, 0.6342272951016062, 0.3171136475508031, 0.6311106313631651, 0.21037021045438836, 0.21037021045438836, 1.2116816186456905, 0.8479440476751562, 0.3886345204708639, 0.3886345204708639, 0.3886345204708639, 0.7784528096301719, 0.7784528096301719, 0.7098795263327037, 0.3279941903038911, 0.3279941903038911, 0.3279941903038911, 0.41756151883974957, 0.8351230376794991, 0.7559312267099872, 1.2811148185543582, 0.1767424322449196, 0.3534848644898392, 0.3534848644898392, 0.287334854595271, 0.287334854595271, 0.287334854595271, 0.287334854595271, 0.47505951901693116, 0.23752975950846558, 0.5267751378178628, 0.2633875689089314, 0.2633875689089314], \"Term\": [\"1000\", \"12\", \"67\", \"95\", \"able\", \"ad\", \"adapt\", \"adapt\", \"affect\", \"ago\", \"already\", \"although\", \"always\", \"another\", \"another\", \"anticipating\", \"anxiously\", \"anyone\", \"anyone\", \"anything\", \"anything\", \"anyway\", \"around\", \"art\", \"artwork\", \"audiences\", \"avail\", \"avail\", \"award\", \"award\", \"beauty\", \"beauty\", \"become\", \"become\", \"bed\", \"believable\", \"bet\", \"bet\", \"bet\", \"bind\", \"bit\", \"bit\", \"black\", \"block\", \"boggling\", \"bombard\", \"book\", \"box\", \"bring\", \"bring\", \"bring\", \"bring\", \"brought\", \"brought\", \"buy\", \"ca\", \"calls\", \"cam\", \"cam\", \"capital\", \"car\", \"car\", \"carry\", \"cast\", \"cast\", \"cast\", \"cast\", \"cell\", \"cent\", \"chair\", \"chang\", \"chang\", \"char\", \"cheap\", \"children\", \"chock\", \"cinema\", \"class\", \"class\", \"clear\", \"cliches\", \"climax\", \"coffey\", \"come\", \"comes\", \"comes\", \"compass\", \"compel\", \"complaint\", \"concepts\", \"conclusion\", \"condition\", \"consumed\", \"contain\", \"convict\", \"convincing\", \"cop\", \"could\", \"create\", \"creative\", \"creepy\", \"crime\", \"critics\", \"cry\", \"cry\", \"cur\", \"darabont\", \"darabont\", \"darabont\", \"dat\", \"david\", \"david\", \"de\", \"dea\", \"dea\", \"deeply\", \"deeply\", \"definitely\", \"delacroix\", \"delacroix\", \"delivers\", \"depth\", \"depth\", \"described\", \"desert\", \"deserves\", \"despite\", \"destruct\", \"detail\", \"detest\", \"detract\", \"differently\", \"difficult\", \"direct\", \"disappoint\", \"discovered\", \"discuss\", \"disgust\", \"disturb\", \"downgrade\", \"drag\", \"dram\", \"dram\", \"drama\", \"draw\", \"dull\", \"duncan\", \"duncan\", \"dvd\", \"edge\", \"edgecomb\", \"edgecomb\", \"eduard\", \"effect\", \"either\", \"either\", \"el\", \"elaine\", \"elect\", \"electrifying\", \"elite\", \"emotion\", \"emotion\", \"emotions\", \"engross\", \"enhancing\", \"enjoy\", \"enjoy\", \"enough\", \"ensemble\", \"especially\", \"ev\", \"ev\", \"ev\", \"ev\", \"every\", \"every\", \"everywhere\", \"evil\", \"exact\", \"excel\", \"excel\", \"excel\", \"excess\", \"executions\", \"expand\", \"expect\", \"expect\", \"expense\", \"exquisitely\", \"extraordinary\", \"extraordinary\", \"far\", \"favorite\", \"favorite\", \"feel\", \"feel\", \"film\", \"film\", \"film\", \"film\", \"film\", \"film\", \"fin\", \"fin\", \"find\", \"find\", \"firm\", \"first\", \"first\", \"first\", \"first\", \"flaw\", \"forget\", \"forget\", \"found\", \"frank\", \"frank\", \"friend\", \"ful\", \"gary\", \"gave\", \"gem\", \"gem\", \"giant\", \"giant\", \"giant\", \"gift\", \"give\", \"give\", \"gives\", \"god\", \"goes\", \"good\", \"good\", \"good\", \"good\", \"got\", \"got\", \"great\", \"great\", \"great\", \"greatest\", \"guard\", \"hank\", \"hank\", \"hank\", \"hank\", \"heart\", \"hop\", \"hop\", \"hop\", \"hour\", \"hour\", \"hour\", \"hour\", \"hour\", \"however\", \"hug\", \"hug\", \"hug\", \"hum\", \"hum\", \"hum\", \"hum\", \"hutchison\", \"injustice\", \"inst\", \"interest\", \"intriguing\", \"island\", \"jet\", \"jet\", \"job\", \"john\", \"journey\", \"journey\", \"keep\", \"king\", \"king\", \"king\", \"know\", \"known\", \"laugh\", \"lead\", \"left\", \"leis\", \"length\", \"length\", \"length\", \"length\", \"let\", \"like\", \"like\", \"like\", \"like\", \"liked\", \"liked\", \"likes\", \"list\", \"liv\", \"long\", \"long\", \"long\", \"long\", \"look\", \"losing\", \"lot\", \"love\", \"love\", \"love\", \"low\", \"mad\", \"mad\", \"mad\", \"mad\", \"mag\", \"mainstream\", \"mak\", \"mak\", \"mak\", \"man\", \"man\", \"many\", \"many\", \"many\", \"mark\", \"marvel\", \"mat\", \"maxim\", \"member\", \"men\", \"mess\", \"michael\", \"michael\", \"michael\", \"might\", \"might\", \"mind\", \"mind\", \"minutes\", \"miracle\", \"miracles\", \"mors\", \"mors\", \"mouse\", \"movie\", \"movie\", \"movie\", \"movie\", \"movie\", \"movies\", \"moving\", \"moving\", \"murder\", \"natural\", \"never\", \"never\", \"never\", \"norm\", \"novel\", \"novel\", \"novel\", \"nowhere\", \"obsess\", \"obviously\", \"occasionally\", \"occasions\", \"october\", \"old\", \"old\", \"opinion\", \"origin\", \"oscar\", \"oscar\", \"oscar\", \"ostensible\", \"ot\", \"others\", \"others\", \"others\", \"outlook\", \"outstanding\", \"outstanding\", \"overall\", \"overload\", \"pain\", \"part\", \"part\", \"paul\", \"paul\", \"penal\", \"people\", \"people\", \"people\", \"per\", \"perfect\", \"perfect\", \"perfect\", \"perform\", \"perform\", \"perform\", \"period\", \"person\", \"pick\", \"picture\", \"picture\", \"pillow\", \"place\", \"play\", \"play\", \"poignant\", \"point\", \"point\", \"point\", \"pond\", \"portray\", \"portray\", \"poss\", \"pow\", \"practically\", \"pretty\", \"prison\", \"prison\", \"production\", \"products\", \"profit\", \"provide\", \"provides\", \"pure\", \"purposes\", \"pussycat\", \"quest\", \"quit\", \"quiver\", \"rabbit\", \"race\", \"rank\", \"rap\", \"rather\", \"react\", \"read\", \"real\", \"real\", \"realm\", \"reason\", \"receive\", \"recently\", \"recognition\", \"recommend\", \"relations\", \"release\", \"remember\", \"remind\", \"remind\", \"reply\", \"required\", \"rest\", \"reward\", \"rich\", \"right\", \"right\", \"right\", \"rita\", \"roles\", \"roles\", \"row\", \"saw\", \"say\", \"scene\", \"scenes\", \"scenes\", \"screen\", \"screen\", \"screenwriter\", \"script\", \"seat\", \"see\", \"see\", \"see\", \"see\", \"see\", \"seek\", \"seen\", \"seen\", \"seen\", \"seen\", \"several\", \"several\", \"shad\", \"shot\", \"side\", \"sin\", \"single\", \"single\", \"situations\", \"size\", \"skills\", \"slant\", \"slow\", \"slow\", \"social\", \"solid\", \"sometime\", \"song\", \"soon\", \"sorry\", \"spent\", \"spot\", \"spotlight\", \"squeamish\", \"stamina\", \"stand\", \"stand\", \"steal\", \"story\", \"story\", \"story\", \"strangle\", \"strong\", \"strong\", \"struggle\", \"study\", \"subject\", \"success\", \"support\", \"support\", \"support\", \"suppress\", \"sur\", \"surprised\", \"tale\", \"tale\", \"talented\", \"talk\", \"tear\", \"tear\", \"tells\", \"think\", \"think\", \"thought\", \"three\", \"three\", \"three\", \"three\", \"throughout\", \"tightest\", \"till\", \"time\", \"time\", \"time\", \"times\", \"tissues\", \"tissues\", \"title\", \"together\", \"together\", \"told\", \"touch\", \"touch\", \"touch\", \"tour\", \"toward\", \"trail\", \"treat\", \"trig\", \"try\", \"twice\", \"two\", \"undeniable\", \"unfair\", \"unforgettable\", \"unfortunately\", \"unrealistic\", \"unto\", \"unusual\", \"us\", \"us\", \"us\", \"vulnerable\", \"vulnerable\", \"wake\", \"want\", \"want\", \"ward\", \"watch\", \"watch\", \"watch\", \"way\", \"way\", \"way\", \"way\", \"weak\", \"weak\", \"whole\", \"whole\", \"whole\", \"without\", \"wo\", \"wonderful\", \"wonderful\", \"wonderful\", \"wonderfully\", \"wonderfully\", \"word\", \"work\", \"work\", \"work\", \"world\", \"world\", \"worth\", \"worthy\", \"would\", \"would\", \"would\", \"writ\", \"writ\", \"writ\", \"writ\", \"year\", \"year\", \"yet\", \"yet\", \"yet\"]}, \"R\": 30, \"lambda.step\": 0.01, \"plot.opts\": {\"xlab\": \"PC1\", \"ylab\": \"PC2\"}, \"topic.order\": [1, 3, 2, 4, 5, 7, 9, 8, 6, 10]};\n",
       "\n",
       "function LDAvis_load_lib(url, callback){\n",
       "  var s = document.createElement('script');\n",
       "  s.src = url;\n",
       "  s.async = true;\n",
       "  s.onreadystatechange = s.onload = callback;\n",
       "  s.onerror = function(){console.warn(\"failed to load library \" + url);};\n",
       "  document.getElementsByTagName(\"head\")[0].appendChild(s);\n",
       "}\n",
       "\n",
       "if(typeof(LDAvis) !== \"undefined\"){\n",
       "   // already loaded: just create the visualization\n",
       "   !function(LDAvis){\n",
       "       new LDAvis(\"#\" + \"ldavis_el8825246951712648521643921\", ldavis_el8825246951712648521643921_data);\n",
       "   }(LDAvis);\n",
       "}else if(typeof define === \"function\" && define.amd){\n",
       "   // require.js is available: use it to load d3/LDAvis\n",
       "   require.config({paths: {d3: \"https://cdnjs.cloudflare.com/ajax/libs/d3/3.5.5/d3.min\"}});\n",
       "   require([\"d3\"], function(d3){\n",
       "      window.d3 = d3;\n",
       "      LDAvis_load_lib(\"https://cdn.rawgit.com/bmabey/pyLDAvis/files/ldavis.v1.0.0.js\", function(){\n",
       "        new LDAvis(\"#\" + \"ldavis_el8825246951712648521643921\", ldavis_el8825246951712648521643921_data);\n",
       "      });\n",
       "    });\n",
       "}else{\n",
       "    // require.js not available: dynamically load d3 & LDAvis\n",
       "    LDAvis_load_lib(\"https://cdnjs.cloudflare.com/ajax/libs/d3/3.5.5/d3.min.js\", function(){\n",
       "         LDAvis_load_lib(\"https://cdn.rawgit.com/bmabey/pyLDAvis/files/ldavis.v1.0.0.js\", function(){\n",
       "                 new LDAvis(\"#\" + \"ldavis_el8825246951712648521643921\", ldavis_el8825246951712648521643921_data);\n",
       "            })\n",
       "         });\n",
       "}\n",
       "</script>"
      ],
      "text/plain": [
       "PreparedData(topic_coordinates=            Freq  cluster  topics           x           y\n",
       "topic                                                    \n",
       "0      42.295401        1       1   27.327932  164.008331\n",
       "2      19.234170        1       2 -412.613525   57.829952\n",
       "1       9.335602        1       3  382.196533 -225.432907\n",
       "3       7.460797        1       4 -218.842285  326.878784\n",
       "4       4.310667        1       5   35.242233 -378.301697\n",
       "6       3.748459        1       6 -291.335327 -303.214813\n",
       "8       3.731814        1       7  130.442856  -95.509811\n",
       "7       3.482339        1       8 -146.076859  -54.533775\n",
       "5       3.212483        1       9  353.872040  133.033325\n",
       "9       3.188267        1      10  149.001205  420.516846, topic_info=     Category       Freq       Term      Total  loglift  logprob\n",
       "term                                                            \n",
       "106   Default   6.000000       book   6.000000  30.0000  30.0000\n",
       "532   Default  20.000000      movie  20.000000  29.0000  29.0000\n",
       "359   Default  10.000000       film  10.000000  28.0000  28.0000\n",
       "637   Default   6.000000     prison   6.000000  27.0000  27.0000\n",
       "375   Default   4.000000       gave   4.000000  26.0000  26.0000\n",
       "998   Default   4.000000       year   4.000000  25.0000  25.0000\n",
       "323   Default   8.000000         ev   8.000000  24.0000  24.0000\n",
       "960   Default   7.000000      watch   7.000000  23.0000  23.0000\n",
       "412   Default   5.000000        hum   5.000000  22.0000  22.0000\n",
       "407   Default   5.000000        hop   5.000000  21.0000  21.0000\n",
       "294   Default   4.000000   edgecomb   4.000000  20.0000  20.0000\n",
       "361   Default   3.000000       find   3.000000  19.0000  19.0000\n",
       "831   Default   7.000000      story   7.000000  18.0000  18.0000\n",
       "602   Default   6.000000    perform   6.000000  17.0000  17.0000\n",
       "999   Default   3.000000        yet   3.000000  16.0000  16.0000\n",
       "491   Default   3.000000       love   3.000000  15.0000  15.0000\n",
       "41    Default   3.000000    another   3.000000  14.0000  14.0000\n",
       "973   Default   4.000000      whole   4.000000  13.0000  13.0000\n",
       "483   Default   6.000000       long   6.000000  12.0000  12.0000\n",
       "741   Default   5.000000        see   5.000000  11.0000  11.0000\n",
       "744   Default   6.000000       seen   6.000000  10.0000  10.0000\n",
       "731   Default   3.000000     scenes   3.000000   9.0000   9.0000\n",
       "499   Default   6.000000        mak   6.000000   8.0000   8.0000\n",
       "988   Default   2.000000      world   2.000000   7.0000   7.0000\n",
       "523   Default   6.000000    michael   6.000000   6.0000   6.0000\n",
       "884   Default   3.000000      three   3.000000   5.0000   5.0000\n",
       "669   Default   2.000000       read   2.000000   4.0000   4.0000\n",
       "542   Default   3.000000      never   3.000000   3.0000   3.0000\n",
       "218   Default   2.000000        cry   2.000000   2.0000   2.0000\n",
       "712   Default   3.000000      right   3.000000   1.0000   1.0000\n",
       "...       ...        ...        ...        ...      ...      ...\n",
       "982   Topic10   1.179323         wo   1.179323   3.4457  -3.5261\n",
       "634   Topic10   1.179323     pretty   1.179323   3.4457  -3.5261\n",
       "915   Topic10   1.179323      twice   1.179323   3.4457  -3.5261\n",
       "903   Topic10   1.179323      trail   1.179323   3.4457  -3.5261\n",
       "728   Topic10   1.179323        saw   1.179323   3.4457  -3.5261\n",
       "287   Topic10   1.179323        dvd   1.179323   3.4457  -3.5261\n",
       "124   Topic10   1.179323        buy   1.179323   3.4457  -3.5261\n",
       "882   Topic10   0.989894    thought   1.230852   3.2278  -3.7012\n",
       "318   Topic10   0.989894     enough   1.230852   3.2278  -3.7012\n",
       "462   Topic10   0.989894       lead   1.230852   3.2278  -3.7012\n",
       "991   Topic10   0.989894      worth   1.322872   3.1557  -3.7012\n",
       "796   Topic10   0.989894       soon   1.413778   3.0893  -3.7012\n",
       "524   Topic10   0.873768      might   1.428655   2.9540  -3.8259\n",
       "610   Topic10   0.989894    picture   1.637175   2.9426  -3.7012\n",
       "356   Topic10   0.873768        far   1.516470   2.8944  -3.8259\n",
       "477   Topic10   0.989894      liked   1.762554   2.8688  -3.7012\n",
       "816   Topic10   0.873768      stand   1.716034   2.7707  -3.8259\n",
       "65    Topic10   0.989894      avail   1.951196   2.7671  -3.7012\n",
       "79    Topic10   0.873768     become   1.888247   2.6751  -3.8259\n",
       "340   Topic10   0.873768     expect   2.056974   2.5895  -3.8259\n",
       "159   Topic10   0.873768      class   2.144982   2.5476  -3.8259\n",
       "573   Topic10   0.789788     others   2.683106   2.2227  -3.9270\n",
       "363   Topic10   0.789788      first   2.691753   2.2195  -3.9270\n",
       "491   Topic10   0.873768       love   3.235496   2.1366  -3.8259\n",
       "984   Topic10   0.669821  wonderful   2.573112   2.0998  -4.0917\n",
       "324   Topic10   0.723963      every   2.795907   2.0945  -4.0140\n",
       "962   Topic10   0.669821        way   2.602966   2.0883  -4.0917\n",
       "897   Topic10   0.723963      touch   2.909069   2.0548  -4.0140\n",
       "741   Topic10   0.990295        see   5.867686   1.6665  -3.7008\n",
       "532   Topic10   0.779598      movie  20.885628   0.1577  -3.9400\n",
       "\n",
       "[505 rows x 6 columns], token_table=      Topic      Freq          Term\n",
       "term                               \n",
       "0         2  0.709880          1000\n",
       "1         8  0.871828            12\n",
       "8         6  1.098082            67\n",
       "10        5  1.196619            95\n",
       "13        1  1.281115          able\n",
       "21        2  1.041872            ad\n",
       "22        1  0.841437         adapt\n",
       "22        4  0.420719         adapt\n",
       "23        3  0.537181        affect\n",
       "26        4  1.589863           ago\n",
       "33        2  1.056611       already\n",
       "35        4  1.355783      although\n",
       "36        1  0.755774        always\n",
       "41        1  0.620978       another\n",
       "41        9  0.310489       another\n",
       "44        4  1.355783  anticipating\n",
       "45        4  1.355783     anxiously\n",
       "46        1  0.386005        anyone\n",
       "46        2  0.772011        anyone\n",
       "47        2  0.598517      anything\n",
       "47        8  0.598517      anything\n",
       "48        4  1.355783        anyway\n",
       "52        1  1.105520        around\n",
       "54        5  1.201737           art\n",
       "55        5  1.196619       artwork\n",
       "63        1  1.281115     audiences\n",
       "65        8  0.512506         avail\n",
       "65       10  0.512506         avail\n",
       "67        1  0.628213         award\n",
       "67        8  0.628213         award\n",
       "...     ...       ...           ...\n",
       "973       3  0.631111         whole\n",
       "973       7  0.210370         whole\n",
       "973       8  0.210370         whole\n",
       "981       2  1.211682       without\n",
       "982      10  0.847944            wo\n",
       "984       1  0.388635     wonderful\n",
       "984       2  0.388635     wonderful\n",
       "984      10  0.388635     wonderful\n",
       "985       1  0.778453   wonderfully\n",
       "985       6  0.778453   wonderfully\n",
       "986       2  0.709880          word\n",
       "987       1  0.327994          work\n",
       "987       4  0.327994          work\n",
       "987       9  0.327994          work\n",
       "988       1  0.417562         world\n",
       "988       8  0.835123         world\n",
       "991      10  0.755931         worth\n",
       "992       1  1.281115        worthy\n",
       "993       1  0.176742         would\n",
       "993       2  0.353485         would\n",
       "993       4  0.353485         would\n",
       "996       1  0.287335          writ\n",
       "996       2  0.287335          writ\n",
       "996       9  0.287335          writ\n",
       "996      10  0.287335          writ\n",
       "998       1  0.475060          year\n",
       "998       8  0.237530          year\n",
       "999       1  0.526775           yet\n",
       "999       7  0.263388           yet\n",
       "999       9  0.263388           yet\n",
       "\n",
       "[624 rows x 3 columns], R=30, lambda_step=0.01, plot_opts={'xlab': 'PC1', 'ylab': 'PC2'}, topic_order=[1, 3, 2, 4, 5, 7, 9, 8, 6, 10])"
      ]
     },
     "execution_count": 99,
     "metadata": {},
     "output_type": "execute_result"
    }
   ],
   "source": [
    "# Help by https://www.machinelearningplus.com/nlp/topic-modeling-python-sklearn-examples/\n",
    "pyLDAvis.enable_notebook()\n",
    "panel = pyLDAvis.sklearn.prepare(nmf, tf, tf_vectorizer, mds='tsne')\n",
    "panel"
   ]
  },
  {
   "cell_type": "markdown",
   "metadata": {},
   "source": [
    "### Heatmap"
   ]
  },
  {
   "cell_type": "code",
   "execution_count": 100,
   "metadata": {},
   "outputs": [],
   "source": [
    "words = tf_vectorizer.get_feature_names()"
   ]
  },
  {
   "cell_type": "code",
   "execution_count": 101,
   "metadata": {},
   "outputs": [
    {
     "data": {
      "image/png": "[encoded data removed]",
      "text/plain": [
       "<Figure size 1008x576 with 2 Axes>"
      ]
     },
     "metadata": {},
     "output_type": "display_data"
    }
   ],
   "source": [
    "sns.heatmap(pd.DataFrame(tf.todense(), columns=words), cmap='Blues')\n",
    "plt.gcf().set_size_inches(14, 8)"
   ]
  },
  {
   "cell_type": "markdown",
   "metadata": {},
   "source": [
    "### Frequency of categories and topics"
   ]
  },
  {
   "cell_type": "code",
   "execution_count": 108,
   "metadata": {},
   "outputs": [
    {
     "data": {
      "text/html": [
       "<div>\n",
       "<style scoped>\n",
       "    .dataframe tbody tr th:only-of-type {\n",
       "        vertical-align: middle;\n",
       "    }\n",
       "\n",
       "    .dataframe tbody tr th {\n",
       "        vertical-align: top;\n",
       "    }\n",
       "\n",
       "    .dataframe thead th {\n",
       "        text-align: right;\n",
       "    }\n",
       "</style>\n",
       "<table border=\"1\" class=\"dataframe\">\n",
       "  <thead>\n",
       "    <tr style=\"text-align: right;\">\n",
       "      <th></th>\n",
       "      <th>group</th>\n",
       "      <th>primary_topic</th>\n",
       "      <th>primary_topics_text</th>\n",
       "      <th>x</th>\n",
       "      <th>y</th>\n",
       "    </tr>\n",
       "  </thead>\n",
       "  <tbody>\n",
       "    <tr>\n",
       "      <th>1</th>\n",
       "      <td>green_mile</td>\n",
       "      <td>4</td>\n",
       "      <td>products art never us cent provide profit unfo...</td>\n",
       "      <td>611.345154</td>\n",
       "      <td>-507.698120</td>\n",
       "    </tr>\n",
       "    <tr>\n",
       "      <th>11</th>\n",
       "      <td>green_mile</td>\n",
       "      <td>4</td>\n",
       "      <td>products art never us cent provide profit unfo...</td>\n",
       "      <td>715.541321</td>\n",
       "      <td>537.219055</td>\n",
       "    </tr>\n",
       "    <tr>\n",
       "      <th>26</th>\n",
       "      <td>forest_gump</td>\n",
       "      <td>4</td>\n",
       "      <td>products art never us cent provide profit unfo...</td>\n",
       "      <td>611.345154</td>\n",
       "      <td>-507.698120</td>\n",
       "    </tr>\n",
       "    <tr>\n",
       "      <th>36</th>\n",
       "      <td>forest_gump</td>\n",
       "      <td>4</td>\n",
       "      <td>products art never us cent provide profit unfo...</td>\n",
       "      <td>715.541321</td>\n",
       "      <td>537.219055</td>\n",
       "    </tr>\n",
       "    <tr>\n",
       "      <th>51</th>\n",
       "      <td>cast_away</td>\n",
       "      <td>4</td>\n",
       "      <td>products art never us cent provide profit unfo...</td>\n",
       "      <td>611.345154</td>\n",
       "      <td>-507.698120</td>\n",
       "    </tr>\n",
       "    <tr>\n",
       "      <th>61</th>\n",
       "      <td>cast_away</td>\n",
       "      <td>4</td>\n",
       "      <td>products art never us cent provide profit unfo...</td>\n",
       "      <td>715.541321</td>\n",
       "      <td>537.219055</td>\n",
       "    </tr>\n",
       "    <tr>\n",
       "      <th>76</th>\n",
       "      <td>terminal</td>\n",
       "      <td>4</td>\n",
       "      <td>products art never us cent provide profit unfo...</td>\n",
       "      <td>611.345154</td>\n",
       "      <td>-507.698120</td>\n",
       "    </tr>\n",
       "    <tr>\n",
       "      <th>86</th>\n",
       "      <td>terminal</td>\n",
       "      <td>4</td>\n",
       "      <td>products art never us cent provide profit unfo...</td>\n",
       "      <td>715.541321</td>\n",
       "      <td>537.219055</td>\n",
       "    </tr>\n",
       "    <tr>\n",
       "      <th>101</th>\n",
       "      <td>catch_me_if_you_can</td>\n",
       "      <td>4</td>\n",
       "      <td>products art never us cent provide profit unfo...</td>\n",
       "      <td>611.345154</td>\n",
       "      <td>-507.698120</td>\n",
       "    </tr>\n",
       "    <tr>\n",
       "      <th>111</th>\n",
       "      <td>catch_me_if_you_can</td>\n",
       "      <td>4</td>\n",
       "      <td>products art never us cent provide profit unfo...</td>\n",
       "      <td>715.541321</td>\n",
       "      <td>537.219055</td>\n",
       "    </tr>\n",
       "    <tr>\n",
       "      <th>126</th>\n",
       "      <td>road_to_perdition</td>\n",
       "      <td>4</td>\n",
       "      <td>products art never us cent provide profit unfo...</td>\n",
       "      <td>611.345154</td>\n",
       "      <td>-507.698120</td>\n",
       "    </tr>\n",
       "    <tr>\n",
       "      <th>136</th>\n",
       "      <td>road_to_perdition</td>\n",
       "      <td>4</td>\n",
       "      <td>products art never us cent provide profit unfo...</td>\n",
       "      <td>715.541321</td>\n",
       "      <td>537.219055</td>\n",
       "    </tr>\n",
       "  </tbody>\n",
       "</table>\n",
       "</div>"
      ],
      "text/plain": [
       "                   group  primary_topic  \\\n",
       "1             green_mile              4   \n",
       "11            green_mile              4   \n",
       "26           forest_gump              4   \n",
       "36           forest_gump              4   \n",
       "51             cast_away              4   \n",
       "61             cast_away              4   \n",
       "76              terminal              4   \n",
       "86              terminal              4   \n",
       "101  catch_me_if_you_can              4   \n",
       "111  catch_me_if_you_can              4   \n",
       "126    road_to_perdition              4   \n",
       "136    road_to_perdition              4   \n",
       "\n",
       "                                   primary_topics_text           x           y  \n",
       "1    products art never us cent provide profit unfo...  611.345154 -507.698120  \n",
       "11   products art never us cent provide profit unfo...  715.541321  537.219055  \n",
       "26   products art never us cent provide profit unfo...  611.345154 -507.698120  \n",
       "36   products art never us cent provide profit unfo...  715.541321  537.219055  \n",
       "51   products art never us cent provide profit unfo...  611.345154 -507.698120  \n",
       "61   products art never us cent provide profit unfo...  715.541321  537.219055  \n",
       "76   products art never us cent provide profit unfo...  611.345154 -507.698120  \n",
       "86   products art never us cent provide profit unfo...  715.541321  537.219055  \n",
       "101  products art never us cent provide profit unfo...  611.345154 -507.698120  \n",
       "111  products art never us cent provide profit unfo...  715.541321  537.219055  \n",
       "126  products art never us cent provide profit unfo...  611.345154 -507.698120  \n",
       "136  products art never us cent provide profit unfo...  715.541321  537.219055  "
      ]
     },
     "execution_count": 108,
     "metadata": {},
     "output_type": "execute_result"
    }
   ],
   "source": [
    "category_df[category_df['primary_topics_text'] == 'products art never us cent provide profit unfortunately expense pond']"
   ]
  },
  {
   "cell_type": "code",
   "execution_count": 102,
   "metadata": {},
   "outputs": [
    {
     "data": {
      "text/plain": [
       "<matplotlib.axes._subplots.AxesSubplot at 0x11530b7f0>"
      ]
     },
     "execution_count": 102,
     "metadata": {},
     "output_type": "execute_result"
    },
    {
     "data": {
      "image/png": "[encoded data removed]",
      "text/plain": [
       "<Figure size 432x288 with 2 Axes>"
      ]
     },
     "metadata": {},
     "output_type": "display_data"
    }
   ],
   "source": [
    "sns.heatmap(category_df.groupby(['primary_topics_text', 'group']).size().unstack())"
   ]
  },
  {
   "cell_type": "code",
   "execution_count": 104,
   "metadata": {},
   "outputs": [
    {
     "data": {
      "text/html": [
       "<div>\n",
       "<style scoped>\n",
       "    .dataframe tbody tr th:only-of-type {\n",
       "        vertical-align: middle;\n",
       "    }\n",
       "\n",
       "    .dataframe tbody tr th {\n",
       "        vertical-align: top;\n",
       "    }\n",
       "\n",
       "    .dataframe thead th {\n",
       "        text-align: right;\n",
       "    }\n",
       "</style>\n",
       "<table border=\"1\" class=\"dataframe\">\n",
       "  <thead>\n",
       "    <tr style=\"text-align: right;\">\n",
       "      <th>group</th>\n",
       "      <th>cast_away</th>\n",
       "      <th>catch_me_if_you_can</th>\n",
       "      <th>forest_gump</th>\n",
       "      <th>green_mile</th>\n",
       "      <th>road_to_perdition</th>\n",
       "      <th>terminal</th>\n",
       "    </tr>\n",
       "    <tr>\n",
       "      <th>primary_topics_text</th>\n",
       "      <th></th>\n",
       "      <th></th>\n",
       "      <th></th>\n",
       "      <th></th>\n",
       "      <th></th>\n",
       "      <th></th>\n",
       "    </tr>\n",
       "  </thead>\n",
       "  <tbody>\n",
       "    <tr>\n",
       "      <th>book read great story would screen movie king job several</th>\n",
       "      <td>5</td>\n",
       "      <td>5</td>\n",
       "      <td>5</td>\n",
       "      <td>5</td>\n",
       "      <td>5</td>\n",
       "      <td>5</td>\n",
       "    </tr>\n",
       "    <tr>\n",
       "      <th>gave movie long whole hop perform side pussycat depth known</th>\n",
       "      <td>2</td>\n",
       "      <td>2</td>\n",
       "      <td>2</td>\n",
       "      <td>2</td>\n",
       "      <td>2</td>\n",
       "      <td>2</td>\n",
       "    </tr>\n",
       "    <tr>\n",
       "      <th>movie watch movies ev ca seen feel poss think recommend</th>\n",
       "      <td>6</td>\n",
       "      <td>6</td>\n",
       "      <td>6</td>\n",
       "      <td>6</td>\n",
       "      <td>6</td>\n",
       "      <td>6</td>\n",
       "    </tr>\n",
       "    <tr>\n",
       "      <th>prison film paul guard coffey john story man duncan mak</th>\n",
       "      <td>2</td>\n",
       "      <td>2</td>\n",
       "      <td>2</td>\n",
       "      <td>2</td>\n",
       "      <td>2</td>\n",
       "      <td>2</td>\n",
       "    </tr>\n",
       "    <tr>\n",
       "      <th>products art never us cent provide profit unfortunately expense pond</th>\n",
       "      <td>2</td>\n",
       "      <td>2</td>\n",
       "      <td>2</td>\n",
       "      <td>2</td>\n",
       "      <td>2</td>\n",
       "      <td>2</td>\n",
       "    </tr>\n",
       "    <tr>\n",
       "      <th>rich ful either pick chock stamina squeamish creepy dat de</th>\n",
       "      <td>2</td>\n",
       "      <td>2</td>\n",
       "      <td>2</td>\n",
       "      <td>2</td>\n",
       "      <td>2</td>\n",
       "      <td>2</td>\n",
       "    </tr>\n",
       "    <tr>\n",
       "      <th>scenes film talented keep quiver ensemble edge screenwriter provides conclusion</th>\n",
       "      <td>3</td>\n",
       "      <td>3</td>\n",
       "      <td>3</td>\n",
       "      <td>3</td>\n",
       "      <td>3</td>\n",
       "      <td>3</td>\n",
       "    </tr>\n",
       "    <tr>\n",
       "      <th>twice wo dvd excess saw trail pretty disappoint buy october</th>\n",
       "      <td>1</td>\n",
       "      <td>1</td>\n",
       "      <td>1</td>\n",
       "      <td>1</td>\n",
       "      <td>1</td>\n",
       "      <td>1</td>\n",
       "    </tr>\n",
       "    <tr>\n",
       "      <th>world love year hop watch outlook disgust 12 pure destruct</th>\n",
       "      <td>2</td>\n",
       "      <td>2</td>\n",
       "      <td>2</td>\n",
       "      <td>2</td>\n",
       "      <td>2</td>\n",
       "      <td>2</td>\n",
       "    </tr>\n",
       "  </tbody>\n",
       "</table>\n",
       "</div>"
      ],
      "text/plain": [
       "group                                               cast_away  \\\n",
       "primary_topics_text                                             \n",
       "book read great story would screen movie king j...          5   \n",
       "gave movie long whole hop perform side pussycat...          2   \n",
       "movie watch movies ev ca seen feel poss think r...          6   \n",
       "prison film paul guard coffey john story man du...          2   \n",
       "products art never us cent provide profit unfor...          2   \n",
       "rich ful either pick chock stamina squeamish cr...          2   \n",
       "scenes film talented keep quiver ensemble edge ...          3   \n",
       "twice wo dvd excess saw trail pretty disappoint...          1   \n",
       "world love year hop watch outlook disgust 12 pu...          2   \n",
       "\n",
       "group                                               catch_me_if_you_can  \\\n",
       "primary_topics_text                                                       \n",
       "book read great story would screen movie king j...                    5   \n",
       "gave movie long whole hop perform side pussycat...                    2   \n",
       "movie watch movies ev ca seen feel poss think r...                    6   \n",
       "prison film paul guard coffey john story man du...                    2   \n",
       "products art never us cent provide profit unfor...                    2   \n",
       "rich ful either pick chock stamina squeamish cr...                    2   \n",
       "scenes film talented keep quiver ensemble edge ...                    3   \n",
       "twice wo dvd excess saw trail pretty disappoint...                    1   \n",
       "world love year hop watch outlook disgust 12 pu...                    2   \n",
       "\n",
       "group                                               forest_gump  green_mile  \\\n",
       "primary_topics_text                                                           \n",
       "book read great story would screen movie king j...            5           5   \n",
       "gave movie long whole hop perform side pussycat...            2           2   \n",
       "movie watch movies ev ca seen feel poss think r...            6           6   \n",
       "prison film paul guard coffey john story man du...            2           2   \n",
       "products art never us cent provide profit unfor...            2           2   \n",
       "rich ful either pick chock stamina squeamish cr...            2           2   \n",
       "scenes film talented keep quiver ensemble edge ...            3           3   \n",
       "twice wo dvd excess saw trail pretty disappoint...            1           1   \n",
       "world love year hop watch outlook disgust 12 pu...            2           2   \n",
       "\n",
       "group                                               road_to_perdition  \\\n",
       "primary_topics_text                                                     \n",
       "book read great story would screen movie king j...                  5   \n",
       "gave movie long whole hop perform side pussycat...                  2   \n",
       "movie watch movies ev ca seen feel poss think r...                  6   \n",
       "prison film paul guard coffey john story man du...                  2   \n",
       "products art never us cent provide profit unfor...                  2   \n",
       "rich ful either pick chock stamina squeamish cr...                  2   \n",
       "scenes film talented keep quiver ensemble edge ...                  3   \n",
       "twice wo dvd excess saw trail pretty disappoint...                  1   \n",
       "world love year hop watch outlook disgust 12 pu...                  2   \n",
       "\n",
       "group                                               terminal  \n",
       "primary_topics_text                                           \n",
       "book read great story would screen movie king j...         5  \n",
       "gave movie long whole hop perform side pussycat...         2  \n",
       "movie watch movies ev ca seen feel poss think r...         6  \n",
       "prison film paul guard coffey john story man du...         2  \n",
       "products art never us cent provide profit unfor...         2  \n",
       "rich ful either pick chock stamina squeamish cr...         2  \n",
       "scenes film talented keep quiver ensemble edge ...         3  \n",
       "twice wo dvd excess saw trail pretty disappoint...         1  \n",
       "world love year hop watch outlook disgust 12 pu...         2  "
      ]
     },
     "execution_count": 104,
     "metadata": {},
     "output_type": "execute_result"
    }
   ],
   "source": [
    "category_df.groupby(['primary_topics_text', 'group']).size().unstack()"
   ]
  },
  {
   "cell_type": "code",
   "execution_count": null,
   "metadata": {},
   "outputs": [],
   "source": []
  }
 ],
 "metadata": {
  "kernelspec": {
   "display_name": "Python 3",
   "language": "python",
   "name": "python3"
  },
  "language_info": {
   "codemirror_mode": {
    "name": "ipython",
    "version": 3
   },
   "file_extension": ".py",
   "mimetype": "text/x-python",
   "name": "python",
   "nbconvert_exporter": "python",
   "pygments_lexer": "ipython3",
   "version": "3.6.5"
  }
 },
 "nbformat": 4,
 "nbformat_minor": 2
}

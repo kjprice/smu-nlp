{
 "cells": [
  {
   "cell_type": "code",
   "execution_count": 1,
   "metadata": {},
   "outputs": [
    {
     "name": "stdout",
     "output_type": "stream",
     "text": [
      "bs4 4.6.3\n",
      "sklearn 0.19.1\n",
      "nltk 3.3\n",
      "re 2.2.1\n",
      "requests 2.19.1\n",
      "pandas 0.22.0\n",
      "seaborn 0.8.1\n",
      "numpy 1.14.2\n",
      "pyLDAvis  2.1.2\n",
      "matplotlib 2.2.2\n"
     ]
    }
   ],
   "source": [
    "import bs4; print( 'bs4 ' + bs4.__version__)\n",
    "from bs4 import BeautifulSoup, SoupStrainer\n",
    "\n",
    "import sklearn; print( 'sklearn ' + sklearn.__version__)\n",
    "from sklearn.feature_extraction.text import CountVectorizer, TfidfVectorizer\n",
    "from sklearn.decomposition import NMF, LatentDirichletAllocation\n",
    "from sklearn.manifold import TSNE\n",
    "\n",
    "import nltk; print( 'nltk ' + nltk.__version__)\n",
    "from nltk import word_tokenize, pos_tag, RegexpParser;\n",
    "from nltk.corpus import stopwords, wordnet\n",
    "from nltk.tokenize import sent_tokenize\n",
    "from nltk.stem.porter import PorterStemmer\n",
    "from nltk.stem import SnowballStemmer, LancasterStemmer\n",
    "\n",
    "# from autocorrect import spell; print('autocorrect 0.3.0')\n",
    "\n",
    "import re; print('re ' + re.__version__)\n",
    "import requests; print('requests ' + requests.__version__)\n",
    "\n",
    "import pandas as pd; print('pandas ' + pd.__version__)\n",
    "import seaborn as sns; print('seaborn ' + sns.__version__)\n",
    "import numpy as np; print('numpy ' + np.__version__)\n",
    "\n",
    "import pyLDAvis; print('pyLDAvis ', pyLDAvis.__version__)\n",
    "import pyLDAvis.sklearn\n",
    "\n",
    "import matplotlib; print('matplotlib', matplotlib.__version__)\n",
    "import matplotlib.pyplot as plt;"
   ]
  },
  {
   "cell_type": "markdown",
   "metadata": {},
   "source": [
    "# Final Project - Topic Modeling\n",
    "\n",
    "First we continue where we left off with [Homework 5](https://github.com/kjprice/smu-nlp/blob/e769b93945e6f45ae90aab3ec53b6595ae7bc7da/homework/Homework%205.ipynb).\n",
    "\n",
    "You can find the source code [here](https://github.com/kjprice/smu-nlp/blob/master/Final%20-%20Topic%20Modeling.ipynb)"
   ]
  },
  {
   "cell_type": "markdown",
   "metadata": {},
   "source": [
    "### Code from Homework 5\n"
   ]
  },
  {
   "cell_type": "code",
   "execution_count": 2,
   "metadata": {},
   "outputs": [],
   "source": [
    "# The home page for various movies' reviews, from which will get the links for individual reviews\n",
    "review_home_urls = {\n",
    "    'green_mile': 'https://www.imdb.com/title/tt0120689/reviews?ref_=tt_ql_3',\n",
    "    'forest_gump': 'https://www.imdb.com/title/tt0109830/reviews?ref_=tt_ov_rt',\n",
    "    'cast_away': 'https://www.imdb.com/title/tt0162222/reviews?ref_=tt_ov_rt',\n",
    "    'terminal': 'https://www.imdb.com/title/tt0362227/reviews?ref_=tt_ql_3',\n",
    "    'catch_me_if_you_can': 'https://www.imdb.com/title/tt0264464/reviews?ref_=tt_ql_3',\n",
    "    'road_to_perdition': 'https://www.imdb.com/title/tt0257044/reviews?ref_=tt_ql_3',\n",
    "}\n",
    "def get_text_from_url(url):\n",
    "    return requests.get(url).text\n",
    "text = get_text_from_url(review_home_urls['green_mile'])\n"
   ]
  },
  {
   "cell_type": "code",
   "execution_count": 3,
   "metadata": {},
   "outputs": [],
   "source": [
    "def get_all_links_from_html(html):\n",
    "    tags = BeautifulSoup(html, 'html.parser', parse_only=SoupStrainer('a', href=True))\n",
    "    urls = [str(tag.attrs['href']) for tag in tags]\n",
    "    return urls\n",
    "all_links = get_all_links_from_html(text)"
   ]
  },
  {
   "cell_type": "code",
   "execution_count": 4,
   "metadata": {},
   "outputs": [],
   "source": [
    "def get_review_urls_from_links(links):\n",
    "    url_template = 'https://www.imdb.com{}'\n",
    "    # url_template = 'http://www.gutenberg.org/files/{}/{}-h/{}-h.htm'\n",
    "    return [url_template.format(link) for link in links]\n",
    "\n",
    "urls = get_review_urls_from_links(all_links)"
   ]
  },
  {
   "cell_type": "code",
   "execution_count": 5,
   "metadata": {},
   "outputs": [],
   "source": [
    "def relevent_link(link):\n",
    "    if '/review/' in link:\n",
    "        return True\n",
    "    return False"
   ]
  },
  {
   "cell_type": "code",
   "execution_count": 6,
   "metadata": {},
   "outputs": [
    {
     "data": {
      "text/plain": [
       "25"
      ]
     },
     "execution_count": 6,
     "metadata": {},
     "output_type": "execute_result"
    }
   ],
   "source": [
    "def get_relevent_links(links):\n",
    "    relevent_links = filter(relevent_link, links)\n",
    "    unique_relevent_links = set(relevent_links)\n",
    "    return list(unique_relevent_links)\n",
    "relevent_urls = get_relevent_links(urls)\n",
    "len(relevent_urls)"
   ]
  },
  {
   "cell_type": "code",
   "execution_count": 7,
   "metadata": {},
   "outputs": [
    {
     "name": "stderr",
     "output_type": "stream",
     "text": [
      "<input>:6: DeprecationWarning: invalid escape sequence \\s\n",
      "<input>:6: DeprecationWarning: invalid escape sequence \\s\n",
      "<input>:6: DeprecationWarning: invalid escape sequence \\s\n",
      "<ipython-input-7-fe7ee7139024>:6: DeprecationWarning: invalid escape sequence \\s\n",
      "  return re.split('\\\\n\\\\n\\s+\\d+ out of \\d+', text)[0]\n"
     ]
    }
   ],
   "source": [
    "def strain_content(name, attrs):\n",
    "    if name == 'div' and dict(attrs).get('class', None) == 'content':\n",
    "        return True\n",
    "    return False\n",
    "def clean_review_text(text):\n",
    "    return re.split('\\\\n\\\\n\\s+\\d+ out of \\d+', text)[0]\n",
    "def get_review_from_url(url):\n",
    "    html = get_text_from_url(url)\n",
    "    tags = BeautifulSoup(html, 'html.parser', parse_only=SoupStrainer(strain_content))\n",
    "    review = clean_review_text(tags.text)\n",
    "    return review"
   ]
  },
  {
   "cell_type": "code",
   "execution_count": 8,
   "metadata": {},
   "outputs": [],
   "source": [
    "def get_review_from_site(url):\n",
    "    reviews = []\n",
    "\n",
    "    reviews_home_text = get_text_from_url(url)\n",
    "    all_links = get_all_links_from_html(reviews_home_text)\n",
    "    relevent_links = get_relevent_links(all_links)\n",
    "\n",
    "    review_urls = get_review_urls_from_links(relevent_links)\n",
    "    for url in review_urls:\n",
    "        reviews.append(get_review_from_url(url))\n",
    "        # break\n",
    "    return reviews"
   ]
  },
  {
   "cell_type": "code",
   "execution_count": 9,
   "metadata": {},
   "outputs": [
    {
     "data": {
      "text/plain": [
       "dict_values(['https://www.imdb.com/title/tt0120689/reviews?ref_=tt_ql_3', 'https://www.imdb.com/title/tt0109830/reviews?ref_=tt_ov_rt', 'https://www.imdb.com/title/tt0162222/reviews?ref_=tt_ov_rt', 'https://www.imdb.com/title/tt0362227/reviews?ref_=tt_ql_3', 'https://www.imdb.com/title/tt0264464/reviews?ref_=tt_ql_3', 'https://www.imdb.com/title/tt0257044/reviews?ref_=tt_ql_3'])"
      ]
     },
     "execution_count": 9,
     "metadata": {},
     "output_type": "execute_result"
    }
   ],
   "source": [
    "review_home_urls.values()"
   ]
  },
  {
   "cell_type": "code",
   "execution_count": 10,
   "metadata": {},
   "outputs": [],
   "source": [
    "def get_reviews_from_all_sites():\n",
    "    all_reviews = []\n",
    "    review_titles = review_home_urls.keys()\n",
    "    for title in review_titles:\n",
    "        review_home_url = review_home_urls[title]\n",
    "        all_reviews = all_reviews + get_review_from_site(review_home_url)\n",
    "    return all_reviews"
   ]
  },
  {
   "cell_type": "markdown",
   "metadata": {},
   "source": [
    "## Retrieve All Reviews"
   ]
  },
  {
   "cell_type": "code",
   "execution_count": 11,
   "metadata": {},
   "outputs": [],
   "source": [
    "all_reviews = get_reviews_from_all_sites()"
   ]
  },
  {
   "cell_type": "code",
   "execution_count": 12,
   "metadata": {},
   "outputs": [
    {
     "data": {
      "text/plain": [
       "150"
      ]
     },
     "execution_count": 12,
     "metadata": {},
     "output_type": "execute_result"
    }
   ],
   "source": [
    "len(all_reviews)"
   ]
  },
  {
   "cell_type": "code",
   "execution_count": 13,
   "metadata": {},
   "outputs": [
    {
     "data": {
      "text/plain": [
       "'\\nTHE GREEN MILE (1999) ****Starring: Tom Hanks, David Morse, Michael Clarke Duncan, Bonnie Hunt, Jam'"
      ]
     },
     "execution_count": 13,
     "metadata": {},
     "output_type": "execute_result"
    }
   ],
   "source": [
    "all_reviews[0][0:100]"
   ]
  },
  {
   "cell_type": "markdown",
   "metadata": {},
   "source": [
    "## Preprocess Data"
   ]
  },
  {
   "cell_type": "code",
   "execution_count": 14,
   "metadata": {},
   "outputs": [],
   "source": [
    "def sentences_to_words(sentences):\n",
    "    return [word_tokenize(sentence) for sentence in sentences]\n",
    "# sentences_to_words([all_reviews[0]])[0][0:5]"
   ]
  },
  {
   "cell_type": "code",
   "execution_count": 15,
   "metadata": {},
   "outputs": [
    {
     "data": {
      "text/plain": [
       "['boss', '.']"
      ]
     },
     "execution_count": 15,
     "metadata": {},
     "output_type": "execute_result"
    }
   ],
   "source": [
    "custom_stop_words = ['the', 'green', 'mile', 'shawshank', 'redemption', 'one', 'film', 'movie', 'movies', 'tom', 'hanks', 'real', \\\n",
    "                     'act', 'watch', 'frank', 'abagnale', 'dicaprio', 'forest', 'gump', 'jenny', 'leo', 'michael', 'sullivan', \\\n",
    "                     'rooney', 'newman', 'vietnam', 'president', 'second', 'chuck', 'forrest', 'school', 'lawyer', \\\n",
    "                     'airport', 'terminal', 'viktor', 'catherine', 'steven', 'spielberg', 'stephen', 'spielberg', \\\n",
    "                     'navorski', 'island', 'perdition', 'duncan', 'zemeckis', 'son', 'father', 'noland', 'kelly', \\\n",
    "                     'catch', 'walk', 'pilot', 'hanratty', 'christopher', 'road', 'gangster', 'con','away', 'wilson', 'crash',\n",
    "                     'think', 'like', 'story', 'act', 'every', 'time'\n",
    "                    ]\n",
    "stop_words = custom_stop_words + stopwords.words('english')\n",
    "def remove_stop_words(words):\n",
    "    return [word for word in words if word not in stop_words]\n",
    "remove_stop_words(['he', 'her', 'boss', '.', 'the'])"
   ]
  },
  {
   "cell_type": "code",
   "execution_count": 16,
   "metadata": {},
   "outputs": [],
   "source": [
    "def include_only_numbers_and_letters(words):\n",
    "    regex_matcher = '^[a-zA-Z0-9]+$'\n",
    "    return [word for word in words if re.match(regex_matcher, word)]\n",
    "# include_only_numbers_and_letters(['1', 'KJ', '.'])"
   ]
  },
  {
   "cell_type": "code",
   "execution_count": 17,
   "metadata": {},
   "outputs": [
    {
     "data": {
      "text/plain": [
       "['run', 'fastest', 'hat', 'movie']"
      ]
     },
     "execution_count": 17,
     "metadata": {},
     "output_type": "execute_result"
    }
   ],
   "source": [
    "#stemmer = PorterStemmer()\n",
    "#stemmer = SnowballStemmer('english')\n",
    "stemmer = LancasterStemmer()\n",
    "def lemmatize_word(word):\n",
    "    lemma_word = stemmer.stem(word)\n",
    "    if wordnet.synsets(lemma_word):\n",
    "        return lemma_word\n",
    "    else:\n",
    "        return word\n",
    "def lemmatize_words(words):\n",
    "    return [lemmatize_word(word) for word in words]\n",
    "lemmatize_words(['running', 'fastest', 'hats', 'movie'])"
   ]
  },
  {
   "cell_type": "code",
   "execution_count": 18,
   "metadata": {},
   "outputs": [
    {
     "data": {
      "text/plain": [
       "['1999', 'david', 'mors', 'clark', 'bonny']"
      ]
     },
     "execution_count": 18,
     "metadata": {},
     "output_type": "execute_result"
    }
   ],
   "source": [
    "def preprocess_documents(documents):\n",
    "    documents_with_formatted_words = [document.lower().strip() for document in documents]\n",
    "    documents_of_words = sentences_to_words(documents_with_formatted_words)\n",
    "    content_words_and_characters = [remove_stop_words(words) for words in documents_of_words]\n",
    "    content_words = [include_only_numbers_and_letters(characters) for characters in content_words_and_characters]\n",
    "    lematized_words = [lemmatize_words(words) for words in content_words]\n",
    "    return lematized_words  \n",
    "preprocess_documents(all_reviews[0:2])[0][0:5]"
   ]
  },
  {
   "cell_type": "code",
   "execution_count": 19,
   "metadata": {},
   "outputs": [
    {
     "data": {
      "text/plain": [
       "['1999', 'david', 'mors', 'clark', 'bonny', 'hunt', 'jam']"
      ]
     },
     "execution_count": 19,
     "metadata": {},
     "output_type": "execute_result"
    }
   ],
   "source": [
    "documents_of_words = preprocess_documents(all_reviews)\n",
    "documents_of_words[0][0:7]"
   ]
  },
  {
   "cell_type": "markdown",
   "metadata": {},
   "source": [
    "### Take a look at words"
   ]
  },
  {
   "cell_type": "code",
   "execution_count": 20,
   "metadata": {},
   "outputs": [
    {
     "data": {
      "text/plain": [
       "18807"
      ]
     },
     "execution_count": 20,
     "metadata": {},
     "output_type": "execute_result"
    }
   ],
   "source": [
    "list_of_all_words = [word for document in documents_of_words for word in document]\n",
    "len(list_of_all_words)"
   ]
  },
  {
   "cell_type": "code",
   "execution_count": 21,
   "metadata": {},
   "outputs": [
    {
     "data": {
      "text/plain": [
       "4115"
      ]
     },
     "execution_count": 21,
     "metadata": {},
     "output_type": "execute_result"
    }
   ],
   "source": [
    "# Unique Words\n",
    "len(set(list_of_all_words))"
   ]
  },
  {
   "cell_type": "markdown",
   "metadata": {},
   "source": [
    "### Flatten documents back to sentences"
   ]
  },
  {
   "cell_type": "code",
   "execution_count": 22,
   "metadata": {},
   "outputs": [],
   "source": [
    "flattened_documents = [' '.join(document) for document in documents_of_words]"
   ]
  },
  {
   "cell_type": "markdown",
   "metadata": {},
   "source": [
    "## Perform Topic Modeling"
   ]
  },
  {
   "cell_type": "markdown",
   "metadata": {},
   "source": [
    "Inspired, in part by https://medium.com/mlreview/topic-modeling-with-scikit-learn-e80d33668730"
   ]
  },
  {
   "cell_type": "code",
   "execution_count": 23,
   "metadata": {},
   "outputs": [],
   "source": [
    "# Settings\n",
    "NUMBER_OF_FEATURES = 1000\n",
    "NUMBER_OF_TOPICS  = 10\n",
    "NUMBER_OF_TOP_WORDS = 10"
   ]
  },
  {
   "cell_type": "code",
   "execution_count": 24,
   "metadata": {},
   "outputs": [],
   "source": [
    "def topics_to_map(model, feature_names, no_top_words):\n",
    "    map = []\n",
    "    for topic_idx, topic in enumerate(model.components_):\n",
    "        stuff = \" \".join([feature_names[i]\n",
    "                        for i in topic.argsort()[:-no_top_words - 1:-1]])\n",
    "        map.append(stuff)\n",
    "    return map\n"
   ]
  },
  {
   "cell_type": "code",
   "execution_count": 25,
   "metadata": {},
   "outputs": [],
   "source": [
    "# Helper function \n",
    "def display_topics(model, feature_names, no_top_words):\n",
    "    for topic_idx, topic in enumerate(model.components_):\n",
    "        print (\"Topic {}:\".format(topic_idx), end=' ')\n",
    "        stuff = \" \".join([feature_names[i]\n",
    "                        for i in topic.argsort()[:-no_top_words - 1:-1]])\n",
    "        print (stuff)"
   ]
  },
  {
   "cell_type": "markdown",
   "metadata": {},
   "source": [
    "### Vectorize (Bag Of Words)"
   ]
  },
  {
   "cell_type": "code",
   "execution_count": 26,
   "metadata": {},
   "outputs": [],
   "source": [
    "tf_vectorizer = TfidfVectorizer(max_features=NUMBER_OF_FEATURES)\n",
    "tf = tf_vectorizer.fit_transform(flattened_documents)\n",
    "tf_feature_names = tf_vectorizer.get_feature_names()"
   ]
  },
  {
   "cell_type": "code",
   "execution_count": 27,
   "metadata": {},
   "outputs": [
    {
     "data": {
      "text/plain": [
       "'1999 david mors clark bonny hunt jam cromwell jet doug hutchison gary sin writ direct darabont run 1'"
      ]
     },
     "execution_count": 27,
     "metadata": {},
     "output_type": "execute_result"
    }
   ],
   "source": [
    "flattened_documents[0][0:100]"
   ]
  },
  {
   "cell_type": "markdown",
   "metadata": {},
   "source": [
    "### NMF"
   ]
  },
  {
   "cell_type": "code",
   "execution_count": 28,
   "metadata": {},
   "outputs": [],
   "source": [
    "nmf = NMF(n_components=NUMBER_OF_TOPICS, random_state=1, alpha=.1, l1_ratio=.4, init='nndsvd').fit(tf)"
   ]
  },
  {
   "cell_type": "code",
   "execution_count": 29,
   "metadata": {},
   "outputs": [
    {
     "name": "stdout",
     "output_type": "stream",
     "text": [
      "Topic 0: act ev real mak good well see great get life\n",
      "Topic 1: prison guard edgecomb coffey paul darabont king clark hutchison john\n",
      "Topic 2: con mend law young cinematography paul hoechlin boss beauty hall\n",
      "Topic 3: plan fedex volleyball wash nee hunt crash find hel survive\n",
      "Topic 4: stuck luna passport tucci war stanley attend york pallana flight\n",
      "Topic 5: best academy award sin perfect win oscar star nominated act\n",
      "Topic 6: anything innocence mad friend grant life telling eye magnificent love\n",
      "Topic 7: funny pretend doctor carl tells say watch cut pass want\n",
      "Topic 8: fake immigrant right attract fantasy rules oh eastern imagination yes\n",
      "Topic 9: gave whole long hop till emotion weak depth bring giant\n"
     ]
    }
   ],
   "source": [
    "nmf_topic_map = topics_to_map(nmf, tf_feature_names, NUMBER_OF_TOP_WORDS)\n",
    "display_topics(nmf, tf_feature_names, NUMBER_OF_TOP_WORDS)"
   ]
  },
  {
   "cell_type": "markdown",
   "metadata": {},
   "source": [
    "### LDA"
   ]
  },
  {
   "cell_type": "code",
   "execution_count": 30,
   "metadata": {
    "scrolled": true
   },
   "outputs": [
    {
     "name": "stderr",
     "output_type": "stream",
     "text": [
      "/usr/local/lib/python3.6/site-packages/sklearn/decomposition/online_lda.py:294: DeprecationWarning: n_topics has been renamed to n_components in version 0.19 and will be removed in 0.21\n",
      "  DeprecationWarning)\n"
     ]
    }
   ],
   "source": [
    "lda = LatentDirichletAllocation(n_topics=NUMBER_OF_TOPICS, max_iter=50, learning_method='online', learning_offset=50.,random_state=0).fit(tf)\n",
    "\n"
   ]
  },
  {
   "cell_type": "code",
   "execution_count": 31,
   "metadata": {},
   "outputs": [
    {
     "name": "stdout",
     "output_type": "stream",
     "text": [
      "Topic 0: thought emotion bet kills etc stop girlfriend collect beauty guess\n",
      "Topic 1: respect commit seem ready simply rest godfather people control pretend\n",
      "Topic 2: godfather let yet thing hall nee luna amount intelligent seem\n",
      "Topic 3: real act mil heart suspect remember perform truth great top\n",
      "Topic 4: boy author favourite leigh vis right mean perhaps soon eastern\n",
      "Topic 5: young would without law especially david er spirit dram field\n",
      "Topic 6: grant robert refuses show put aside lat head maybe war\n",
      "Topic 7: act best beauty great work ev see seen perform good\n",
      "Topic 8: good best role felt lie tries see way slight wonderful\n",
      "Topic 9: could found last relate style shot fir mak superb work\n"
     ]
    }
   ],
   "source": [
    "display_topics(lda, tf_feature_names, NUMBER_OF_TOP_WORDS)\n"
   ]
  },
  {
   "cell_type": "code",
   "execution_count": 32,
   "metadata": {},
   "outputs": [],
   "source": [
    "topic_map = nmf.transform(tf)\n",
    "# topic_map = lda.transform(tf)"
   ]
  },
  {
   "cell_type": "markdown",
   "metadata": {},
   "source": [
    "# Visualizations"
   ]
  },
  {
   "cell_type": "markdown",
   "metadata": {},
   "source": [
    "### Word counts per document"
   ]
  },
  {
   "cell_type": "code",
   "execution_count": 33,
   "metadata": {},
   "outputs": [],
   "source": [
    "number_of_words = [len(review.split(' ')) for review in all_reviews]"
   ]
  },
  {
   "cell_type": "code",
   "execution_count": 34,
   "metadata": {},
   "outputs": [
    {
     "data": {
      "text/plain": [
       "<matplotlib.axes._subplots.AxesSubplot at 0x1146d8a90>"
      ]
     },
     "execution_count": 34,
     "metadata": {},
     "output_type": "execute_result"
    },
    {
     "data": {
      "image/png": "[encoded data removed]",
      "text/plain": [
       "<Figure size 432x288 with 1 Axes>"
      ]
     },
     "metadata": {},
     "output_type": "display_data"
    }
   ],
   "source": [
    "sns.boxplot(number_of_words)"
   ]
  },
  {
   "cell_type": "code",
   "execution_count": 35,
   "metadata": {},
   "outputs": [
    {
     "data": {
      "text/plain": [
       "216.5"
      ]
     },
     "execution_count": 35,
     "metadata": {},
     "output_type": "execute_result"
    }
   ],
   "source": [
    "np.median(number_of_words)"
   ]
  },
  {
   "cell_type": "markdown",
   "metadata": {},
   "source": [
    "### Scatterplot"
   ]
  },
  {
   "cell_type": "markdown",
   "metadata": {},
   "source": [
    "With help from https://shuaiw.github.io/2016/12/22/topic-modeling-and-tsne-visualzation.html"
   ]
  },
  {
   "cell_type": "code",
   "execution_count": 36,
   "metadata": {},
   "outputs": [],
   "source": [
    "tsne_model = TSNE(n_components=2, verbose=1, random_state=0, angle=.99, init='pca')"
   ]
  },
  {
   "cell_type": "code",
   "execution_count": 37,
   "metadata": {},
   "outputs": [
    {
     "name": "stdout",
     "output_type": "stream",
     "text": [
      "[t-SNE] Computing 91 nearest neighbors...\n",
      "[t-SNE] Indexed 150 samples in 0.000s...\n",
      "[t-SNE] Computed neighbors for 150 samples in 0.003s...\n",
      "[t-SNE] Computed conditional probabilities for sample 150 / 150\n",
      "[t-SNE] Mean sigma: 0.050288\n",
      "[t-SNE] KL divergence after 250 iterations with early exaggeration: 58.640854\n",
      "[t-SNE] Error after 1000 iterations: 0.180010\n"
     ]
    }
   ],
   "source": [
    "tsne_lda = tsne_model.fit_transform(topic_map)"
   ]
  },
  {
   "cell_type": "code",
   "execution_count": 38,
   "metadata": {},
   "outputs": [],
   "source": [
    "categories = review_home_urls.keys()"
   ]
  },
  {
   "cell_type": "code",
   "execution_count": 39,
   "metadata": {},
   "outputs": [],
   "source": [
    "categories_vector = []\n",
    "for category in categories:\n",
    "    for i in range(int(len(all_reviews) / len(categories))):\n",
    "        categories_vector.append(category)"
   ]
  },
  {
   "cell_type": "code",
   "execution_count": 40,
   "metadata": {},
   "outputs": [],
   "source": [
    "primary_topics = [np.argmax(transformed_topics) for transformed_topics in nmf.transform(tf)]\n",
    "primary_topics_value = [np.max(transformed_topics) for transformed_topics in nmf.transform(tf)]\n",
    "primary_topics_text = [nmf_topic_map[topic_index] for topic_index in primary_topics]"
   ]
  },
  {
   "cell_type": "code",
   "execution_count": 41,
   "metadata": {},
   "outputs": [],
   "source": [
    "category_df = pd.DataFrame({\n",
    "    'x': tsne_lda[:, 0],\n",
    "    'y': tsne_lda[:, 1],\n",
    "    'group': categories_vector,\n",
    "    'primary_topic': primary_topics,\n",
    "    'primary_topics_text': primary_topics_text,\n",
    "    'text': flattened_documents\n",
    "})"
   ]
  },
  {
   "cell_type": "code",
   "execution_count": 42,
   "metadata": {},
   "outputs": [
    {
     "data": {
      "image/png": "[encoded data removed]",
      "text/plain": [
       "<Figure size 864x360 with 1 Axes>"
      ]
     },
     "metadata": {},
     "output_type": "display_data"
    }
   ],
   "source": [
    "sns.lmplot(x='x', y='y', fit_reg=False, data=category_df, hue='group')\n",
    "plt.gcf().set_size_inches(12, 5)"
   ]
  },
  {
   "cell_type": "markdown",
   "metadata": {},
   "source": [
    "### pyLDAvis"
   ]
  },
  {
   "cell_type": "code",
   "execution_count": 43,
   "metadata": {},
   "outputs": [
    {
     "name": "stderr",
     "output_type": "stream",
     "text": [
      "/usr/local/lib/python3.6/site-packages/pyLDAvis/_prepare.py:223: RuntimeWarning: divide by zero encountered in log\n",
      "  kernel = (topic_given_term * np.log((topic_given_term.T / topic_proportion).T))\n",
      "/usr/local/lib/python3.6/site-packages/pyLDAvis/_prepare.py:240: RuntimeWarning: divide by zero encountered in log\n",
      "  log_lift = np.log(topic_term_dists / term_proportion)\n",
      "/usr/local/lib/python3.6/site-packages/pyLDAvis/_prepare.py:241: RuntimeWarning: divide by zero encountered in log\n",
      "  log_ttd = np.log(topic_term_dists)\n"
     ]
    },
    {
     "data": {
      "text/html": [
       "\n",
       "<link rel=\"stylesheet\" type=\"text/css\" href=\"https://cdn.rawgit.com/bmabey/pyLDAvis/files/ldavis.v1.0.0.css\">\n",
       "\n",
       "\n",
       "<div id=\"ldavis_el8586346752596323755562146\"></div>\n",
       "<script type=\"text/javascript\">\n",
       "\n",
       "var ldavis_el8586346752596323755562146_data = {\"mdsDat\": {\"Freq\": [56.75348847489248, 9.773450705369635, 9.401660924640183, 6.627983571675634, 4.882102583822175, 3.7569064197664073, 3.047182313182465, 2.2252186559195324, 1.8500427975787714, 1.6819635531527073], \"cluster\": [1, 1, 1, 1, 1, 1, 1, 1, 1, 1], \"topics\": [1, 2, 3, 4, 5, 6, 7, 8, 9, 10], \"x\": [-296.2840270996094, -118.6435317993164, 51.46366500854492, 45.42949676513672, -124.1488265991211, 217.4885711669922, 39.898860931396484, -294.44866943359375, 215.6897735595703, -130.26536560058594], \"y\": [154.24362182617188, 69.77787780761719, -222.82373046875, 210.26071166992188, -146.10452270507812, -90.23627471923828, -5.665254592895508, -58.22038269042969, 122.23908233642578, 286.8617248535156]}, \"tinfo\": {\"Category\": [\"Default\", \"Default\", \"Default\", \"Default\", \"Default\", \"Default\", \"Default\", \"Default\", \"Default\", \"Default\", \"Default\", \"Default\", \"Default\", \"Default\", \"Default\", \"Default\", \"Default\", \"Default\", \"Default\", \"Default\", \"Default\", \"Default\", \"Default\", \"Default\", \"Default\", \"Default\", \"Default\", \"Default\", \"Default\", \"Default\", \"Topic1\", \"Topic1\", \"Topic1\", \"Topic1\", \"Topic1\", \"Topic1\", \"Topic1\", \"Topic1\", \"Topic1\", \"Topic1\", \"Topic1\", \"Topic1\", \"Topic1\", \"Topic1\", \"Topic1\", \"Topic1\", \"Topic1\", \"Topic1\", \"Topic1\", \"Topic1\", \"Topic1\", \"Topic1\", \"Topic1\", \"Topic1\", \"Topic1\", \"Topic1\", \"Topic1\", \"Topic1\", \"Topic1\", \"Topic1\", \"Topic1\", \"Topic1\", \"Topic1\", \"Topic1\", \"Topic1\", \"Topic1\", \"Topic1\", \"Topic1\", \"Topic1\", \"Topic1\", \"Topic1\", \"Topic1\", \"Topic1\", \"Topic1\", \"Topic1\", \"Topic1\", \"Topic1\", \"Topic1\", \"Topic1\", \"Topic1\", \"Topic1\", \"Topic1\", \"Topic1\", \"Topic1\", \"Topic1\", \"Topic1\", \"Topic1\", \"Topic1\", \"Topic1\", \"Topic1\", \"Topic1\", \"Topic1\", \"Topic1\", \"Topic1\", \"Topic1\", \"Topic1\", \"Topic1\", \"Topic1\", \"Topic1\", \"Topic1\", \"Topic1\", \"Topic1\", \"Topic1\", \"Topic1\", \"Topic1\", \"Topic1\", \"Topic1\", \"Topic1\", \"Topic1\", \"Topic1\", \"Topic1\", \"Topic1\", \"Topic1\", \"Topic1\", \"Topic1\", \"Topic1\", \"Topic1\", \"Topic1\", \"Topic1\", \"Topic1\", \"Topic2\", \"Topic2\", \"Topic2\", \"Topic2\", \"Topic2\", \"Topic2\", \"Topic2\", \"Topic2\", \"Topic2\", \"Topic2\", \"Topic2\", \"Topic2\", \"Topic2\", \"Topic2\", \"Topic2\", \"Topic2\", \"Topic2\", \"Topic2\", \"Topic2\", \"Topic2\", \"Topic2\", \"Topic2\", \"Topic2\", \"Topic2\", \"Topic2\", \"Topic2\", \"Topic2\", \"Topic2\", \"Topic2\", \"Topic2\", \"Topic2\", \"Topic2\", \"Topic2\", \"Topic2\", \"Topic2\", \"Topic2\", \"Topic2\", \"Topic2\", \"Topic2\", \"Topic2\", \"Topic2\", \"Topic2\", \"Topic2\", \"Topic2\", \"Topic2\", \"Topic2\", \"Topic2\", \"Topic2\", \"Topic2\", \"Topic2\", \"Topic2\", \"Topic2\", \"Topic2\", \"Topic3\", \"Topic3\", \"Topic3\", \"Topic3\", \"Topic3\", \"Topic3\", \"Topic3\", \"Topic3\", \"Topic3\", \"Topic3\", \"Topic3\", \"Topic3\", \"Topic3\", \"Topic3\", \"Topic3\", \"Topic3\", \"Topic3\", \"Topic3\", \"Topic3\", \"Topic3\", \"Topic3\", \"Topic3\", \"Topic3\", \"Topic3\", \"Topic3\", \"Topic3\", \"Topic3\", \"Topic3\", \"Topic3\", \"Topic3\", \"Topic3\", \"Topic3\", \"Topic3\", \"Topic3\", \"Topic3\", \"Topic3\", \"Topic3\", \"Topic3\", \"Topic3\", \"Topic3\", \"Topic3\", \"Topic3\", \"Topic3\", \"Topic3\", \"Topic3\", \"Topic3\", \"Topic3\", \"Topic3\", \"Topic3\", \"Topic3\", \"Topic3\", \"Topic3\", \"Topic3\", \"Topic3\", \"Topic4\", \"Topic4\", \"Topic4\", \"Topic4\", \"Topic4\", \"Topic4\", \"Topic4\", \"Topic4\", \"Topic4\", \"Topic4\", \"Topic4\", \"Topic4\", \"Topic4\", \"Topic4\", \"Topic4\", \"Topic4\", \"Topic4\", \"Topic4\", \"Topic4\", \"Topic4\", \"Topic4\", \"Topic4\", \"Topic4\", \"Topic4\", \"Topic4\", \"Topic4\", \"Topic4\", \"Topic4\", \"Topic4\", \"Topic4\", \"Topic4\", \"Topic4\", \"Topic4\", \"Topic4\", \"Topic4\", \"Topic4\", \"Topic4\", \"Topic4\", \"Topic4\", \"Topic4\", \"Topic4\", \"Topic4\", \"Topic4\", \"Topic4\", \"Topic4\", \"Topic4\", \"Topic4\", \"Topic4\", \"Topic4\", \"Topic5\", \"Topic5\", \"Topic5\", \"Topic5\", \"Topic5\", \"Topic5\", \"Topic5\", \"Topic5\", \"Topic5\", \"Topic5\", \"Topic5\", \"Topic5\", \"Topic5\", \"Topic5\", \"Topic5\", \"Topic5\", \"Topic5\", \"Topic5\", \"Topic5\", \"Topic5\", \"Topic5\", \"Topic5\", \"Topic5\", \"Topic5\", \"Topic5\", \"Topic5\", \"Topic5\", \"Topic5\", \"Topic5\", \"Topic5\", \"Topic5\", \"Topic5\", \"Topic5\", \"Topic5\", \"Topic5\", \"Topic5\", \"Topic5\", \"Topic5\", \"Topic5\", \"Topic5\", \"Topic5\", \"Topic5\", \"Topic5\", \"Topic5\", \"Topic5\", \"Topic5\", \"Topic5\", \"Topic5\", \"Topic5\", \"Topic6\", \"Topic6\", \"Topic6\", \"Topic6\", \"Topic6\", \"Topic6\", \"Topic6\", \"Topic6\", \"Topic6\", \"Topic6\", \"Topic6\", \"Topic6\", \"Topic6\", \"Topic6\", \"Topic6\", \"Topic6\", \"Topic6\", \"Topic6\", \"Topic6\", \"Topic6\", \"Topic6\", \"Topic6\", \"Topic6\", \"Topic6\", \"Topic6\", \"Topic6\", \"Topic6\", \"Topic6\", \"Topic6\", \"Topic6\", \"Topic6\", \"Topic6\", \"Topic6\", \"Topic6\", \"Topic6\", \"Topic6\", \"Topic6\", \"Topic6\", \"Topic6\", \"Topic6\", \"Topic7\", \"Topic7\", \"Topic7\", \"Topic7\", \"Topic7\", \"Topic7\", \"Topic7\", \"Topic7\", \"Topic7\", \"Topic7\", \"Topic7\", \"Topic7\", \"Topic7\", \"Topic7\", \"Topic7\", \"Topic7\", \"Topic7\", \"Topic7\", \"Topic7\", \"Topic7\", \"Topic7\", \"Topic7\", \"Topic7\", \"Topic7\", \"Topic7\", \"Topic7\", \"Topic7\", \"Topic7\", \"Topic7\", \"Topic7\", \"Topic7\", \"Topic7\", \"Topic7\", \"Topic7\", \"Topic7\", \"Topic7\", \"Topic7\", \"Topic7\", \"Topic7\", \"Topic7\", \"Topic8\", \"Topic8\", \"Topic8\", \"Topic8\", \"Topic8\", \"Topic8\", \"Topic8\", \"Topic8\", \"Topic8\", \"Topic8\", \"Topic8\", \"Topic8\", \"Topic8\", \"Topic8\", \"Topic8\", \"Topic8\", \"Topic8\", \"Topic8\", \"Topic8\", \"Topic8\", \"Topic8\", \"Topic8\", \"Topic8\", \"Topic8\", \"Topic8\", \"Topic8\", \"Topic8\", \"Topic8\", \"Topic8\", \"Topic8\", \"Topic8\", \"Topic8\", \"Topic8\", \"Topic8\", \"Topic8\", \"Topic8\", \"Topic9\", \"Topic9\", \"Topic9\", \"Topic9\", \"Topic9\", \"Topic9\", \"Topic9\", \"Topic9\", \"Topic9\", \"Topic9\", \"Topic9\", \"Topic9\", \"Topic9\", \"Topic9\", \"Topic9\", \"Topic9\", \"Topic9\", \"Topic9\", \"Topic9\", \"Topic9\", \"Topic9\", \"Topic9\", \"Topic9\", \"Topic9\", \"Topic9\", \"Topic9\", \"Topic9\", \"Topic9\", \"Topic9\", \"Topic9\", \"Topic9\", \"Topic9\", \"Topic9\", \"Topic9\", \"Topic9\", \"Topic10\", \"Topic10\", \"Topic10\", \"Topic10\", \"Topic10\", \"Topic10\", \"Topic10\", \"Topic10\", \"Topic10\", \"Topic10\", \"Topic10\", \"Topic10\", \"Topic10\", \"Topic10\", \"Topic10\", \"Topic10\", \"Topic10\", \"Topic10\", \"Topic10\", \"Topic10\", \"Topic10\", \"Topic10\", \"Topic10\", \"Topic10\", \"Topic10\", \"Topic10\", \"Topic10\", \"Topic10\", \"Topic10\", \"Topic10\", \"Topic10\", \"Topic10\", \"Topic10\", \"Topic10\"], \"Freq\": [9.0, 4.0, 5.0, 4.0, 3.0, 4.0, 4.0, 4.0, 7.0, 2.0, 3.0, 3.0, 6.0, 5.0, 3.0, 7.0, 3.0, 4.0, 5.0, 2.0, 3.0, 5.0, 4.0, 2.0, 4.0, 2.0, 3.0, 6.0, 3.0, 4.0, 0.2888815002379402, 0.4498103449255675, 0.44385445004552343, 0.3426529371752042, 0.3859114268556103, 0.510065911404451, 0.28959655531660305, 0.2693757277826081, 0.5156171412912793, 2.474726292701283, 0.6037001696723683, 0.3181137082915689, 0.4144656516801289, 0.3564665274092554, 1.0035832310479944, 0.3646768459398205, 0.16932193317180544, 0.39108797427087966, 0.3871703317126132, 0.36613221047249245, 0.5605091403234455, 1.172100698487164, 0.5488457365481204, 0.460949240615732, 0.33710096893946045, 0.07940252745792792, 0.31511597316827394, 0.3092395681622528, 0.317026275799853, 0.7216611486506292, 4.343932817956621, 2.9193015284203496, 2.588430505224705, 2.305468335187588, 2.083021128690056, 2.0538254447704394, 2.1979324614683717, 2.0050823393660675, 1.922329312054705, 1.8088757409548215, 1.8047261688491547, 1.771766868821272, 1.7367912076345464, 1.6480149586536694, 1.579228690119695, 1.5464512796327463, 1.5142191803968221, 1.4756639930790472, 1.4109290577376237, 1.3587632644412577, 1.3512206918344112, 1.3482031759184903, 1.3349165575117603, 1.3193746839613103, 1.2314875117299866, 1.215639770243366, 1.1878744475576861, 1.1586300828419958, 1.7644587246306038, 3.086538276996779, 3.018417607300618, 4.635805107431958, 4.082356983372496, 2.776109104341573, 4.092867126523178, 3.174535625854481, 1.7594489768740198, 4.315425163663192, 5.2486186368245615, 2.5735529910906134, 4.1909393006901485, 2.317092970783136, 3.3622943432973664, 3.2441722909586344, 3.5238829785138286, 4.2024250985350795, 5.412263434239129, 4.969408913796489, 5.287642323557268, 2.887802761628004, 3.404694284950684, 3.1194127176253614, 4.094925099770236, 2.919111583933662, 3.2333921529411507, 3.4268919598661167, 3.082102909826634, 2.9235002033394455, 2.8831251756327547, 3.0657540913593837, 0.8523790920911818, 0.40908397970457616, 0.25039819085398707, 1.0394280999899612, 1.5900549881071628, 1.1180451301285108, 1.0878131363330037, 0.4562089966071645, 0.6265259406412638, 0.5333435419388229, 0.4364695047841723, 0.5671433767766352, 0.6683870377141226, 1.868574732360679, 0.5356055634308446, 1.646942279076852, 0.009294441809990393, 1.339574491277442, 1.7599196621482642, 0.7675099638496781, 1.217580386057726, 0.5479646499705463, 2.894678533515223, 1.4576539243576785, 0.7099714403897593, 2.2415138199356233, 0.159842354657652, 0.5521412165680706, 2.2640231261523414, 0.34129480952276614, 0.8571937069559854, 0.43039070872035745, 1.0833217781723847, 0.8465532595076712, 1.854543117389549, 2.0020947439817323, 2.1570099762661066, 0.8775733878863494, 0.776309939509965, 1.9824848550629333, 0.9616403754047884, 1.8495950412300384, 0.9568025533192269, 0.7317019062730213, 1.2199338578251926, 1.3273885615368066, 0.9108649507671553, 1.0621335437104897, 1.0144460424591644, 1.0548211312461941, 0.9758268986248203, 0.8938986695441038, 0.8878529622897782, 0.3975146032293262, 0.5040712659182488, 0.8515851581190811, 0.931735545079665, 0.8246579745854511, 0.423820044845537, 1.5294906877302155, 0.14415218937678428, 0.7220823685985621, 0.32262130197232636, 0.22761578551607206, 0.22318854286293302, 0.7771608532222359, 0.6201882385435836, 0.7894100784581192, 1.8972469473807152, 0.38298615769469546, 1.223403619487283, 0.32070365191335665, 1.1282584797337305, 1.1798694400284495, 1.1427469855236068, 0.6207472487990829, 0.6057081581990958, 0.41074279636998395, 0.8270349419922176, 1.7502052236231658, 0.4218653642747855, 0.337554462406571, 0.733989377606322, 0.6219956039227144, 1.3191080045199597, 0.320098388135115, 2.391145975291534, 0.6598108599124581, 1.08736864519385, 1.3730923204366745, 1.7594257937606048, 1.6226871747261404, 1.74827669360831, 0.6941930982421224, 0.9083377052465794, 0.6286010865756428, 1.2805222473788445, 1.4505640702111504, 1.1426999662822772, 1.3018127276738052, 1.147343028522236, 0.9365297887828729, 1.1540204949939155, 0.9742522131383239, 0.9689818164555589, 0.8848742256374932, 0.8720262650662781, 0.47896754328254515, 0.1858671552722188, 1.5964323891685432, 0.4378631275643844, 0.9125413163677539, 2.1440077191304128, 0.9664097096930678, 0.4243239680113616, 1.1863633095907329, 0.42762426817024246, 2.1091513371961916, 1.13556966045492, 0.6027829087312341, 1.0977751438652643, 3.3964496553022863, 0.48108066677033795, 0.3987117166939744, 1.909666915859061, 0.26059361126805664, 0.12646770627281445, 0.3245724324949557, 0.23304207379147893, 0.23833067107721892, 0.4698443846370531, 0.29265018848660346, 1.3337188963908857, 0.9380342351311327, 0.210241471355855, 0.17450967416271015, 1.5281377454628435, 1.0875915463328478, 0.6416703490647002, 1.0887002084339992, 1.7601523207346716, 0.7932764954733721, 1.170763191352542, 0.5457763073375194, 0.9067385281782664, 0.5302310728764258, 1.131254937899805, 0.6426351554382727, 0.6971302673827436, 0.6717004086342864, 0.6702945968432078, 0.691605174422773, 0.6015103395596705, 0.653737576033969, 0.7036020050220542, 0.6436624129337148, 0.8599874444192608, 0.8599874444192608, 0.4313200247322622, 0.9309110390833437, 1.1946551047054683, 1.7608166769315259, 0.8514945480165066, 0.7924441652186366, 0.27063810254065, 0.8372094043558639, 0.2044118397871164, 0.8043484218957959, 0.22123726685611933, 0.7638418316347005, 0.20364757231184294, 1.4929168323875068, 0.3435233175872027, 0.4149096570741325, 5.339572030153291, 0.339964214789119, 0.38582490353797794, 0.2594254189056525, 0.22475834839359982, 0.20153242250115175, 0.19563329501576557, 0.3388314923738206, 0.3034828680778096, 0.8103053429801749, 1.0133313688628702, 0.21959238497897265, 0.27959021305112863, 1.072901852386675, 0.48000093712530084, 1.064136083952357, 0.6659205404181752, 0.7066935775306976, 0.6375914199863071, 1.1189112930039085, 0.8439958977731916, 0.47496217751105146, 0.7634582968212461, 0.48845089919737134, 0.7471023020258297, 0.7651676190974014, 0.8743924567386606, 0.8679817426276719, 0.5397631586216851, 0.6179917029974288, 0.5371428773261172, 1.365974154004992, 0.3024149191415225, 0.629985153010503, 1.0647859135499462, 0.629985153010503, 1.0780453206776326, 1.2216821117663628, 1.0721404610455727, 0.2327263076100928, 0.7483302723543799, 1.371748113971288, 1.0856451006514531, 1.1412088084797445, 0.5871944293514604, 0.35549903748312073, 0.652447234278082, 0.5810667318463282, 1.0013379992310258, 1.131320036112103, 0.6278877168940437, 0.26386703446272786, 0.3387797474914436, 0.2027027571428749, 0.7157220295592729, 0.30249390467558157, 0.21684098820349226, 0.16640473268143094, 0.6297536714907866, 0.47936223916854315, 0.9306614292850519, 0.6016401647088628, 0.693086855913065, 0.9937456506589203, 0.5776722967472029, 0.5054767049789107, 0.8798050710916159, 0.49592533888873885, 0.6171660179277151, 0.5458491040714232, 0.5249625548981777, 2.4141472502305144, 0.8616980289643329, 1.3009085540832772, 0.2995881754410836, 0.8267697353304051, 3.285374442866792, 1.2919868135313564, 0.33110361355865214, 0.3282274464218142, 0.7279327155129846, 0.2961707784038808, 1.0205697766859407, 0.3285601288406004, 0.8248210125480915, 1.1699577950294187, 0.3428916114100946, 0.8766481937196732, 0.2979563212601845, 0.7255870480541718, 0.3146084495771889, 0.6223260977686977, 0.6295958357026765, 0.7530170480105524, 0.3071484186900991, 0.8424469356231369, 0.2508926051803392, 0.30179137769388686, 0.5806506486593238, 0.5709985059089728, 0.3547791682111082, 1.053804732998187, 0.85796585488892, 1.0226816729430015, 0.8672468248857212, 0.5816744236564362, 0.425372349290922, 0.44941415978762844, 0.3469675140471576, 0.331657014609068, 0.33140091517865, 0.7873908305577603, 0.7737810350410321, 0.7341521686472642, 0.7019632710606809, 1.371837702238472, 0.6925574803644942, 0.7716493209239365, 0.6391948260556701, 0.7092314983176947, 0.2882768767109858, 0.7854076887144316, 0.6917565133224605, 0.6180962884775796, 0.552581942960164, 0.5758775052218102, 0.7482525350882169, 0.8533177349166775, 0.31985708572057153, 0.6007944110602766, 0.262719311596371, 0.2838238662759766, 0.6065671440227103, 0.6366071991308647, 0.5556196637652041, 0.4883487868244613, 0.7895877115987612, 0.25857141654218857, 0.8034462585482753, 0.4479935297608233, 0.27755943187541426, 0.5074470228022807, 0.690893925079594, 0.44339633819891816, 0.4766338855737288, 0.4791200179598095, 0.3959693172163896, 1.4127160148328537, 0.6888369446791427, 0.6499600812832929, 0.5641169158984072, 0.8690921236284306, 0.6150129504159986, 0.613773273040822, 0.5574903076631245, 0.49765154145438173, 0.6127405219888887, 0.5129310570473361, 0.49354785981065263, 0.4320678350113716, 0.4344657110708863, 0.4456566296568541, 0.4629396519735253, 0.40698801330337414, 0.551836137742783, 0.42884873928442707, 0.4540864074824095, 0.3871631338599721, 0.40564302165259614, 0.4449389039272047, 0.7254736222430301, 0.3857722739086565, 0.356654583064866, 0.33309600708948445, 0.44072455636833696, 0.35748524970534246, 0.12444290835385072, 0.3625324143507382, 0.4016076291416092, 0.41299736184860636, 0.3971237304556232, 0.36528753942251985, 0.6497668453856866, 0.46919680772239303, 1.022627424884737, 0.49407620736244096, 0.5229826801836079, 0.4138185976630258, 0.43171332865294915, 1.4156873926472375, 0.41306264787540165, 0.4128136960478126, 0.3878993457355292, 0.3612020051467628, 0.5201433774958608, 0.6962702840291901, 0.4246572078817847, 0.3538956804466267, 0.4304158619007509, 0.3588878504956122, 0.03822035097785393, 0.4513896896583998, 0.35811672694790375, 0.3842635844546843, 0.33885196856299765, 0.42348232378829376, 0.42470777837194335, 0.36917093931388556, 0.3540119691061357, 0.7280824434478965, 0.295406872754296, 0.08652237507290744, 0.36639714231064935, 0.48598124359533573, 0.5471572331471893, 0.4412614310363001], \"Term\": [\"best\", \"funny\", \"life\", \"watch\", \"love\", \"mad\", \"say\", \"want\", \"ev\", \"anything\", \"right\", \"prison\", \"mak\", \"way\", \"interest\", \"act\", \"hop\", \"people\", \"seen\", \"pretend\", \"long\", \"perform\", \"character\", \"whole\", \"cast\", \"expect\", \"never\", \"real\", \"paul\", \"would\", \"on\", \"example\", \"bus\", \"jones\", \"hear\", \"head\", \"cap\", \"chant\", \"ridiculous\", \"thought\", \"aspect\", \"fill\", \"tissues\", \"chase\", \"remember\", \"france\", \"refugee\", \"reflect\", \"guar\", \"toward\", \"engaging\", \"stand\", \"emotions\", \"pure\", \"level\", \"grad\", \"pos\", \"collect\", \"typical\", \"check\", \"well\", \"first\", \"bit\", \"mean\", \"still\", \"mom\", \"characters\", \"plot\", \"spec\", \"liked\", \"chang\", \"loved\", \"saw\", \"experience\", \"els\", \"everyone\", \"far\", \"ag\", \"don\", \"not\", \"high\", \"half\", \"maybe\", \"acc\", \"recommend\", \"sur\", \"fbi\", \"different\", \"walk\", \"thing\", \"know\", \"good\", \"people\", \"enjoy\", \"character\", \"never\", \"think\", \"see\", \"real\", \"little\", \"get\", \"seem\", \"love\", \"many\", \"would\", \"great\", \"act\", \"mak\", \"ev\", \"interest\", \"much\", \"feel\", \"life\", \"could\", \"watch\", \"us\", \"want\", \"play\", \"say\", \"way\", \"son\", \"kills\", \"door\", \"mob\", \"sam\", \"craig\", \"tyler\", \"themes\", \"belong\", \"leigh\", \"blood\", \"1930\", \"killer\", \"hoechlin\", \"thomas\", \"jude\", \"refuses\", \"conrad\", \"hall\", \"genre\", \"maguire\", \"mot\", \"con\", \"dark\", \"daniel\", \"law\", \"richard\", \"mafia\", \"mend\", \"unfold\", \"wife\", \"evil\", \"godfather\", \"photograph\", \"boss\", \"cinematography\", \"young\", \"ir\", \"mike\", \"paul\", \"hit\", \"beauty\", \"revenge\", \"loyal\", \"car\", \"work\", \"family\", \"perform\", \"seen\", \"best\", \"act\", \"am\", \"direct\", \"middle\", \"cave\", \"survivor\", \"coconut\", \"struggles\", \"physical\", \"crash\", \"created\", \"crusoe\", \"drawn\", \"selkirk\", \"met\", \"ocean\", \"emotionally\", \"rescued\", \"fedex\", \"fight\", \"fir\", \"fish\", \"girlfriend\", \"four\", \"christmas\", \"frears\", \"loneliness\", \"lose\", \"weight\", \"wash\", \"kept\", \"aside\", \"isolation\", \"ash\", \"survive\", \"company\", \"plan\", \"isolated\", \"water\", \"hel\", \"volleyball\", \"hunt\", \"nee\", \"pack\", \"survival\", \"desert\", \"begin\", \"find\", \"back\", \"scene\", \"scenes\", \"robert\", \"year\", \"end\", \"work\", \"man\", \"way\", \"legend\", \"edge\", \"darabont\", \"size\", \"convict\", \"guard\", \"doug\", \"heal\", \"hutchison\", \"sympathetic\", \"edgecomb\", \"row\", \"block\", \"percy\", \"prison\", \"chair\", \"earn\", \"coffey\", \"religion\", \"elect\", \"god\", \"firm\", \"places\", \"unusual\", \"mouse\", \"clark\", \"three\", \"jam\", \"just\", \"king\", \"men\", \"several\", \"dea\", \"paul\", \"adapt\", \"john\", \"jet\", \"yet\", \"murder\", \"cast\", \"screen\", \"bring\", \"book\", \"pow\", \"another\", \"however\", \"role\", \"perform\", \"man\", \"mykelti\", \"williamson\", \"fiction\", \"nominated\", \"sin\", \"academy\", \"gary\", \"sally\", \"experiences\", \"field\", \"mentally\", \"robin\", \"wonder\", \"wright\", \"particularly\", \"award\", \"dan\", \"popular\", \"best\", \"intelligent\", \"future\", \"whos\", \"comic\", \"extraordinary\", \"fly\", \"bubba\", \"1994\", \"portray\", \"star\", \"decades\", \"child\", \"win\", \"heard\", \"oscar\", \"adapt\", \"picture\", \"especially\", \"perfect\", \"support\", \"doubt\", \"dram\", \"vis\", \"car\", \"also\", \"act\", \"ev\", \"effect\", \"seen\", \"great\", \"luna\", \"indian\", \"appeal\", \"pallana\", \"mild\", \"attend\", \"passport\", \"york\", \"land\", \"jfk\", \"stuck\", \"stanley\", \"tucci\", \"step\", \"english\", \"dixon\", \"narvorski\", \"flight\", \"war\", \"contain\", \"amelia\", \"falls\", \"leaves\", \"takes\", \"govern\", \"woman\", \"sec\", \"eye\", \"hand\", \"reason\", \"impress\", \"worst\", \"new\", \"art\", \"country\", \"mak\", \"hap\", \"beauty\", \"role\", \"without\", \"pretend\", \"front\", \"doctor\", \"lie\", \"calls\", \"funny\", \"carl\", \"inspired\", \"smile\", \"honest\", \"hotel\", \"cut\", \"slap\", \"entire\", \"tells\", \"serious\", \"pass\", \"divorce\", \"teach\", \"heavy\", \"nice\", \"boy\", \"class\", \"ask\", \"take\", \"room\", \"kid\", \"fun\", \"believe\", \"comedy\", \"say\", \"fin\", \"watch\", \"want\", \"begin\", \"look\", \"way\", \"also\", \"girl\", \"end\", \"till\", \"weak\", \"giant\", \"carry\", \"gave\", \"known\", \"depth\", \"marvel\", \"mors\", \"connect\", \"emotion\", \"david\", \"opinion\", \"side\", \"roles\", \"bring\", \"whole\", \"affect\", \"together\", \"surprised\", \"length\", \"cam\", \"clark\", \"excel\", \"let\", \"hop\", \"forget\", \"long\", \"part\", \"throughout\", \"support\", \"perform\", \"car\", \"cast\", \"seen\", \"bet\", \"fake\", \"attract\", \"fantasy\", \"imagination\", \"immigrant\", \"rules\", \"oh\", \"yes\", \"left\", \"eastern\", \"sort\", \"williams\", \"built\", \"alone\", \"list\", \"ad\", \"mention\", \"worst\", \"going\", \"definitely\", \"hug\", \"problem\", \"probably\", \"right\", \"someone\", \"old\", \"nothing\", \"boss\", \"talk\", \"rom\", \"mus\", \"anything\", \"interest\", \"funny\", \"ev\", \"grant\", \"respect\", \"innocence\", \"magnificent\", \"telling\", \"across\", \"leave\", \"anything\", \"gen\", \"moth\", \"sometimes\", \"mat\", \"eye\", \"friend\", \"teach\", \"review\", \"pass\", \"behind\", \"etc\", \"felt\", \"boy\", \"anyone\", \"brilliant\", \"come\", \"expect\", \"tells\", \"pow\", \"mad\", \"got\", \"relate\", \"take\", \"love\", \"life\", \"way\"], \"Total\": [9.0, 4.0, 5.0, 4.0, 3.0, 4.0, 4.0, 4.0, 7.0, 2.0, 3.0, 3.0, 6.0, 5.0, 3.0, 7.0, 3.0, 4.0, 5.0, 2.0, 3.0, 5.0, 4.0, 2.0, 4.0, 2.0, 3.0, 6.0, 3.0, 4.0, 0.2888815002379402, 0.4498103449255675, 0.44385445004552343, 0.3426529371752042, 0.3859114268556103, 0.510065911404451, 0.28959655531660305, 0.2693757277826081, 0.5156171412912793, 2.474726292701283, 0.6037001696723683, 0.3181137082915689, 0.4144656516801289, 0.3564665274092554, 1.0035832310479944, 0.3646768459398205, 0.16932193317180544, 0.39108797427087966, 0.3871703317126132, 0.36613221047249245, 0.5605091403234455, 1.172100698487164, 0.5488457365481204, 0.460949240615732, 0.33710096893946045, 0.07940252745792792, 0.31511597316827394, 0.3092395681622528, 0.317026275799853, 0.7216611486506292, 4.343932817956621, 2.9193015284203496, 2.588430505224705, 2.305468335187588, 2.083021128690056, 2.0538254447704394, 2.1996075136463107, 2.0050823393660675, 1.922329312054705, 1.8088757409548215, 1.8047261688491547, 1.771766868821272, 1.7367912076345464, 1.6480149586536694, 1.579228690119695, 1.5464512796327463, 1.5142191803968221, 1.4756639930790472, 1.4109290577376237, 1.3587632644412577, 1.3512206918344112, 1.3482031759184903, 1.3349165575117603, 1.3193746839613103, 1.2314875117299866, 1.215639770243366, 1.1878744475576861, 1.1586300828419958, 1.7819349441382268, 3.179312767386508, 3.127026811196274, 4.944450238771872, 4.3904478427887526, 2.946972993289822, 4.506921813873861, 3.4411968182384918, 1.8016831433781055, 4.838291584648442, 6.031937700783684, 2.75043636644478, 4.860133679852225, 2.4896758971784703, 3.9546655377265556, 3.801458226774155, 4.271257986695244, 5.394321218960996, 7.469053923013209, 6.85948077331682, 7.550135762894588, 3.3795803535517828, 4.269818116017329, 3.7811567991871238, 5.5735322942551875, 3.5973550879688396, 4.256073825884152, 4.7433432980488845, 4.177484397546796, 3.9046477536143143, 4.190135784382613, 5.354270778330527, 0.8523790920911818, 0.40908397970457616, 0.25039819085398707, 1.0394280999899612, 1.5900549881071628, 1.1180451301285108, 1.0878131363330037, 0.4562089966071645, 0.6265259406412638, 0.5333435419388229, 0.4364695047841723, 0.5671433767766352, 0.6683870377141226, 1.868574732360679, 0.5356055634308446, 1.646942279076852, 0.009294441809990393, 1.339574491277442, 1.7599196621482642, 0.7675099638496781, 1.217580386057726, 0.5479646499705463, 2.9034793898979183, 1.4750225175764564, 0.7469692612828225, 2.3648748796567083, 0.1687018120647837, 0.585650000025267, 2.4153786271791504, 0.36875336561548305, 0.9326575026140376, 0.46793675541099383, 1.2281505710386238, 0.9633698594810695, 2.295267673757886, 2.5245609302115626, 2.803992204471111, 1.0208368329361985, 0.9308577733110849, 3.8738425580225098, 1.358287751174929, 4.259693386893216, 1.394019094907387, 0.9266103599416136, 3.607869867862169, 5.444866187258406, 2.0269752413530693, 5.576890317210921, 5.080405483095642, 9.097663248624306, 7.469053923013209, 2.7416066967811874, 4.724980811708398, 0.3975146032293262, 0.5040712659182488, 0.8515851581190811, 0.931735545079665, 0.8246579745854511, 0.423820044845537, 1.5294906877302155, 0.14415218937678428, 0.7220823685985621, 0.32262130197232636, 0.22761578551607206, 0.22318854286293302, 0.7771608532222359, 0.6201882385435836, 0.7894100784581192, 1.8972469473807152, 0.38298615769469546, 1.223403619487283, 0.32070365191335665, 1.1282584797337305, 1.1798694400284495, 1.1427469855236068, 0.6207472487990829, 0.6057081581990958, 0.41074279636998395, 0.8270349419922176, 1.7502052236231658, 0.4218653642747855, 0.337554462406571, 0.733989377606322, 0.6219956039227144, 1.3431426472436514, 0.3216237199490981, 2.6460916517890545, 0.6944369479609125, 1.2286723019120311, 1.6312744311488863, 2.2323912545156603, 2.0680881544519787, 2.2632887330679736, 0.7834459636543173, 1.133065480402335, 0.7335893681253179, 2.7186252804949116, 3.8680133903679446, 2.437239376043178, 3.7016821339540753, 3.1632843627464386, 2.109381395685814, 4.368080448744858, 4.536812917208981, 5.444866187258406, 5.195887217007057, 5.354270778330527, 0.47896754328254515, 0.1858671552722188, 1.5964323891685432, 0.4378631275643844, 0.9125413163677539, 2.1440077191304128, 0.9664097096930678, 0.4243239680113616, 1.1863633095907329, 0.42762426817024246, 2.1091513371961916, 1.13556966045492, 0.6027829087312341, 1.0977751438652643, 3.4024915539194573, 0.49504672433589664, 0.41059675487691405, 1.9980971652365713, 0.28492746959534665, 0.15182706370371302, 0.4108108636646294, 0.3081516359424655, 0.32456093802658376, 0.6744891499804643, 0.43922019265970047, 2.0426969894191185, 1.5034372447196391, 0.3436033141873757, 0.29535416036275564, 2.659166960825273, 1.893342207239528, 1.128714250810411, 2.0665038178861117, 3.8738425580225098, 1.6002974631255023, 2.9850481106701867, 1.0724638124428991, 2.7431234071211663, 1.0509841099879291, 4.721462288579345, 1.5336167848560145, 1.9375040794875464, 1.8976548208313464, 2.050098686897688, 3.025317182307825, 1.6557448979105214, 2.8202006077558033, 5.576890317210921, 5.195887217007057, 0.8599874444192608, 0.8599874444192608, 0.4313200247322622, 0.9389476786774901, 1.3715452250525313, 2.079576357712003, 1.066790385495007, 1.0012432717148574, 0.353441475381593, 1.1266240078589993, 0.286441212507215, 1.1632233859168073, 0.3223588309308295, 1.1651274085370042, 0.31307956986933294, 2.3618617931981922, 0.5479522749219983, 0.67269912823674, 9.097663248624306, 0.582703882254052, 0.6709692626359155, 0.45500568729468116, 0.401181885521201, 0.3764307743537197, 0.3732460604939729, 0.65740752813726, 0.5964965998971401, 1.6103167911196081, 2.084007730899216, 0.4536519413298689, 0.578175996778004, 2.5430568863520158, 1.0815465617919018, 2.8022166071090604, 1.6002974631255023, 1.7464126624845622, 1.5670574234453565, 3.4017689930040973, 2.648077544286708, 1.1094327823467505, 2.612198711940657, 1.2691392210111572, 3.607869867862169, 4.599760778969975, 7.469053923013209, 7.550135762894588, 1.995152497039046, 5.080405483095642, 5.394321218960996, 1.365974154004992, 0.3024149191415225, 0.629985153010503, 1.0647859135499462, 0.629985153010503, 1.1031174903900558, 1.2529427174793326, 1.1668442837634407, 0.2636735464660196, 0.8576559318677512, 1.6269177488251778, 1.3091036892859265, 1.4530304481928984, 0.76124828736943, 0.46910299309216374, 0.8636570265670013, 0.7810874568195989, 1.3540738496757128, 1.636698350909111, 0.9140238556339576, 0.3953677724530481, 0.6162675730280383, 0.3934724663138178, 1.4558501843441425, 0.6155665613713698, 0.44974063920273166, 0.3716825961454647, 1.5863354956355011, 1.2093875246615857, 2.354068134512314, 1.525171833422625, 1.8128486352011814, 3.1915434718405167, 1.6726253842899448, 1.5010025854487457, 6.85948077331682, 1.6962174754313513, 4.259693386893216, 2.8202006077558033, 2.5216350881980247, 2.4341935082652806, 0.9277301566876958, 1.7842425874222343, 0.4137576987643688, 1.2238012885961151, 4.890947019423885, 1.989994693561282, 0.5120123001157277, 0.5186713425876299, 1.160726831161639, 0.4773798871308634, 1.6640987086626633, 0.5522228529348743, 1.4331467833932006, 2.068560361453949, 0.6422433940844516, 1.6670723370325198, 0.6540311062379012, 1.598138110797408, 0.7868742523078875, 1.5636517233851484, 1.7507792359342844, 2.108410387538834, 0.8652063573666436, 2.729464662949134, 0.8140454539516574, 1.0860186300235886, 2.11643274201282, 2.1423324158416674, 1.3588467139375795, 4.190135784382613, 3.4876036342786447, 4.256073825884152, 4.177484397546796, 2.7186252804949116, 3.4416997160001235, 5.354270778330527, 4.599760778969975, 1.3591558782976816, 4.536812917208981, 0.8496522411405449, 0.8834551640761303, 0.9655477161511508, 0.9497924923891363, 1.9007469639275527, 0.9776767318177829, 1.2043333788401274, 1.0292265404847476, 1.2069250291255667, 0.5009708627518832, 1.3702426599604023, 1.2164573940790584, 1.1823736156319058, 1.309255856197555, 1.4753491962161174, 1.9375040794875464, 2.26965731603513, 0.8553928073214472, 1.6559490244538195, 0.7875461983963878, 0.8750698677947131, 1.8891645963361166, 2.0426969894191185, 2.025533327913861, 1.8717564385702758, 3.033955419775936, 1.0094979925046172, 3.5992103351197096, 2.0798918057721814, 1.299871242739245, 2.648077544286708, 5.576890317210921, 3.607869867862169, 4.721462288579345, 5.080405483095642, 2.966912297404243, 1.4579290176286217, 0.73431290297051, 0.7492953663975424, 0.6866516833722094, 1.1896143129548817, 0.8579966195975927, 0.8697401316899398, 0.9443578546855684, 0.9604878776253017, 1.2154886844610624, 1.1150918000883756, 1.135536322841324, 1.13008863431161, 1.305498903951712, 1.3750534903526412, 1.4465750854972912, 1.2824156692912214, 1.8128486352011814, 1.472837258731966, 1.6117742616697208, 1.410017922293025, 1.6343813590125895, 1.9042421962543814, 3.1498121547241147, 1.763371971144742, 1.6791757249845007, 1.6320107606154575, 2.295267673757886, 1.9360079984579162, 0.6806219275889268, 2.048395512096847, 2.929394601533337, 3.3795803535517828, 4.890947019423885, 7.550135762894588, 0.8010560555245259, 0.6573005205027296, 1.6334733126818692, 0.9694665845888313, 1.0352981531613614, 0.8253546077411431, 0.8780708051820802, 2.929394601533337, 1.1064458660423722, 1.1461416317373962, 1.1306949474742076, 1.0718317944357465, 1.5863354956355011, 2.535560410260283, 1.598138110797408, 1.3346953694246173, 1.6670723370325198, 1.458886102326193, 0.16389311631570877, 1.9667662146190958, 1.7507792359342844, 1.8876684416444542, 1.6677566766768022, 2.155444858983131, 2.2135162815494827, 2.068560361453949, 2.050098686897688, 4.269668525527898, 1.8057218580144458, 0.5678667431500235, 2.729464662949134, 3.9546655377265556, 5.5735322942551875, 5.354270778330527], \"loglift\": [30.0, 29.0, 28.0, 27.0, 26.0, 25.0, 24.0, 23.0, 22.0, 21.0, 20.0, 19.0, 18.0, 17.0, 16.0, 15.0, 14.0, 13.0, 12.0, 11.0, 10.0, 9.0, 8.0, 7.0, 6.0, 5.0, 4.0, 3.0, 2.0, 1.0, 0.5665, 0.5665, 0.5665, 0.5665, 0.5665, 0.5665, 0.5665, 0.5665, 0.5665, 0.5665, 0.5665, 0.5665, 0.5665, 0.5665, 0.5665, 0.5665, 0.5665, 0.5665, 0.5665, 0.5665, 0.5665, 0.5665, 0.5665, 0.5665, 0.5665, 0.5665, 0.5665, 0.5665, 0.5665, 0.5665, 0.5665, 0.5665, 0.5665, 0.5665, 0.5665, 0.5665, 0.5657, 0.5665, 0.5665, 0.5665, 0.5665, 0.5665, 0.5665, 0.5665, 0.5665, 0.5665, 0.5665, 0.5665, 0.5665, 0.5665, 0.5665, 0.5665, 0.5665, 0.5665, 0.5665, 0.5665, 0.5665, 0.5665, 0.5566, 0.5368, 0.5311, 0.502, 0.4937, 0.5067, 0.4701, 0.4858, 0.5427, 0.4521, 0.4273, 0.5, 0.4183, 0.4946, 0.4042, 0.4079, 0.3741, 0.3168, 0.2444, 0.2441, 0.2103, 0.4092, 0.34, 0.3741, 0.2582, 0.3575, 0.2916, 0.2414, 0.2624, 0.2771, 0.1926, 0.0089, 2.3255, 2.3255, 2.3255, 2.3255, 2.3255, 2.3255, 2.3255, 2.3255, 2.3255, 2.3255, 2.3255, 2.3255, 2.3255, 2.3255, 2.3255, 2.3255, 2.3255, 2.3255, 2.3255, 2.3255, 2.3255, 2.3255, 2.3225, 2.3137, 2.2747, 2.2719, 2.2716, 2.2666, 2.2608, 2.2481, 2.2411, 2.2419, 2.2, 2.1962, 2.1123, 2.0936, 2.0632, 2.1743, 2.1439, 1.6556, 1.9802, 1.4913, 1.9492, 2.0893, 1.2412, 0.914, 1.5256, 0.6671, 0.7145, 0.1709, 0.2903, 1.2048, 0.6537, 2.3643, 2.3643, 2.3643, 2.3643, 2.3643, 2.3643, 2.3643, 2.3643, 2.3643, 2.3643, 2.3643, 2.3643, 2.3643, 2.3643, 2.3643, 2.3643, 2.3643, 2.3643, 2.3643, 2.3643, 2.3643, 2.3643, 2.3643, 2.3643, 2.3643, 2.3643, 2.3643, 2.3643, 2.3643, 2.3643, 2.3643, 2.3462, 2.3595, 2.263, 2.3131, 2.2421, 2.192, 2.1262, 2.1217, 2.1061, 2.2433, 2.1432, 2.2098, 1.6114, 1.3835, 1.6068, 1.3193, 1.3501, 1.5523, 1.0332, 0.826, 0.6381, 0.5941, 0.5495, 2.7139, 2.7139, 2.7139, 2.7139, 2.7139, 2.7139, 2.7139, 2.7139, 2.7139, 2.7139, 2.7139, 2.7139, 2.7139, 2.7139, 2.7121, 2.6853, 2.6845, 2.6686, 2.6246, 2.5311, 2.4782, 2.4345, 2.4051, 2.3523, 2.3078, 2.2876, 2.2421, 2.2226, 2.1877, 2.1599, 2.1595, 2.1491, 2.073, 1.925, 2.0121, 1.7779, 2.0384, 1.6069, 2.0297, 1.2851, 1.8441, 1.6917, 1.6753, 1.5959, 1.2381, 1.7013, 1.252, 0.6437, 0.6254, 3.0196, 3.0196, 3.0196, 3.011, 2.8815, 2.8532, 2.7942, 2.7857, 2.7527, 2.7227, 2.6822, 2.6507, 2.6432, 2.5974, 2.5895, 2.5609, 2.5527, 2.5364, 2.4867, 2.4808, 2.4663, 2.4578, 2.4402, 2.3948, 2.3736, 2.3568, 2.3438, 2.3328, 2.2985, 2.294, 2.293, 2.1566, 2.2072, 2.0513, 2.1428, 2.1149, 2.1203, 1.9077, 1.8762, 2.1712, 1.7895, 2.0647, 1.4449, 1.2259, 0.8746, 0.8564, 1.7122, 0.9129, 0.7128, 3.2816, 3.2816, 3.2816, 3.2816, 3.2816, 3.2586, 3.2563, 3.1969, 3.1567, 3.1452, 3.111, 3.0944, 3.04, 3.022, 3.0043, 3.0011, 2.9858, 2.9798, 2.9123, 2.9061, 2.8772, 2.6832, 2.6183, 2.5715, 2.5711, 2.5521, 2.478, 2.3577, 2.3562, 2.3536, 2.3514, 2.3201, 2.1148, 2.2184, 2.1932, 1.2279, 2.0518, 1.3498, 1.6394, 1.7122, 3.4827, 3.4171, 3.175, 3.1681, 3.0988, 3.093, 3.059, 3.055, 3.0334, 3.0244, 3.0136, 3.002, 2.9717, 2.9385, 2.9211, 2.8634, 2.8482, 2.7047, 2.7013, 2.5742, 2.5696, 2.4682, 2.4614, 2.4553, 2.3154, 2.314, 2.2104, 2.1976, 2.1687, 2.1481, 2.1106, 2.0885, 2.065, 1.9188, 1.949, 1.4002, 1.0132, 0.9064, 2.0804, 0.8743, 3.7292, 3.6728, 3.5313, 3.503, 3.4792, 3.4605, 3.3602, 3.329, 3.2737, 3.2527, 3.2488, 3.2409, 3.1567, 2.9427, 2.8646, 2.8539, 2.8271, 2.8216, 2.7914, 2.7075, 2.6794, 2.6692, 2.6394, 2.5118, 2.4617, 2.4592, 2.4433, 2.3058, 2.27, 2.2613, 2.1531, 1.7169, 1.7089, 1.5122, 1.4441, 1.7914, 3.9585, 3.926, 3.8477, 3.7934, 3.676, 3.657, 3.6414, 3.4629, 3.3324, 3.305, 3.2134, 3.1567, 3.0285, 2.8897, 2.8633, 2.8506, 2.8422, 2.8006, 2.7561, 2.7232, 2.6974, 2.5964, 2.5361, 2.5217, 2.4702, 2.4407, 2.4008, 2.3398, 2.3007, 2.2908, 2.2583, 2.0029, 1.8879, 1.4791, 0.9613, 3.8759, 3.7481, 3.6169, 3.4112, 3.4023, 3.3948, 3.3752, 3.358, 3.0999, 3.064, 3.0154, 2.9975, 2.9701, 2.7928, 2.7599, 2.7578, 2.7311, 2.6828, 2.6294, 2.6134, 2.4983, 2.4934, 2.4915, 2.458, 2.4343, 2.3619, 2.3289, 2.3163, 2.2748, 2.2037, 2.0771, 1.9887, 1.7642, 1.5892], \"logprob\": [30.0, 29.0, 28.0, 27.0, 26.0, 25.0, 24.0, 23.0, 22.0, 21.0, 20.0, 19.0, 18.0, 17.0, 16.0, 15.0, 14.0, 13.0, 12.0, 11.0, 10.0, 9.0, 8.0, 7.0, 6.0, 5.0, 4.0, 3.0, 2.0, 1.0, -7.7015, -7.2587, -7.2721, -7.5308, -7.4119, -7.133, -7.6991, -7.7714, -7.1222, -5.5537, -6.9645, -7.6051, -7.3406, -7.4913, -6.4562, -7.4685, -8.2357, -7.3986, -7.4087, -7.4646, -7.0387, -6.301, -7.0597, -7.2343, -7.5472, -8.993, -7.6146, -7.6334, -7.6086, -6.786, -4.991, -5.3884, -5.5087, -5.6245, -5.726, -5.7401, -5.6723, -5.7641, -5.8063, -5.8671, -5.8694, -5.8878, -5.9078, -5.9602, -6.0029, -6.0238, -6.0449, -6.0707, -6.1155, -6.1532, -6.1588, -6.161, -6.1709, -6.1826, -6.2516, -6.2645, -6.2876, -6.3126, -5.8919, -5.3327, -5.3551, -4.926, -5.0531, -5.4387, -5.0505, -5.3046, -5.8948, -4.9976, -4.8018, -5.5145, -5.0269, -5.6195, -5.2472, -5.2829, -5.2002, -5.0241, -4.7711, -4.8565, -4.7944, -5.3993, -5.2346, -5.3221, -5.05, -5.3885, -5.2863, -5.2281, -5.3342, -5.387, -5.4009, -5.3395, -4.8605, -5.5946, -6.0854, -4.6621, -4.237, -4.5892, -4.6166, -5.4856, -5.1683, -5.3293, -5.5298, -5.2679, -5.1036, -4.0756, -5.3251, -4.2018, -9.3791, -4.4084, -4.1355, -4.9653, -4.5039, -5.3023, -3.6379, -4.3239, -5.0433, -3.8936, -6.5343, -5.2947, -3.8836, -5.7758, -4.8548, -5.5438, -4.6207, -4.8673, -4.0831, -4.0066, -3.932, -4.8313, -4.9539, -4.0164, -4.7399, -4.0858, -4.7449, -5.0131, -4.5019, -4.4175, -4.7941, -4.6405, -4.6864, -4.6474, -4.7252, -4.8129, -4.8197, -5.5845, -5.347, -4.8226, -4.7327, -4.8547, -5.5204, -4.237, -6.5988, -4.9876, -5.7932, -6.1421, -6.1617, -4.9141, -5.1397, -4.8984, -4.0216, -5.6217, -4.4603, -5.7992, -4.5413, -4.4966, -4.5285, -5.1388, -5.1633, -5.5518, -4.8519, -4.1022, -5.525, -5.748, -4.9712, -5.1368, -4.385, -5.8011, -3.7902, -5.0778, -4.5782, -4.3449, -4.097, -4.1779, -4.1033, -5.027, -4.7581, -5.1262, -4.4147, -4.29, -4.5286, -4.3982, -4.5245, -4.7275, -4.5187, -4.688, -4.6935, -4.7843, -4.7989, -5.0485, -5.9951, -3.8446, -5.1382, -4.4039, -3.5497, -4.3465, -5.1696, -4.1415, -5.1619, -3.5661, -4.1852, -4.8186, -4.2191, -3.0896, -5.0441, -5.2319, -3.6654, -5.6572, -6.3801, -5.4376, -5.7689, -5.7465, -5.0677, -5.5412, -4.0244, -4.3763, -5.8719, -6.0582, -3.8883, -4.2284, -4.7561, -4.2274, -3.747, -4.544, -4.1547, -4.9179, -4.4103, -4.9468, -4.189, -4.7546, -4.6732, -4.7103, -4.7124, -4.6811, -4.8207, -4.7374, -4.6639, -4.753, -4.1575, -4.1575, -4.8476, -4.0782, -3.8288, -3.4409, -4.1674, -4.2393, -5.3136, -4.1843, -5.5943, -4.2244, -5.5152, -4.276, -5.598, -3.6059, -5.0752, -4.8863, -2.3315, -5.0856, -4.959, -5.3559, -5.4994, -5.6085, -5.6382, -5.0889, -5.1991, -4.217, -3.9934, -5.5226, -5.2811, -3.9363, -4.7406, -3.9445, -4.4132, -4.3538, -4.4567, -3.8943, -4.1763, -4.7512, -4.2765, -4.7232, -4.2982, -4.2743, -4.1409, -4.1482, -4.6233, -4.4879, -4.6281, -3.4328, -4.9406, -4.2067, -3.6819, -4.2067, -3.6695, -3.5444, -3.675, -5.2026, -4.0346, -3.4286, -3.6625, -3.6126, -4.2771, -4.7789, -4.1717, -4.2876, -3.7433, -3.6213, -4.2101, -5.077, -4.8271, -5.3407, -4.0791, -4.9404, -5.2733, -5.538, -4.2071, -4.48, -3.8165, -4.2528, -4.1113, -3.7509, -4.2934, -4.4269, -3.8727, -4.446, -4.2273, -4.3501, -4.3891, -2.6539, -3.6841, -3.2722, -4.7406, -3.7255, -2.3458, -3.2791, -4.6406, -4.6493, -3.8528, -4.7521, -3.5149, -4.6483, -3.7279, -3.3783, -4.6056, -3.6669, -4.7461, -3.8561, -4.6917, -4.0096, -3.998, -3.819, -4.7157, -3.7067, -4.918, -4.7333, -4.0789, -4.0957, -4.5716, -3.4829, -3.6885, -3.5129, -3.6777, -4.0771, -4.3901, -4.3351, -4.5938, -4.6389, -4.6397, -3.46, -3.4774, -3.53, -3.5748, -2.9048, -3.5883, -3.4802, -3.6685, -3.5645, -4.4648, -3.4625, -3.5895, -3.702, -3.8141, -3.7728, -3.5109, -3.3796, -4.3608, -3.7304, -4.5576, -4.4803, -3.7209, -3.6725, -3.8086, -3.9377, -3.4572, -4.5735, -3.4398, -4.0239, -4.5027, -3.8993, -3.5907, -4.0342, -3.9619, -3.9567, -4.1474, -2.6908, -3.409, -3.4671, -3.6088, -3.1766, -3.5224, -3.5244, -3.6206, -3.7341, -3.5261, -3.7039, -3.7424, -3.8755, -3.8699, -3.8445, -3.8064, -3.9353, -3.6308, -3.8829, -3.8258, -3.9852, -3.9386, -3.8461, -3.3572, -3.9888, -4.0673, -4.1356, -3.8556, -4.0649, -5.1202, -4.0509, -3.9486, -3.9206, -3.9598, -4.0434, -3.3722, -3.6978, -2.9187, -3.6461, -3.5892, -3.8234, -3.781, -2.5934, -3.8252, -3.8258, -3.888, -3.9594, -3.5947, -3.3031, -3.7975, -3.9798, -3.784, -3.9658, -6.2054, -3.7365, -3.9679, -3.8975, -4.0232, -3.8003, -3.7974, -3.9375, -3.9795, -3.2584, -4.1604, -5.3884, -3.9451, -3.6626, -3.5441, -3.7592]}, \"token.table\": {\"Topic\": [2, 5, 1, 1, 2, 5, 1, 4, 5, 1, 3, 1, 5, 1, 2, 1, 4, 1, 1, 10, 6, 1, 6, 3, 1, 1, 6, 9, 1, 5, 1, 3, 1, 2, 6, 3, 7, 1, 1, 7, 2, 1, 2, 5, 1, 1, 4, 1, 4, 2, 1, 7, 1, 4, 8, 1, 7, 1, 8, 1, 2, 5, 1, 7, 8, 1, 3, 4, 3, 1, 1, 1, 1, 3, 2, 4, 8, 1, 7, 3, 4, 1, 1, 2, 2, 6, 4, 1, 1, 6, 2, 3, 3, 3, 7, 2, 4, 2, 4, 8, 4, 1, 8, 3, 1, 1, 2, 3, 6, 7, 1, 4, 1, 5, 9, 4, 1, 5, 1, 8, 3, 1, 1, 3, 1, 1, 7, 1, 5, 1, 5, 1, 1, 8, 1, 1, 6, 10, 9, 1, 2, 9, 1, 1, 3, 1, 3, 1, 5, 1, 3, 7, 1, 3, 3, 1, 6, 1, 3, 3, 1, 10, 7, 1, 7, 1, 7, 5, 1, 8, 2, 1, 8, 1, 3, 2, 1, 1, 1, 10, 1, 5, 4, 1, 2, 1, 1, 1, 3, 1, 2, 2, 7, 1, 8, 1, 4, 3, 4, 9, 9, 1, 6, 10, 1, 2, 3, 3, 4, 6, 1, 4, 2, 1, 2, 1, 4, 1, 8, 2, 2, 1, 1, 3, 10, 1, 1, 1, 3, 1, 8, 1, 1, 1, 2, 6, 1, 10, 2, 2, 1, 3, 6, 1, 2, 3, 4, 1, 8, 1, 1, 1, 1, 4, 2, 1, 2, 6, 2, 1, 8, 2, 1, 3, 2, 4, 1, 2, 5, 6, 3, 1, 1, 6, 1, 7, 5, 1, 1, 3, 9, 1, 2, 1, 8, 1, 5, 3, 6, 1, 7, 6, 2, 4, 1, 4, 1, 5, 1, 2, 4, 8, 2, 1, 5, 3, 1, 2, 1, 1, 5, 3, 4, 7, 4, 1, 1, 1, 3, 1, 6, 1, 1, 3, 2, 1, 1, 1, 9, 1, 3, 5, 1, 4, 6, 8, 2, 4, 9, 5, 2, 1, 1, 7, 1, 3, 1, 3, 2, 4, 1, 1, 1, 2, 5, 4, 8, 5, 1, 1, 2, 1, 9, 1, 1, 6, 1, 5, 6, 1, 3, 6, 1, 5, 8, 1, 1, 3, 3, 3, 1, 7, 1, 6, 1, 7, 10, 7, 1, 1, 2, 1, 1, 4, 1, 8, 1, 8, 6, 2, 1, 2, 3, 1, 3, 1, 1, 7, 1, 6, 3, 1, 7, 3, 1, 3, 8, 3, 1, 1, 8, 2, 1, 5, 1, 5, 1, 6, 1, 2, 3, 1, 6, 9, 1, 5, 1, 3, 9, 1, 4, 6, 2], \"Freq\": [1.7632225658413039, 0.9617343419889834, 0.757934809691501, 0.6694288261320881, 0.13388576522641762, 0.13388576522641762, 0.6912880015877148, 0.6248838250652002, 0.6248838250652002, 0.6776610425476668, 0.765990685226181, 0.6522078308324092, 0.21740261027746974, 0.36474961969346686, 0.36474961969346686, 0.6610877073306823, 0.33054385366534117, 0.5297540489307772, 0.3413674618901013, 0.3413674618901013, 1.5873389955641197, 0.5978625036977514, 0.5978625036977514, 1.6077284046596805, 1.1557936340685435, 1.6564514145204001, 0.9065217519544595, 1.3618172797382535, 0.42339479934001645, 0.42339479934001645, 0.4103002806492833, 0.4103002806492833, 0.23475868077193804, 0.4695173615438761, 0.23475868077193804, 0.36783296586499603, 0.36783296586499603, 0.6854544699586216, 0.46678096853943446, 0.46678096853943446, 1.5961031062440558, 0.2198366707299732, 0.1099183353649866, 0.549591676824933, 0.6741014898720814, 1.159003494180952, 1.658972053645063, 0.5269662264298987, 0.5269662264298987, 0.8713580654954879, 0.5711742402898449, 0.5711742402898449, 0.5996078528629342, 0.5161279455290188, 0.5161279455290188, 0.8848863439894225, 0.8171261211427151, 0.5293345015777979, 0.5293345015777979, 0.27717185946968387, 0.27717185946968387, 0.27717185946968387, 0.502513902793583, 0.502513902793583, 1.0528615545113125, 0.42359758010516396, 0.21179879005258198, 0.21179879005258198, 1.9838464669838607, 1.1082013629111216, 0.887523716894005, 0.9092531224739183, 1.385691888595932, 0.8750843473385317, 0.792216965756654, 0.48954886856927804, 0.48954886856927804, 0.47429096627023776, 0.47429096627023776, 1.07326591250149, 1.000952323438787, 0.46394135105444895, 0.7359181795437866, 1.033243084293247, 0.7465057049917263, 1.094063348386471, 1.095840793247985, 0.8339460316367818, 0.6662213707653515, 0.6662213707653515, 0.8944182779858426, 1.3076248296536062, 1.384883558285502, 0.6009258914716905, 0.6009258914716905, 1.3387431743611915, 1.2527934246195316, 0.67795575191832, 0.822059206403253, 0.822059206403253, 0.483909098712883, 0.6204342777902707, 0.8303348703687701, 1.3631604320486437, 0.8630882408534628, 0.42328214223516936, 0.21164107111758468, 0.21164107111758468, 1.157867034295959, 0.5604619052640928, 0.7087528565068081, 1.0347578154172317, 0.7656385369373979, 0.38281926846869896, 0.8227143640118638, 0.948248693552122, 0.5012148201624057, 0.5012148201624057, 1.266441024351206, 0.7297977425610864, 1.6124136799955215, 1.8220055899301395, 0.6612571544708045, 0.22041905149026814, 1.7840922262622576, 1.0179937199393816, 0.6977652335320061, 0.6381387082812733, 0.6381387082812733, 0.6622397473397337, 0.13244794946794675, 1.2932835494662096, 0.493697134586238, 0.493697134586238, 0.9035397736491827, 1.2135812175114487, 0.6303836753015417, 0.6303836753015417, 0.6859044493308316, 0.49334593713757885, 0.49334593713757885, 1.334587193309087, 1.3208127501567324, 0.8418398106433193, 1.0541590290927296, 0.7934079857902064, 0.2644693285967355, 1.0168976796194054, 0.8876075718467676, 0.5734596616262754, 0.2867298308131377, 0.2867298308131377, 0.5170612917164049, 0.25853064585820246, 0.817391729165466, 1.0276430751650778, 0.7385121573978333, 0.990591370587026, 0.8475514036331745, 1.610961630413395, 0.39439013006885804, 0.39439013006885804, 1.0778996379403376, 0.9449863254798792, 0.4724931627399396, 0.20445938098053495, 0.6133781429416049, 0.9373912753591089, 0.5261089555727498, 0.5261089555727498, 1.3029146813732526, 0.8230226293120443, 1.0356815963339256, 0.7357507817664609, 0.8863217232242743, 0.8142324105702438, 0.6789616395642696, 1.011234770003859, 0.5537951460030451, 1.2483520886003503, 0.7415205431111578, 0.18538013577778945, 0.9328324623808627, 0.7417279664237032, 1.1364155097617803, 0.5895470448125751, 1.960530938534062, 0.9246018944789619, 0.6130176387891475, 0.7400715560700928, 0.7362210246945042, 1.0703344989971495, 0.8615291497993668, 0.6592054672140516, 0.3296027336070258, 0.6039577722763675, 0.6039577722763675, 0.9670767639641448, 0.8429121095669894, 1.456342457487191, 0.8406085813780275, 0.6556638262561594, 0.6556638262561594, 0.6121924320625599, 0.8876841755950968, 0.9795884785267139, 1.4400155448760579, 1.3624175369692528, 0.9324323938932371, 1.165968732732088, 0.33500297580647215, 0.33500297580647215, 1.214371642168932, 0.9207945171053648, 1.4961391283409544, 0.376057620575148, 0.752115241150296, 0.9593777671680151, 1.0228329748021228, 0.8457107042763825, 1.8749641110582806, 0.5342575451557366, 0.7176777290988201, 0.17941943227470503, 0.17941943227470503, 1.1056591421499704, 0.7272444359553922, 1.0907360143284488, 1.650960097637154, 0.5556774441562277, 0.27783872207811383, 0.581108221237953, 0.7585976541835772, 1.1288166830495978, 1.0792022658402078, 0.7320782732733503, 0.7026306567039845, 0.23421021890132815, 1.707504482125598, 0.821301009322098, 0.7289181448616131, 0.14578362897232264, 0.14578362897232264, 0.5773797379936327, 0.19245991266454424, 0.19245991266454424, 0.19245991266454424, 0.7891708447223272, 0.9716033940681491, 0.9329822134325083, 0.7491104926168318, 0.8675026975971313, 0.5281665386089865, 0.5281665386089865, 0.8280275305473499, 0.7797783697954114, 1.0742779709976256, 1.5873389955641197, 0.9620675061696504, 0.9737925903549921, 0.8285518784248872, 1.8249352399899357, 0.7026060404648451, 0.23420201348828168, 0.9514891714314171, 0.9514891714314171, 0.48818697077516376, 0.48818697077516376, 1.1628076740995772, 1.280266366165654, 0.8836698432589837, 0.8717897169089168, 0.6266560420205177, 0.31332802101025886, 0.639528601570624, 0.639528601570624, 1.0650220696093549, 0.7359633765277087, 0.6127410579222431, 1.2867349093226153, 1.1497687223618853, 0.5955302861522908, 0.5955302861522908, 0.8457563555032152, 0.8457563555032152, 0.7137207005790046, 0.3568603502895023, 1.2764122178070645, 0.9391559254066829, 0.48079423998150694, 0.599853994206427, 0.7981210841081369, 0.5162832433285428, 0.5162832433285428, 0.9110687891600723, 0.9109333597033376, 0.29396469955971394, 0.29396469955971394, 0.3586227962611657, 0.17931139813058286, 0.17931139813058286, 0.17931139813058286, 1.0380229256276108, 0.5726023530872331, 0.5726023530872331, 0.7558317183185155, 0.7683151437214965, 0.2561050479071655, 0.997465271492205, 0.6209958223839472, 0.6209958223839472, 0.48778139627670813, 0.48778139627670813, 0.8216273657821448, 0.8817068176243341, 0.5251432837519232, 0.6118523039225982, 0.8289210280388652, 0.16578420560777304, 0.4247965406520263, 0.4247965406520263, 0.8120260989047349, 0.9964295626539589, 1.266768726785458, 0.7173502885671993, 0.7492346365381463, 1.9394234984036072, 0.6349584996681098, 0.3174792498340549, 0.47407263667217203, 0.47407263667217203, 0.8596801028134755, 0.3545847048078462, 0.3545847048078462, 0.3545847048078462, 0.677805635821497, 1.2284326325337918, 0.880615284842491, 1.165505757434112, 0.9987582720903303, 1.257818135195969, 1.1515488973046653, 0.7159672512717936, 0.2386557504239312, 0.5402949058361295, 0.27014745291806475, 0.3161271277969383, 0.3161271277969383, 0.6520533746596195, 0.6520533746596195, 0.8267381016662407, 0.8033174126265126, 0.5905040473604108, 0.19683468245347027, 0.19683468245347027, 0.8859638294475374, 0.76379265005106, 0.7291046490732372, 0.5670953243919501, 0.8844118409070817, 1.173186917978775, 0.8967871523409515, 0.8967871523409515, 1.0404044652798203, 0.8531690163573017, 0.7638814313826183, 0.4798446690831209, 0.4798446690831209, 1.3136318551935278, 0.9601438854620427, 1.2126239372179624, 0.6146592233824453, 0.37763244590685213, 0.37763244590685213, 0.37763244590685213, 0.8226121129615596, 1.2697667794425438, 0.8825615264926389, 0.7445225583836265, 1.174280681698031, 0.3663722097502883, 0.3663722097502883, 0.6868838639811677, 0.6868838639811677, 1.0330535832460688, 0.6257281478013432, 0.9659053258681319, 0.48342800076528597, 0.9436001486780715, 1.1100731043362353, 1.8670455803230583, 0.8081701826576156, 0.6651424949808796, 0.6651424949808796, 0.769306964505715, 1.176952112381453, 0.6038833232380624, 0.6038833232380624, 0.6882168238412882, 0.9192755323501424, 0.6324652911447528, 0.21082176371491762, 0.21082176371491762, 0.7879356208086243, 0.8959003024019282, 1.1223754304718645, 0.7181355367267758, 0.2393785122422586, 0.6109861352548842, 0.6109861352548842, 1.1427231349816935, 0.7048749910668628, 0.23495833035562091, 0.8138866632248675, 0.5603003890168227, 0.1867667963389409, 1.13191935557448, 1.2091387548767074, 0.9208245540688618, 0.44059514752954093, 0.44059514752954093, 1.072204959695511, 0.880641138363424, 1.1628076740995772, 0.3932275386236003, 0.3932275386236003, 0.39656808579492203, 0.39656808579492203, 0.5509777277943643, 0.1836592425981214, 0.1836592425981214, 0.5516180339507631, 0.5516180339507631, 0.5516180339507631, 0.9364922494636945, 0.8582752346849801, 0.45786702499371046, 0.22893351249685523, 1.0589206147207386, 0.36454794465462015, 0.36454794465462015, 0.8570123828131417, 0.7132687447600232], \"Term\": [\"1930\", \"academy\", \"acc\", \"act\", \"act\", \"act\", \"ad\", \"adapt\", \"adapt\", \"ag\", \"alone\", \"also\", \"also\", \"am\", \"am\", \"another\", \"another\", \"anyone\", \"anything\", \"anything\", \"appeal\", \"art\", \"art\", \"ash\", \"ask\", \"aspect\", \"attend\", \"attract\", \"award\", \"award\", \"back\", \"back\", \"beauty\", \"beauty\", \"beauty\", \"begin\", \"begin\", \"behind\", \"believe\", \"believe\", \"belong\", \"best\", \"best\", \"best\", \"bet\", \"bit\", \"block\", \"book\", \"book\", \"boss\", \"boy\", \"boy\", \"brilliant\", \"bring\", \"bring\", \"built\", \"calls\", \"cam\", \"cam\", \"car\", \"car\", \"car\", \"carl\", \"carl\", \"carry\", \"cast\", \"cast\", \"cast\", \"cave\", \"chang\", \"character\", \"characters\", \"check\", \"christmas\", \"cinematography\", \"clark\", \"clark\", \"class\", \"class\", \"coconut\", \"coffey\", \"come\", \"comedy\", \"con\", \"conrad\", \"contain\", \"convict\", \"could\", \"country\", \"country\", \"craig\", \"crash\", \"crusoe\", \"cut\", \"cut\", \"daniel\", \"darabont\", \"dark\", \"david\", \"david\", \"dea\", \"definitely\", \"depth\", \"desert\", \"different\", \"direct\", \"direct\", \"direct\", \"dixon\", \"doctor\", \"don\", \"doug\", \"dram\", \"dram\", \"eastern\", \"edgecomb\", \"effect\", \"effect\", \"els\", \"emotion\", \"emotionally\", \"emotions\", \"end\", \"end\", \"engaging\", \"enjoy\", \"entire\", \"especially\", \"especially\", \"ev\", \"ev\", \"everyone\", \"excel\", \"excel\", \"expect\", \"experience\", \"eye\", \"eye\", \"fake\", \"family\", \"family\", \"fantasy\", \"far\", \"fbi\", \"fedex\", \"feel\", \"feel\", \"felt\", \"field\", \"fin\", \"fin\", \"fin\", \"find\", \"find\", \"fir\", \"first\", \"flight\", \"forget\", \"four\", \"frears\", \"friend\", \"friend\", \"front\", \"fun\", \"fun\", \"funny\", \"funny\", \"gary\", \"gave\", \"gave\", \"genre\", \"get\", \"giant\", \"girl\", \"girlfriend\", \"godfather\", \"going\", \"good\", \"got\", \"grant\", \"great\", \"great\", \"guard\", \"half\", \"hall\", \"hap\", \"head\", \"heard\", \"hel\", \"high\", \"hit\", \"hoechlin\", \"honest\", \"hop\", \"hop\", \"however\", \"however\", \"hunt\", \"hutchison\", \"imagination\", \"immigrant\", \"impress\", \"impress\", \"innocence\", \"interest\", \"ir\", \"isolated\", \"isolation\", \"jet\", \"jfk\", \"john\", \"john\", \"jude\", \"kid\", \"killer\", \"king\", \"king\", \"know\", \"known\", \"law\", \"leigh\", \"let\", \"life\", \"life\", \"life\", \"liked\", \"list\", \"little\", \"loneliness\", \"long\", \"long\", \"look\", \"love\", \"loved\", \"loyal\", \"luna\", \"mad\", \"mad\", \"mafia\", \"maguire\", \"mak\", \"mak\", \"mak\", \"man\", \"man\", \"man\", \"man\", \"many\", \"marvel\", \"mat\", \"maybe\", \"mean\", \"men\", \"men\", \"mend\", \"mention\", \"mike\", \"mild\", \"mob\", \"mom\", \"mors\", \"mot\", \"much\", \"much\", \"murder\", \"murder\", \"mus\", \"mus\", \"mykelti\", \"narvorski\", \"nee\", \"never\", \"new\", \"new\", \"nice\", \"nice\", \"nominated\", \"not\", \"nothing\", \"ocean\", \"oh\", \"old\", \"old\", \"opinion\", \"opinion\", \"oscar\", \"oscar\", \"pack\", \"pallana\", \"part\", \"pass\", \"passport\", \"paul\", \"paul\", \"people\", \"percy\", \"perfect\", \"perfect\", \"perform\", \"perform\", \"perform\", \"perform\", \"photograph\", \"picture\", \"picture\", \"plan\", \"play\", \"play\", \"plot\", \"portray\", \"portray\", \"pow\", \"pow\", \"pretend\", \"prison\", \"probably\", \"problem\", \"real\", \"real\", \"reason\", \"reason\", \"recommend\", \"remember\", \"rescued\", \"revenge\", \"review\", \"ridiculous\", \"right\", \"right\", \"robert\", \"robert\", \"robin\", \"role\", \"role\", \"role\", \"roles\", \"room\", \"row\", \"rules\", \"sally\", \"sam\", \"saw\", \"say\", \"say\", \"scene\", \"scene\", \"scenes\", \"scenes\", \"screen\", \"screen\", \"see\", \"seem\", \"seen\", \"seen\", \"seen\", \"several\", \"side\", \"sin\", \"someone\", \"sometimes\", \"son\", \"sort\", \"sort\", \"spec\", \"stand\", \"stanley\", \"star\", \"star\", \"step\", \"still\", \"struggles\", \"stuck\", \"support\", \"support\", \"support\", \"sur\", \"surprised\", \"survival\", \"survive\", \"survivor\", \"take\", \"take\", \"takes\", \"takes\", \"talk\", \"teach\", \"telling\", \"tells\", \"thing\", \"think\", \"thomas\", \"thought\", \"three\", \"three\", \"throughout\", \"till\", \"together\", \"together\", \"tucci\", \"tyler\", \"us\", \"us\", \"us\", \"vis\", \"volleyball\", \"walk\", \"want\", \"want\", \"war\", \"war\", \"wash\", \"watch\", \"watch\", \"water\", \"way\", \"way\", \"weak\", \"weight\", \"well\", \"whole\", \"whole\", \"wife\", \"williams\", \"williamson\", \"win\", \"win\", \"without\", \"without\", \"work\", \"work\", \"work\", \"worst\", \"worst\", \"worst\", \"would\", \"wright\", \"year\", \"year\", \"yes\", \"yet\", \"yet\", \"york\", \"young\"]}, \"R\": 30, \"lambda.step\": 0.01, \"plot.opts\": {\"xlab\": \"PC1\", \"ylab\": \"PC2\"}, \"topic.order\": [1, 3, 4, 2, 6, 5, 8, 10, 9, 7]};\n",
       "\n",
       "function LDAvis_load_lib(url, callback){\n",
       "  var s = document.createElement('script');\n",
       "  s.src = url;\n",
       "  s.async = true;\n",
       "  s.onreadystatechange = s.onload = callback;\n",
       "  s.onerror = function(){console.warn(\"failed to load library \" + url);};\n",
       "  document.getElementsByTagName(\"head\")[0].appendChild(s);\n",
       "}\n",
       "\n",
       "if(typeof(LDAvis) !== \"undefined\"){\n",
       "   // already loaded: just create the visualization\n",
       "   !function(LDAvis){\n",
       "       new LDAvis(\"#\" + \"ldavis_el8586346752596323755562146\", ldavis_el8586346752596323755562146_data);\n",
       "   }(LDAvis);\n",
       "}else if(typeof define === \"function\" && define.amd){\n",
       "   // require.js is available: use it to load d3/LDAvis\n",
       "   require.config({paths: {d3: \"https://cdnjs.cloudflare.com/ajax/libs/d3/3.5.5/d3.min\"}});\n",
       "   require([\"d3\"], function(d3){\n",
       "      window.d3 = d3;\n",
       "      LDAvis_load_lib(\"https://cdn.rawgit.com/bmabey/pyLDAvis/files/ldavis.v1.0.0.js\", function(){\n",
       "        new LDAvis(\"#\" + \"ldavis_el8586346752596323755562146\", ldavis_el8586346752596323755562146_data);\n",
       "      });\n",
       "    });\n",
       "}else{\n",
       "    // require.js not available: dynamically load d3 & LDAvis\n",
       "    LDAvis_load_lib(\"https://cdnjs.cloudflare.com/ajax/libs/d3/3.5.5/d3.min.js\", function(){\n",
       "         LDAvis_load_lib(\"https://cdn.rawgit.com/bmabey/pyLDAvis/files/ldavis.v1.0.0.js\", function(){\n",
       "                 new LDAvis(\"#\" + \"ldavis_el8586346752596323755562146\", ldavis_el8586346752596323755562146_data);\n",
       "            })\n",
       "         });\n",
       "}\n",
       "</script>"
      ],
      "text/plain": [
       "PreparedData(topic_coordinates=            Freq  cluster  topics           x           y\n",
       "topic                                                    \n",
       "0      56.753488        1       1 -296.284027  154.243622\n",
       "2       9.773451        1       2 -118.643532   69.777878\n",
       "3       9.401661        1       3   51.463665 -222.823730\n",
       "1       6.627984        1       4   45.429497  210.260712\n",
       "5       4.882103        1       5 -124.148827 -146.104523\n",
       "4       3.756906        1       6  217.488571  -90.236275\n",
       "7       3.047182        1       7   39.898861   -5.665255\n",
       "9       2.225219        1       8 -294.448669  -58.220383\n",
       "8       1.850043        1       9  215.689774  122.239082\n",
       "6       1.681964        1      10 -130.265366  286.861725, topic_info=     Category      Freq       Term     Total  loglift  logprob\n",
       "term                                                          \n",
       "82    Default  9.000000       best  9.000000  30.0000  30.0000\n",
       "369   Default  4.000000      funny  4.000000  29.0000  29.0000\n",
       "530   Default  5.000000       life  5.000000  28.0000  28.0000\n",
       "959   Default  4.000000      watch  4.000000  27.0000  27.0000\n",
       "547   Default  3.000000       love  3.000000  26.0000  26.0000\n",
       "554   Default  4.000000        mad  4.000000  25.0000  25.0000\n",
       "767   Default  4.000000        say  4.000000  24.0000  24.0000\n",
       "954   Default  4.000000       want  4.000000  23.0000  23.0000\n",
       "282   Default  7.000000         ev  7.000000  22.0000  22.0000\n",
       "37    Default  2.000000   anything  2.000000  21.0000  21.0000\n",
       "749   Default  3.000000      right  3.000000  20.0000  20.0000\n",
       "701   Default  3.000000     prison  3.000000  19.0000  19.0000\n",
       "561   Default  6.000000        mak  6.000000  18.0000  18.0000\n",
       "961   Default  5.000000        way  5.000000  17.0000  17.0000\n",
       "476   Default  3.000000   interest  3.000000  16.0000  16.0000\n",
       "11    Default  7.000000        act  7.000000  15.0000  15.0000\n",
       "443   Default  3.000000        hop  3.000000  14.0000  14.0000\n",
       "671   Default  4.000000     people  4.000000  13.0000  13.0000\n",
       "777   Default  5.000000       seen  5.000000  12.0000  12.0000\n",
       "699   Default  2.000000    pretend  2.000000  11.0000  11.0000\n",
       "540   Default  3.000000       long  3.000000  10.0000  10.0000\n",
       "674   Default  5.000000    perform  5.000000   9.0000   9.0000\n",
       "132   Default  4.000000  character  4.000000   8.0000   8.0000\n",
       "968   Default  2.000000      whole  2.000000   7.0000   7.0000\n",
       "125   Default  4.000000       cast  4.000000   6.0000   6.0000\n",
       "292   Default  2.000000     expect  2.000000   5.0000   5.0000\n",
       "622   Default  3.000000      never  3.000000   4.0000   4.0000\n",
       "719   Default  6.000000       real  6.000000   3.0000   3.0000\n",
       "668   Default  3.000000       paul  3.000000   2.0000   2.0000\n",
       "991   Default  4.000000      would  4.000000   1.0000   1.0000\n",
       "...       ...       ...        ...       ...      ...      ...\n",
       "882   Topic10  0.522983    telling  1.035298   3.4023  -3.5892\n",
       "10    Topic10  0.413819     across  0.825355   3.3948  -3.8234\n",
       "518   Topic10  0.431713      leave  0.878071   3.3752  -3.7810\n",
       "37    Topic10  1.415687   anything  2.929395   3.3580  -2.5934\n",
       "377   Topic10  0.413063        gen  1.106446   3.0999  -3.8252\n",
       "601   Topic10  0.412814       moth  1.146142   3.0640  -3.8258\n",
       "819   Topic10  0.387899  sometimes  1.130695   3.0154  -3.8880\n",
       "568   Topic10  0.361202        mat  1.071832   2.9975  -3.9594\n",
       "300   Topic10  0.520143        eye  1.586335   2.9701  -3.5947\n",
       "365   Topic10  0.696270     friend  2.535560   2.7928  -3.3031\n",
       "877   Topic10  0.424657      teach  1.598138   2.7599  -3.7975\n",
       "743   Topic10  0.353896     review  1.334695   2.7578  -3.9798\n",
       "665   Topic10  0.430416       pass  1.667072   2.7311  -3.7840\n",
       "76    Topic10  0.358888     behind  1.458886   2.6828  -3.9658\n",
       "280   Topic10  0.038220        etc  0.163893   2.6294  -6.2054\n",
       "325   Topic10  0.451390       felt  1.966766   2.6134  -3.7365\n",
       "99    Topic10  0.358117        boy  1.750779   2.4983  -3.9679\n",
       "36    Topic10  0.384264     anyone  1.887668   2.4934  -3.8975\n",
       "102   Topic10  0.338852  brilliant  1.667757   2.4915  -4.0232\n",
       "156   Topic10  0.423482       come  2.155445   2.4580  -3.8003\n",
       "292   Topic10  0.424708     expect  2.213516   2.4343  -3.7974\n",
       "883   Topic10  0.369171      tells  2.068560   2.3619  -3.9375\n",
       "697   Topic10  0.354012        pow  2.050099   2.3289  -3.9795\n",
       "554   Topic10  0.728082        mad  4.269669   2.3163  -3.2584\n",
       "398   Topic10  0.295407        got  1.805722   2.2748  -4.1604\n",
       "726   Topic10  0.086522     relate  0.567867   2.2037  -5.3884\n",
       "868   Topic10  0.366397       take  2.729465   2.0771  -3.9451\n",
       "547   Topic10  0.485981       love  3.954666   1.9887  -3.6626\n",
       "530   Topic10  0.547157       life  5.573532   1.7642  -3.5441\n",
       "961   Topic10  0.441261        way  5.354271   1.5892  -3.7592\n",
       "\n",
       "[510 rows x 6 columns], token_table=      Topic      Freq        Term\n",
       "term                             \n",
       "1         2  1.763223        1930\n",
       "7         5  0.961734     academy\n",
       "8         1  0.757935         acc\n",
       "11        1  0.669429         act\n",
       "11        2  0.133886         act\n",
       "11        5  0.133886         act\n",
       "12        1  0.691288          ad\n",
       "14        4  0.624884       adapt\n",
       "14        5  0.624884       adapt\n",
       "16        1  0.677661          ag\n",
       "22        3  0.765991       alone\n",
       "25        1  0.652208        also\n",
       "25        5  0.217403        also\n",
       "28        1  0.364750          am\n",
       "28        2  0.364750          am\n",
       "35        1  0.661088     another\n",
       "35        4  0.330544     another\n",
       "36        1  0.529754      anyone\n",
       "37        1  0.341367    anything\n",
       "37       10  0.341367    anything\n",
       "39        6  1.587339      appeal\n",
       "44        1  0.597863         art\n",
       "44        6  0.597863         art\n",
       "45        3  1.607728         ash\n",
       "47        1  1.155794         ask\n",
       "48        1  1.656451      aspect\n",
       "54        6  0.906522      attend\n",
       "55        9  1.361817     attract\n",
       "60        1  0.423395       award\n",
       "60        5  0.423395       award\n",
       "...     ...       ...         ...\n",
       "960       3  0.813887       water\n",
       "961       1  0.560300         way\n",
       "961       3  0.186767         way\n",
       "962       8  1.131919        weak\n",
       "963       3  1.209139      weight\n",
       "965       1  0.920825        well\n",
       "968       1  0.440595       whole\n",
       "968       8  0.440595       whole\n",
       "970       2  1.072205        wife\n",
       "973       1  0.880641    williams\n",
       "974       5  1.162808  williamson\n",
       "975       1  0.393228         win\n",
       "975       5  0.393228         win\n",
       "979       1  0.396568     without\n",
       "979       6  0.396568     without\n",
       "986       1  0.550978        work\n",
       "986       2  0.183659        work\n",
       "986       3  0.183659        work\n",
       "988       1  0.551618       worst\n",
       "988       6  0.551618       worst\n",
       "988       9  0.551618       worst\n",
       "991       1  0.936492       would\n",
       "992       5  0.858275      wright\n",
       "995       1  0.457867        year\n",
       "995       3  0.228934        year\n",
       "996       9  1.058921         yes\n",
       "997       1  0.364548         yet\n",
       "997       4  0.364548         yet\n",
       "998       6  0.857012        york\n",
       "999       2  0.713269       young\n",
       "\n",
       "[443 rows x 3 columns], R=30, lambda_step=0.01, plot_opts={'xlab': 'PC1', 'ylab': 'PC2'}, topic_order=[1, 3, 4, 2, 6, 5, 8, 10, 9, 7])"
      ]
     },
     "execution_count": 43,
     "metadata": {},
     "output_type": "execute_result"
    }
   ],
   "source": [
    "# Help by https://www.machinelearningplus.com/nlp/topic-modeling-python-sklearn-examples/\n",
    "pyLDAvis.enable_notebook()\n",
    "panel = pyLDAvis.sklearn.prepare(nmf, tf, tf_vectorizer, mds='tsne')\n",
    "panel"
   ]
  },
  {
   "cell_type": "markdown",
   "metadata": {},
   "source": [
    "### Heatmap"
   ]
  },
  {
   "cell_type": "code",
   "execution_count": 44,
   "metadata": {},
   "outputs": [],
   "source": [
    "words = tf_vectorizer.get_feature_names()"
   ]
  },
  {
   "cell_type": "code",
   "execution_count": 45,
   "metadata": {},
   "outputs": [
    {
     "data": {
      "image/png": "[encoded data removed]",
      "text/plain": [
       "<Figure size 1008x576 with 2 Axes>"
      ]
     },
     "metadata": {},
     "output_type": "display_data"
    }
   ],
   "source": [
    "sns.heatmap(pd.DataFrame(tf.todense(), columns=words), cmap='Blues')\n",
    "plt.gcf().set_size_inches(14, 8)"
   ]
  },
  {
   "cell_type": "markdown",
   "metadata": {},
   "source": [
    "### Frequency of categories and topics"
   ]
  },
  {
   "cell_type": "code",
   "execution_count": 46,
   "metadata": {},
   "outputs": [
    {
     "data": {
      "text/html": [
       "<div>\n",
       "<style scoped>\n",
       "    .dataframe tbody tr th:only-of-type {\n",
       "        vertical-align: middle;\n",
       "    }\n",
       "\n",
       "    .dataframe tbody tr th {\n",
       "        vertical-align: top;\n",
       "    }\n",
       "\n",
       "    .dataframe thead th {\n",
       "        text-align: right;\n",
       "    }\n",
       "</style>\n",
       "<table border=\"1\" class=\"dataframe\">\n",
       "  <thead>\n",
       "    <tr style=\"text-align: right;\">\n",
       "      <th></th>\n",
       "      <th>group</th>\n",
       "      <th>primary_topic</th>\n",
       "      <th>primary_topics_text</th>\n",
       "      <th>text</th>\n",
       "      <th>x</th>\n",
       "      <th>y</th>\n",
       "    </tr>\n",
       "  </thead>\n",
       "  <tbody>\n",
       "  </tbody>\n",
       "</table>\n",
       "</div>"
      ],
      "text/plain": [
       "Empty DataFrame\n",
       "Columns: [group, primary_topic, primary_topics_text, text, x, y]\n",
       "Index: []"
      ]
     },
     "execution_count": 46,
     "metadata": {},
     "output_type": "execute_result"
    }
   ],
   "source": [
    "category_df[category_df['primary_topics_text'] == 'products art never us cent provide profit unfortunately expense pond']"
   ]
  },
  {
   "cell_type": "code",
   "execution_count": 47,
   "metadata": {},
   "outputs": [
    {
     "data": {
      "text/plain": [
       "<matplotlib.axes._subplots.AxesSubplot at 0x1146fcda0>"
      ]
     },
     "execution_count": 47,
     "metadata": {},
     "output_type": "execute_result"
    },
    {
     "data": {
      "image/png": "[encoded data removed]",
      "text/plain": [
       "<Figure size 432x288 with 2 Axes>"
      ]
     },
     "metadata": {},
     "output_type": "display_data"
    }
   ],
   "source": [
    "sns.heatmap(category_df.groupby(['primary_topics_text', 'group']).size().unstack())"
   ]
  },
  {
   "cell_type": "code",
   "execution_count": 48,
   "metadata": {},
   "outputs": [
    {
     "data": {
      "text/html": [
       "<div>\n",
       "<style scoped>\n",
       "    .dataframe tbody tr th:only-of-type {\n",
       "        vertical-align: middle;\n",
       "    }\n",
       "\n",
       "    .dataframe tbody tr th {\n",
       "        vertical-align: top;\n",
       "    }\n",
       "\n",
       "    .dataframe thead th {\n",
       "        text-align: right;\n",
       "    }\n",
       "</style>\n",
       "<table border=\"1\" class=\"dataframe\">\n",
       "  <thead>\n",
       "    <tr style=\"text-align: right;\">\n",
       "      <th>group</th>\n",
       "      <th>cast_away</th>\n",
       "      <th>catch_me_if_you_can</th>\n",
       "      <th>forest_gump</th>\n",
       "      <th>green_mile</th>\n",
       "      <th>road_to_perdition</th>\n",
       "      <th>terminal</th>\n",
       "    </tr>\n",
       "    <tr>\n",
       "      <th>primary_topics_text</th>\n",
       "      <th></th>\n",
       "      <th></th>\n",
       "      <th></th>\n",
       "      <th></th>\n",
       "      <th></th>\n",
       "      <th></th>\n",
       "    </tr>\n",
       "  </thead>\n",
       "  <tbody>\n",
       "    <tr>\n",
       "      <th>act ev real mak good well see great get life</th>\n",
       "      <td>10.0</td>\n",
       "      <td>21.0</td>\n",
       "      <td>21.0</td>\n",
       "      <td>9.0</td>\n",
       "      <td>11.0</td>\n",
       "      <td>18.0</td>\n",
       "    </tr>\n",
       "    <tr>\n",
       "      <th>anything innocence mad friend grant life telling eye magnificent love</th>\n",
       "      <td>1.0</td>\n",
       "      <td>NaN</td>\n",
       "      <td>1.0</td>\n",
       "      <td>NaN</td>\n",
       "      <td>NaN</td>\n",
       "      <td>NaN</td>\n",
       "    </tr>\n",
       "    <tr>\n",
       "      <th>best academy award sin perfect win oscar star nominated act</th>\n",
       "      <td>NaN</td>\n",
       "      <td>1.0</td>\n",
       "      <td>2.0</td>\n",
       "      <td>1.0</td>\n",
       "      <td>1.0</td>\n",
       "      <td>NaN</td>\n",
       "    </tr>\n",
       "    <tr>\n",
       "      <th>con mend law young cinematography paul hoechlin boss beauty hall</th>\n",
       "      <td>NaN</td>\n",
       "      <td>NaN</td>\n",
       "      <td>NaN</td>\n",
       "      <td>NaN</td>\n",
       "      <td>13.0</td>\n",
       "      <td>NaN</td>\n",
       "    </tr>\n",
       "    <tr>\n",
       "      <th>fake immigrant right attract fantasy rules oh eastern imagination yes</th>\n",
       "      <td>NaN</td>\n",
       "      <td>NaN</td>\n",
       "      <td>NaN</td>\n",
       "      <td>NaN</td>\n",
       "      <td>NaN</td>\n",
       "      <td>2.0</td>\n",
       "    </tr>\n",
       "    <tr>\n",
       "      <th>funny pretend doctor carl tells say watch cut pass want</th>\n",
       "      <td>NaN</td>\n",
       "      <td>3.0</td>\n",
       "      <td>1.0</td>\n",
       "      <td>NaN</td>\n",
       "      <td>NaN</td>\n",
       "      <td>NaN</td>\n",
       "    </tr>\n",
       "    <tr>\n",
       "      <th>gave whole long hop till emotion weak depth bring giant</th>\n",
       "      <td>NaN</td>\n",
       "      <td>NaN</td>\n",
       "      <td>NaN</td>\n",
       "      <td>3.0</td>\n",
       "      <td>NaN</td>\n",
       "      <td>NaN</td>\n",
       "    </tr>\n",
       "    <tr>\n",
       "      <th>plan fedex volleyball wash nee hunt crash find hel survive</th>\n",
       "      <td>14.0</td>\n",
       "      <td>NaN</td>\n",
       "      <td>NaN</td>\n",
       "      <td>NaN</td>\n",
       "      <td>NaN</td>\n",
       "      <td>NaN</td>\n",
       "    </tr>\n",
       "    <tr>\n",
       "      <th>prison guard edgecomb coffey paul darabont king clark hutchison john</th>\n",
       "      <td>NaN</td>\n",
       "      <td>NaN</td>\n",
       "      <td>NaN</td>\n",
       "      <td>12.0</td>\n",
       "      <td>NaN</td>\n",
       "      <td>NaN</td>\n",
       "    </tr>\n",
       "    <tr>\n",
       "      <th>stuck luna passport tucci war stanley attend york pallana flight</th>\n",
       "      <td>NaN</td>\n",
       "      <td>NaN</td>\n",
       "      <td>NaN</td>\n",
       "      <td>NaN</td>\n",
       "      <td>NaN</td>\n",
       "      <td>5.0</td>\n",
       "    </tr>\n",
       "  </tbody>\n",
       "</table>\n",
       "</div>"
      ],
      "text/plain": [
       "group                                               cast_away  \\\n",
       "primary_topics_text                                             \n",
       "act ev real mak good well see great get life             10.0   \n",
       "anything innocence mad friend grant life tellin...        1.0   \n",
       "best academy award sin perfect win oscar star n...        NaN   \n",
       "con mend law young cinematography paul hoechlin...        NaN   \n",
       "fake immigrant right attract fantasy rules oh e...        NaN   \n",
       "funny pretend doctor carl tells say watch cut p...        NaN   \n",
       "gave whole long hop till emotion weak depth bri...        NaN   \n",
       "plan fedex volleyball wash nee hunt crash find ...       14.0   \n",
       "prison guard edgecomb coffey paul darabont king...        NaN   \n",
       "stuck luna passport tucci war stanley attend yo...        NaN   \n",
       "\n",
       "group                                               catch_me_if_you_can  \\\n",
       "primary_topics_text                                                       \n",
       "act ev real mak good well see great get life                       21.0   \n",
       "anything innocence mad friend grant life tellin...                  NaN   \n",
       "best academy award sin perfect win oscar star n...                  1.0   \n",
       "con mend law young cinematography paul hoechlin...                  NaN   \n",
       "fake immigrant right attract fantasy rules oh e...                  NaN   \n",
       "funny pretend doctor carl tells say watch cut p...                  3.0   \n",
       "gave whole long hop till emotion weak depth bri...                  NaN   \n",
       "plan fedex volleyball wash nee hunt crash find ...                  NaN   \n",
       "prison guard edgecomb coffey paul darabont king...                  NaN   \n",
       "stuck luna passport tucci war stanley attend yo...                  NaN   \n",
       "\n",
       "group                                               forest_gump  green_mile  \\\n",
       "primary_topics_text                                                           \n",
       "act ev real mak good well see great get life               21.0         9.0   \n",
       "anything innocence mad friend grant life tellin...          1.0         NaN   \n",
       "best academy award sin perfect win oscar star n...          2.0         1.0   \n",
       "con mend law young cinematography paul hoechlin...          NaN         NaN   \n",
       "fake immigrant right attract fantasy rules oh e...          NaN         NaN   \n",
       "funny pretend doctor carl tells say watch cut p...          1.0         NaN   \n",
       "gave whole long hop till emotion weak depth bri...          NaN         3.0   \n",
       "plan fedex volleyball wash nee hunt crash find ...          NaN         NaN   \n",
       "prison guard edgecomb coffey paul darabont king...          NaN        12.0   \n",
       "stuck luna passport tucci war stanley attend yo...          NaN         NaN   \n",
       "\n",
       "group                                               road_to_perdition  \\\n",
       "primary_topics_text                                                     \n",
       "act ev real mak good well see great get life                     11.0   \n",
       "anything innocence mad friend grant life tellin...                NaN   \n",
       "best academy award sin perfect win oscar star n...                1.0   \n",
       "con mend law young cinematography paul hoechlin...               13.0   \n",
       "fake immigrant right attract fantasy rules oh e...                NaN   \n",
       "funny pretend doctor carl tells say watch cut p...                NaN   \n",
       "gave whole long hop till emotion weak depth bri...                NaN   \n",
       "plan fedex volleyball wash nee hunt crash find ...                NaN   \n",
       "prison guard edgecomb coffey paul darabont king...                NaN   \n",
       "stuck luna passport tucci war stanley attend yo...                NaN   \n",
       "\n",
       "group                                               terminal  \n",
       "primary_topics_text                                           \n",
       "act ev real mak good well see great get life            18.0  \n",
       "anything innocence mad friend grant life tellin...       NaN  \n",
       "best academy award sin perfect win oscar star n...       NaN  \n",
       "con mend law young cinematography paul hoechlin...       NaN  \n",
       "fake immigrant right attract fantasy rules oh e...       2.0  \n",
       "funny pretend doctor carl tells say watch cut p...       NaN  \n",
       "gave whole long hop till emotion weak depth bri...       NaN  \n",
       "plan fedex volleyball wash nee hunt crash find ...       NaN  \n",
       "prison guard edgecomb coffey paul darabont king...       NaN  \n",
       "stuck luna passport tucci war stanley attend yo...       5.0  "
      ]
     },
     "execution_count": 48,
     "metadata": {},
     "output_type": "execute_result"
    }
   ],
   "source": [
    "category_df.groupby(['primary_topics_text', 'group']).size().unstack()"
   ]
  }
 ],
 "metadata": {
  "kernelspec": {
   "display_name": "Python 3",
   "language": "python",
   "name": "python3"
  },
  "language_info": {
   "codemirror_mode": {
    "name": "ipython",
    "version": 3
   },
   "file_extension": ".py",
   "mimetype": "text/x-python",
   "name": "python",
   "nbconvert_exporter": "python",
   "pygments_lexer": "ipython3",
   "version": "3.6.5"
  }
 },
 "nbformat": 4,
 "nbformat_minor": 2
}

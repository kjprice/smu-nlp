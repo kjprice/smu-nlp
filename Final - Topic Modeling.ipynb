{
 "cells": [
  {
   "cell_type": "code",
   "execution_count": 1,
   "metadata": {},
   "outputs": [
    {
     "name": "stdout",
     "output_type": "stream",
     "text": [
      "bs4 4.6.3\n",
      "sklearn 0.19.1\n",
      "nltk 3.3\n",
      "re 2.2.1\n",
      "requests 2.19.1\n",
      "pandas 0.22.0\n",
      "seaborn 0.8.1\n"
     ]
    }
   ],
   "source": [
    "import bs4; print( 'bs4 ' + bs4.__version__)\n",
    "from bs4 import BeautifulSoup, SoupStrainer\n",
    "\n",
    "import sklearn; print( 'sklearn ' + sklearn.__version__)\n",
    "from sklearn.feature_extraction.text import CountVectorizer\n",
    "from sklearn.decomposition import NMF, LatentDirichletAllocation\n",
    "from sklearn.manifold import TSNE\n",
    "\n",
    "import nltk; print( 'nltk ' + nltk.__version__)\n",
    "from nltk import word_tokenize, pos_tag, RegexpParser;\n",
    "from nltk.corpus import stopwords\n",
    "from nltk.tokenize import sent_tokenize\n",
    "from nltk.stem.porter import PorterStemmer\n",
    "from nltk.stem import SnowballStemmer, LancasterStemmer\n",
    "\n",
    "# from autocorrect import spell; print('autocorrect 0.3.0')\n",
    "\n",
    "import re; print('re ' + re.__version__)\n",
    "import requests; print('requests ' + requests.__version__)\n",
    "\n",
    "import pandas as pd; print('pandas ' + pd.__version__)\n",
    "import seaborn as sns; print('seaborn ' + sns.__version__)"
   ]
  },
  {
   "cell_type": "markdown",
   "metadata": {},
   "source": [
    "# Final Project - Topic Modeling\n",
    "\n",
    "First we continue where we left off with [Homework 5](https://github.com/kjprice/smu-nlp/blob/e769b93945e6f45ae90aab3ec53b6595ae7bc7da/homework/Homework%205.ipynb)."
   ]
  },
  {
   "cell_type": "markdown",
   "metadata": {},
   "source": [
    "### Code from Homework 5\n"
   ]
  },
  {
   "cell_type": "code",
   "execution_count": 2,
   "metadata": {},
   "outputs": [],
   "source": [
    "# The home page for various movies' reviews, from which will get the links for individual reviews\n",
    "review_home_urls = {\n",
    "    'green_mile': 'https://www.imdb.com/title/tt0120689/reviews?ref_=tt_ql_3',\n",
    "    'forest_gump': 'https://www.imdb.com/title/tt0109830/reviews?ref_=tt_ov_rt',\n",
    "    'cast_away': 'https://www.imdb.com/title/tt0162222/reviews?ref_=tt_ov_rt',\n",
    "    'terminal': 'https://www.imdb.com/title/tt0362227/reviews?ref_=tt_ql_3',\n",
    "    'catch_me_if_you_can': 'https://www.imdb.com/title/tt0264464/reviews?ref_=tt_ql_3',\n",
    "    'road_to_perdition': 'https://www.imdb.com/title/tt0257044/reviews?ref_=tt_ql_3',\n",
    "}\n",
    "def get_text_from_url(url):\n",
    "    return requests.get(url).text\n",
    "text = get_text_from_url(review_home_urls['green_mile'])\n"
   ]
  },
  {
   "cell_type": "code",
   "execution_count": 3,
   "metadata": {},
   "outputs": [],
   "source": [
    "def get_all_links_from_html(html):\n",
    "    tags = BeautifulSoup(html, 'html.parser', parse_only=SoupStrainer('a', href=True))\n",
    "    urls = [str(tag.attrs['href']) for tag in tags]\n",
    "    return urls\n",
    "all_links = get_all_links_from_html(text)"
   ]
  },
  {
   "cell_type": "code",
   "execution_count": 4,
   "metadata": {},
   "outputs": [],
   "source": [
    "def get_review_urls_from_links(links):\n",
    "    url_template = 'https://www.imdb.com{}'\n",
    "    # url_template = 'http://www.gutenberg.org/files/{}/{}-h/{}-h.htm'\n",
    "    return [url_template.format(link) for link in links]\n",
    "\n",
    "urls = get_review_urls_from_links(all_links)"
   ]
  },
  {
   "cell_type": "code",
   "execution_count": 5,
   "metadata": {},
   "outputs": [],
   "source": [
    "def relevent_link(link):\n",
    "    if '/review/' in link:\n",
    "        return True\n",
    "    return False"
   ]
  },
  {
   "cell_type": "code",
   "execution_count": 6,
   "metadata": {},
   "outputs": [
    {
     "data": {
      "text/plain": [
       "25"
      ]
     },
     "execution_count": 6,
     "metadata": {},
     "output_type": "execute_result"
    }
   ],
   "source": [
    "def get_relevent_links(links):\n",
    "    relevent_links = filter(relevent_link, all_links)\n",
    "    unique_relevent_links = set(relevent_links)\n",
    "    return list(unique_relevent_links)\n",
    "relevent_urls = get_relevent_links(urls)\n",
    "len(relevent_urls)"
   ]
  },
  {
   "cell_type": "code",
   "execution_count": 7,
   "metadata": {},
   "outputs": [],
   "source": [
    "def strain_content(name, attrs):\n",
    "    if name == 'div' and dict(attrs).get('class', None) == 'content':\n",
    "        return True\n",
    "    return False\n",
    "def clean_review_text(text):\n",
    "    return re.split('\\\\n\\\\n\\s+\\d+ out of \\d+', text)[0]\n",
    "def get_review_from_url(url):\n",
    "    html = get_text_from_url(url)\n",
    "    tags = BeautifulSoup(html, 'html.parser', parse_only=SoupStrainer(strain_content))\n",
    "    review = clean_review_text(tags.text)\n",
    "    return review"
   ]
  },
  {
   "cell_type": "code",
   "execution_count": 8,
   "metadata": {},
   "outputs": [],
   "source": [
    "def get_review_from_site(url):\n",
    "    reviews = []\n",
    "\n",
    "    reviews_home_text = get_text_from_url(url)\n",
    "    all_links = get_all_links_from_html(reviews_home_text)\n",
    "    relevent_links = get_relevent_links(all_links)\n",
    "\n",
    "    \n",
    "    \n",
    "    \n",
    "    review_urls = get_review_urls_from_links(relevent_links)\n",
    "    for url in review_urls:\n",
    "        reviews.append(get_review_from_url(url))\n",
    "        # break\n",
    "    return reviews"
   ]
  },
  {
   "cell_type": "code",
   "execution_count": 9,
   "metadata": {},
   "outputs": [],
   "source": [
    "def get_reviews_from_all_sites():\n",
    "    all_reviews = []\n",
    "    review_titles = review_home_urls.keys()\n",
    "    for title in review_titles:\n",
    "        review_home_url = review_home_urls[title]\n",
    "        all_reviews = all_reviews + get_review_from_site(review_home_url)\n",
    "    return all_reviews"
   ]
  },
  {
   "cell_type": "markdown",
   "metadata": {},
   "source": [
    "## Retrieve All Reviews"
   ]
  },
  {
   "cell_type": "code",
   "execution_count": 10,
   "metadata": {},
   "outputs": [],
   "source": [
    "all_reviews = get_reviews_from_all_sites()"
   ]
  },
  {
   "cell_type": "code",
   "execution_count": 11,
   "metadata": {},
   "outputs": [
    {
     "data": {
      "text/plain": [
       "150"
      ]
     },
     "execution_count": 11,
     "metadata": {},
     "output_type": "execute_result"
    }
   ],
   "source": [
    "len(all_reviews)"
   ]
  },
  {
   "cell_type": "code",
   "execution_count": 12,
   "metadata": {},
   "outputs": [
    {
     "data": {
      "text/plain": [
       "'\\nNow a resident in a rest home, one time head warden on death row, Paul Edgecomb, is struggling with'"
      ]
     },
     "execution_count": 12,
     "metadata": {},
     "output_type": "execute_result"
    }
   ],
   "source": [
    "all_reviews[0][0:100]"
   ]
  },
  {
   "cell_type": "markdown",
   "metadata": {},
   "source": [
    "## Preprocess Data"
   ]
  },
  {
   "cell_type": "code",
   "execution_count": 13,
   "metadata": {},
   "outputs": [],
   "source": [
    "def sentences_to_words(sentences):\n",
    "    return [word_tokenize(sentence) for sentence in sentences]\n",
    "# sentences_to_words([all_reviews[0]])[0][0:5]"
   ]
  },
  {
   "cell_type": "code",
   "execution_count": 14,
   "metadata": {},
   "outputs": [
    {
     "data": {
      "text/plain": [
       "['boss', '.']"
      ]
     },
     "execution_count": 14,
     "metadata": {},
     "output_type": "execute_result"
    }
   ],
   "source": [
    "custom_stop_words = ['the', 'green', 'mile', 'shawshank', 'redemption', 'one']\n",
    "stop_words = custom_stop_words + stopwords.words('english')\n",
    "def remove_stop_words(words):\n",
    "    return [word for word in words if word not in stop_words]\n",
    "remove_stop_words(['he', 'her', 'boss', '.', 'the'])"
   ]
  },
  {
   "cell_type": "code",
   "execution_count": 15,
   "metadata": {},
   "outputs": [],
   "source": [
    "def include_only_numbers_and_letters(words):\n",
    "    regex_matcher = '^[a-zA-Z0-9]+$'\n",
    "    return [word for word in words if re.match(regex_matcher, word)]\n",
    "# include_only_numbers_and_letters(['1', 'KJ', '.'])"
   ]
  },
  {
   "cell_type": "code",
   "execution_count": 16,
   "metadata": {},
   "outputs": [],
   "source": [
    "#stemmer = PorterStemmer()\n",
    "#stemmer = SnowballStemmer('english')\n",
    "stemmer = LancasterStemmer()\n",
    "def lemmatize_words(words):\n",
    "    return [stemmer.stem(word) for word in words]\n",
    "# lemmatize_words(['running', 'fastest', 'hats'])"
   ]
  },
  {
   "cell_type": "code",
   "execution_count": 17,
   "metadata": {},
   "outputs": [
    {
     "data": {
      "text/plain": [
       "['resident', 'rest', 'home', 'time', 'head']"
      ]
     },
     "execution_count": 17,
     "metadata": {},
     "output_type": "execute_result"
    }
   ],
   "source": [
    "def preprocess_documents(documents):\n",
    "    documents_with_formatted_words = [document.lower().strip() for document in documents]\n",
    "    documents_of_words = sentences_to_words(documents_with_formatted_words)\n",
    "    content_words_and_characters = [remove_stop_words(words) for words in documents_of_words]\n",
    "    content_words = [include_only_numbers_and_letters(characters) for characters in content_words_and_characters]\n",
    "    #lematized_words = [lemmatize_words(words) for words in content_words]\n",
    "    return content_words  \n",
    "preprocess_documents(all_reviews[0:2])[0][0:5]"
   ]
  },
  {
   "cell_type": "code",
   "execution_count": 18,
   "metadata": {},
   "outputs": [
    {
     "data": {
      "text/plain": [
       "['resident', 'rest', 'home', 'time', 'head', 'warden', 'death']"
      ]
     },
     "execution_count": 18,
     "metadata": {},
     "output_type": "execute_result"
    }
   ],
   "source": [
    "documents_of_words = preprocess_documents(all_reviews)\n",
    "documents_of_words[0][0:7]"
   ]
  },
  {
   "cell_type": "markdown",
   "metadata": {},
   "source": [
    "### Take a look at words"
   ]
  },
  {
   "cell_type": "code",
   "execution_count": 19,
   "metadata": {},
   "outputs": [
    {
     "data": {
      "text/plain": [
       "17454"
      ]
     },
     "execution_count": 19,
     "metadata": {},
     "output_type": "execute_result"
    }
   ],
   "source": [
    "list_of_all_words = [word for document in documents_of_words for word in document]\n",
    "len(list_of_all_words)"
   ]
  },
  {
   "cell_type": "code",
   "execution_count": 20,
   "metadata": {},
   "outputs": [
    {
     "data": {
      "text/plain": [
       "1330"
      ]
     },
     "execution_count": 20,
     "metadata": {},
     "output_type": "execute_result"
    }
   ],
   "source": [
    "# Unique Words\n",
    "len(set(list_of_all_words))"
   ]
  },
  {
   "cell_type": "markdown",
   "metadata": {},
   "source": [
    "### Flatten documents back to sentences"
   ]
  },
  {
   "cell_type": "code",
   "execution_count": 21,
   "metadata": {},
   "outputs": [],
   "source": [
    "flattened_documents = [' '.join(document) for document in documents_of_words]"
   ]
  },
  {
   "cell_type": "markdown",
   "metadata": {},
   "source": [
    "## Perform Topic Modeling"
   ]
  },
  {
   "cell_type": "markdown",
   "metadata": {},
   "source": [
    "Inspired, in part by https://medium.com/mlreview/topic-modeling-with-scikit-learn-e80d33668730"
   ]
  },
  {
   "cell_type": "code",
   "execution_count": 22,
   "metadata": {},
   "outputs": [],
   "source": [
    "# Settings\n",
    "NUMBER_OF_FEATURES = 1000\n",
    "NUMBER_OF_TOPICS  = 10\n",
    "NUMBER_OF_TOP_WORDS = 10"
   ]
  },
  {
   "cell_type": "code",
   "execution_count": 23,
   "metadata": {},
   "outputs": [],
   "source": [
    "# Helper function \n",
    "def display_topics(model, feature_names, no_top_words):\n",
    "    for topic_idx, topic in enumerate(model.components_):\n",
    "        print (\"Topic {}:\".format(topic_idx))\n",
    "        stuff = \" \".join([feature_names[i]\n",
    "                        for i in topic.argsort()[:-no_top_words - 1:-1]])\n",
    "        print (stuff)"
   ]
  },
  {
   "cell_type": "markdown",
   "metadata": {},
   "source": [
    "### Vectorize (Bag Of Words)"
   ]
  },
  {
   "cell_type": "code",
   "execution_count": 24,
   "metadata": {},
   "outputs": [],
   "source": [
    "tf_vectorizer = CountVectorizer(max_features=NUMBER_OF_FEATURES)\n",
    "tf = tf_vectorizer.fit_transform(flattened_documents)\n",
    "tf_feature_names = tf_vectorizer.get_feature_names()"
   ]
  },
  {
   "cell_type": "code",
   "execution_count": 25,
   "metadata": {},
   "outputs": [
    {
     "data": {
      "text/plain": [
       "'resident rest home time head warden death row paul edgecomb struggling untold memories film brings b'"
      ]
     },
     "execution_count": 25,
     "metadata": {},
     "output_type": "execute_result"
    }
   ],
   "source": [
    "flattened_documents[0][0:100]"
   ]
  },
  {
   "cell_type": "markdown",
   "metadata": {},
   "source": [
    "### NMF"
   ]
  },
  {
   "cell_type": "code",
   "execution_count": 26,
   "metadata": {},
   "outputs": [],
   "source": [
    "nmf = NMF(n_components=NUMBER_OF_TOPICS, random_state=1, alpha=.1, l1_ratio=.5, init='nndsvd').fit(tf)"
   ]
  },
  {
   "cell_type": "code",
   "execution_count": 27,
   "metadata": {},
   "outputs": [
    {
     "name": "stdout",
     "output_type": "stream",
     "text": [
      "Topic 0:\n",
      "movie seen time movies like ever tom hanks hours ca\n",
      "Topic 1:\n",
      "best come like duncan film block hanks michael certainly also\n",
      "Topic 2:\n",
      "paul film movie think michael year coffey death john man\n",
      "Topic 3:\n",
      "film long time however many story emotion feel performance get\n",
      "Topic 4:\n",
      "duncan hanks edgecomb tom paul film percy michael find role\n",
      "Topic 5:\n",
      "men story prison edgecomb king steven stay movie true man\n",
      "Topic 6:\n",
      "movie book great would read see performances king people michael\n",
      "Topic 7:\n",
      "movie cast yet events michael find three prison story depth\n",
      "Topic 8:\n",
      "story book screen film like king length never three darabont\n",
      "Topic 9:\n",
      "make film john paul duncan coffey darabont cast time pain\n"
     ]
    }
   ],
   "source": [
    "display_topics(nmf, tf_feature_names, NUMBER_OF_TOP_WORDS)"
   ]
  },
  {
   "cell_type": "markdown",
   "metadata": {},
   "source": [
    "### LDA"
   ]
  },
  {
   "cell_type": "code",
   "execution_count": 28,
   "metadata": {
    "scrolled": true
   },
   "outputs": [
    {
     "name": "stderr",
     "output_type": "stream",
     "text": [
      "/usr/local/lib/python3.6/site-packages/sklearn/decomposition/online_lda.py:294: DeprecationWarning: n_topics has been renamed to n_components in version 0.19 and will be removed in 0.21\n",
      "  DeprecationWarning)\n"
     ]
    }
   ],
   "source": [
    "lda = LatentDirichletAllocation(n_topics=NUMBER_OF_TOPICS, max_iter=50, learning_method='online', learning_offset=50.,random_state=0).fit(tf)"
   ]
  },
  {
   "cell_type": "code",
   "execution_count": 29,
   "metadata": {},
   "outputs": [
    {
     "name": "stdout",
     "output_type": "stream",
     "text": [
      "Topic 0:\n",
      "stick absolutely condition shallow us would films either effects special\n",
      "Topic 1:\n",
      "film ever love world duncan like hope box brought human\n",
      "Topic 2:\n",
      "movie book see story paul michael great performances mind year\n",
      "Topic 3:\n",
      "story never book screen like film darabont hours three job\n",
      "Topic 4:\n",
      "story human adds like mind movie others people exist kind\n",
      "Topic 5:\n",
      "movie cast long performance michael hanks time story yet film\n",
      "Topic 6:\n",
      "film duncan story king hanks like best michael movie tom\n",
      "Topic 7:\n",
      "film cast coffey see michael duncan expression production john performances\n",
      "Topic 8:\n",
      "make film cast emotive paul pain time john every brilliant\n",
      "Topic 9:\n",
      "movie seen hours think hanks many tom time movies would\n"
     ]
    }
   ],
   "source": [
    "display_topics(lda, tf_feature_names, NUMBER_OF_TOP_WORDS)"
   ]
  },
  {
   "cell_type": "markdown",
   "metadata": {},
   "source": [
    "# Visualizations"
   ]
  },
  {
   "cell_type": "markdown",
   "metadata": {},
   "source": [
    "With help from https://shuaiw.github.io/2016/12/22/topic-modeling-and-tsne-visualzation.html"
   ]
  },
  {
   "cell_type": "code",
   "execution_count": 30,
   "metadata": {},
   "outputs": [],
   "source": [
    "tsne_model = TSNE(n_components=2, verbose=1, random_state=0, angle=.99, init='pca')"
   ]
  },
  {
   "cell_type": "code",
   "execution_count": 31,
   "metadata": {},
   "outputs": [
    {
     "name": "stdout",
     "output_type": "stream",
     "text": [
      "[t-SNE] Computing 91 nearest neighbors...\n",
      "[t-SNE] Indexed 150 samples in 0.000s...\n",
      "[t-SNE] Computed neighbors for 150 samples in 0.003s...\n",
      "[t-SNE] Computed conditional probabilities for sample 150 / 150\n",
      "[t-SNE] Mean sigma: 6.877037\n",
      "[t-SNE] KL divergence after 250 iterations with early exaggeration: 57.427208\n",
      "[t-SNE] Error after 1000 iterations: -3.722503\n"
     ]
    }
   ],
   "source": [
    "tsne_lda = tsne_model.fit_transform(tf.toarray())"
   ]
  },
  {
   "cell_type": "code",
   "execution_count": 32,
   "metadata": {},
   "outputs": [],
   "source": [
    "categories = review_home_urls.keys()"
   ]
  },
  {
   "cell_type": "code",
   "execution_count": 33,
   "metadata": {},
   "outputs": [],
   "source": [
    "categories_vector = []\n",
    "for category in categories:\n",
    "    for i in range(int(len(all_reviews) / len(categories))):\n",
    "        categories_vector.append(category)"
   ]
  },
  {
   "cell_type": "code",
   "execution_count": 34,
   "metadata": {},
   "outputs": [
    {
     "data": {
      "text/plain": [
       "dict_keys(['green_mile', 'forest_gump', 'cast_away', 'terminal', 'catch_me_if_you_can', 'road_to_perdition'])"
      ]
     },
     "execution_count": 34,
     "metadata": {},
     "output_type": "execute_result"
    }
   ],
   "source": [
    "categories"
   ]
  },
  {
   "cell_type": "code",
   "execution_count": 36,
   "metadata": {},
   "outputs": [],
   "source": [
    "x = pd.DataFrame({\n",
    "    'x': tsne_lda[:, 0],\n",
    "    'y': tsne_lda[:, 1],\n",
    "    'group': categories_vector\n",
    "})"
   ]
  },
  {
   "cell_type": "code",
   "execution_count": 37,
   "metadata": {},
   "outputs": [
    {
     "data": {
      "text/plain": [
       "<seaborn.axisgrid.FacetGrid at 0x10c8d4978>"
      ]
     },
     "execution_count": 37,
     "metadata": {},
     "output_type": "execute_result"
    },
    {
     "data": {
      "image/png": "[encoded data removed]",
      "text/plain": [
       "<Figure size 501.875x360 with 1 Axes>"
      ]
     },
     "metadata": {},
     "output_type": "display_data"
    }
   ],
   "source": [
    "sns.lmplot(x='x', y='y', fit_reg=False, data=x, hue='group')"
   ]
  },
  {
   "cell_type": "code",
   "execution_count": null,
   "metadata": {},
   "outputs": [],
   "source": []
  }
 ],
 "metadata": {
  "kernelspec": {
   "display_name": "Python 3",
   "language": "python",
   "name": "python3"
  },
  "language_info": {
   "codemirror_mode": {
    "name": "ipython",
    "version": 3
   },
   "file_extension": ".py",
   "mimetype": "text/x-python",
   "name": "python",
   "nbconvert_exporter": "python",
   "pygments_lexer": "ipython3",
   "version": "3.6.5"
  }
 },
 "nbformat": 4,
 "nbformat_minor": 2
}

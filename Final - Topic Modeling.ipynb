{
 "cells": [
  {
   "cell_type": "code",
   "execution_count": 177,
   "metadata": {},
   "outputs": [
    {
     "name": "stdout",
     "output_type": "stream",
     "text": [
      "bs4 4.6.3\n",
      "sklearn 0.19.1\n",
      "nltk 3.3\n",
      "re 2.2.1\n",
      "requests 2.19.1\n",
      "pandas 0.22.0\n",
      "seaborn 0.8.1\n",
      "pyLDAvis 2.1.2\n"
     ]
    }
   ],
   "source": [
    "import bs4; print( 'bs4 ' + bs4.__version__)\n",
    "from bs4 import BeautifulSoup, SoupStrainer\n",
    "\n",
    "import sklearn; print( 'sklearn ' + sklearn.__version__)\n",
    "from sklearn.feature_extraction.text import CountVectorizer\n",
    "from sklearn.decomposition import NMF, LatentDirichletAllocation\n",
    "from sklearn.manifold import TSNE\n",
    "\n",
    "import nltk; print( 'nltk ' + nltk.__version__)\n",
    "from nltk import word_tokenize, pos_tag, RegexpParser;\n",
    "from nltk.corpus import stopwords\n",
    "from nltk.tokenize import sent_tokenize\n",
    "from nltk.stem.porter import PorterStemmer\n",
    "from nltk.stem import SnowballStemmer, LancasterStemmer\n",
    "\n",
    "# from autocorrect import spell; print('autocorrect 0.3.0')\n",
    "\n",
    "import re; print('re ' + re.__version__)\n",
    "import requests; print('requests ' + requests.__version__)\n",
    "\n",
    "import pandas as pd; print('pandas ' + pd.__version__)\n",
    "import seaborn as sns; print('seaborn ' + sns.__version__)\n",
    "\n",
    "import pyLDAvis; print('pyLDAvis', pyLDAvis.__version__)\n",
    "import pyLDAvis.sklearn\n"
   ]
  },
  {
   "cell_type": "markdown",
   "metadata": {},
   "source": [
    "# Final Project - Topic Modeling\n",
    "\n",
    "First we continue where we left off with [Homework 5](https://github.com/kjprice/smu-nlp/blob/e769b93945e6f45ae90aab3ec53b6595ae7bc7da/homework/Homework%205.ipynb)."
   ]
  },
  {
   "cell_type": "markdown",
   "metadata": {},
   "source": [
    "### Code from Homework 5\n"
   ]
  },
  {
   "cell_type": "code",
   "execution_count": 2,
   "metadata": {},
   "outputs": [],
   "source": [
    "# The home page for various movies' reviews, from which will get the links for individual reviews\n",
    "review_home_urls = {\n",
    "    'green_mile': 'https://www.imdb.com/title/tt0120689/reviews?ref_=tt_ql_3',\n",
    "    'forest_gump': 'https://www.imdb.com/title/tt0109830/reviews?ref_=tt_ov_rt',\n",
    "    'cast_away': 'https://www.imdb.com/title/tt0162222/reviews?ref_=tt_ov_rt',\n",
    "    'terminal': 'https://www.imdb.com/title/tt0362227/reviews?ref_=tt_ql_3',\n",
    "    'catch_me_if_you_can': 'https://www.imdb.com/title/tt0264464/reviews?ref_=tt_ql_3',\n",
    "    'road_to_perdition': 'https://www.imdb.com/title/tt0257044/reviews?ref_=tt_ql_3',\n",
    "}\n",
    "def get_text_from_url(url):\n",
    "    return requests.get(url).text\n",
    "text = get_text_from_url(review_home_urls['green_mile'])\n"
   ]
  },
  {
   "cell_type": "code",
   "execution_count": 3,
   "metadata": {},
   "outputs": [],
   "source": [
    "def get_all_links_from_html(html):\n",
    "    tags = BeautifulSoup(html, 'html.parser', parse_only=SoupStrainer('a', href=True))\n",
    "    urls = [str(tag.attrs['href']) for tag in tags]\n",
    "    return urls\n",
    "all_links = get_all_links_from_html(text)"
   ]
  },
  {
   "cell_type": "code",
   "execution_count": 4,
   "metadata": {},
   "outputs": [],
   "source": [
    "def get_review_urls_from_links(links):\n",
    "    url_template = 'https://www.imdb.com{}'\n",
    "    # url_template = 'http://www.gutenberg.org/files/{}/{}-h/{}-h.htm'\n",
    "    return [url_template.format(link) for link in links]\n",
    "\n",
    "urls = get_review_urls_from_links(all_links)"
   ]
  },
  {
   "cell_type": "code",
   "execution_count": 5,
   "metadata": {},
   "outputs": [],
   "source": [
    "def relevent_link(link):\n",
    "    if '/review/' in link:\n",
    "        return True\n",
    "    return False"
   ]
  },
  {
   "cell_type": "code",
   "execution_count": 6,
   "metadata": {},
   "outputs": [
    {
     "data": {
      "text/plain": [
       "25"
      ]
     },
     "execution_count": 6,
     "metadata": {},
     "output_type": "execute_result"
    }
   ],
   "source": [
    "def get_relevent_links(links):\n",
    "    relevent_links = filter(relevent_link, all_links)\n",
    "    unique_relevent_links = set(relevent_links)\n",
    "    return list(unique_relevent_links)\n",
    "relevent_urls = get_relevent_links(urls)\n",
    "len(relevent_urls)"
   ]
  },
  {
   "cell_type": "code",
   "execution_count": 7,
   "metadata": {},
   "outputs": [],
   "source": [
    "def strain_content(name, attrs):\n",
    "    if name == 'div' and dict(attrs).get('class', None) == 'content':\n",
    "        return True\n",
    "    return False\n",
    "def clean_review_text(text):\n",
    "    return re.split('\\\\n\\\\n\\s+\\d+ out of \\d+', text)[0]\n",
    "def get_review_from_url(url):\n",
    "    html = get_text_from_url(url)\n",
    "    tags = BeautifulSoup(html, 'html.parser', parse_only=SoupStrainer(strain_content))\n",
    "    review = clean_review_text(tags.text)\n",
    "    return review"
   ]
  },
  {
   "cell_type": "code",
   "execution_count": 8,
   "metadata": {},
   "outputs": [],
   "source": [
    "def get_review_from_site(url):\n",
    "    reviews = []\n",
    "\n",
    "    reviews_home_text = get_text_from_url(url)\n",
    "    all_links = get_all_links_from_html(reviews_home_text)\n",
    "    relevent_links = get_relevent_links(all_links)\n",
    "\n",
    "    \n",
    "    \n",
    "    \n",
    "    review_urls = get_review_urls_from_links(relevent_links)\n",
    "    for url in review_urls:\n",
    "        reviews.append(get_review_from_url(url))\n",
    "        # break\n",
    "    return reviews"
   ]
  },
  {
   "cell_type": "code",
   "execution_count": 9,
   "metadata": {},
   "outputs": [],
   "source": [
    "def get_reviews_from_all_sites():\n",
    "    all_reviews = []\n",
    "    review_titles = review_home_urls.keys()\n",
    "    for title in review_titles:\n",
    "        review_home_url = review_home_urls[title]\n",
    "        all_reviews = all_reviews + get_review_from_site(review_home_url)\n",
    "    return all_reviews"
   ]
  },
  {
   "cell_type": "markdown",
   "metadata": {},
   "source": [
    "## Retrieve All Reviews"
   ]
  },
  {
   "cell_type": "code",
   "execution_count": 10,
   "metadata": {},
   "outputs": [],
   "source": [
    "all_reviews = get_reviews_from_all_sites()"
   ]
  },
  {
   "cell_type": "code",
   "execution_count": 11,
   "metadata": {},
   "outputs": [
    {
     "data": {
      "text/plain": [
       "150"
      ]
     },
     "execution_count": 11,
     "metadata": {},
     "output_type": "execute_result"
    }
   ],
   "source": [
    "len(all_reviews)"
   ]
  },
  {
   "cell_type": "code",
   "execution_count": 12,
   "metadata": {},
   "outputs": [
    {
     "data": {
      "text/plain": [
       "'\\nNow a resident in a rest home, one time head warden on death row, Paul Edgecomb, is struggling with'"
      ]
     },
     "execution_count": 12,
     "metadata": {},
     "output_type": "execute_result"
    }
   ],
   "source": [
    "all_reviews[0][0:100]"
   ]
  },
  {
   "cell_type": "markdown",
   "metadata": {},
   "source": [
    "## Preprocess Data"
   ]
  },
  {
   "cell_type": "code",
   "execution_count": 13,
   "metadata": {},
   "outputs": [],
   "source": [
    "def sentences_to_words(sentences):\n",
    "    return [word_tokenize(sentence) for sentence in sentences]\n",
    "# sentences_to_words([all_reviews[0]])[0][0:5]"
   ]
  },
  {
   "cell_type": "code",
   "execution_count": 14,
   "metadata": {},
   "outputs": [
    {
     "data": {
      "text/plain": [
       "['boss', '.']"
      ]
     },
     "execution_count": 14,
     "metadata": {},
     "output_type": "execute_result"
    }
   ],
   "source": [
    "custom_stop_words = ['the', 'green', 'mile', 'shawshank', 'redemption', 'one']\n",
    "stop_words = custom_stop_words + stopwords.words('english')\n",
    "def remove_stop_words(words):\n",
    "    return [word for word in words if word not in stop_words]\n",
    "remove_stop_words(['he', 'her', 'boss', '.', 'the'])"
   ]
  },
  {
   "cell_type": "code",
   "execution_count": 15,
   "metadata": {},
   "outputs": [],
   "source": [
    "def include_only_numbers_and_letters(words):\n",
    "    regex_matcher = '^[a-zA-Z0-9]+$'\n",
    "    return [word for word in words if re.match(regex_matcher, word)]\n",
    "# include_only_numbers_and_letters(['1', 'KJ', '.'])"
   ]
  },
  {
   "cell_type": "code",
   "execution_count": 16,
   "metadata": {},
   "outputs": [],
   "source": [
    "#stemmer = PorterStemmer()\n",
    "#stemmer = SnowballStemmer('english')\n",
    "stemmer = LancasterStemmer()\n",
    "def lemmatize_words(words):\n",
    "    return [stemmer.stem(word) for word in words]\n",
    "# lemmatize_words(['running', 'fastest', 'hats'])"
   ]
  },
  {
   "cell_type": "code",
   "execution_count": 92,
   "metadata": {},
   "outputs": [
    {
     "data": {
      "text/plain": [
       "['resid', 'rest', 'hom', 'tim', 'head']"
      ]
     },
     "execution_count": 92,
     "metadata": {},
     "output_type": "execute_result"
    }
   ],
   "source": [
    "def preprocess_documents(documents):\n",
    "    documents_with_formatted_words = [document.lower().strip() for document in documents]\n",
    "    documents_of_words = sentences_to_words(documents_with_formatted_words)\n",
    "    content_words_and_characters = [remove_stop_words(words) for words in documents_of_words]\n",
    "    content_words = [include_only_numbers_and_letters(characters) for characters in content_words_and_characters]\n",
    "    lematized_words = [lemmatize_words(words) for words in content_words]\n",
    "    return lematized_words  \n",
    "preprocess_documents(all_reviews[0:2])[0][0:5]"
   ]
  },
  {
   "cell_type": "code",
   "execution_count": 93,
   "metadata": {},
   "outputs": [
    {
     "data": {
      "text/plain": [
       "['resid', 'rest', 'hom', 'tim', 'head', 'ward', 'dea']"
      ]
     },
     "execution_count": 93,
     "metadata": {},
     "output_type": "execute_result"
    }
   ],
   "source": [
    "documents_of_words = preprocess_documents(all_reviews)\n",
    "documents_of_words[0][0:7]"
   ]
  },
  {
   "cell_type": "markdown",
   "metadata": {},
   "source": [
    "### Take a look at words"
   ]
  },
  {
   "cell_type": "code",
   "execution_count": 94,
   "metadata": {},
   "outputs": [
    {
     "data": {
      "text/plain": [
       "17454"
      ]
     },
     "execution_count": 94,
     "metadata": {},
     "output_type": "execute_result"
    }
   ],
   "source": [
    "list_of_all_words = [word for document in documents_of_words for word in document]\n",
    "len(list_of_all_words)"
   ]
  },
  {
   "cell_type": "code",
   "execution_count": 95,
   "metadata": {},
   "outputs": [
    {
     "data": {
      "text/plain": [
       "1030"
      ]
     },
     "execution_count": 95,
     "metadata": {},
     "output_type": "execute_result"
    }
   ],
   "source": [
    "# Unique Words\n",
    "len(set(list_of_all_words))"
   ]
  },
  {
   "cell_type": "markdown",
   "metadata": {},
   "source": [
    "### Flatten documents back to sentences"
   ]
  },
  {
   "cell_type": "code",
   "execution_count": 96,
   "metadata": {},
   "outputs": [],
   "source": [
    "flattened_documents = [' '.join(document) for document in documents_of_words]"
   ]
  },
  {
   "cell_type": "markdown",
   "metadata": {},
   "source": [
    "## Perform Topic Modeling"
   ]
  },
  {
   "cell_type": "markdown",
   "metadata": {},
   "source": [
    "Inspired, in part by https://medium.com/mlreview/topic-modeling-with-scikit-learn-e80d33668730"
   ]
  },
  {
   "cell_type": "code",
   "execution_count": 154,
   "metadata": {},
   "outputs": [],
   "source": [
    "# Settings\n",
    "NUMBER_OF_FEATURES = 1000\n",
    "NUMBER_OF_TOPICS  = 10\n",
    "NUMBER_OF_TOP_WORDS = 10"
   ]
  },
  {
   "cell_type": "code",
   "execution_count": 155,
   "metadata": {},
   "outputs": [],
   "source": [
    "def topics_to_map(model, feature_names, no_top_words):\n",
    "    map = []\n",
    "    for topic_idx, topic in enumerate(model.components_):\n",
    "        stuff = \" \".join([feature_names[i]\n",
    "                        for i in topic.argsort()[:-no_top_words - 1:-1]])\n",
    "        map.append(stuff)\n",
    "    return map\n"
   ]
  },
  {
   "cell_type": "code",
   "execution_count": 156,
   "metadata": {},
   "outputs": [],
   "source": [
    "# Helper function \n",
    "def display_topics(model, feature_names, no_top_words):\n",
    "    for topic_idx, topic in enumerate(model.components_):\n",
    "        print (\"Topic {}:\".format(topic_idx))\n",
    "        stuff = \" \".join([feature_names[i]\n",
    "                        for i in topic.argsort()[:-no_top_words - 1:-1]])\n",
    "        print (stuff)"
   ]
  },
  {
   "cell_type": "markdown",
   "metadata": {},
   "source": [
    "### Vectorize (Bag Of Words)"
   ]
  },
  {
   "cell_type": "code",
   "execution_count": 157,
   "metadata": {},
   "outputs": [],
   "source": [
    "tf_vectorizer = CountVectorizer(max_features=NUMBER_OF_FEATURES)\n",
    "tf = tf_vectorizer.fit_transform(flattened_documents)\n",
    "tf_feature_names = tf_vectorizer.get_feature_names()"
   ]
  },
  {
   "cell_type": "code",
   "execution_count": 158,
   "metadata": {},
   "outputs": [
    {
     "data": {
      "text/plain": [
       "'resid rest hom tim head ward dea row paul edgecomb struggling untold mem film bring back recount sto'"
      ]
     },
     "execution_count": 158,
     "metadata": {},
     "output_type": "execute_result"
    }
   ],
   "source": [
    "flattened_documents[0][0:100]"
   ]
  },
  {
   "cell_type": "markdown",
   "metadata": {},
   "source": [
    "### NMF"
   ]
  },
  {
   "cell_type": "code",
   "execution_count": 159,
   "metadata": {},
   "outputs": [],
   "source": [
    "nmf = NMF(n_components=NUMBER_OF_TOPICS, random_state=1, alpha=.1, l1_ratio=.5, init='nndsvd').fit(tf)"
   ]
  },
  {
   "cell_type": "code",
   "execution_count": 160,
   "metadata": {},
   "outputs": [
    {
     "name": "stdout",
     "output_type": "stream",
     "text": [
      "Topic 0:\n",
      "com film best lik dunt block tal hank get king\n",
      "Topic 1:\n",
      "movy watch seen ev lik tim ca think feel forget\n",
      "Topic 2:\n",
      "film year paul movy michael dea man pow think prison\n",
      "Topic 3:\n",
      "film long tim many howev feel story slow emot work\n",
      "Topic 4:\n",
      "dunt rol hank film tom edgecomb remind good percy paul\n",
      "Topic 5:\n",
      "prison men story innoc man edgecomb guard king stev movy\n",
      "Topic 6:\n",
      "movy book gre would read see perform peopl king michael\n",
      "Topic 7:\n",
      "movy cast yet ev perform guard michael find dep charact\n",
      "Topic 8:\n",
      "story book screen film lik king leng bring nev three\n",
      "Topic 9:\n",
      "mak film paul john hum emot real darabont dunt bril\n"
     ]
    }
   ],
   "source": [
    "nmf_topic_map = topics_to_map(nmf, tf_feature_names, NUMBER_OF_TOP_WORDS)\n",
    "display_topics(nmf, tf_feature_names, NUMBER_OF_TOP_WORDS)"
   ]
  },
  {
   "cell_type": "markdown",
   "metadata": {},
   "source": [
    "### LDA"
   ]
  },
  {
   "cell_type": "code",
   "execution_count": 161,
   "metadata": {
    "scrolled": true
   },
   "outputs": [
    {
     "name": "stderr",
     "output_type": "stream",
     "text": [
      "/usr/local/lib/python3.6/site-packages/sklearn/decomposition/online_lda.py:294: DeprecationWarning: n_topics has been renamed to n_components in version 0.19 and will be removed in 0.21\n",
      "  DeprecationWarning)\n"
     ]
    }
   ],
   "source": [
    "lda = LatentDirichletAllocation(n_topics=NUMBER_OF_TOPICS, max_iter=50, learning_method='online', learning_offset=50.,random_state=0).fit(tf)\n",
    "\n"
   ]
  },
  {
   "cell_type": "code",
   "execution_count": 162,
   "metadata": {},
   "outputs": [
    {
     "name": "stdout",
     "output_type": "stream",
     "text": [
      "Topic 0:\n",
      "movy cast ev yet perform guard story hour three direct\n",
      "Topic 1:\n",
      "film bring cast dunt tru john pow play act emot\n",
      "Topic 2:\n",
      "movy book story king darabont read would gre emot see\n",
      "Topic 3:\n",
      "movy story hum bril lik writ oth song see tak\n",
      "Topic 4:\n",
      "movy film would best com lik block dunt get mak\n",
      "Topic 5:\n",
      "movy think nev titl view steph hour hank tim tom\n",
      "Topic 6:\n",
      "scen film bring movy perform hank three mad del screenwriter\n",
      "Topic 7:\n",
      "film mak dunt prison paul tim hank real good emot\n",
      "Topic 8:\n",
      "rich ful eith watch charact certain right journey film lik\n",
      "Topic 9:\n",
      "movy seen ev film michael hank year lik story prison\n"
     ]
    }
   ],
   "source": [
    "display_topics(lda, tf_feature_names, NUMBER_OF_TOP_WORDS)\n"
   ]
  },
  {
   "cell_type": "code",
   "execution_count": 163,
   "metadata": {},
   "outputs": [],
   "source": [
    "topic_map = nmf.transform(tf)"
   ]
  },
  {
   "cell_type": "markdown",
   "metadata": {},
   "source": [
    "# Visualizations"
   ]
  },
  {
   "cell_type": "markdown",
   "metadata": {},
   "source": [
    "With help from https://shuaiw.github.io/2016/12/22/topic-modeling-and-tsne-visualzation.html"
   ]
  },
  {
   "cell_type": "code",
   "execution_count": 164,
   "metadata": {},
   "outputs": [],
   "source": [
    "tsne_model = TSNE(n_components=2, verbose=1, random_state=0, angle=.99, init='pca')"
   ]
  },
  {
   "cell_type": "code",
   "execution_count": 165,
   "metadata": {},
   "outputs": [
    {
     "name": "stdout",
     "output_type": "stream",
     "text": [
      "[t-SNE] Computing 91 nearest neighbors...\n",
      "[t-SNE] Indexed 150 samples in 0.000s...\n",
      "[t-SNE] Computed neighbors for 150 samples in 0.002s...\n",
      "[t-SNE] Computed conditional probabilities for sample 150 / 150\n",
      "[t-SNE] Mean sigma: 0.397199\n",
      "[t-SNE] KL divergence after 250 iterations with early exaggeration: 48.971416\n",
      "[t-SNE] Error after 1000 iterations: -3.672542\n"
     ]
    }
   ],
   "source": [
    "tsne_lda = tsne_model.fit_transform(topic_map)"
   ]
  },
  {
   "cell_type": "code",
   "execution_count": 166,
   "metadata": {},
   "outputs": [],
   "source": [
    "categories = review_home_urls.keys()"
   ]
  },
  {
   "cell_type": "code",
   "execution_count": 167,
   "metadata": {},
   "outputs": [],
   "source": [
    "categories_vector = []\n",
    "for category in categories:\n",
    "    for i in range(int(len(all_reviews) / len(categories))):\n",
    "        categories_vector.append(category)"
   ]
  },
  {
   "cell_type": "code",
   "execution_count": 169,
   "metadata": {},
   "outputs": [],
   "source": [
    "x = pd.DataFrame({\n",
    "    'x': tsne_lda[:, 0],\n",
    "    'y': tsne_lda[:, 1],\n",
    "    'group': categories_vector,\n",
    "    text: all_reviews\n",
    "})"
   ]
  },
  {
   "cell_type": "code",
   "execution_count": 170,
   "metadata": {},
   "outputs": [
    {
     "data": {
      "text/plain": [
       "<seaborn.axisgrid.FacetGrid at 0x1166f4d30>"
      ]
     },
     "execution_count": 170,
     "metadata": {},
     "output_type": "execute_result"
    },
    {
     "data": {
      "image/png": "[encoded data removed]",
      "text/plain": [
       "<Figure size 501.875x360 with 1 Axes>"
      ]
     },
     "metadata": {},
     "output_type": "display_data"
    }
   ],
   "source": [
    "sns.lmplot(x='x', y='y', fit_reg=False, data=x, hue='group', x_jitter=40, y_jitter=40)"
   ]
  },
  {
   "cell_type": "markdown",
   "metadata": {},
   "source": [
    "### pyLDAvis"
   ]
  },
  {
   "cell_type": "code",
   "execution_count": 176,
   "metadata": {},
   "outputs": [
    {
     "name": "stderr",
     "output_type": "stream",
     "text": [
      "/usr/local/lib/python3.6/site-packages/pyLDAvis/_prepare.py:223: RuntimeWarning: divide by zero encountered in log\n",
      "  kernel = (topic_given_term * np.log((topic_given_term.T / topic_proportion).T))\n",
      "/usr/local/lib/python3.6/site-packages/pyLDAvis/_prepare.py:240: RuntimeWarning: divide by zero encountered in log\n",
      "  log_lift = np.log(topic_term_dists / term_proportion)\n",
      "/usr/local/lib/python3.6/site-packages/pyLDAvis/_prepare.py:241: RuntimeWarning: divide by zero encountered in log\n",
      "  log_ttd = np.log(topic_term_dists)\n"
     ]
    },
    {
     "data": {
      "text/html": [
       "\n",
       "<link rel=\"stylesheet\" type=\"text/css\" href=\"https://cdn.rawgit.com/bmabey/pyLDAvis/files/ldavis.v1.0.0.css\">\n",
       "\n",
       "\n",
       "<div id=\"ldavis_el2193047054393203052757507\"></div>\n",
       "<script type=\"text/javascript\">\n",
       "\n",
       "var ldavis_el2193047054393203052757507_data = {\"mdsDat\": {\"Freq\": [15.474589391490323, 14.709126420224122, 11.535850475988815, 10.71605560915721, 10.41107143651221, 9.629104045195968, 8.342430123029725, 7.4060676459965915, 6.1804827161808245, 5.595222136224221], \"cluster\": [1, 1, 1, 1, 1, 1, 1, 1, 1, 1], \"topics\": [1, 2, 3, 4, 5, 6, 7, 8, 9, 10], \"x\": [-123.04932403564453, -237.70901489257812, -228.9920196533203, -482.5945129394531, -49.44489669799805, 89.86612701416016, 214.35093688964844, -513.2080078125, 286.66058349609375, 393.5103454589844], \"y\": [407.0182800292969, 51.5562858581543, -505.47271728515625, -202.60719299316406, -217.87530517578125, 80.29598236083984, -433.2604675292969, 239.07980346679688, 351.49652099609375, -86.07964324951172]}, \"tinfo\": {\"Category\": [\"Default\", \"Default\", \"Default\", \"Default\", \"Default\", \"Default\", \"Default\", \"Default\", \"Default\", \"Default\", \"Default\", \"Default\", \"Default\", \"Default\", \"Default\", \"Default\", \"Default\", \"Default\", \"Default\", \"Default\", \"Default\", \"Default\", \"Default\", \"Default\", \"Default\", \"Default\", \"Default\", \"Default\", \"Default\", \"Default\", \"Topic1\", \"Topic1\", \"Topic1\", \"Topic1\", \"Topic1\", \"Topic1\", \"Topic1\", \"Topic1\", \"Topic1\", \"Topic1\", \"Topic1\", \"Topic1\", \"Topic1\", \"Topic1\", \"Topic1\", \"Topic1\", \"Topic1\", \"Topic1\", \"Topic1\", \"Topic1\", \"Topic1\", \"Topic1\", \"Topic1\", \"Topic1\", \"Topic1\", \"Topic1\", \"Topic1\", \"Topic1\", \"Topic1\", \"Topic1\", \"Topic1\", \"Topic1\", \"Topic1\", \"Topic1\", \"Topic1\", \"Topic1\", \"Topic1\", \"Topic1\", \"Topic1\", \"Topic1\", \"Topic1\", \"Topic1\", \"Topic1\", \"Topic1\", \"Topic1\", \"Topic1\", \"Topic1\", \"Topic1\", \"Topic1\", \"Topic1\", \"Topic1\", \"Topic1\", \"Topic1\", \"Topic1\", \"Topic1\", \"Topic1\", \"Topic1\", \"Topic1\", \"Topic1\", \"Topic1\", \"Topic1\", \"Topic1\", \"Topic1\", \"Topic1\", \"Topic1\", \"Topic1\", \"Topic1\", \"Topic1\", \"Topic1\", \"Topic1\", \"Topic1\", \"Topic1\", \"Topic1\", \"Topic1\", \"Topic1\", \"Topic1\", \"Topic1\", \"Topic2\", \"Topic2\", \"Topic2\", \"Topic2\", \"Topic2\", \"Topic2\", \"Topic2\", \"Topic2\", \"Topic2\", \"Topic2\", \"Topic2\", \"Topic2\", \"Topic2\", \"Topic2\", \"Topic2\", \"Topic2\", \"Topic2\", \"Topic2\", \"Topic2\", \"Topic2\", \"Topic2\", \"Topic2\", \"Topic2\", \"Topic2\", \"Topic2\", \"Topic2\", \"Topic2\", \"Topic2\", \"Topic2\", \"Topic2\", \"Topic2\", \"Topic2\", \"Topic2\", \"Topic2\", \"Topic2\", \"Topic2\", \"Topic2\", \"Topic2\", \"Topic2\", \"Topic2\", \"Topic2\", \"Topic2\", \"Topic2\", \"Topic2\", \"Topic2\", \"Topic2\", \"Topic2\", \"Topic2\", \"Topic2\", \"Topic2\", \"Topic2\", \"Topic2\", \"Topic2\", \"Topic2\", \"Topic2\", \"Topic2\", \"Topic2\", \"Topic2\", \"Topic2\", \"Topic2\", \"Topic2\", \"Topic2\", \"Topic2\", \"Topic2\", \"Topic2\", \"Topic2\", \"Topic2\", \"Topic2\", \"Topic2\", \"Topic2\", \"Topic2\", \"Topic2\", \"Topic2\", \"Topic2\", \"Topic2\", \"Topic2\", \"Topic2\", \"Topic2\", \"Topic2\", \"Topic2\", \"Topic2\", \"Topic2\", \"Topic2\", \"Topic2\", \"Topic2\", \"Topic2\", \"Topic2\", \"Topic2\", \"Topic2\", \"Topic2\", \"Topic2\", \"Topic2\", \"Topic2\", \"Topic2\", \"Topic2\", \"Topic2\", \"Topic2\", \"Topic2\", \"Topic2\", \"Topic2\", \"Topic2\", \"Topic2\", \"Topic3\", \"Topic3\", \"Topic3\", \"Topic3\", \"Topic3\", \"Topic3\", \"Topic3\", \"Topic3\", \"Topic3\", \"Topic3\", \"Topic3\", \"Topic3\", \"Topic3\", \"Topic3\", \"Topic3\", \"Topic3\", \"Topic3\", \"Topic3\", \"Topic3\", \"Topic3\", \"Topic3\", \"Topic3\", \"Topic3\", \"Topic3\", \"Topic3\", \"Topic3\", \"Topic3\", \"Topic3\", \"Topic3\", \"Topic3\", \"Topic3\", \"Topic3\", \"Topic3\", \"Topic3\", \"Topic3\", \"Topic3\", \"Topic3\", \"Topic3\", \"Topic3\", \"Topic3\", \"Topic3\", \"Topic3\", \"Topic3\", \"Topic3\", \"Topic3\", \"Topic3\", \"Topic3\", \"Topic3\", \"Topic3\", \"Topic3\", \"Topic3\", \"Topic3\", \"Topic3\", \"Topic3\", \"Topic3\", \"Topic3\", \"Topic3\", \"Topic3\", \"Topic3\", \"Topic3\", \"Topic3\", \"Topic3\", \"Topic3\", \"Topic3\", \"Topic3\", \"Topic3\", \"Topic3\", \"Topic3\", \"Topic3\", \"Topic3\", \"Topic3\", \"Topic3\", \"Topic3\", \"Topic3\", \"Topic3\", \"Topic3\", \"Topic3\", \"Topic3\", \"Topic3\", \"Topic3\", \"Topic3\", \"Topic3\", \"Topic3\", \"Topic3\", \"Topic3\", \"Topic3\", \"Topic3\", \"Topic3\", \"Topic3\", \"Topic3\", \"Topic3\", \"Topic3\", \"Topic3\", \"Topic3\", \"Topic3\", \"Topic3\", \"Topic3\", \"Topic3\", \"Topic3\", \"Topic3\", \"Topic4\", \"Topic4\", \"Topic4\", \"Topic4\", \"Topic4\", \"Topic4\", \"Topic4\", \"Topic4\", \"Topic4\", \"Topic4\", \"Topic4\", \"Topic4\", \"Topic4\", \"Topic4\", \"Topic4\", \"Topic4\", \"Topic4\", \"Topic4\", \"Topic4\", \"Topic4\", \"Topic4\", \"Topic4\", \"Topic4\", \"Topic4\", \"Topic4\", \"Topic4\", \"Topic4\", \"Topic4\", \"Topic4\", \"Topic4\", \"Topic4\", \"Topic4\", \"Topic4\", \"Topic4\", \"Topic4\", \"Topic4\", \"Topic4\", \"Topic4\", \"Topic4\", \"Topic4\", \"Topic4\", \"Topic4\", \"Topic4\", \"Topic4\", \"Topic4\", \"Topic4\", \"Topic4\", \"Topic4\", \"Topic4\", \"Topic4\", \"Topic4\", \"Topic4\", \"Topic4\", \"Topic4\", \"Topic4\", \"Topic4\", \"Topic4\", \"Topic4\", \"Topic4\", \"Topic4\", \"Topic4\", \"Topic4\", \"Topic4\", \"Topic4\", \"Topic4\", \"Topic4\", \"Topic4\", \"Topic4\", \"Topic4\", \"Topic4\", \"Topic4\", \"Topic4\", \"Topic4\", \"Topic4\", \"Topic4\", \"Topic4\", \"Topic4\", \"Topic4\", \"Topic4\", \"Topic4\", \"Topic4\", \"Topic4\", \"Topic4\", \"Topic4\", \"Topic4\", \"Topic4\", \"Topic4\", \"Topic4\", \"Topic4\", \"Topic4\", \"Topic4\", \"Topic4\", \"Topic4\", \"Topic4\", \"Topic4\", \"Topic4\", \"Topic5\", \"Topic5\", \"Topic5\", \"Topic5\", \"Topic5\", \"Topic5\", \"Topic5\", \"Topic5\", \"Topic5\", \"Topic5\", \"Topic5\", \"Topic5\", \"Topic5\", \"Topic5\", \"Topic5\", \"Topic5\", \"Topic5\", \"Topic5\", \"Topic5\", \"Topic5\", \"Topic5\", \"Topic5\", \"Topic5\", \"Topic5\", \"Topic5\", \"Topic5\", \"Topic5\", \"Topic5\", \"Topic5\", \"Topic5\", \"Topic5\", \"Topic5\", \"Topic5\", \"Topic5\", \"Topic5\", \"Topic5\", \"Topic5\", \"Topic5\", \"Topic5\", \"Topic5\", \"Topic5\", \"Topic5\", \"Topic5\", \"Topic5\", \"Topic5\", \"Topic5\", \"Topic5\", \"Topic5\", \"Topic5\", \"Topic5\", \"Topic5\", \"Topic5\", \"Topic5\", \"Topic5\", \"Topic5\", \"Topic5\", \"Topic5\", \"Topic5\", \"Topic5\", \"Topic5\", \"Topic5\", \"Topic5\", \"Topic5\", \"Topic5\", \"Topic5\", \"Topic5\", \"Topic5\", \"Topic5\", \"Topic5\", \"Topic5\", \"Topic5\", \"Topic5\", \"Topic5\", \"Topic5\", \"Topic5\", \"Topic6\", \"Topic6\", \"Topic6\", \"Topic6\", \"Topic6\", \"Topic6\", \"Topic6\", \"Topic6\", \"Topic6\", \"Topic6\", \"Topic6\", \"Topic6\", \"Topic6\", \"Topic6\", \"Topic6\", \"Topic6\", \"Topic6\", \"Topic6\", \"Topic6\", \"Topic6\", \"Topic6\", \"Topic6\", \"Topic6\", \"Topic6\", \"Topic6\", \"Topic6\", \"Topic6\", \"Topic6\", \"Topic6\", \"Topic6\", \"Topic6\", \"Topic6\", \"Topic6\", \"Topic6\", \"Topic6\", \"Topic6\", \"Topic6\", \"Topic6\", \"Topic6\", \"Topic6\", \"Topic6\", \"Topic6\", \"Topic6\", \"Topic6\", \"Topic6\", \"Topic6\", \"Topic6\", \"Topic6\", \"Topic6\", \"Topic6\", \"Topic6\", \"Topic6\", \"Topic6\", \"Topic6\", \"Topic6\", \"Topic6\", \"Topic6\", \"Topic6\", \"Topic6\", \"Topic6\", \"Topic6\", \"Topic6\", \"Topic6\", \"Topic6\", \"Topic6\", \"Topic7\", \"Topic7\", \"Topic7\", \"Topic7\", \"Topic7\", \"Topic7\", \"Topic7\", \"Topic7\", \"Topic7\", \"Topic7\", \"Topic7\", \"Topic7\", \"Topic7\", \"Topic7\", \"Topic7\", \"Topic7\", \"Topic7\", \"Topic7\", \"Topic7\", \"Topic7\", \"Topic7\", \"Topic7\", \"Topic7\", \"Topic7\", \"Topic7\", \"Topic7\", \"Topic7\", \"Topic7\", \"Topic7\", \"Topic7\", \"Topic7\", \"Topic7\", \"Topic7\", \"Topic7\", \"Topic7\", \"Topic7\", \"Topic7\", \"Topic7\", \"Topic7\", \"Topic7\", \"Topic7\", \"Topic7\", \"Topic7\", \"Topic7\", \"Topic7\", \"Topic7\", \"Topic7\", \"Topic7\", \"Topic7\", \"Topic7\", \"Topic7\", \"Topic7\", \"Topic7\", \"Topic7\", \"Topic7\", \"Topic7\", \"Topic7\", \"Topic7\", \"Topic7\", \"Topic7\", \"Topic8\", \"Topic8\", \"Topic8\", \"Topic8\", \"Topic8\", \"Topic8\", \"Topic8\", \"Topic8\", \"Topic8\", \"Topic8\", \"Topic8\", \"Topic8\", \"Topic8\", \"Topic8\", \"Topic8\", \"Topic8\", \"Topic8\", \"Topic8\", \"Topic8\", \"Topic8\", \"Topic8\", \"Topic8\", \"Topic8\", \"Topic8\", \"Topic8\", \"Topic8\", \"Topic8\", \"Topic8\", \"Topic8\", \"Topic8\", \"Topic8\", \"Topic8\", \"Topic8\", \"Topic8\", \"Topic8\", \"Topic8\", \"Topic8\", \"Topic8\", \"Topic8\", \"Topic8\", \"Topic8\", \"Topic8\", \"Topic8\", \"Topic8\", \"Topic8\", \"Topic8\", \"Topic8\", \"Topic8\", \"Topic8\", \"Topic8\", \"Topic8\", \"Topic8\", \"Topic8\", \"Topic8\", \"Topic8\", \"Topic9\", \"Topic9\", \"Topic9\", \"Topic9\", \"Topic9\", \"Topic9\", \"Topic9\", \"Topic9\", \"Topic9\", \"Topic9\", \"Topic9\", \"Topic9\", \"Topic9\", \"Topic9\", \"Topic9\", \"Topic9\", \"Topic9\", \"Topic9\", \"Topic9\", \"Topic9\", \"Topic9\", \"Topic9\", \"Topic9\", \"Topic9\", \"Topic9\", \"Topic9\", \"Topic9\", \"Topic9\", \"Topic9\", \"Topic9\", \"Topic9\", \"Topic9\", \"Topic9\", \"Topic9\", \"Topic9\", \"Topic9\", \"Topic9\", \"Topic9\", \"Topic9\", \"Topic9\", \"Topic9\", \"Topic9\", \"Topic9\", \"Topic9\", \"Topic9\", \"Topic9\", \"Topic9\", \"Topic9\", \"Topic9\", \"Topic9\", \"Topic9\", \"Topic9\", \"Topic9\", \"Topic9\", \"Topic9\", \"Topic9\", \"Topic9\", \"Topic9\", \"Topic9\", \"Topic9\", \"Topic9\", \"Topic9\", \"Topic9\", \"Topic10\", \"Topic10\", \"Topic10\", \"Topic10\", \"Topic10\", \"Topic10\", \"Topic10\", \"Topic10\", \"Topic10\", \"Topic10\", \"Topic10\", \"Topic10\", \"Topic10\", \"Topic10\", \"Topic10\", \"Topic10\", \"Topic10\", \"Topic10\", \"Topic10\", \"Topic10\", \"Topic10\", \"Topic10\", \"Topic10\", \"Topic10\", \"Topic10\", \"Topic10\", \"Topic10\", \"Topic10\", \"Topic10\", \"Topic10\", \"Topic10\", \"Topic10\", \"Topic10\", \"Topic10\", \"Topic10\", \"Topic10\", \"Topic10\", \"Topic10\", \"Topic10\", \"Topic10\", \"Topic10\", \"Topic10\", \"Topic10\", \"Topic10\", \"Topic10\", \"Topic10\", \"Topic10\", \"Topic10\", \"Topic10\", \"Topic10\", \"Topic10\", \"Topic10\"], \"Freq\": [417.0, 89.0, 64.0, 99.0, 173.0, 49.0, 89.0, 63.0, 141.0, 102.0, 41.0, 82.0, 112.0, 87.0, 49.0, 104.0, 85.0, 49.0, 232.0, 74.0, 51.0, 107.0, 138.0, 73.0, 68.0, 36.0, 115.0, 62.0, 117.0, 88.0, 16.07008892120819, 14.510816957836372, 8.02354579104774, 8.02354579104774, 8.02354579104774, 8.02354579104774, 8.02354579104774, 8.02354579104774, 8.02354579104774, 8.02354579104774, 8.02354579104774, 8.02354579104774, 8.02354579104774, 8.02354579104774, 8.02354579104774, 28.542674998270403, 6.461845442134515, 6.461845442134515, 6.461845442134515, 6.461845442134515, 6.461845442134515, 6.461845442134515, 6.461845442134515, 6.461845442134515, 6.461845442134515, 6.461845442134515, 6.461845442134515, 7.969856878918751, 7.969856878918751, 7.969856878918751, 12.968762125200834, 61.01879708582669, 7.969856878918751, 7.969856878918751, 7.969856878918751, 7.969856878918751, 7.969856878918751, 7.969856878918751, 7.969856878918751, 7.969856878918751, 7.969856878918751, 18.12558814838868, 14.526212076616293, 15.88521542388487, 221.6270355578018, 21.193733624983114, 55.1850039336776, 14.374126021640897, 34.31732656858489, 27.428903311234446, 16.89355269985133, 8.62699192858042, 22.353733000636144, 33.4615574238407, 45.94092932413327, 11.165877661927347, 42.72275713005881, 37.85370260821337, 20.84496063096443, 31.166765435638506, 27.705717232715095, 13.424303017394614, 10.092598776201841, 19.706706281426673, 15.039477723810739, 18.304581866863565, 26.47371044114937, 25.60469637763177, 27.12701068549457, 26.0276590741651, 24.295842349771455, 25.753507165269177, 21.161917185042483, 20.49362538492243, 16.42684905353985, 17.3455511605154, 16.43512298260679, 6.4920212627836, 6.4920212627836, 12.997679130350893, 6.4920212627836, 6.4920212627836, 6.4920212627836, 6.4920212627836, 6.4920212627836, 6.4920212627836, 12.997679130350893, 6.4920212627836, 6.4920212627836, 12.997679130350893, 6.4920212627836, 6.4920212627836, 12.997679130350893, 6.4920212627836, 6.4920212627836, 6.4920212627836, 6.4920212627836, 6.4920212627836, 6.4920212627836, 6.4920212627836, 19.503336997918183, 6.4920212627836, 6.4920212627836, 6.4920212627836, 6.4920212627836, 12.997679130350893, 6.4920212627836, 19.503336997918183, 12.997679130350893, 12.997679130350893, 12.997679130350893, 6.4920212627836, 6.4920212627836, 6.4920212627836, 6.4920212627836, 6.4920212627836, 6.4920212627836, 6.4920212627836, 6.4920212627836, 6.4920212627836, 6.4920212627836, 6.4920212627836, 6.4920212627836, 6.4920212627836, 6.4920212627836, 6.4920212627836, 6.4920212627836, 6.4920212627836, 6.4920212627836, 6.4920212627836, 6.4920212627836, 6.4920212627836, 6.4920212627836, 39.33672358794571, 19.492913428520406, 6.4920212627836, 6.4920212627836, 6.4920212627836, 26.01011711221165, 19.542303094687277, 6.4920212627836, 19.475870072375088, 13.04502444687438, 12.987245694983274, 12.9918654106514, 12.9918654106514, 12.9918654106514, 12.9918654106514, 12.979086006823483, 19.825455664163023, 13.272573078539564, 12.969912891727866, 6.4920212627836, 12.9848342881176, 12.939504805837341, 12.939504805837341, 26.053575551074726, 32.35187926202999, 25.998716508885373, 19.44526508975109, 39.70354229745177, 26.01811193880175, 25.87841449041953, 19.40113117036331, 26.484874119182585, 25.90781236485622, 32.33041999791955, 20.030568393935354, 19.705762586297475, 19.42247762930158, 20.1293191978121, 19.483003624256824, 13.269602634277312, 13.475323135012164, 13.365832821463751, 13.257161628717991, 13.236654137171948, 13.37043149549174, 13.307223372945959, 6.536289375023579, 6.536289375023579, 6.536289375023579, 6.536289375023579, 6.536289375023579, 6.536289375023579, 6.536289375023579, 13.08965670587437, 6.536289375023579, 6.536289375023579, 6.536289375023579, 6.536289375023579, 6.536289375023579, 6.536289375023579, 6.536289375023579, 6.536289375023579, 6.536289375023579, 6.536289375023579, 6.536289375023579, 6.536289375023579, 6.536289375023579, 6.536289375023579, 6.536289375023579, 13.08965670587437, 6.536289375023579, 6.536289375023579, 6.536289375023579, 6.536289375023579, 6.536289375023579, 6.536289375023579, 19.643024036725162, 13.08965670587437, 13.08965670587437, 6.536289375023579, 6.536289375023579, 6.536289375023579, 6.536289375023579, 6.536289375023579, 6.536289375023579, 6.536289375023579, 6.536289375023579, 6.536289375023579, 6.536289375023579, 6.536289375023579, 6.536289375023579, 6.536289375023579, 6.536289375023579, 6.536289375023579, 6.536289375023579, 6.536289375023579, 6.536289375023579, 6.536289375023579, 6.536289375023579, 6.536289375023579, 6.536289375023579, 6.536289375023579, 6.536289375023579, 6.536289375023579, 6.536289375023579, 6.536289375023579, 6.536289375023579, 6.536289375023579, 6.536289375023579, 6.536289375023579, 6.536289375023579, 26.184450370268806, 19.631060754607482, 39.14749767031147, 19.62543227550829, 19.603716218848557, 13.083792781635902, 13.077671138946156, 20.129074325476235, 13.035780239673082, 32.74256075628479, 19.876172225632295, 20.072314622979054, 13.07185867607349, 13.07185867607349, 19.774334595910066, 26.610715780147455, 33.112858411934035, 26.327780376869867, 13.107998210966034, 19.570142018970017, 19.62332927906065, 19.92017551296063, 19.58286829783739, 13.042881074620775, 19.70847287827585, 20.0797654906224, 19.572557533208112, 19.478620153884936, 13.58809163756387, 13.412044255184114, 13.26837089065568, 13.201919256556794, 13.17949432350358, 13.169338561267162, 13.136225219853511, 6.979987267980032, 6.979987267980032, 6.979987267980032, 6.979987267980032, 6.979987267980032, 6.979987267980032, 6.979987267980032, 6.979987267980032, 6.979987267980032, 6.979987267980032, 6.979987267980032, 6.979987267980032, 6.979987267980032, 6.979987267980032, 6.979987267980032, 6.979987267980032, 6.979987267980032, 6.979987267980032, 6.979987267980032, 6.979987267980032, 6.979987267980032, 6.979987267980032, 6.979987267980032, 6.979987267980032, 6.979987267980032, 13.976823725209774, 6.979987267980032, 13.976823725209774, 6.979987267980032, 6.979987267980032, 13.976823725209774, 13.976823725209774, 13.976823725209774, 13.976823725209774, 13.976823725209774, 6.979987267980032, 6.979987267980032, 6.979987267980032, 6.979987267980032, 6.979987267980032, 6.979987267980032, 6.979987267980032, 6.979987267980032, 6.979987267980032, 6.979987267980032, 6.979987267980032, 6.979987267980032, 6.979987267980032, 6.979987267980032, 6.979987267980032, 6.979987267980032, 6.979987267980032, 6.979987267980032, 21.252245944042688, 6.979987267980032, 6.979987267980032, 6.979987267980032, 6.979987267980032, 14.251241383353655, 6.979987267980032, 6.979987267980032, 6.979987267980032, 6.979987267980032, 6.979987267980032, 6.979987267980032, 6.979987267980032, 6.979987267980032, 6.979987267980032, 6.979987267980032, 13.973960343224308, 13.963975212289531, 14.026528989488403, 14.033798062278082, 20.874104883375722, 28.34956167996972, 21.100133704102042, 13.928350986238463, 28.84977628733971, 21.49870369925694, 21.511016832001683, 13.93472070122477, 6.979987267980032, 20.856463857961135, 21.94465602630158, 14.612114731239515, 13.978111556540288, 20.7088276082628, 13.893610901291783, 14.112790336883872, 13.858992758845561, 13.821190869410122, 21.681197897090914, 15.196823704760662, 14.396549879034225, 14.347287189753626, 13.986682134423, 9.010507881536592, 9.010507881536592, 9.010507881536592, 9.010507881536592, 9.010507881536592, 9.010507881536592, 9.010507881536592, 9.010507881536592, 9.010507881536592, 9.010507881536592, 9.010507881536592, 9.010507881536592, 9.010507881536592, 9.010507881536592, 9.010507881536592, 9.010507881536592, 9.010507881536592, 9.010507881536592, 9.010507881536592, 9.010507881536592, 9.010507881536592, 9.010507881536592, 15.203184263328165, 15.203184263328165, 6.1084490554695945, 6.1084490554695945, 6.1084490554695945, 6.1084490554695945, 6.1084490554695945, 6.1084490554695945, 6.1084490554695945, 6.1084490554695945, 6.1084490554695945, 6.1084490554695945, 6.1084490554695945, 12.24572657646897, 6.1084490554695945, 6.1084490554695945, 6.1084490554695945, 6.1084490554695945, 6.1084490554695945, 17.927225788450656, 6.1084490554695945, 6.1084490554695945, 6.1084490554695945, 6.1084490554695945, 16.515930226328805, 17.876408784098572, 43.87582224125061, 23.668499700935527, 28.921287832170197, 27.334528207536625, 23.566321654784673, 27.60719583276767, 28.966845008434618, 29.5791586415616, 28.477463333777003, 17.797033798368748, 36.82670211332797, 15.949399488690647, 25.329275836598985, 22.626977033376065, 14.752820343862288, 14.216289130441135, 21.095152085600148, 17.559877286758205, 13.975115746919515, 18.283119566992678, 12.159220610607127, 16.331765044366215, 17.84567880202193, 13.514882946057764, 17.250670800715746, 15.622884574577265, 14.849687227860885, 7.780331394957769, 7.780331394957769, 7.780331394957769, 7.780331394957769, 7.780331394957769, 7.780331394957769, 7.780331394957769, 7.780331394957769, 7.780331394957769, 15.58014653710325, 7.780331394957769, 7.780331394957769, 7.780331394957769, 7.780331394957769, 7.780331394957769, 7.780331394957769, 7.780331394957769, 7.780331394957769, 7.780331394957769, 7.780331394957769, 7.780331394957769, 7.780331394957769, 7.780331394957769, 15.58014653710325, 7.780331394957769, 7.780331394957769, 7.780331394957769, 7.780331394957769, 7.780331394957769, 7.780331394957769, 7.780331394957769, 7.780331394957769, 7.780331394957769, 7.780331394957769, 23.83969035264271, 15.909318068308037, 31.004347499743297, 15.500398295451348, 15.5465226988463, 56.866958307298525, 32.49472677952425, 30.79221815793751, 23.497429285650146, 31.15990815143518, 15.43500875250257, 15.518802259471238, 31.59256302297331, 15.850189605023065, 30.415288057465464, 23.5275530912738, 15.733256073633013, 8.238084160876454, 8.238084160876454, 16.224736259332094, 23.043539765343848, 15.540666454231546, 15.351863545965307, 16.308305699273134, 15.547098907025703, 15.648756190813383, 15.668656852720105, 15.2804586170064, 17.234951784380947, 15.148866229375143, 15.789218747867006, 8.29265259081973, 8.29265259081973, 8.29265259081973, 8.29265259081973, 8.29265259081973, 8.29265259081973, 16.608090439940042, 8.29265259081973, 8.29265259081973, 8.29265259081973, 8.29265259081973, 8.29265259081973, 8.29265259081973, 8.29265259081973, 8.29265259081973, 8.29265259081973, 8.29265259081973, 8.29265259081973, 8.29265259081973, 8.29265259081973, 8.29265259081973, 8.29265259081973, 8.942021234137695, 8.503151015952373, 8.273800485207518, 8.273800485207518, 8.285266455002825, 35.06431180942482, 8.402616744996665, 17.631878805195687, 43.72947189391047, 69.15975205938635, 16.830413307556253, 33.16245128530147, 24.636444785772966, 27.239403268947715, 16.468218546852782, 18.088001645010973, 17.261427800560107, 16.837470916171526, 17.345060091301427, 19.309480402837774, 16.875616587767993, 16.702788962440465, 9.952582195447066, 9.029435082873892, 9.083049280160774, 9.234214784026827, 10.634499509075837, 8.989249377484136, 9.468111000525386, 9.885438448351922, 9.724778405782713, 9.064739768215917, 9.096664563116194, 9.223922493389031, 9.43186926040213, 9.338054947204268, 9.389294451966274, 9.11095259829118, 10.052840297725695, 10.052840297725695, 10.052840297725695, 10.052840297725695, 10.052840297725695, 10.052840297725695, 10.052840297725695, 10.052840297725695, 10.052840297725695, 10.052840297725695, 10.052840297725695, 10.052840297725695, 10.052840297725695, 10.052840297725695, 10.052840297725695, 10.052840297725695, 10.052840297725695, 10.052840297725695, 10.862046359808458, 10.862046359808458, 10.491987501686323, 13.785052750698457, 20.10352624018587, 9.759363576854604, 21.147087044262207, 11.92824240353016, 10.007688490532582, 10.36332223043764, 10.002297132808152, 9.996806711508832, 30.088748905715725, 39.96470015417165, 22.115855783457217, 53.998238283742026, 21.148292533294402, 20.665562914416068, 19.83600607363498, 23.92649227303463, 20.303769206728802, 20.40310207476565, 24.020671905171827, 25.89477490036231, 20.29632073197786, 19.394389028462236, 13.243455139260139, 12.168883312471248, 12.879926126337349, 11.753644106130965, 12.7031167284289, 11.696048235828348, 12.006537728807015, 10.565049153188403, 11.087057521934062, 11.318623261382479, 10.801867942043543, 6.379125492967713, 6.379125492967713, 6.379125492967713, 6.379125492967713, 6.379125492967713, 6.379125492967713, 12.775743384572651, 6.379125492967713, 6.379125492967713, 6.379125492967713, 6.379125492967713, 6.379125492967713, 6.379125492967713, 6.379125492967713, 6.379125492967713, 6.379125492967713, 6.379125492967713, 6.379125492967713, 6.379125492967713, 12.775743384572651, 6.379125492967713, 12.775743384572651, 6.379125492967713, 6.379125492967713, 6.379125492967713, 6.379125492967713, 12.775743384572651, 6.379125492967713, 6.379125492967713, 6.379125492967713, 6.379125492967713, 6.379125492967713, 6.379125492967713, 6.379125492967713, 6.379125492967713, 6.379125492967713, 6.379125492967713, 19.273298254315783, 25.591317872159895, 12.773903633897758, 12.772260515020564, 12.76522814516733, 32.02511397859241, 13.090617730478966, 19.116880398982076, 12.872128369524274, 19.15821890325292, 19.174731959232172, 19.335583133516735, 12.724446593432567, 12.737864298320961, 12.712113907555254, 13.097989203067955, 12.729604233033438, 12.706533834329672, 12.902117643565798, 6.481226873368892, 6.491572707436791, 6.477370059299795, 6.515403559546697, 6.505457245799791, 6.480631597456202, 6.469049640454393, 8.25716091377548, 8.25716091377548, 8.25716091377548, 8.25716091377548, 8.25716091377548, 8.25716091377548, 8.25716091377548, 8.25716091377548, 8.25716091377548, 8.25716091377548, 8.574717337752508, 8.247137589316651, 33.046437502672035, 16.337653994409056, 41.584348097376306, 17.191523672515117, 8.245606965498663, 8.730993549344484, 49.483559956365646, 8.222103723042565, 8.179382160934303, 8.571172570042483, 8.33646444948278, 16.485467970180295, 8.12216726133068, 16.872186597274094, 8.223197511083617, 8.228685455058109, 8.228685455058109, 7.987928478919963, 36.44014631752806, 16.228243346798962, 27.987188849373943, 16.785637562150352, 70.75166627099229, 17.038588266992274, 17.232375178845924, 16.88971605509644, 9.400901707239436, 9.492078511082834, 9.463521295903574, 9.325907605513684, 8.772746924975635, 8.64366790675935, 8.644956551597021, 8.78997186189755, 8.492747636691307, 8.461229676580336, 8.43610725965546, 8.511457123139085, 8.496584608561134, 8.463428047269904], \"Term\": [\"movy\", \"book\", \"gre\", \"would\", \"story\", \"read\", \"see\", \"watch\", \"prison\", \"cast\", \"yet\", \"guard\", \"emot\", \"feel\", \"men\", \"mak\", \"seen\", \"screen\", \"film\", \"com\", \"three\", \"king\", \"ev\", \"hour\", \"darabont\", \"point\", \"perform\", \"year\", \"tim\", \"edgecomb\", \"laugh\", \"script\", \"guar\", \"bed\", \"tightest\", \"word\", \"pillow\", \"describ\", \"unforget\", \"overal\", \"hold\", \"norm\", \"next\", \"boggl\", \"gen\", \"forget\", \"spotlight\", \"favourit\", \"try\", \"fly\", \"undeny\", \"origin\", \"spot\", \"cop\", \"success\", \"already\", \"ste\", \"felt\", \"heartfelt\", \"overload\", \"titl\", \"watch\", \"whatev\", \"last\", \"heard\", \"funny\", \"unpretenty\", \"grab\", \"strangle\", \"everywh\", \"poign\", \"tissu\", \"cry\", \"recommend\", \"movy\", \"whol\", \"seen\", \"ad\", \"ca\", \"poss\", \"want\", \"journey\", \"mad\", \"think\", \"ev\", \"first\", \"lik\", \"tim\", \"say\", \"feel\", \"hour\", \"sur\", \"tear\", \"mind\", \"gav\", \"anyon\", \"charact\", \"see\", \"emot\", \"tom\", \"act\", \"hank\", \"best\", \"long\", \"expery\", \"mak\", \"hum\", \"gold\", \"particip\", \"disturb\", \"overs\", \"occur\", \"object\", \"stood\", \"behind\", \"nar\", \"subject\", \"mild\", \"supery\", \"elain\", \"suppos\", \"bas\", \"elect\", \"repel\", \"assum\", \"langu\", \"blak\", \"past\", \"aspir\", \"bro\", \"contain\", \"recheck\", \"crimin\", \"sho\", \"databas\", \"sign\", \"provok\", \"penal\", \"gary\", \"worthy\", \"sin\", \"glam\", \"them\", \"glob\", \"french\", \"terr\", \"filmmak\", \"everyon\", \"ey\", \"hal\", \"everyday\", \"dialog\", \"decid\", \"unexpect\", \"unsettl\", \"unspeak\", \"hand\", \"urin\", \"vary\", \"kevin\", \"investig\", \"induc\", \"individ\", \"year\", \"abl\", \"humbl\", \"penet\", \"charg\", \"pow\", \"audy\", \"infect\", \"point\", \"mag\", \"execut\", \"jam\", \"bonny\", \"relig\", \"cromwel\", \"mess\", \"mirac\", \"opin\", \"rec\", \"spacey\", \"plot\", \"god\", \"person\", \"dea\", \"paul\", \"think\", \"plac\", \"film\", \"man\", \"coffey\", \"sev\", \"michael\", \"prison\", \"movy\", \"seen\", \"rol\", \"john\", \"perform\", \"ev\", \"chang\", \"clark\", \"support\", \"david\", \"mors\", \"dunt\", \"long\", \"400\", \"clarkson\", \"pres\", \"cours\", \"guis\", \"guess\", \"ref\", \"remark\", \"remot\", \"comprehend\", \"rockwel\", \"sam\", \"scheduled\", \"bibl\", \"season\", \"sharecrop\", \"sint\", \"captain\", \"going\", \"burn\", \"sou\", \"sound\", \"spawn\", \"built\", \"pound\", \"poet\", \"pity\", \"patric\", \"inform\", \"intact\", \"unto\", \"alabam\", \"jes\", \"modern\", \"light\", \"ordin\", \"brethr\", \"vers\", \"vis\", \"east\", \"almost\", \"tradit\", \"doubl\", \"alleg\", \"pair\", \"id\", \"unc\", \"diabol\", \"fict\", \"not\", \"par\", \"nin\", \"docil\", \"ear\", \"attitud\", \"numb\", \"request\", \"feet\", \"train\", \"illit\", \"fig\", \"devil\", \"lamb\", \"demon\", \"thirty\", \"block\", \"cel\", \"com\", \"got\", \"around\", \"day\", \"walk\", \"tal\", \"least\", \"best\", \"certain\", \"get\", \"nomin\", \"siz\", \"also\", \"lik\", \"film\", \"dunt\", \"pict\", \"guard\", \"would\", \"king\", \"coffey\", \"david\", \"michael\", \"hank\", \"prison\", \"story\", \"steph\", \"support\", \"tom\", \"clark\", \"mak\", \"many\", \"anoth\", \"behemo\", \"priv\", \"os\", \"breakout\", \"optim\", \"brav\", \"employ\", \"renew\", \"forrest\", \"disagr\", \"bless\", \"surround\", \"money\", \"govern\", \"bil\", \"ground\", \"crippl\", \"louisian\", \"bestow\", \"fat\", \"corn\", \"party\", \"sophom\", \"six\", \"pric\", \"common\", \"comply\", \"slap\", \"everym\", \"poity\", \"guy\", \"limit\", \"sav\", \"half\", \"went\", \"refresh\", \"tiny\", \"scraping\", \"instead\", \"bu\", \"darkest\", \"thread\", \"curs\", \"sacr\", \"ryan\", \"circumst\", \"joel\", \"denzel\", \"triumph\", \"turn\", \"philosoph\", \"hutchinson\", \"impart\", \"remind\", \"hooch\", \"devast\", \"vot\", \"hollywood\", \"fin\", \"gump\", \"epitom\", \"haley\", \"hat\", \"shar\", \"died\", \"process\", \"perceiv\", \"southern\", \"startl\", \"legend\", \"inm\", \"pun\", \"win\", \"percy\", \"rol\", \"good\", \"must\", \"dunt\", \"edgecomb\", \"tom\", \"anyon\", \"pessim\", \"paul\", \"hank\", \"find\", \"someth\", \"prison\", \"anoth\", \"play\", \"men\", \"tel\", \"film\", \"michael\", \"charact\", \"perform\", \"ev\", \"level\", \"penaltypercy\", \"offend\", \"behavio\", \"wrong\", \"imo\", \"recours\", \"subplot\", \"inspir\", \"bitterbuck\", \"foc\", \"rar\", \"eas\", \"gross\", \"leg\", \"spoil\", \"weeph\", \"thank\", \"cho\", \"worst\", \"watchingbo\", \"account\", \"mr\", \"fantast\", \"teach\", \"for\", \"simil\", \"foot\", \"shin\", \"somewh\", \"proud\", \"valu\", \"unlik\", \"sympath\", \"expert\", \"heart\", \"trag\", \"sourc\", \"achiev\", \"correct\", \"press\", \"pain\", \"accompl\", \"start\", \"kil\", \"andy\", \"becom\", \"quest\", \"mak\", \"bril\", \"hum\", \"darabont\", \"wond\", \"real\", \"john\", \"paul\", \"emot\", \"every\", \"film\", \"hard\", \"dunt\", \"coffey\", \"deserv\", \"convict\", \"tim\", \"clark\", \"touch\", \"cast\", \"end\", \"edgecomb\", \"michael\", \"us\", \"hank\", \"tom\", \"see\", \"round\", \"spin\", \"er\", \"wring\", \"decay\", \"lost\", \"tri\", \"overtim\", \"overlong\", \"attract\", \"untold\", \"detry\", \"oft\", \"auth\", \"mystery\", \"back\", \"bad\", \"drop\", \"supern\", \"slav\", \"head\", \"includ\", \"30\", \"scor\", \"resid\", \"wis\", \"complet\", \"fail\", \"compr\", \"struggling\", \"annoy\", \"cor\", \"shawskank\", \"recount\", \"slow\", \"involv\", \"howev\", \"easy\", \"strength\", \"film\", \"long\", \"feel\", \"work\", \"many\", \"quit\", \"main\", \"tim\", \"run\", \"story\", \"emot\", \"put\", \"childr\", \"despit\", \"get\", \"prison\", \"wel\", \"two\", \"also\", \"good\", \"hum\", \"real\", \"could\", \"perform\", \"com\", \"mak\", \"sorrow\", \"due\", \"pac\", \"at\", \"unknown\", \"camerawork\", \"fiv\", \"styl\", \"spectacul\", \"post\", \"fantasy\", \"progress\", \"inevit\", \"culmin\", \"indee\", \"colo\", \"smal\", \"held\", \"combin\", \"worry\", \"transpir\", \"seny\", \"skil\", \"joy\", \"return\", \"mean\", \"requir\", \"yet\", \"capt\", \"dep\", \"cast\", \"movy\", \"direct\", \"ev\", \"guard\", \"perform\", \"touch\", \"find\", \"three\", \"hour\", \"charact\", \"michael\", \"prison\", \"story\", \"togeth\", \"del\", \"singl\", \"giant\", \"hank\", \"marvel\", \"right\", \"tom\", \"rol\", \"part\", \"giv\", \"anoth\", \"long\", \"edgecomb\", \"dunt\", \"cal\", \"ot\", \"haunt\", \"told\", \"impact\", \"drag\", \"detest\", \"reply\", \"detail\", \"complaint\", \"import\", \"dul\", \"crit\", \"anyway\", \"anxy\", \"anticip\", \"although\", \"engross\", \"discov\", \"qual\", \"complex\", \"complain\", \"vert\", \"job\", \"suggest\", \"nev\", \"nee\", \"concern\", \"cri\", \"suit\", \"baby\", \"screen\", \"book\", \"leng\", \"story\", \"bring\", \"three\", \"sev\", \"king\", \"darabont\", \"hour\", \"lik\", \"film\", \"emot\", \"act\", \"scen\", \"perfect\", \"right\", \"portray\", \"cast\", \"tel\", \"feel\", \"seem\", \"certain\", \"best\", \"way\", \"prol\", \"apply\", \"teem\", \"finest\", \"aw\", \"demun\", \"sympathet\", \"behavy\", \"discovery\", \"louisann\", \"dab\", \"brut\", \"stanton\", \"enorm\", \"empa\", \"chronicles\", \"silv\", \"shown\", \"short\", \"earn\", \"serv\", \"coff\", \"noth\", \"revel\", \"recollect\", \"terwillig\", \"recal\", \"joe\", \"howel\", \"jeffery\", \"imprison\", \"wherein\", \"genuin\", \"incarc\", \"wretch\", \"harry\", \"dean\", \"innoc\", \"men\", \"unus\", \"stat\", \"sad\", \"prison\", \"stev\", \"guard\", \"stay\", \"edgecomb\", \"man\", \"story\", \"hutchison\", \"tru\", \"gre\", \"king\", \"ev\", \"dunt\", \"movy\", \"commit\", \"world\", \"sent\", \"writ\", \"lik\", \"howev\", \"perhap\", \"eduard\", \"recognit\", \"min\", \"rit\", \"exact\", \"ago\", \"left\", \"detract\", \"unfair\", \"haywor\", \"affect\", \"eith\", \"read\", \"delacroix\", \"gre\", \"peopl\", \"glad\", \"far\", \"book\", \"comp\", \"star\", \"friend\", \"imagin\", \"point\", \"look\", \"hop\", \"plot\", \"nam\", \"receiv\", \"said\", \"would\", \"novel\", \"see\", \"play\", \"movy\", \"king\", \"perform\", \"michael\", \"diff\", \"tru\", \"best\", \"lik\", \"writ\", \"pict\", \"mirac\", \"cast\", \"stay\", \"way\", \"giv\", \"man\", \"john\", \"good\"], \"Total\": [417.0, 89.0, 64.0, 99.0, 173.0, 49.0, 89.0, 63.0, 141.0, 102.0, 41.0, 82.0, 112.0, 87.0, 49.0, 104.0, 85.0, 49.0, 232.0, 74.0, 51.0, 107.0, 138.0, 73.0, 68.0, 36.0, 115.0, 62.0, 117.0, 88.0, 16.07008892120819, 14.543236608056906, 8.052618707471495, 8.052618707471495, 8.052618707471495, 8.052618707471495, 8.052618707471495, 8.052618707471495, 8.052618707471495, 8.052618707471495, 8.052618707471495, 8.052618707471495, 8.052618707471495, 8.052618707471495, 8.052618707471495, 29.001256017355207, 6.618694787221996, 6.618694787221996, 6.618694787221996, 6.618694787221996, 6.618694787221996, 6.618694787221996, 6.618694787221996, 6.618694787221996, 6.618694787221996, 6.618694787221996, 6.618694787221996, 8.170131504225637, 8.170131504225637, 8.170131504225637, 13.315602392131352, 63.84049483595373, 8.170131504225637, 8.170131504225637, 8.170131504225637, 8.170131504225637, 8.170131504225637, 8.170131504225637, 8.170131504225637, 8.170131504225637, 8.170131504225637, 20.204931781718493, 15.980753864766713, 17.927916622534173, 417.917432800296, 26.394350453194328, 85.59269705385243, 16.898756026027648, 52.19101362654596, 41.38061999749279, 23.517522394318874, 9.208153232273622, 40.72133631535852, 79.67567952513348, 138.707481927908, 13.966805031095573, 131.9580970290329, 117.87938893367878, 42.190879113650766, 87.51345386225518, 73.10877685400423, 20.24125110928581, 12.307365390270427, 42.976811491705526, 25.97744229222078, 39.11706089300403, 81.89566069539879, 89.98759658604656, 112.42573765740326, 113.70909126621609, 99.99351353947523, 131.14966592487463, 104.06890516407057, 91.22203828425506, 37.99964220872468, 104.10719107494697, 69.9388188239164, 6.4920212627836, 6.4920212627836, 12.997679130350893, 6.4920212627836, 6.4920212627836, 6.4920212627836, 6.4920212627836, 6.4920212627836, 6.4920212627836, 12.997679130350893, 6.4920212627836, 6.4920212627836, 12.997679130350893, 6.4920212627836, 6.4920212627836, 12.997679130350893, 6.4920212627836, 6.4920212627836, 6.4920212627836, 6.4920212627836, 6.4920212627836, 6.4920212627836, 6.4920212627836, 19.503336997918183, 6.4920212627836, 6.4920212627836, 6.4920212627836, 6.4920212627836, 12.997679130350893, 6.4920212627836, 19.503336997918183, 12.997679130350893, 12.997679130350893, 12.997679130350893, 6.4920212627836, 6.4920212627836, 6.4920212627836, 6.4920212627836, 6.4920212627836, 6.4920212627836, 6.4920212627836, 6.4920212627836, 6.4920212627836, 6.4920212627836, 6.4920212627836, 6.4920212627836, 6.4920212627836, 6.4920212627836, 6.4920212627836, 6.4920212627836, 6.4920212627836, 6.4920212627836, 6.4920212627836, 6.4920212627836, 6.4920212627836, 6.4920212627836, 62.128365840059104, 25.854014724054487, 6.4920212627836, 6.4920212627836, 6.4920212627836, 47.646173534440564, 31.875298276710932, 6.4920212627836, 36.51471011033399, 19.334356776420023, 19.354367753749745, 19.51639875603076, 19.51639875603076, 19.51639875603076, 19.51639875603076, 19.918657611190692, 40.88337849907009, 21.49205808377158, 20.682485625572845, 6.4920212627836, 21.208031799201216, 21.691195802630453, 21.691195802630453, 75.6386743127807, 112.58475463124573, 79.67567952513348, 46.942862259582405, 232.5487674685652, 95.27792180112515, 104.99199956663972, 53.64865887605883, 123.88951860156007, 141.09201711975805, 417.917432800296, 85.59269705385243, 89.170983874638, 98.79243943826692, 115.19159966573062, 138.707481927908, 25.176226803126163, 73.95512009634133, 50.622223605822434, 40.035158928684005, 41.013979237458074, 141.27800551614158, 91.22203828425506, 6.536289375023579, 6.536289375023579, 6.536289375023579, 6.536289375023579, 6.536289375023579, 6.536289375023579, 6.536289375023579, 13.08965670587437, 6.536289375023579, 6.536289375023579, 6.536289375023579, 6.536289375023579, 6.536289375023579, 6.536289375023579, 6.536289375023579, 6.536289375023579, 6.536289375023579, 6.536289375023579, 6.536289375023579, 6.536289375023579, 6.536289375023579, 6.536289375023579, 6.536289375023579, 13.08965670587437, 6.536289375023579, 6.536289375023579, 6.536289375023579, 6.536289375023579, 6.536289375023579, 6.536289375023579, 19.643024036725162, 13.08965670587437, 13.08965670587437, 6.536289375023579, 6.536289375023579, 6.536289375023579, 6.536289375023579, 6.536289375023579, 6.536289375023579, 6.536289375023579, 6.536289375023579, 6.536289375023579, 6.536289375023579, 6.536289375023579, 6.536289375023579, 6.536289375023579, 6.536289375023579, 6.536289375023579, 6.536289375023579, 6.536289375023579, 6.536289375023579, 6.536289375023579, 6.536289375023579, 6.536289375023579, 6.536289375023579, 6.536289375023579, 6.536289375023579, 6.536289375023579, 6.536289375023579, 6.536289375023579, 6.536289375023579, 6.536289375023579, 6.536289375023579, 6.536289375023579, 6.536289375023579, 33.11277612727649, 26.572316246810985, 74.89967611618937, 29.09159772206671, 35.40158453243878, 19.564155662154885, 20.031856366345473, 42.31235681116235, 20.5770685499736, 104.06890516407057, 45.12824593726284, 50.2712206653582, 26.46772906185754, 26.46772906185754, 64.18044847314395, 131.9580970290329, 232.5487674685652, 141.27800551614158, 30.28471285931019, 82.80586013550592, 99.25288202598796, 107.1418670249568, 104.99199956663972, 40.035158928684005, 123.88951860156007, 131.14966592487463, 141.09201711975805, 173.13031656783073, 57.31831526668657, 50.622223605822434, 113.70909126621609, 73.95512009634133, 104.10719107494697, 91.66580031840945, 49.17295914381521, 6.979987267980032, 6.979987267980032, 6.979987267980032, 6.979987267980032, 6.979987267980032, 6.979987267980032, 6.979987267980032, 6.979987267980032, 6.979987267980032, 6.979987267980032, 6.979987267980032, 6.979987267980032, 6.979987267980032, 6.979987267980032, 6.979987267980032, 6.979987267980032, 6.979987267980032, 6.979987267980032, 6.979987267980032, 6.979987267980032, 6.979987267980032, 6.979987267980032, 6.979987267980032, 6.979987267980032, 6.979987267980032, 13.976823725209774, 6.979987267980032, 13.976823725209774, 6.979987267980032, 6.979987267980032, 13.976823725209774, 13.976823725209774, 13.976823725209774, 13.976823725209774, 13.976823725209774, 6.979987267980032, 6.979987267980032, 6.979987267980032, 6.979987267980032, 6.979987267980032, 6.979987267980032, 6.979987267980032, 6.979987267980032, 6.979987267980032, 6.979987267980032, 6.979987267980032, 6.979987267980032, 6.979987267980032, 6.979987267980032, 6.979987267980032, 6.979987267980032, 6.979987267980032, 6.979987267980032, 21.589054139789216, 6.979987267980032, 6.979987267980032, 6.979987267980032, 6.979987267980032, 15.059532461077664, 6.979987267980032, 6.979987267980032, 6.979987267980032, 6.979987267980032, 6.979987267980032, 6.979987267980032, 6.979987267980032, 6.979987267980032, 6.979987267980032, 6.979987267980032, 20.3461073761161, 20.476197610739092, 21.49746340379702, 21.571129633216877, 44.930857256960195, 89.170983874638, 61.305606228542786, 29.895425240225162, 141.27800551614158, 88.02137987534095, 113.70909126621609, 39.11706089300403, 6.979987267980032, 112.58475463124573, 131.14966592487463, 48.05106265064927, 46.622703067093674, 141.09201711975805, 49.17295914381521, 51.81556082603824, 49.63709277596982, 53.06889596216851, 232.5487674685652, 123.88951860156007, 81.89566069539879, 115.19159966573062, 138.707481927908, 9.010507881536592, 9.010507881536592, 9.010507881536592, 9.010507881536592, 9.010507881536592, 9.010507881536592, 9.010507881536592, 9.010507881536592, 9.010507881536592, 9.010507881536592, 9.010507881536592, 9.010507881536592, 9.010507881536592, 9.010507881536592, 9.010507881536592, 9.010507881536592, 9.010507881536592, 9.010507881536592, 9.010507881536592, 9.010507881536592, 9.010507881536592, 9.010507881536592, 15.233520625878247, 15.233520625878247, 7.2005431868153345, 7.2005431868153345, 7.2005431868153345, 7.2005431868153345, 7.2005431868153345, 7.2005431868153345, 7.2005431868153345, 7.2005431868153345, 7.2005431868153345, 7.2005431868153345, 7.2005431868153345, 14.540046577194987, 7.2005431868153345, 7.2005431868153345, 7.2005431868153345, 7.2005431868153345, 7.2005431868153345, 24.30008099809744, 7.2005431868153345, 7.2005431868153345, 7.2005431868153345, 7.2005431868153345, 25.621895805412457, 30.726975210186747, 104.10719107494697, 45.14345535433533, 69.9388188239164, 68.67448119191128, 54.45967434522683, 75.91341311741857, 98.79243943826692, 112.58475463124573, 112.42573765740326, 42.18700548443844, 232.5487674685652, 37.83400319017927, 141.27800551614158, 104.99199956663972, 34.504549032174005, 35.13369139479554, 117.87938893367878, 73.95512009634133, 38.575391698896844, 102.1369924645743, 26.064712812682632, 88.02137987534095, 123.88951860156007, 46.70592504784664, 131.14966592487463, 113.70909126621609, 89.98759658604656, 7.780331394957769, 7.780331394957769, 7.780331394957769, 7.780331394957769, 7.780331394957769, 7.780331394957769, 7.780331394957769, 7.780331394957769, 7.780331394957769, 15.58014653710325, 7.780331394957769, 7.780331394957769, 7.780331394957769, 7.780331394957769, 7.780331394957769, 7.780331394957769, 7.780331394957769, 7.780331394957769, 7.780331394957769, 7.780331394957769, 7.780331394957769, 7.780331394957769, 7.780331394957769, 15.58014653710325, 7.780331394957769, 7.780331394957769, 7.780331394957769, 7.780331394957769, 7.780331394957769, 7.780331394957769, 7.780331394957769, 7.780331394957769, 7.780331394957769, 7.780331394957769, 24.28740799231618, 16.658811900304553, 55.10910179554646, 21.089774068707197, 21.98257450560087, 232.5487674685652, 91.22203828425506, 87.51345386225518, 54.72439840400723, 91.66580031840945, 27.691373783592724, 28.63551707941346, 117.87938893367878, 38.859990671860565, 173.13031656783073, 112.42573765740326, 43.42810168029235, 8.964936816819742, 8.964936816819742, 50.2712206653582, 141.09201711975805, 50.49566852789998, 51.49141684470393, 64.18044847314395, 61.305606228542786, 69.9388188239164, 75.91341311741857, 75.16571183637143, 115.19159966573062, 74.89967611618937, 104.10719107494697, 8.29265259081973, 8.29265259081973, 8.29265259081973, 8.29265259081973, 8.29265259081973, 8.29265259081973, 16.608090439940042, 8.29265259081973, 8.29265259081973, 8.29265259081973, 8.29265259081973, 8.29265259081973, 8.29265259081973, 8.29265259081973, 8.29265259081973, 8.29265259081973, 8.29265259081973, 8.29265259081973, 8.29265259081973, 8.29265259081973, 8.29265259081973, 8.29265259081973, 10.013690521039557, 9.53358283327747, 9.340738439661855, 9.340738439661855, 9.356647776366106, 41.572317215270274, 11.762493921040964, 24.94319989888535, 102.1369924645743, 417.917432800296, 35.181952107058756, 138.707481927908, 82.80586013550592, 115.19159966573062, 38.575391698896844, 48.05106265064927, 51.10432558787028, 73.10877685400423, 81.89566069539879, 123.88951860156007, 141.09201711975805, 173.13031656783073, 18.476424830556347, 18.85639256692526, 20.199590968851325, 26.64938008229611, 131.14966592487463, 23.148093101366495, 54.27010801169442, 113.70909126621609, 89.170983874638, 33.15278437040347, 35.18723405678141, 49.17295914381521, 91.22203828425506, 88.02137987534095, 141.27800551614158, 47.3457674049362, 10.052840297725695, 10.052840297725695, 10.052840297725695, 10.052840297725695, 10.052840297725695, 10.052840297725695, 10.052840297725695, 10.052840297725695, 10.052840297725695, 10.052840297725695, 10.052840297725695, 10.052840297725695, 10.052840297725695, 10.052840297725695, 10.052840297725695, 10.052840297725695, 10.052840297725695, 10.052840297725695, 11.742914215195214, 11.742914215195214, 13.16911727061319, 17.62226115613153, 27.037976449803093, 15.028220609844197, 33.5856129149005, 19.221081227458072, 16.35983395884265, 16.961816354400433, 16.463572968554562, 16.498726101163896, 49.695662318216094, 89.44826011053729, 45.4643450113983, 173.13031656783073, 48.628216222687605, 51.10432558787028, 53.64865887605883, 107.1418670249568, 68.67448119191128, 73.10877685400423, 131.9580970290329, 232.5487674685652, 112.42573765740326, 99.99351353947523, 32.667286119562995, 30.98381857352644, 54.27010801169442, 28.680245065240662, 102.1369924645743, 53.06889596216851, 87.51345386225518, 17.70901979813071, 45.12824593726284, 104.06890516407057, 35.65196390798191, 6.379125492967713, 6.379125492967713, 6.379125492967713, 6.379125492967713, 6.379125492967713, 6.379125492967713, 12.775743384572651, 6.379125492967713, 6.379125492967713, 6.379125492967713, 6.379125492967713, 6.379125492967713, 6.379125492967713, 6.379125492967713, 6.379125492967713, 6.379125492967713, 6.379125492967713, 6.379125492967713, 6.379125492967713, 12.775743384572651, 6.379125492967713, 12.775743384572651, 6.379125492967713, 6.379125492967713, 6.379125492967713, 6.379125492967713, 12.775743384572651, 6.379125492967713, 6.379125492967713, 6.379125492967713, 6.379125492967713, 6.379125492967713, 6.379125492967713, 6.379125492967713, 6.379125492967713, 6.379125492967713, 6.379125492967713, 31.67729415632326, 49.63709277596982, 19.30374805844816, 19.74650418368606, 20.538963331143464, 141.09201711975805, 27.806802267291292, 82.80586013550592, 33.60513350164104, 88.02137987534095, 95.27792180112515, 173.13031656783073, 49.88193072658815, 57.201478649251015, 64.08757597342004, 107.1418670249568, 138.707481927908, 141.27800551614158, 417.917432800296, 13.29948750825293, 16.507036214711434, 19.32217067910253, 44.68097519929784, 131.9580970290329, 55.10910179554646, 27.65324191347552, 8.25716091377548, 8.25716091377548, 8.25716091377548, 8.25716091377548, 8.25716091377548, 8.25716091377548, 8.25716091377548, 8.25716091377548, 8.25716091377548, 8.25716091377548, 11.2694640907572, 10.84864951870747, 49.281482308197724, 24.636068227616725, 64.08757597342004, 28.839133056066082, 14.77304726267624, 15.753401877089885, 89.44826011053729, 15.970193304072847, 16.394155443379375, 17.351214948027483, 17.67499239559585, 36.51471011033399, 18.71960739263804, 38.8900097625425, 21.208031799201216, 21.2236430693675, 21.2236430693675, 21.231199362905528, 99.25288202598796, 44.03549716543347, 89.98759658604656, 51.81556082603824, 417.917432800296, 107.1418670249568, 115.19159966573062, 123.88951860156007, 28.214702650828322, 57.201478649251015, 104.06890516407057, 131.9580970290329, 44.68097519929784, 30.28471285931019, 40.88337849907009, 102.1369924645743, 33.60513350164104, 35.65196390798191, 35.18723405678141, 95.27792180112515, 98.79243943826692, 61.305606228542786], \"loglift\": [30.0, 29.0, 28.0, 27.0, 26.0, 25.0, 24.0, 23.0, 22.0, 21.0, 20.0, 19.0, 18.0, 17.0, 16.0, 15.0, 14.0, 13.0, 12.0, 11.0, 10.0, 9.0, 8.0, 7.0, 6.0, 5.0, 4.0, 3.0, 2.0, 1.0, 1.866, 1.8637, 1.8624, 1.8624, 1.8624, 1.8624, 1.8624, 1.8624, 1.8624, 1.8624, 1.8624, 1.8624, 1.8624, 1.8624, 1.8624, 1.85, 1.842, 1.842, 1.842, 1.842, 1.842, 1.842, 1.842, 1.842, 1.842, 1.842, 1.842, 1.8412, 1.8412, 1.8412, 1.8396, 1.8208, 1.8412, 1.8412, 1.8412, 1.8412, 1.8412, 1.8412, 1.8412, 1.8412, 1.8412, 1.7574, 1.7705, 1.745, 1.2317, 1.6465, 1.4271, 1.7042, 1.4467, 1.4548, 1.5352, 1.8008, 1.2662, 0.9984, 0.761, 1.6421, 0.7382, 0.73, 1.1609, 0.8335, 0.8957, 1.4553, 1.6676, 1.0863, 1.3194, 1.1066, 0.7367, 0.6091, 0.4442, 0.3915, 0.4512, 0.2382, 0.2731, 0.3728, 1.0273, 0.0739, 0.4178, 1.9167, 1.9167, 1.9167, 1.9167, 1.9167, 1.9167, 1.9167, 1.9167, 1.9167, 1.9167, 1.9167, 1.9167, 1.9167, 1.9167, 1.9167, 1.9167, 1.9167, 1.9167, 1.9167, 1.9167, 1.9167, 1.9167, 1.9167, 1.9167, 1.9167, 1.9167, 1.9167, 1.9167, 1.9167, 1.9167, 1.9167, 1.9167, 1.9167, 1.9167, 1.9167, 1.9167, 1.9167, 1.9167, 1.9167, 1.9167, 1.9167, 1.9167, 1.9167, 1.9167, 1.9167, 1.9167, 1.9167, 1.9167, 1.9167, 1.9167, 1.9167, 1.9167, 1.9167, 1.9167, 1.9167, 1.9167, 1.4597, 1.6343, 1.9167, 1.9167, 1.9167, 1.3114, 1.4275, 1.9167, 1.2882, 1.5232, 1.5178, 1.5098, 1.5098, 1.5098, 1.5098, 1.4884, 1.1929, 1.4347, 1.45, 1.9167, 1.4261, 1.4001, 1.4001, 0.8509, 0.6697, 0.7968, 1.0354, 0.149, 0.6187, 0.5162, 0.8996, 0.3739, 0.2218, -0.6426, 0.4644, 0.4071, 0.2901, 0.1723, -0.0461, 1.2763, 0.2141, 0.585, 0.8115, 0.7858, -0.441, -0.0083, 2.1597, 2.1597, 2.1597, 2.1597, 2.1597, 2.1597, 2.1597, 2.1597, 2.1597, 2.1597, 2.1597, 2.1597, 2.1597, 2.1597, 2.1597, 2.1597, 2.1597, 2.1597, 2.1597, 2.1597, 2.1597, 2.1597, 2.1597, 2.1597, 2.1597, 2.1597, 2.1597, 2.1597, 2.1597, 2.1597, 2.1597, 2.1597, 2.1597, 2.1597, 2.1597, 2.1597, 2.1597, 2.1597, 2.1597, 2.1597, 2.1597, 2.1597, 2.1597, 2.1597, 2.1597, 2.1597, 2.1597, 2.1597, 2.1597, 2.1597, 2.1597, 2.1597, 2.1597, 2.1597, 2.1597, 2.1597, 2.1597, 2.1597, 2.1597, 2.1597, 2.1597, 2.1597, 2.1597, 2.1597, 2.1597, 1.925, 1.857, 1.5109, 1.7661, 1.5687, 1.7574, 1.7333, 1.4168, 1.7032, 1.0033, 1.3397, 1.2416, 1.4542, 1.4542, 0.9824, 0.5585, 0.2105, 0.4796, 1.3223, 0.7172, 0.5388, 0.4773, 0.4805, 1.0382, 0.3214, 0.2831, 0.1844, -0.025, 0.7203, 0.8315, 0.0115, 0.4366, 0.093, 0.2195, 0.8397, 2.2334, 2.2334, 2.2334, 2.2334, 2.2334, 2.2334, 2.2334, 2.2334, 2.2334, 2.2334, 2.2334, 2.2334, 2.2334, 2.2334, 2.2334, 2.2334, 2.2334, 2.2334, 2.2334, 2.2334, 2.2334, 2.2334, 2.2334, 2.2334, 2.2334, 2.2334, 2.2334, 2.2334, 2.2334, 2.2334, 2.2334, 2.2334, 2.2334, 2.2334, 2.2334, 2.2334, 2.2334, 2.2334, 2.2334, 2.2334, 2.2334, 2.2334, 2.2334, 2.2334, 2.2334, 2.2334, 2.2334, 2.2334, 2.2334, 2.2334, 2.2334, 2.2334, 2.2334, 2.2177, 2.2334, 2.2334, 2.2334, 2.2334, 2.1783, 2.2334, 2.2334, 2.2334, 2.2334, 2.2334, 2.2334, 2.2334, 2.2334, 2.2334, 2.2334, 1.8577, 1.8506, 1.8064, 1.8035, 1.4668, 1.0875, 1.1668, 1.4696, 0.6448, 0.8238, 0.5683, 1.2013, 2.2334, 0.5474, 0.4456, 1.043, 1.0288, 0.3146, 0.9695, 0.9328, 0.9576, 0.888, -0.1392, 0.1351, 0.495, 0.1504, -0.0608, 2.2623, 2.2623, 2.2623, 2.2623, 2.2623, 2.2623, 2.2623, 2.2623, 2.2623, 2.2623, 2.2623, 2.2623, 2.2623, 2.2623, 2.2623, 2.2623, 2.2623, 2.2623, 2.2623, 2.2623, 2.2623, 2.2623, 2.2603, 2.2603, 2.0978, 2.0978, 2.0978, 2.0978, 2.0978, 2.0978, 2.0978, 2.0978, 2.0978, 2.0978, 2.0978, 2.0906, 2.0978, 2.0978, 2.0978, 2.0978, 2.0978, 1.9581, 2.0978, 2.0978, 2.0978, 2.0978, 1.8232, 1.7206, 1.3982, 1.6166, 1.3793, 1.3411, 1.4247, 1.2508, 1.0354, 0.9257, 0.8891, 1.3992, 0.4194, 1.3985, 0.5435, 0.7276, 1.4126, 1.3575, 0.5417, 0.8245, 1.247, 0.542, 1.4998, 0.5778, 0.3247, 1.0222, 0.2338, 0.2774, 0.4606, 2.3404, 2.3404, 2.3404, 2.3404, 2.3404, 2.3404, 2.3404, 2.3404, 2.3404, 2.3404, 2.3404, 2.3404, 2.3404, 2.3404, 2.3404, 2.3404, 2.3404, 2.3404, 2.3404, 2.3404, 2.3404, 2.3404, 2.3404, 2.3404, 2.3404, 2.3404, 2.3404, 2.3404, 2.3404, 2.3404, 2.3404, 2.3404, 2.3404, 2.3404, 2.3218, 2.2943, 1.7652, 2.0325, 1.994, 0.932, 1.3082, 1.2958, 1.495, 1.2614, 1.7559, 1.7278, 1.0236, 1.4436, 0.6013, 0.7763, 1.325, 2.2558, 2.2558, 1.2095, 0.5284, 1.162, 1.1302, 0.9704, 0.9684, 0.8432, 0.7624, 0.7473, 0.4407, 0.7422, 0.4543, 2.4838, 2.4838, 2.4838, 2.4838, 2.4838, 2.4838, 2.4838, 2.4838, 2.4838, 2.4838, 2.4838, 2.4838, 2.4838, 2.4838, 2.4838, 2.4838, 2.4838, 2.4838, 2.4838, 2.4838, 2.4838, 2.4838, 2.3706, 2.3694, 2.3625, 2.3625, 2.3622, 2.3136, 2.1474, 2.1369, 1.6355, 0.685, 1.7465, 1.0529, 1.2715, 1.0419, 1.6326, 1.5068, 1.3984, 1.0155, 0.9317, 0.625, 0.3603, 0.1453, 1.8652, 1.7475, 1.6846, 1.424, -0.0284, 1.5379, 0.7378, 0.0412, 0.2679, 1.1871, 1.131, 0.8103, 0.2146, 0.2403, -0.2273, 0.8358, 2.6029, 2.6029, 2.6029, 2.6029, 2.6029, 2.6029, 2.6029, 2.6029, 2.6029, 2.6029, 2.6029, 2.6029, 2.6029, 2.6029, 2.6029, 2.6029, 2.6029, 2.6029, 2.5249, 2.5249, 2.3756, 2.3573, 2.3065, 2.1712, 2.1403, 2.1258, 2.1114, 2.1102, 2.1045, 2.1019, 2.1011, 1.7972, 1.8822, 1.4378, 1.7702, 1.6975, 1.6079, 1.1037, 1.3843, 1.3266, 0.8993, 0.4078, 0.891, 0.9627, 1.7, 1.6683, 1.1646, 1.7108, 0.5184, 1.0905, 0.6165, 2.0863, 1.1991, 0.3843, 1.4088, 2.7838, 2.7838, 2.7838, 2.7838, 2.7838, 2.7838, 2.7838, 2.7838, 2.7838, 2.7838, 2.7838, 2.7838, 2.7838, 2.7838, 2.7838, 2.7838, 2.7838, 2.7838, 2.7838, 2.7838, 2.7838, 2.7838, 2.7838, 2.7838, 2.7838, 2.7838, 2.7838, 2.7838, 2.7838, 2.7838, 2.7838, 2.7838, 2.7838, 2.7838, 2.7838, 2.7838, 2.7838, 2.2869, 2.1213, 2.3709, 2.3481, 2.3082, 1.3009, 2.0304, 1.3178, 1.8242, 1.2589, 1.1806, 0.5917, 1.4176, 1.2818, 1.1661, 0.6821, 0.3953, 0.3752, -0.6941, 2.065, 1.8505, 1.6908, 0.8584, -0.2261, 0.6433, 1.3311, 2.8833, 2.8833, 2.8833, 2.8833, 2.8833, 2.8833, 2.8833, 2.8833, 2.8833, 2.8833, 2.61, 2.6091, 2.4836, 2.4725, 2.4507, 2.3659, 2.3001, 2.2931, 2.2912, 2.2194, 2.1879, 2.178, 2.1317, 2.088, 2.0483, 2.0482, 1.9358, 1.9358, 1.9358, 1.9057, 1.8813, 1.885, 1.7153, 1.7561, 1.1071, 1.0446, 0.9835, 0.8906, 1.7842, 1.0871, 0.4856, 0.2336, 1.2554, 1.6294, 1.3295, 0.4306, 1.5078, 1.4449, 1.4551, 0.4679, 0.4299, 0.9031], \"logprob\": [30.0, 29.0, 28.0, 27.0, 26.0, 25.0, 24.0, 23.0, 22.0, 21.0, 20.0, 19.0, 18.0, 17.0, 16.0, 15.0, 14.0, 13.0, 12.0, 11.0, 10.0, 9.0, 8.0, 7.0, 6.0, 5.0, 4.0, 3.0, 2.0, 1.0, -5.1119, -5.214, -5.8065, -5.8065, -5.8065, -5.8065, -5.8065, -5.8065, -5.8065, -5.8065, -5.8065, -5.8065, -5.8065, -5.8065, -5.8065, -4.5375, -6.023, -6.023, -6.023, -6.023, -6.023, -6.023, -6.023, -6.023, -6.023, -6.023, -6.023, -5.8132, -5.8132, -5.8132, -5.3264, -3.7777, -5.8132, -5.8132, -5.8132, -5.8132, -5.8132, -5.8132, -5.8132, -5.8132, -5.8132, -4.9916, -5.2129, -5.1235, -2.4879, -4.8352, -3.8782, -5.2235, -4.3533, -4.5773, -5.062, -5.734, -4.7819, -4.3785, -4.0615, -5.476, -4.1342, -4.2552, -4.8518, -4.4495, -4.5673, -5.2918, -5.5771, -4.9079, -5.1782, -4.9817, -4.6127, -4.6461, -4.5884, -4.6297, -4.6986, -4.6403, -4.8367, -4.8688, -5.09, -5.0356, -5.0895, -5.9676, -5.9676, -5.2734, -5.9676, -5.9676, -5.9676, -5.9676, -5.9676, -5.9676, -5.2734, -5.9676, -5.9676, -5.2734, -5.9676, -5.9676, -5.2734, -5.9676, -5.9676, -5.9676, -5.9676, -5.9676, -5.9676, -5.9676, -4.8676, -5.9676, -5.9676, -5.9676, -5.9676, -5.2734, -5.9676, -4.8676, -5.2734, -5.2734, -5.2734, -5.9676, -5.9676, -5.9676, -5.9676, -5.9676, -5.9676, -5.9676, -5.9676, -5.9676, -5.9676, -5.9676, -5.9676, -5.9676, -5.9676, -5.9676, -5.9676, -5.9676, -5.9676, -5.9676, -5.9676, -5.9676, -5.9676, -4.166, -4.8681, -5.9676, -5.9676, -5.9676, -4.5797, -4.8656, -5.9676, -4.869, -5.2698, -5.2742, -5.2738, -5.2738, -5.2738, -5.2738, -5.2748, -4.8512, -5.2525, -5.2755, -5.9676, -5.2744, -5.2779, -5.2779, -4.578, -4.3615, -4.5801, -4.8706, -4.1567, -4.5794, -4.5848, -4.8728, -4.5616, -4.5836, -4.3622, -4.8409, -4.8573, -4.8717, -4.836, -4.8686, -5.2527, -5.2373, -5.2455, -5.2536, -5.2552, -5.2451, -5.2499, -5.7178, -5.7178, -5.7178, -5.7178, -5.7178, -5.7178, -5.7178, -5.0233, -5.7178, -5.7178, -5.7178, -5.7178, -5.7178, -5.7178, -5.7178, -5.7178, -5.7178, -5.7178, -5.7178, -5.7178, -5.7178, -5.7178, -5.7178, -5.0233, -5.7178, -5.7178, -5.7178, -5.7178, -5.7178, -5.7178, -4.6174, -5.0233, -5.0233, -5.7178, -5.7178, -5.7178, -5.7178, -5.7178, -5.7178, -5.7178, -5.7178, -5.7178, -5.7178, -5.7178, -5.7178, -5.7178, -5.7178, -5.7178, -5.7178, -5.7178, -5.7178, -5.7178, -5.7178, -5.7178, -5.7178, -5.7178, -5.7178, -5.7178, -5.7178, -5.7178, -5.7178, -5.7178, -5.7178, -5.7178, -5.7178, -4.33, -4.618, -3.9278, -4.6183, -4.6194, -5.0238, -5.0243, -4.593, -5.0275, -4.1065, -4.6056, -4.5958, -5.0247, -5.0247, -4.6108, -4.3138, -4.0952, -4.3245, -5.0219, -4.6212, -4.6184, -4.6034, -4.6205, -5.0269, -4.6141, -4.5954, -4.621, -4.6258, -4.986, -4.999, -5.0098, -5.0148, -5.0165, -5.0173, -5.0198, -5.5784, -5.5784, -5.5784, -5.5784, -5.5784, -5.5784, -5.5784, -5.5784, -5.5784, -5.5784, -5.5784, -5.5784, -5.5784, -5.5784, -5.5784, -5.5784, -5.5784, -5.5784, -5.5784, -5.5784, -5.5784, -5.5784, -5.5784, -5.5784, -5.5784, -4.884, -5.5784, -4.884, -5.5784, -5.5784, -4.884, -4.884, -4.884, -4.884, -4.884, -5.5784, -5.5784, -5.5784, -5.5784, -5.5784, -5.5784, -5.5784, -5.5784, -5.5784, -5.5784, -5.5784, -5.5784, -5.5784, -5.5784, -5.5784, -5.5784, -5.5784, -5.5784, -4.465, -5.5784, -5.5784, -5.5784, -5.5784, -4.8646, -5.5784, -5.5784, -5.5784, -5.5784, -5.5784, -5.5784, -5.5784, -5.5784, -5.5784, -5.5784, -4.8842, -4.885, -4.8805, -4.88, -4.4829, -4.1768, -4.4722, -4.8875, -4.1593, -4.4535, -4.4529, -4.8871, -5.5784, -4.4838, -4.4329, -4.8396, -4.884, -4.4909, -4.89, -4.8744, -4.8925, -4.8952, -4.445, -4.8004, -4.8545, -4.8579, -4.8833, -5.2942, -5.2942, -5.2942, -5.2942, -5.2942, -5.2942, -5.2942, -5.2942, -5.2942, -5.2942, -5.2942, -5.2942, -5.2942, -5.2942, -5.2942, -5.2942, -5.2942, -5.2942, -5.2942, -5.2942, -5.2942, -5.2942, -4.7711, -4.7711, -5.6829, -5.6829, -5.6829, -5.6829, -5.6829, -5.6829, -5.6829, -5.6829, -5.6829, -5.6829, -5.6829, -4.9874, -5.6829, -5.6829, -5.6829, -5.6829, -5.6829, -4.6063, -5.6829, -5.6829, -5.6829, -5.6829, -4.6882, -4.6091, -3.7112, -4.3284, -4.128, -4.1844, -4.3328, -4.1745, -4.1264, -4.1055, -4.1435, -4.6135, -3.8863, -4.7231, -4.2606, -4.3734, -4.8011, -4.8382, -4.4435, -4.627, -4.8553, -4.5866, -4.9945, -4.6995, -4.6108, -4.8888, -4.6447, -4.7438, -4.7946, -5.3629, -5.3629, -5.3629, -5.3629, -5.3629, -5.3629, -5.3629, -5.3629, -5.3629, -4.6685, -5.3629, -5.3629, -5.3629, -5.3629, -5.3629, -5.3629, -5.3629, -5.3629, -5.3629, -5.3629, -5.3629, -5.3629, -5.3629, -4.6685, -5.3629, -5.3629, -5.3629, -5.3629, -5.3629, -5.3629, -5.3629, -5.3629, -5.3629, -5.3629, -4.2431, -4.6476, -3.9804, -4.6736, -4.6707, -3.3738, -3.9334, -3.9872, -4.2576, -3.9754, -4.6779, -4.6724, -3.9616, -4.6513, -3.9995, -4.2563, -4.6587, -5.3057, -5.3057, -4.628, -4.2771, -4.671, -4.6833, -4.6228, -4.6706, -4.6641, -4.6628, -4.6879, -4.5676, -4.6966, -4.6552, -5.1557, -5.1557, -5.1557, -5.1557, -5.1557, -5.1557, -4.4612, -5.1557, -5.1557, -5.1557, -5.1557, -5.1557, -5.1557, -5.1557, -5.1557, -5.1557, -5.1557, -5.1557, -5.1557, -5.1557, -5.1557, -5.1557, -5.0803, -5.1306, -5.158, -5.158, -5.1566, -3.7139, -5.1425, -4.4013, -3.493, -3.0346, -4.4479, -3.7696, -4.0668, -3.9664, -4.4696, -4.3758, -4.4226, -4.4474, -4.4177, -4.3105, -4.4452, -4.4555, -4.9732, -5.0706, -5.0646, -5.0481, -4.907, -5.075, -5.0231, -4.98, -4.9964, -5.0667, -5.0631, -5.0493, -5.027, -5.037, -5.0315, -5.0616, -4.8441, -4.8441, -4.8441, -4.8441, -4.8441, -4.8441, -4.8441, -4.8441, -4.8441, -4.8441, -4.8441, -4.8441, -4.8441, -4.8441, -4.8441, -4.8441, -4.8441, -4.8441, -4.7667, -4.7667, -4.8014, -4.5284, -4.1511, -4.8738, -4.1005, -4.6731, -4.8486, -4.8137, -4.8492, -4.8497, -3.7478, -3.464, -4.0557, -3.163, -4.1004, -4.1235, -4.1645, -3.977, -4.1412, -4.1363, -3.9731, -3.898, -4.1416, -4.187, -4.5685, -4.6531, -4.5963, -4.6878, -4.6102, -4.6927, -4.6665, -4.7944, -4.7462, -4.7256, -4.7723, -5.1181, -5.1181, -5.1181, -5.1181, -5.1181, -5.1181, -4.4235, -5.1181, -5.1181, -5.1181, -5.1181, -5.1181, -5.1181, -5.1181, -5.1181, -5.1181, -5.1181, -5.1181, -5.1181, -4.4235, -5.1181, -4.4235, -5.1181, -5.1181, -5.1181, -5.1181, -4.4235, -5.1181, -5.1181, -5.1181, -5.1181, -5.1181, -5.1181, -5.1181, -5.1181, -5.1181, -5.1181, -4.0124, -3.7288, -4.4237, -4.4238, -4.4244, -3.5046, -4.3992, -4.0205, -4.416, -4.0184, -4.0175, -4.0092, -4.4276, -4.4265, -4.4285, -4.3986, -4.4272, -4.429, -4.4137, -5.1022, -5.1006, -5.1028, -5.0969, -5.0985, -5.1023, -5.1041, -4.7605, -4.7605, -4.7605, -4.7605, -4.7605, -4.7605, -4.7605, -4.7605, -4.7605, -4.7605, -4.7228, -4.7617, -3.3737, -4.0781, -3.1439, -4.0272, -4.7619, -4.7047, -2.97, -4.7648, -4.77, -4.7232, -4.751, -4.0691, -4.777, -4.0459, -4.7647, -4.764, -4.764, -4.7937, -3.2759, -4.0849, -3.5399, -4.0511, -2.6124, -4.0361, -4.0248, -4.0449, -4.6308, -4.6212, -4.6242, -4.6388, -4.7, -4.7148, -4.7146, -4.698, -4.7324, -4.7361, -4.7391, -4.7302, -4.732, -4.7359]}, \"token.table\": {\"Topic\": [6, 3, 2, 9, 1, 5, 5, 1, 5, 1, 2, 3, 4, 5, 6, 7, 8, 1, 8, 1, 10, 10, 3, 3, 3, 1, 1, 2, 3, 4, 6, 7, 8, 1, 5, 6, 3, 4, 5, 7, 8, 8, 1, 2, 4, 10, 8, 9, 3, 6, 7, 2, 2, 7, 3, 6, 2, 5, 9, 6, 9, 3, 8, 6, 6, 2, 1, 5, 8, 9, 1, 5, 9, 4, 2, 1, 2, 3, 4, 7, 8, 10, 4, 3, 4, 5, 2, 4, 3, 4, 1, 2, 3, 8, 10, 4, 4, 3, 1, 2, 5, 1, 4, 5, 6, 7, 8, 10, 2, 9, 4, 3, 3, 1, 6, 8, 1, 2, 4, 5, 6, 7, 9, 10, 7, 1, 7, 8, 3, 1, 3, 4, 5, 6, 7, 8, 10, 3, 4, 1, 2, 3, 8, 1, 2, 8, 10, 1, 2, 4, 7, 8, 2, 6, 5, 9, 4, 1, 2, 3, 4, 5, 7, 9, 3, 9, 2, 3, 4, 5, 6, 7, 10, 7, 1, 3, 6, 7, 7, 5, 9, 4, 6, 10, 1, 8, 8, 6, 5, 8, 4, 6, 3, 8, 9, 2, 2, 5, 7, 9, 1, 6, 4, 1, 5, 1, 2, 3, 4, 5, 6, 7, 8, 3, 1, 8, 2, 4, 8, 2, 3, 1, 5, 7, 4, 9, 1, 2, 5, 7, 8, 4, 2, 1, 2, 3, 7, 9, 2, 3, 2, 3, 4, 5, 6, 7, 9, 6, 2, 4, 5, 7, 8, 5, 10, 3, 9, 4, 1, 6, 7, 1, 2, 4, 5, 6, 8, 8, 10, 6, 4, 3, 3, 2, 4, 1, 4, 6, 10, 2, 5, 6, 7, 4, 8, 9, 2, 3, 3, 8, 6, 7, 8, 1, 2, 3, 4, 5, 6, 7, 9, 10, 3, 9, 5, 3, 1, 6, 2, 4, 5, 6, 7, 9, 10, 10, 3, 6, 8, 10, 2, 2, 1, 2, 5, 6, 8, 9, 4, 1, 2, 5, 8, 8, 9, 4, 6, 1, 2, 3, 4, 5, 7, 9, 1, 5, 6, 8, 2, 4, 2, 1, 10, 2, 9, 1, 5, 1, 2, 4, 10, 2, 6, 5, 7, 3, 10, 4, 1, 1, 4, 6, 8, 3, 1, 3, 3, 1, 2, 3, 4, 5, 6, 8, 9, 10, 2, 4, 3, 4, 5, 6, 7, 9, 1, 5, 8, 7, 1, 5, 1, 5, 1, 5, 1, 4, 2, 1, 2, 10, 1, 2, 1, 2, 4, 6, 7, 9, 10, 1, 9, 1, 3, 6, 1, 5, 7, 4, 5, 6, 7, 10, 3, 10, 2, 2, 2, 5, 3, 2, 1, 3, 4, 6, 10, 3, 4, 5, 7, 4, 1, 1, 7, 8, 9, 10, 5, 4, 1, 2, 3, 4, 7, 9, 3, 3, 4, 4, 2, 4, 4, 2, 1, 2, 3, 4, 5, 6, 7, 9, 10, 1, 2, 5, 7, 9, 4, 8, 10, 6, 1, 1, 5, 1, 7, 1, 4, 4, 1, 2, 4, 5, 6, 7, 10, 1, 2, 6, 7, 8, 9, 2, 4, 5, 6, 9, 1, 3, 4, 5, 6, 8, 2, 4, 2, 3, 7, 8, 9, 3, 3, 1, 2, 10, 5, 8, 4, 8, 9, 9, 6, 7, 2, 2, 7, 2, 3, 3, 4, 2, 5, 9, 5, 4, 3, 2, 6, 2, 3, 9, 3, 4, 8, 9, 4, 2, 3, 4, 5, 6, 7, 10, 1, 7, 2, 1, 5, 1, 2, 3, 5, 7, 8, 9, 10, 3, 2, 1, 1, 1, 3, 10, 5, 4, 9, 1, 6, 7, 8, 5, 3, 1, 2, 3, 4, 6, 8, 9, 10, 4, 1, 2, 5, 6, 7, 8, 1, 4, 10, 6, 9, 4, 1, 2, 5, 6, 2, 5, 1, 5, 6, 1, 3, 4, 5, 6, 2, 3, 4, 5, 6, 7, 9, 10, 1, 2, 3, 5, 6, 7, 8, 10, 1, 4, 7, 7, 8, 1, 4, 5, 9, 2, 4, 1, 2, 3, 4, 5, 6, 7, 9, 10, 2, 10, 1, 2, 3, 5, 8, 1, 2, 5, 7, 10, 3, 4, 1, 2, 3, 6, 7, 9, 1, 2, 5, 6, 7, 9, 10, 5, 1, 2, 4, 9, 6, 2, 3, 10, 2, 1, 2, 8, 1, 5, 8, 1, 3, 2, 3, 4, 1, 3, 9, 1, 2, 3, 7, 8, 10, 3, 2, 2, 5, 6, 1, 2, 7, 4, 3, 1, 4, 8, 1, 1, 6, 2, 6, 7, 2, 5, 3, 3, 1, 3, 4, 7, 8, 2, 4, 2, 3, 2, 4, 5, 6, 7, 9, 10, 2, 5, 2, 1, 5, 7, 10, 4, 4, 7, 8, 9, 1, 2, 5, 7, 8, 1, 2, 3, 4, 5, 6, 7, 10, 2, 5, 7, 9, 2, 5, 4, 4, 3, 7, 10, 1, 3, 2, 3, 7, 9, 3, 4, 6, 9, 10, 2, 10, 3, 1, 2, 8, 10, 4, 1, 5, 8, 10, 1, 3, 8, 7, 3, 2, 4, 6, 9, 3, 1, 5, 4, 2, 3, 4, 5, 6, 7, 9, 4, 4, 7, 9, 1, 5, 2, 2, 4, 1, 2, 3, 5, 6, 7, 5, 8, 2, 3, 5, 3, 5, 6, 5, 3, 8, 10, 1, 2, 3, 5, 6, 7, 9, 2, 6, 9, 2, 3, 10, 2, 10, 9, 1, 10, 6, 5, 3, 4, 2, 3, 3, 4, 3, 4, 2, 8, 3, 7, 6, 7, 8, 9, 1, 2, 4, 5, 7, 8, 10, 3, 1, 2, 3, 4, 5, 7, 8, 6, 1, 2, 4, 6, 4, 4, 2, 5, 8, 9, 1, 9, 10, 3, 4, 1, 3, 6, 10, 2, 5, 6, 7, 8, 10, 3, 6, 4, 3, 4, 8, 9, 1, 3, 1, 2, 5, 6, 10, 3, 8, 1, 2, 8, 10, 2, 5, 9, 7, 9, 2, 3, 7, 8, 4, 3, 6, 1, 5, 2, 9, 9, 2, 9, 1, 5, 2, 5, 7, 8, 3, 4, 2, 3, 4, 7, 4, 6, 6, 7, 1, 2, 4, 6, 7, 8, 1, 5, 4, 7, 3, 3, 1, 5, 4, 2, 3, 7, 6, 5, 1, 1, 9, 7, 10, 1, 5, 4, 4, 9, 4, 5, 9, 10, 1, 1, 2, 3, 7, 8, 10, 1, 5, 8, 9, 2, 1, 2, 3, 5, 6, 7, 8, 9, 10, 1, 2, 6, 6, 7, 2, 5, 1, 1, 8, 2, 8, 6, 2, 1, 2, 3, 4, 6, 7, 2, 1, 5, 10, 4, 1, 5, 9, 1, 3, 5, 7, 1, 5, 1, 8, 9, 2, 3, 4, 7, 8, 2, 9, 5, 2, 1, 2, 3, 4, 5, 8, 3, 4, 2, 7, 8, 1, 1, 2, 3, 5, 6, 8, 4, 1, 8, 1, 1, 5, 7, 8, 1, 2, 3, 4, 5, 7, 9, 10, 1, 5, 7, 3, 1, 5, 3, 7, 6, 4, 1, 2, 3, 5, 6, 9, 10, 1, 4, 1, 2, 3, 4, 5, 6, 7, 10, 3, 1, 2, 10, 1, 7, 1, 5, 1, 2, 2, 3, 6, 3, 9, 2, 1, 2, 3, 5, 6, 8, 10, 1, 5, 2, 3, 1, 8, 3, 4, 3, 4, 1, 2, 1, 4, 5, 6, 5, 4, 5, 8, 10, 5, 1, 4, 6, 7, 9, 10, 4, 1, 9, 1, 2, 4, 5, 6, 7, 3, 4, 6, 1, 5, 6, 7, 8, 10, 1, 3, 6, 8, 9, 10, 1, 2, 5, 9, 7, 5, 2, 1, 3, 4, 8, 9, 10, 9, 6, 1, 2, 3, 5, 8, 9, 10, 5, 2, 7, 9, 10, 5, 7], \"Freq\": [1.0282338365669863, 1.0709440170669842, 0.7348955356756436, 0.23207227442388748, 0.13887841153859967, 0.8332704692315981, 0.9988338191725992, 0.13887841153859967, 0.8332704692315981, 0.24001556851510503, 0.1300084329456819, 0.1300084329456819, 0.07000454081690563, 0.07000454081690563, 0.080005189505035, 0.080005189505035, 0.19001232507445814, 0.8284633483338684, 0.11835190690483834, 0.1774707283233039, 0.7986182774548676, 0.9688560128038131, 0.9931505685833507, 1.0709440170669842, 1.0709440170669842, 0.9065231428383065, 0.21813496684832676, 0.10906748342416338, 0.31162138121189537, 0.10906748342416338, 0.2492971049695163, 0.015581069060594768, 0.9947437444383107, 0.13887841153859967, 0.8332704692315981, 1.0282338365669863, 0.2643729445278888, 0.2847093248761879, 0.24403656417958963, 0.18302742313469222, 0.9947437444383107, 0.9947437444383107, 0.460157271253967, 0.15338575708465566, 0.3579000998641966, 0.02556429284744261, 0.9947437444383107, 0.9405677951647671, 0.5649464639548499, 0.22597858558193998, 0.22597858558193998, 0.9242113907414046, 0.9242113907414046, 0.9647094114199711, 1.0709440170669842, 1.0269479790768907, 0.6274451089485996, 0.18823353268457987, 0.18823353268457987, 1.0282338365669863, 0.9405677951647671, 0.42427518082782084, 0.6061074011826012, 1.0282338365669863, 1.0282338365669863, 0.9242113907414046, 0.03902911820399943, 0.6634950094679903, 0.03902911820399943, 0.23417470922399658, 0.9934656402615122, 0.9988338191725992, 0.9405677951647671, 1.0028671588144256, 0.9242113907414046, 0.20178938143811834, 0.12491723612835898, 0.3170975994027574, 0.06726312714603945, 0.08648116347347928, 0.10569919980091913, 0.08648116347347928, 1.0028671588144256, 1.0709440170669842, 1.0028671588144256, 0.9988338191725992, 0.9242113907414046, 1.0028671588144256, 0.7851954152096183, 0.21139876563335877, 0.9934656402615122, 0.6661064965165703, 0.35867272889353785, 0.44718589216346166, 0.5478027179002406, 1.0028671588144256, 1.0028671588144256, 1.0709440170669842, 0.3322740778760411, 0.13290963115041643, 0.5316385246016657, 0.08225677005470315, 0.1645135401094063, 0.06169257754102737, 0.1850777326230821, 0.041128385027351576, 0.4318480427871916, 0.020564192513675788, 0.9242113907414046, 0.9405677951647671, 1.0028671588144256, 0.9931505685833507, 1.0709440170669842, 0.651453145617899, 0.13412270645074392, 0.21076425299402618, 0.06336363659166763, 0.12672727318333527, 0.1478484853805578, 0.12672727318333527, 0.16896969757778035, 0.1900909097750029, 0.12672727318333527, 0.021121212197222544, 0.9647094114199711, 0.08501598442581822, 0.6801278754065457, 0.17003196885163643, 1.0709440170669842, 0.01958154388277773, 0.06853540358972206, 0.009790771941388865, 0.17623389494499955, 0.08811694747249978, 0.43079396542111004, 0.12728003523805523, 0.08811694747249978, 0.75266302772534, 0.263432059703869, 0.17727256696663055, 0.13295442522497292, 0.4431814174165764, 0.243749779579117, 0.07944002155841945, 0.5163601401297264, 0.07944002155841945, 0.3177600862336778, 0.31747713833952595, 0.15873856916976298, 0.1709492283366678, 0.20758120583738235, 0.12210659166904844, 0.9242113907414046, 0.8923654637465646, 0.9988338191725992, 0.9405677951647671, 1.0028671588144256, 0.17578228502725574, 0.17578228502725574, 0.17578228502725574, 0.1081737138629266, 0.24339085619158485, 0.02704342846573165, 0.08113028539719495, 1.0709440170669842, 1.0175533124513247, 0.247637916291874, 0.1904907048399031, 0.13334349338793217, 0.21906431056588854, 0.07619628193596123, 0.06667174669396608, 0.07619628193596123, 0.9647094114199711, 0.17356550353880748, 0.5206965106164224, 0.20026788869862402, 0.10680954063926615, 0.9647094114199711, 0.45114520362357796, 0.45114520362357796, 1.0016581932523354, 0.5009331977190142, 0.5009331977190142, 0.22780570165431535, 0.7593523388477178, 0.9947437444383107, 1.0282338365669863, 0.0851577369700964, 0.9367351066710604, 1.0028671588144256, 1.0282338365669863, 1.0709440170669842, 0.6112531475048928, 0.36675188850293566, 1.025465539673279, 0.17077624814820336, 0.3984779123458078, 0.22770166419760446, 0.17077624814820336, 0.9065231428383065, 1.0282338365669863, 1.0028671588144256, 0.13887841153859967, 0.8332704692315981, 0.03991181519747612, 0.07982363039495224, 0.17295119918906318, 0.1862551375882219, 0.09312756879411095, 0.1995590759873806, 0.09312756879411095, 0.13303938399158707, 1.0709440170669842, 0.4126916512796684, 0.5895595018280977, 0.9242113907414046, 1.0028671588144256, 0.9947437444383107, 0.6661064965165703, 0.35867272889353785, 0.9386290613655585, 0.06257527075770389, 0.9647094114199711, 1.0028671588144256, 0.9405677951647671, 0.0728072482415625, 0.10193014753818751, 0.3931591405044375, 0.1310530468348125, 0.29122899296625, 1.0028671588144256, 0.9242113907414046, 0.1498682698047485, 0.32471458457695507, 0.32471458457695507, 0.02497804496745808, 0.1498682698047485, 0.3066833091911278, 0.6644805032474436, 0.3437394988241719, 0.17186974941208594, 0.18509049936686178, 0.09254524968343089, 0.10576599963820674, 0.10576599963820674, 0.9405677951647671, 1.0282338365669863, 0.9242113907414046, 0.3712268916313417, 0.053032413090191674, 0.477291717811725, 0.053032413090191674, 0.3247271409579918, 0.6494542819159836, 1.0709440170669842, 0.9405677951647671, 1.0028671588144256, 0.24054652267242285, 0.040091087112070475, 0.7216395680172685, 0.9934656402615122, 0.3767619158818178, 0.20287180085944034, 0.4347252875559436, 0.8923654637465646, 0.9947437444383107, 0.9947437444383107, 0.9688560128038131, 1.0282338365669863, 1.0028671588144256, 1.0709440170669842, 1.0709440170669842, 0.9242113907414046, 1.0028671588144256, 0.10632754266903205, 0.24809759956107477, 0.28354011378408545, 0.31898262800709615, 0.1705419864634568, 0.11369465764230453, 0.22738931528460907, 0.4832022949797943, 1.0028671588144256, 0.9947437444383107, 0.9405677951647671, 1.0001785603126399, 1.0709440170669842, 1.0709440170669842, 0.9947437444383107, 1.0282338365669863, 0.9647094114199711, 0.9947437444383107, 0.06370418358554555, 0.09201715406801024, 0.18403430813602048, 0.205269035997869, 0.1769560655154043, 0.05662594096492938, 0.06370418358554555, 0.09201715406801024, 0.05662594096492938, 1.0709440170669842, 1.0175533124513247, 0.9988338191725992, 1.0709440170669842, 0.284498069085659, 0.7586615175617574, 0.06816525721929621, 0.23857840026753677, 0.1817740192514566, 0.07952613342251226, 0.10224788582894433, 0.2158566478611047, 0.0908870096257283, 0.9688560128038131, 0.09217737178029345, 0.09217737178029345, 0.09217737178029345, 0.7374189742423476, 1.0001785603126399, 1.0001785603126399, 0.24015853097871173, 0.1156318852860464, 0.2490532913853307, 0.21347424975885487, 0.17789520813237908, 0.9405677951647671, 1.0028671588144256, 0.15346418848910817, 0.26856232985593925, 0.4603925654673245, 0.07673209424455409, 0.9947437444383107, 0.9405677951647671, 1.0028671588144256, 1.0282338365669863, 0.33163315605360133, 0.13697891228300926, 0.04325649861568713, 0.10093183010326998, 0.05046591505163499, 0.23791074238627924, 0.09372241366732212, 0.1422238893493691, 0.4266716680481073, 0.18963185246582548, 0.23703981558228185, 0.9242113907414046, 1.0028671588144256, 0.9242113907414046, 0.9791764056505524, 0.9688560128038131, 0.6716830105432589, 0.31000754332765795, 0.13887841153859967, 0.8332704692315981, 0.42105659606253915, 0.34210848430081303, 0.18421226077736086, 0.05263207450781739, 0.9242113907414046, 1.0282338365669863, 0.9846706069060918, 0.9647094114199711, 0.4443484686428316, 0.571305173969355, 1.0028671588144256, 0.9065231428383065, 0.3542312482466241, 0.15997540243395927, 0.3542312482466241, 0.13712177351482224, 1.0709440170669842, 0.9791764056505524, 1.0709440170669842, 1.0709440170669842, 0.043001732964900584, 0.17200693185960234, 0.14190571878417194, 0.09460381252278129, 0.15910641197013214, 0.24510987789993333, 0.11180450570874152, 0.02580103977894035, 0.008600346592980116, 0.9242113907414046, 0.9296437347031793, 0.1248671656571351, 0.3121679141428378, 0.020811194276189184, 0.16648955420951347, 0.3746014969714053, 0.9405677951647671, 0.7875816964230328, 0.07159833603845753, 0.07159833603845753, 1.0235975087850842, 0.9065231428383065, 0.9988338191725992, 0.13887841153859967, 0.8332704692315981, 0.13887841153859967, 0.8332704692315981, 0.9999566909324735, 1.0028671588144256, 0.9242113907414046, 0.11526570364038764, 0.4034299627413568, 0.5186956663817445, 0.9791764056505524, 1.0001785603126399, 0.5774240524245879, 0.03849493682830586, 0.03849493682830586, 0.03849493682830586, 0.07698987365661172, 0.2309696209698352, 0.03849493682830586, 0.9934656402615122, 0.9405677951647671, 0.27848935861721325, 0.3978419408817332, 0.31827355270538654, 0.412767575306849, 0.1876216251394768, 0.33771892525105823, 0.22735518191314644, 0.028419397739143305, 0.22735518191314644, 0.2557745796522897, 0.22735518191314644, 0.47383589015418215, 0.5415267316047796, 0.9242113907414046, 0.9242113907414046, 0.5993214997590641, 0.4149148844485829, 1.0709440170669842, 0.9242113907414046, 0.1468054971424418, 0.11418205333301029, 0.3425461599990309, 0.2609875504754521, 0.13049377523772604, 0.6874837260942013, 0.24061930413297045, 0.034374186304710064, 0.034374186304710064, 1.0028671588144256, 0.9791764056505524, 0.015603648364150086, 0.12482918691320069, 0.015603648364150086, 0.20284742873395112, 0.6553532312943036, 0.9988338191725992, 1.0028671588144256, 0.9934656402615122, 0.15699371975276172, 0.24152879961963342, 0.08453507986687168, 0.30191099952454176, 0.22945235963865174, 1.0709440170669842, 1.0709440170669842, 1.0028671588144256, 1.0016581932523354, 0.9242113907414046, 1.0028671588144256, 1.0016581932523354, 0.9242113907414046, 0.19824678787129632, 0.09912339393564816, 0.1524975291317664, 0.16774728204494305, 0.12962289976200145, 0.06099901165270656, 0.08387364102247152, 0.045749258739529924, 0.06099901165270656, 0.18501875058828085, 0.15858750050424072, 0.42290000134464195, 0.2378812507563611, 0.9405677951647671, 1.0028671588144256, 0.9947437444383107, 0.9688560128038131, 1.0282338365669863, 0.9791764056505524, 0.06877557060707273, 0.8253068472848728, 0.9791764056505524, 0.9647094114199711, 0.9934656402615122, 1.0028671588144256, 1.0028671588144256, 0.2828489904519082, 0.02571354458653711, 0.20570835669229687, 0.02571354458653711, 0.02571354458653711, 0.02571354458653711, 0.43713025797113086, 0.38299095135889166, 0.09574773783972292, 0.01367824826281756, 0.2325302204678985, 0.2735649652563512, 0.9405677951647671, 0.10887493725192376, 0.1270207601272444, 0.07258329150128251, 0.5625205091349395, 0.10887493725192376, 0.2287713785999573, 0.10008747813748131, 0.014298211162497331, 0.4146481237124226, 0.2287713785999573, 0.014298211162497331, 0.9242113907414046, 1.0028671588144256, 0.2606154134501197, 0.12028403697697831, 0.16037871596930442, 0.20047339496163052, 0.2606154134501197, 1.0709440170669842, 1.0709440170669842, 0.11315422124302289, 0.33946266372906864, 0.45261688497209157, 0.9988338191725992, 0.9947437444383107, 1.0028671588144256, 0.9947437444383107, 0.9405677951647671, 0.9405677951647671, 1.0282338365669863, 0.9647094114199711, 0.9242113907414046, 0.9242113907414046, 0.9647094114199711, 0.9242113907414046, 1.0709440170669842, 0.34186034600138504, 0.6837206920027701, 0.22097847011351177, 0.18941011724015294, 0.5997987045938176, 0.9988338191725992, 1.0028671588144256, 1.0709440170669842, 0.9242113907414046, 0.9604526478690532, 0.6661064965165703, 0.35867272889353785, 0.9405677951647671, 0.9931505685833507, 0.25889511417378935, 0.7397003262108268, 0.9405677951647671, 1.0028671588144256, 0.19232240956933402, 0.13158901707375487, 0.1417112491563514, 0.2935447303952993, 0.08097785666077223, 0.08097785666077223, 0.08097785666077223, 0.9773946819711833, 0.9440312375096831, 0.9242113907414046, 0.13887841153859967, 0.8332704692315981, 0.07466735667520655, 0.06533393709080573, 0.18666839168801636, 0.09333419584400818, 0.08400077625960736, 0.22400207002561964, 0.12133445459721064, 0.1586681329348139, 1.0709440170669842, 0.9242113907414046, 0.9791764056505524, 0.9956385480160168, 0.34018451087917384, 0.6317712344898943, 0.9688560128038131, 0.9988338191725992, 0.6880923088233736, 0.29489670378144583, 0.1539668062576298, 0.17596206429443406, 0.17596206429443406, 0.48389567680969364, 0.9988338191725992, 1.0709440170669842, 0.32586101927901634, 0.053047142673328246, 0.2046104074542661, 0.053047142673328246, 0.06820346915142203, 0.18187591773712541, 0.053047142673328246, 0.06820346915142203, 1.0016581932523354, 0.219245265466207, 0.14250942255303456, 0.0657735796398621, 0.3507924247459312, 0.09866036945979315, 0.09866036945979315, 0.16025977132297262, 0.3739394664202695, 0.4273593901945937, 1.0282338365669863, 0.9405677951647671, 1.0028671588144256, 0.5402573193970172, 0.17190005617177817, 0.24557150881682596, 0.024557150881682595, 0.6723781996127568, 0.31032839982127236, 0.17460833642828058, 0.2793733382852489, 0.5587466765704978, 0.16329323483294894, 0.12487129722519624, 0.13447678162713442, 0.4226413136852796, 0.15368775043101077, 0.27288588487761245, 0.06297366574098749, 0.07346927669781875, 0.13644294243880623, 0.08396488765464999, 0.08396488765464999, 0.19941660817979373, 0.09446049861148124, 0.15272871617735004, 0.1418195221646822, 0.1418195221646822, 0.04363677605067144, 0.33818501439270365, 0.08727355210134288, 0.01090919401266786, 0.08727355210134288, 0.25920061638450054, 0.3024007191152506, 0.3888009245767508, 0.8564633354929494, 0.10705791693661867, 0.04029244841205194, 0.2820471388843636, 0.16116979364820777, 0.5238018293566752, 0.652654423493697, 0.3514293049581445, 0.0080717078513808, 0.2098644041359008, 0.161434157027616, 0.12107561777071199, 0.1452907413248544, 0.0080717078513808, 0.15336244917623518, 0.048430247108284794, 0.13721903347347358, 0.9242113907414046, 0.9688560128038131, 0.46536723655871903, 0.13961017096761572, 0.16287853279555167, 0.20941525645142356, 0.02326836182793595, 0.146758908394434, 0.48919636131478, 0.122299090328695, 0.024459818065739, 0.220138362591651, 1.0709440170669842, 1.0028671588144256, 0.14629158427330063, 0.31696509925881805, 0.14629158427330063, 0.19505544569773417, 0.02438193071221677, 0.14629158427330063, 0.5312054070404951, 0.07657014876259388, 0.009571268595324235, 0.016749720041817413, 0.16510438326934307, 0.031106622934803766, 0.1698900175670052, 0.9846706069060918, 0.10034980188083804, 0.2006996037616761, 0.46829907544391086, 0.2006996037616761, 1.0282338365669863, 0.2827035858259376, 0.32982085013026047, 0.3769381144345834, 0.9242113907414046, 0.052026209564707555, 0.3641834669529529, 0.6243145147764907, 0.3275211927164137, 0.029774653883310336, 0.6252677315495171, 0.9934656402615122, 1.0709440170669842, 0.22669115230768166, 0.49116416333331026, 0.2644730110256286, 0.9934656402615122, 1.0709440170669842, 0.9405677951647671, 0.11354476097353679, 0.1589626653629515, 0.1589626653629515, 0.18167161755765887, 0.02270895219470736, 0.36334323511531774, 1.0709440170669842, 0.9242113907414046, 0.9242113907414046, 0.9988338191725992, 1.0282338365669863, 0.32570170677537974, 0.6048745982971337, 0.04652881525362568, 1.0028671588144256, 1.0709440170669842, 0.9065231428383065, 1.0028671588144256, 0.9947437444383107, 0.9934656402615122, 0.9791764056505524, 1.0282338365669863, 0.9242113907414046, 1.0282338365669863, 0.9647094114199711, 0.24691275722372147, 0.7407382716711643, 1.0709440170669842, 1.0709440170669842, 0.27147041103535735, 0.18098027402357156, 0.21114365302750016, 0.27147041103535735, 0.030163379003928594, 0.9242113907414046, 1.0028671588144256, 0.9242113907414046, 1.0709440170669842, 0.28423031257483433, 0.18652614262723502, 0.2664659180389072, 0.06217538087574501, 0.07105757814370858, 0.05329318360778144, 0.07105757814370858, 1.025465539673279, 0.9988338191725992, 0.9242113907414046, 0.20805063690144276, 0.17337553075120232, 0.03467510615024046, 0.5894768045540878, 1.0028671588144256, 0.46738480594529297, 0.1780513546458259, 0.2225641933072824, 0.13353851598436942, 0.03227491142277833, 0.22592437995944833, 0.29047420280500497, 0.06454982284555666, 0.38729893707334, 0.07813069725671576, 0.1736237716815906, 0.060768320088556704, 0.12153664017711341, 0.02604356575223859, 0.147580205929352, 0.2343920917701473, 0.147580205929352, 0.253134877346474, 0.18081062667605288, 0.3254591280168952, 0.21697275201126345, 0.5993214997590641, 0.4149148844485829, 1.0028671588144256, 1.0028671588144256, 0.4292594768982105, 0.26415967809120644, 0.29717963785260726, 0.9934656402615122, 1.0709440170669842, 0.40474736915134624, 0.27693241047197376, 0.17041994490583, 0.1278149586793725, 0.1350945524550296, 0.2701891049100592, 0.15439377423431955, 0.11579533067573966, 0.32808677024792904, 0.6129753162898235, 0.377215579255276, 1.0709440170669842, 0.9791764056505524, 0.5203382401938562, 0.027386223168097697, 0.43817957068956315, 1.0028671588144256, 0.06973441110598884, 0.2092032333179665, 0.418406466635933, 0.27893764442395536, 0.6524793490681362, 0.3141567236253989, 0.02416590181733838, 0.9647094114199711, 1.0709440170669842, 0.5456891513272553, 0.14691630997272256, 0.16790435425454006, 0.12592826569090504, 1.0709440170669842, 0.13887841153859967, 0.8332704692315981, 1.0028671588144256, 0.18427690333416494, 0.1417514641032038, 0.14883903730836398, 0.02126271961548057, 0.16301418371868437, 0.12048874448772323, 0.22680234256512607, 1.0028671588144256, 1.0028671588144256, 0.9647094114199711, 0.9405677951647671, 0.13887841153859967, 0.8332704692315981, 0.9242113907414046, 0.2791026963181266, 0.6512396247422954, 0.13815938914785209, 0.13815938914785209, 0.16118595400582744, 0.16118595400582744, 0.36842503772760554, 0.023026564857975346, 0.0851577369700964, 0.9367351066710604, 0.19526816287503798, 0.19526816287503798, 0.5858044886251139, 0.21667397388406312, 0.18056164490338594, 0.5416849347101578, 0.9988338191725992, 0.12174958461024073, 0.2029159743504012, 0.669622715356324, 0.06586451319566258, 0.1712477343087227, 0.0922103184739276, 0.3688412738957104, 0.21076644222612023, 0.013172902639132514, 0.0790374158347951, 0.6285511439653152, 0.3868007039786555, 1.0175533124513247, 0.2827035858259376, 0.32982085013026047, 0.3769381144345834, 0.9242113907414046, 0.9688560128038131, 0.9405677951647671, 0.8924628743469883, 0.11155785929337354, 1.0282338365669863, 0.9988338191725992, 1.0709440170669842, 1.0028671588144256, 0.6661064965165703, 0.35867272889353785, 0.9931505685833507, 0.9727151483351199, 1.0709440170669842, 1.0028671588144256, 0.9242113907414046, 0.9947437444383107, 1.0709440170669842, 0.8550070699687068, 1.0282338365669863, 0.8564633354929494, 0.10705791693661867, 0.9405677951647671, 0.2948215985962702, 0.11055809947360133, 0.1474107992981351, 0.03685269982453378, 0.165837149210402, 0.23954254885946955, 0.9688560128038131, 1.0709440170669842, 0.03364323089916315, 0.224288205994421, 0.14578733389637366, 0.3140034883921894, 0.0672864617983263, 0.1121441029972105, 0.10092969269748944, 1.0282338365669863, 0.2316006731961753, 0.18013385693035858, 0.18013385693035858, 0.4117345301265339, 1.0028671588144256, 1.0028671588144256, 0.2921276942396665, 0.04868794903994442, 0.04868794903994442, 0.6329433375192774, 0.32970346518577637, 0.28260297015923685, 0.3768039602123158, 1.0709440170669842, 1.0016581932523354, 0.497737910211155, 0.16591263673705167, 0.16591263673705167, 0.16591263673705167, 0.2142816508962466, 0.06122332882749903, 0.030611664413749514, 0.030611664413749514, 0.3979516373787437, 0.2448933153099961, 1.0709440170669842, 1.0269479790768907, 1.0028671588144256, 0.12073488349104228, 0.14085736407288266, 0.6036744174552113, 0.12073488349104228, 1.0314072722773449, 1.0709440170669842, 0.2889287078040658, 0.1444643539020329, 0.1666896391177303, 0.08890114086278948, 0.3111539930197632, 0.39527879463655524, 0.6211523915717296, 0.6425781859098983, 0.2336647948763267, 0.02336647948763267, 0.08178267820671434, 0.3622781371852126, 0.3105241175873251, 0.3105241175873251, 0.9647094114199711, 0.9405677951647671, 0.35415610376942547, 0.11183876961139752, 0.14911835948186336, 0.3727958987046584, 1.0028671588144256, 1.0709440170669842, 1.0282338365669863, 0.13887841153859967, 0.8332704692315981, 0.9242113907414046, 0.9405677951647671, 0.9405677951647671, 1.0001785603126399, 0.9405677951647671, 0.13887841153859967, 0.8332704692315981, 1.0001785603126399, 0.049505952944396, 0.44555357649956395, 0.4950595294439599, 1.0709440170669842, 1.0028671588144256, 0.22669115230768166, 0.49116416333331026, 0.2644730110256286, 0.8987695376734769, 1.0016581932523354, 1.0282338365669863, 0.9881663785445072, 0.9647094114199711, 0.21448777831712645, 0.12869266699027587, 0.30028288964397704, 0.17159022265370116, 0.17159022265370116, 0.021448777831712645, 0.13887841153859967, 0.8332704692315981, 1.0028671588144256, 0.9647094114199711, 1.0709440170669842, 1.0709440170669842, 0.13887841153859967, 0.8332704692315981, 1.0028671588144256, 0.9242113907414046, 1.0709440170669842, 0.9647094114199711, 1.0282338365669863, 0.9988338191725992, 0.9065231428383065, 0.9065231428383065, 0.9405677951647671, 0.48797878168409853, 0.48797878168409853, 0.13887841153859967, 0.8332704692315981, 1.0028671588144256, 0.35449312622044665, 0.6583443772665437, 0.20830150844834966, 0.1487867917488212, 0.3868456585469351, 0.23805886679811392, 0.9065231428383065, 0.19191073479427972, 0.10467858261506166, 0.24425002610181054, 0.13957144348674888, 0.1744643043584361, 0.13957144348674888, 0.17981211762279556, 0.21577454114735467, 0.10788727057367734, 0.4675115058192684, 0.9242113907414046, 0.0404319713541185, 0.07508794680050579, 0.10974392224689307, 0.03465597544638729, 0.17327987723193644, 0.09819193043143065, 0.31190377901748556, 0.10974392224689307, 0.04620796726184972, 0.9791764056505524, 0.2729434624898589, 0.7278492333062905, 1.0282338365669863, 0.9647094114199711, 1.0001785603126399, 0.9988338191725992, 0.9065231428383065, 0.33270738631057645, 0.6654147726211529, 0.364440939488652, 0.6074015658144201, 1.0282338365669863, 0.9242113907414046, 0.11852501870956723, 0.25680420720406233, 0.25680420720406233, 0.1382791884944951, 0.17778752806435086, 0.01975416978492787, 0.9242113907414046, 0.6422527900973554, 0.29642436466031785, 0.04940406077671964, 1.0028671588144256, 0.13887841153859967, 0.8332704692315981, 1.0175533124513247, 0.14180254781783155, 0.4726751593927718, 0.14180254781783155, 0.21270382172674732, 0.13887841153859967, 0.8332704692315981, 0.812521582231197, 0.0812521582231197, 0.9405677951647671, 0.24496458357203013, 0.11306057703324467, 0.2638080130775709, 0.15074743604432622, 0.22612115406648933, 0.9242113907414046, 0.9405677951647671, 0.9988338191725992, 0.9242113907414046, 0.4141790844669262, 0.3263229150345479, 0.08785616943237828, 0.08785616943237828, 0.05020352538993045, 0.025101762694965224, 1.0709440170669842, 1.0028671588144256, 0.25438159784825687, 0.33265285872464356, 0.4109241196010303, 0.9934656402615122, 0.3223633948542059, 0.11028221402907043, 0.059382730631037925, 0.17814819189311376, 0.2714639114561734, 0.06786597786404334, 1.0028671588144256, 0.8908716047379321, 0.09898573385977023, 0.976298301583573, 0.37886117385780105, 0.054123024836828716, 0.5412302483682871, 0.9947437444383107, 0.2286536609384092, 0.1143268304692046, 0.1143268304692046, 0.1934761746401924, 0.1407099451928672, 0.087943715745542, 0.052766229447325196, 0.0703549725964336, 0.20738609895252935, 0.36292567316692637, 0.4147721979050587, 1.0709440170669842, 0.13887841153859967, 0.8332704692315981, 1.0709440170669842, 0.9647094114199711, 1.0282338365669863, 1.0028671588144256, 0.05244619668654809, 0.12237445893527887, 0.12237445893527887, 0.15733859005964426, 0.15733859005964426, 0.22726685230837507, 0.15733859005964426, 0.9065231428383065, 1.0028671588144256, 0.05826213733927503, 0.11652427467855006, 0.11652427467855006, 0.13594498712497508, 0.07768284978570004, 0.29131068669637517, 0.1553656995714001, 0.01942071244642501, 1.0709440170669842, 0.9065231428383065, 0.9242113907414046, 0.9688560128038131, 0.9934656402615122, 0.9647094114199711, 0.13887841153859967, 0.8332704692315981, 0.9791764056505524, 0.9242113907414046, 0.9242113907414046, 1.0181731673599455, 1.0282338365669863, 0.36262387898999204, 0.6734443466956995, 0.9242113907414046, 0.19269503795889256, 0.12846335863926173, 0.149873918412472, 0.299747836824944, 0.1712844781856823, 0.021410559773210287, 0.04282111954642057, 0.13887841153859967, 0.8332704692315981, 0.9242113907414046, 1.0709440170669842, 0.17023922034864256, 0.7944496949603319, 1.0709440170669842, 1.0028671588144256, 0.6489663145668644, 0.3494434001513885, 0.7228652625459682, 0.29765040222481043, 0.9555063781499072, 0.01566403898606405, 0.01566403898606405, 0.01566403898606405, 0.9988338191725992, 0.19634261994842903, 0.25244051136226586, 0.3085384027761027, 0.22439156565534746, 0.9988338191725992, 0.11882207276223834, 0.13862575155594473, 0.31685886069930225, 0.15842943034965112, 0.11882207276223834, 0.15842943034965112, 1.0016581932523354, 0.9791764056505524, 0.9405677951647671, 0.7956248075602298, 0.03788689559810618, 0.03788689559810618, 0.03788689559810618, 0.03788689559810618, 0.07577379119621236, 0.32450780830786274, 0.6490156166157255, 1.0282338365669863, 0.055086631274778045, 0.44069305019822436, 0.14689768339940812, 0.14689768339940812, 0.18362210424926015, 0.018362210424926015, 0.9934656402615122, 0.1279136948810646, 0.42028785460921225, 0.1827338498300923, 0.10964030989805537, 0.14618707986407384, 0.12116045388072487, 0.42406158858253706, 0.060580226940362435, 0.36348136164217465, 0.9647094114199711, 0.9988338191725992, 1.0001785603126399, 0.13097856439671077, 0.20150548368724733, 0.14105383858107312, 0.10075274184362366, 0.0604516451061742, 0.3627098706370452, 0.9405677951647671, 1.0282338365669863, 0.15666623140557606, 0.29095157261035554, 0.15666623140557606, 0.022380890200796578, 0.022380890200796578, 0.15666623140557606, 0.2014280118071692, 0.9988338191725992, 0.6277325899799153, 0.12876565948305957, 0.09657424461229466, 0.12876565948305957, 0.14432681173220938, 0.8419064017712214], \"Term\": [\"30\", \"400\", \"abl\", \"abl\", \"accompl\", \"accompl\", \"account\", \"achiev\", \"achiev\", \"act\", \"act\", \"act\", \"act\", \"act\", \"act\", \"act\", \"act\", \"ad\", \"ad\", \"affect\", \"affect\", \"ago\", \"alabam\", \"alleg\", \"almost\", \"already\", \"also\", \"also\", \"also\", \"also\", \"also\", \"also\", \"although\", \"andy\", \"andy\", \"annoy\", \"anoth\", \"anoth\", \"anoth\", \"anoth\", \"anticip\", \"anxy\", \"anyon\", \"anyon\", \"anyon\", \"anyon\", \"anyway\", \"apply\", \"around\", \"around\", \"around\", \"aspir\", \"assum\", \"at\", \"attitud\", \"attract\", \"audy\", \"audy\", \"audy\", \"auth\", \"aw\", \"baby\", \"baby\", \"back\", \"bad\", \"bas\", \"becom\", \"becom\", \"becom\", \"becom\", \"bed\", \"behavio\", \"behavy\", \"behemo\", \"behind\", \"best\", \"best\", \"best\", \"best\", \"best\", \"best\", \"best\", \"bestow\", \"bibl\", \"bil\", \"bitterbuck\", \"blak\", \"bless\", \"block\", \"block\", \"boggl\", \"bonny\", \"bonny\", \"book\", \"book\", \"brav\", \"breakout\", \"brethr\", \"bril\", \"bril\", \"bril\", \"bring\", \"bring\", \"bring\", \"bring\", \"bring\", \"bring\", \"bring\", \"bro\", \"brut\", \"bu\", \"built\", \"burn\", \"ca\", \"ca\", \"ca\", \"cal\", \"cal\", \"cal\", \"cal\", \"cal\", \"cal\", \"cal\", \"cal\", \"camerawork\", \"capt\", \"capt\", \"capt\", \"captain\", \"cast\", \"cast\", \"cast\", \"cast\", \"cast\", \"cast\", \"cast\", \"cast\", \"cel\", \"cel\", \"certain\", \"certain\", \"certain\", \"certain\", \"chang\", \"chang\", \"chang\", \"chang\", \"charact\", \"charact\", \"charact\", \"charact\", \"charact\", \"charg\", \"childr\", \"cho\", \"chronicles\", \"circumst\", \"clark\", \"clark\", \"clark\", \"clark\", \"clark\", \"clark\", \"clark\", \"clarkson\", \"coff\", \"coffey\", \"coffey\", \"coffey\", \"coffey\", \"coffey\", \"coffey\", \"coffey\", \"colo\", \"com\", \"com\", \"com\", \"com\", \"combin\", \"commit\", \"commit\", \"common\", \"comp\", \"comp\", \"complain\", \"complain\", \"complaint\", \"complet\", \"complex\", \"complex\", \"comply\", \"compr\", \"comprehend\", \"concern\", \"concern\", \"contain\", \"convict\", \"convict\", \"convict\", \"convict\", \"cop\", \"cor\", \"corn\", \"correct\", \"correct\", \"could\", \"could\", \"could\", \"could\", \"could\", \"could\", \"could\", \"could\", \"cours\", \"cri\", \"cri\", \"crimin\", \"crippl\", \"crit\", \"cromwel\", \"cromwel\", \"cry\", \"cry\", \"culmin\", \"curs\", \"dab\", \"darabont\", \"darabont\", \"darabont\", \"darabont\", \"darabont\", \"darkest\", \"databas\", \"david\", \"david\", \"david\", \"david\", \"david\", \"day\", \"day\", \"dea\", \"dea\", \"dea\", \"dea\", \"dea\", \"dea\", \"dean\", \"decay\", \"decid\", \"del\", \"del\", \"del\", \"del\", \"delacroix\", \"delacroix\", \"demon\", \"demun\", \"denzel\", \"dep\", \"dep\", \"dep\", \"describ\", \"deserv\", \"deserv\", \"deserv\", \"despit\", \"detail\", \"detest\", \"detract\", \"detry\", \"devast\", \"devil\", \"diabol\", \"dialog\", \"died\", \"diff\", \"diff\", \"diff\", \"diff\", \"direct\", \"direct\", \"direct\", \"direct\", \"disagr\", \"discov\", \"discovery\", \"disturb\", \"docil\", \"doubl\", \"drag\", \"drop\", \"due\", \"dul\", \"dunt\", \"dunt\", \"dunt\", \"dunt\", \"dunt\", \"dunt\", \"dunt\", \"dunt\", \"dunt\", \"ear\", \"earn\", \"eas\", \"east\", \"easy\", \"easy\", \"edgecomb\", \"edgecomb\", \"edgecomb\", \"edgecomb\", \"edgecomb\", \"edgecomb\", \"edgecomb\", \"eduard\", \"eith\", \"eith\", \"eith\", \"eith\", \"elain\", \"elect\", \"emot\", \"emot\", \"emot\", \"emot\", \"emot\", \"empa\", \"employ\", \"end\", \"end\", \"end\", \"end\", \"engross\", \"enorm\", \"epitom\", \"er\", \"ev\", \"ev\", \"ev\", \"ev\", \"ev\", \"ev\", \"ev\", \"every\", \"every\", \"every\", \"every\", \"everyday\", \"everym\", \"everyon\", \"everywh\", \"exact\", \"execut\", \"execut\", \"expert\", \"expert\", \"expery\", \"expery\", \"expery\", \"expery\", \"ey\", \"fail\", \"fantast\", \"fantasy\", \"far\", \"far\", \"fat\", \"favourit\", \"feel\", \"feel\", \"feel\", \"feel\", \"feet\", \"felt\", \"fict\", \"fig\", \"film\", \"film\", \"film\", \"film\", \"film\", \"film\", \"film\", \"film\", \"film\", \"filmmak\", \"fin\", \"find\", \"find\", \"find\", \"find\", \"find\", \"finest\", \"first\", \"first\", \"first\", \"fiv\", \"fly\", \"foc\", \"foot\", \"foot\", \"for\", \"for\", \"forget\", \"forrest\", \"french\", \"friend\", \"friend\", \"friend\", \"funny\", \"gary\", \"gav\", \"gav\", \"gav\", \"gav\", \"gav\", \"gav\", \"gav\", \"gen\", \"genuin\", \"get\", \"get\", \"get\", \"giant\", \"giant\", \"giant\", \"giv\", \"giv\", \"giv\", \"giv\", \"giv\", \"glad\", \"glad\", \"glam\", \"glob\", \"god\", \"god\", \"going\", \"gold\", \"good\", \"good\", \"good\", \"good\", \"good\", \"got\", \"got\", \"got\", \"got\", \"govern\", \"grab\", \"gre\", \"gre\", \"gre\", \"gre\", \"gre\", \"gross\", \"ground\", \"guar\", \"guard\", \"guard\", \"guard\", \"guard\", \"guard\", \"guess\", \"guis\", \"gump\", \"guy\", \"hal\", \"haley\", \"half\", \"hand\", \"hank\", \"hank\", \"hank\", \"hank\", \"hank\", \"hank\", \"hank\", \"hank\", \"hank\", \"hard\", \"hard\", \"hard\", \"hard\", \"harry\", \"hat\", \"haunt\", \"haywor\", \"head\", \"heard\", \"heart\", \"heart\", \"heartfelt\", \"held\", \"hold\", \"hollywood\", \"hooch\", \"hop\", \"hop\", \"hop\", \"hop\", \"hop\", \"hop\", \"hop\", \"hour\", \"hour\", \"hour\", \"hour\", \"hour\", \"howel\", \"howev\", \"howev\", \"howev\", \"howev\", \"howev\", \"hum\", \"hum\", \"hum\", \"hum\", \"hum\", \"hum\", \"humbl\", \"hutchinson\", \"hutchison\", \"hutchison\", \"hutchison\", \"hutchison\", \"hutchison\", \"id\", \"illit\", \"imagin\", \"imagin\", \"imagin\", \"imo\", \"impact\", \"impart\", \"import\", \"imprison\", \"incarc\", \"includ\", \"indee\", \"individ\", \"induc\", \"inevit\", \"infect\", \"inform\", \"inm\", \"inm\", \"innoc\", \"innoc\", \"innoc\", \"inspir\", \"instead\", \"intact\", \"investig\", \"involv\", \"jam\", \"jam\", \"jeffery\", \"jes\", \"job\", \"job\", \"joe\", \"joel\", \"john\", \"john\", \"john\", \"john\", \"john\", \"john\", \"john\", \"journey\", \"joy\", \"kevin\", \"kil\", \"kil\", \"king\", \"king\", \"king\", \"king\", \"king\", \"king\", \"king\", \"king\", \"lamb\", \"langu\", \"last\", \"laugh\", \"least\", \"least\", \"left\", \"leg\", \"legend\", \"legend\", \"leng\", \"leng\", \"leng\", \"leng\", \"level\", \"light\", \"lik\", \"lik\", \"lik\", \"lik\", \"lik\", \"lik\", \"lik\", \"lik\", \"limit\", \"long\", \"long\", \"long\", \"long\", \"long\", \"long\", \"look\", \"look\", \"look\", \"lost\", \"louisann\", \"louisian\", \"mad\", \"mad\", \"mad\", \"mad\", \"mag\", \"mag\", \"main\", \"main\", \"main\", \"mak\", \"mak\", \"mak\", \"mak\", \"mak\", \"man\", \"man\", \"man\", \"man\", \"man\", \"man\", \"man\", \"man\", \"many\", \"many\", \"many\", \"many\", \"many\", \"many\", \"many\", \"many\", \"marvel\", \"marvel\", \"marvel\", \"mean\", \"mean\", \"men\", \"men\", \"men\", \"men\", \"mess\", \"mess\", \"michael\", \"michael\", \"michael\", \"michael\", \"michael\", \"michael\", \"michael\", \"michael\", \"michael\", \"mild\", \"min\", \"mind\", \"mind\", \"mind\", \"mind\", \"mind\", \"mirac\", \"mirac\", \"mirac\", \"mirac\", \"mirac\", \"modern\", \"money\", \"mors\", \"mors\", \"mors\", \"mors\", \"mors\", \"mors\", \"movy\", \"movy\", \"movy\", \"movy\", \"movy\", \"movy\", \"movy\", \"mr\", \"must\", \"must\", \"must\", \"must\", \"mystery\", \"nam\", \"nam\", \"nam\", \"nar\", \"nee\", \"nee\", \"nee\", \"nev\", \"nev\", \"nev\", \"next\", \"nin\", \"nomin\", \"nomin\", \"nomin\", \"norm\", \"not\", \"noth\", \"novel\", \"novel\", \"novel\", \"novel\", \"novel\", \"novel\", \"numb\", \"object\", \"occur\", \"offend\", \"oft\", \"opin\", \"opin\", \"opin\", \"optim\", \"ordin\", \"origin\", \"os\", \"ot\", \"overal\", \"overload\", \"overlong\", \"overs\", \"overtim\", \"pac\", \"pain\", \"pain\", \"pair\", \"par\", \"part\", \"part\", \"part\", \"part\", \"part\", \"particip\", \"party\", \"past\", \"patric\", \"paul\", \"paul\", \"paul\", \"paul\", \"paul\", \"paul\", \"paul\", \"penal\", \"penaltypercy\", \"penet\", \"peopl\", \"peopl\", \"peopl\", \"peopl\", \"perceiv\", \"percy\", \"percy\", \"percy\", \"percy\", \"perfect\", \"perfect\", \"perfect\", \"perfect\", \"perfect\", \"perform\", \"perform\", \"perform\", \"perform\", \"perform\", \"perform\", \"perform\", \"perform\", \"perhap\", \"perhap\", \"perhap\", \"perhap\", \"person\", \"person\", \"pessim\", \"philosoph\", \"pict\", \"pict\", \"pict\", \"pillow\", \"pity\", \"plac\", \"plac\", \"plac\", \"plac\", \"play\", \"play\", \"play\", \"play\", \"play\", \"plot\", \"plot\", \"poet\", \"poign\", \"point\", \"point\", \"point\", \"poity\", \"portray\", \"portray\", \"portray\", \"portray\", \"poss\", \"poss\", \"poss\", \"post\", \"pound\", \"pow\", \"pow\", \"pow\", \"pow\", \"pres\", \"press\", \"press\", \"pric\", \"prison\", \"prison\", \"prison\", \"prison\", \"prison\", \"prison\", \"prison\", \"priv\", \"process\", \"progress\", \"prol\", \"proud\", \"proud\", \"provok\", \"pun\", \"pun\", \"put\", \"put\", \"put\", \"put\", \"put\", \"put\", \"qual\", \"qual\", \"quest\", \"quest\", \"quest\", \"quit\", \"quit\", \"quit\", \"rar\", \"read\", \"read\", \"read\", \"real\", \"real\", \"real\", \"real\", \"real\", \"real\", \"real\", \"rec\", \"rec\", \"recal\", \"receiv\", \"receiv\", \"receiv\", \"recheck\", \"recognit\", \"recollect\", \"recommend\", \"recommend\", \"recount\", \"recours\", \"ref\", \"refresh\", \"relig\", \"relig\", \"remark\", \"remind\", \"remot\", \"renew\", \"repel\", \"reply\", \"request\", \"requir\", \"resid\", \"return\", \"return\", \"revel\", \"right\", \"right\", \"right\", \"right\", \"right\", \"right\", \"rit\", \"rockwel\", \"rol\", \"rol\", \"rol\", \"rol\", \"rol\", \"rol\", \"rol\", \"round\", \"run\", \"run\", \"run\", \"run\", \"ryan\", \"sacr\", \"sad\", \"sad\", \"sad\", \"sad\", \"said\", \"said\", \"said\", \"sam\", \"sav\", \"say\", \"say\", \"say\", \"say\", \"scen\", \"scen\", \"scen\", \"scen\", \"scen\", \"scen\", \"scheduled\", \"scor\", \"scraping\", \"screen\", \"screen\", \"screen\", \"screen\", \"script\", \"season\", \"see\", \"see\", \"see\", \"see\", \"see\", \"seem\", \"seem\", \"seen\", \"seen\", \"seen\", \"seen\", \"sent\", \"sent\", \"sent\", \"seny\", \"serv\", \"sev\", \"sev\", \"sev\", \"sev\", \"shar\", \"sharecrop\", \"shawskank\", \"shin\", \"shin\", \"sho\", \"short\", \"shown\", \"sign\", \"silv\", \"simil\", \"simil\", \"sin\", \"singl\", \"singl\", \"singl\", \"sint\", \"six\", \"siz\", \"siz\", \"siz\", \"skil\", \"slap\", \"slav\", \"slow\", \"smal\", \"someth\", \"someth\", \"someth\", \"someth\", \"someth\", \"someth\", \"somewh\", \"somewh\", \"sophom\", \"sorrow\", \"sou\", \"sound\", \"sourc\", \"sourc\", \"southern\", \"spacey\", \"spawn\", \"spectacul\", \"spin\", \"spoil\", \"spot\", \"spotlight\", \"stanton\", \"star\", \"star\", \"start\", \"start\", \"startl\", \"stat\", \"stat\", \"stay\", \"stay\", \"stay\", \"stay\", \"ste\", \"steph\", \"steph\", \"steph\", \"steph\", \"steph\", \"steph\", \"stev\", \"stev\", \"stev\", \"stev\", \"stood\", \"story\", \"story\", \"story\", \"story\", \"story\", \"story\", \"story\", \"story\", \"story\", \"strangle\", \"strength\", \"strength\", \"struggling\", \"styl\", \"subject\", \"subplot\", \"success\", \"suggest\", \"suggest\", \"suit\", \"suit\", \"supern\", \"supery\", \"support\", \"support\", \"support\", \"support\", \"support\", \"support\", \"suppos\", \"sur\", \"sur\", \"sur\", \"surround\", \"sympath\", \"sympath\", \"sympathet\", \"tal\", \"tal\", \"tal\", \"tal\", \"teach\", \"teach\", \"tear\", \"tear\", \"teem\", \"tel\", \"tel\", \"tel\", \"tel\", \"tel\", \"terr\", \"terwillig\", \"thank\", \"them\", \"think\", \"think\", \"think\", \"think\", \"think\", \"think\", \"thirty\", \"thread\", \"three\", \"three\", \"three\", \"tightest\", \"tim\", \"tim\", \"tim\", \"tim\", \"tim\", \"tim\", \"tiny\", \"tissu\", \"tissu\", \"titl\", \"togeth\", \"togeth\", \"togeth\", \"told\", \"tom\", \"tom\", \"tom\", \"tom\", \"tom\", \"tom\", \"tom\", \"tom\", \"touch\", \"touch\", \"touch\", \"tradit\", \"trag\", \"trag\", \"train\", \"transpir\", \"tri\", \"triumph\", \"tru\", \"tru\", \"tru\", \"tru\", \"tru\", \"tru\", \"tru\", \"try\", \"turn\", \"two\", \"two\", \"two\", \"two\", \"two\", \"two\", \"two\", \"two\", \"unc\", \"undeny\", \"unexpect\", \"unfair\", \"unforget\", \"unknown\", \"unlik\", \"unlik\", \"unpretenty\", \"unsettl\", \"unspeak\", \"unto\", \"untold\", \"unus\", \"unus\", \"urin\", \"us\", \"us\", \"us\", \"us\", \"us\", \"us\", \"us\", \"valu\", \"valu\", \"vary\", \"vers\", \"vert\", \"vert\", \"vis\", \"vot\", \"walk\", \"walk\", \"want\", \"want\", \"watch\", \"watch\", \"watch\", \"watch\", \"watchingbo\", \"way\", \"way\", \"way\", \"way\", \"weeph\", \"wel\", \"wel\", \"wel\", \"wel\", \"wel\", \"wel\", \"went\", \"whatev\", \"wherein\", \"whol\", \"whol\", \"whol\", \"whol\", \"whol\", \"whol\", \"win\", \"win\", \"wis\", \"wond\", \"wond\", \"wond\", \"wond\", \"wond\", \"wond\", \"word\", \"work\", \"work\", \"work\", \"work\", \"work\", \"world\", \"world\", \"world\", \"world\", \"worry\", \"worst\", \"worthy\", \"would\", \"would\", \"would\", \"would\", \"would\", \"would\", \"wretch\", \"wring\", \"writ\", \"writ\", \"writ\", \"writ\", \"writ\", \"writ\", \"writ\", \"wrong\", \"year\", \"year\", \"year\", \"year\", \"yet\", \"yet\"]}, \"R\": 30, \"lambda.step\": 0.01, \"plot.opts\": {\"xlab\": \"PC1\", \"ylab\": \"PC2\"}, \"topic.order\": [2, 3, 1, 5, 10, 4, 8, 9, 6, 7]};\n",
       "\n",
       "function LDAvis_load_lib(url, callback){\n",
       "  var s = document.createElement('script');\n",
       "  s.src = url;\n",
       "  s.async = true;\n",
       "  s.onreadystatechange = s.onload = callback;\n",
       "  s.onerror = function(){console.warn(\"failed to load library \" + url);};\n",
       "  document.getElementsByTagName(\"head\")[0].appendChild(s);\n",
       "}\n",
       "\n",
       "if(typeof(LDAvis) !== \"undefined\"){\n",
       "   // already loaded: just create the visualization\n",
       "   !function(LDAvis){\n",
       "       new LDAvis(\"#\" + \"ldavis_el2193047054393203052757507\", ldavis_el2193047054393203052757507_data);\n",
       "   }(LDAvis);\n",
       "}else if(typeof define === \"function\" && define.amd){\n",
       "   // require.js is available: use it to load d3/LDAvis\n",
       "   require.config({paths: {d3: \"https://cdnjs.cloudflare.com/ajax/libs/d3/3.5.5/d3.min\"}});\n",
       "   require([\"d3\"], function(d3){\n",
       "      window.d3 = d3;\n",
       "      LDAvis_load_lib(\"https://cdn.rawgit.com/bmabey/pyLDAvis/files/ldavis.v1.0.0.js\", function(){\n",
       "        new LDAvis(\"#\" + \"ldavis_el2193047054393203052757507\", ldavis_el2193047054393203052757507_data);\n",
       "      });\n",
       "    });\n",
       "}else{\n",
       "    // require.js not available: dynamically load d3 & LDAvis\n",
       "    LDAvis_load_lib(\"https://cdnjs.cloudflare.com/ajax/libs/d3/3.5.5/d3.min.js\", function(){\n",
       "         LDAvis_load_lib(\"https://cdn.rawgit.com/bmabey/pyLDAvis/files/ldavis.v1.0.0.js\", function(){\n",
       "                 new LDAvis(\"#\" + \"ldavis_el2193047054393203052757507\", ldavis_el2193047054393203052757507_data);\n",
       "            })\n",
       "         });\n",
       "}\n",
       "</script>"
      ],
      "text/plain": [
       "PreparedData(topic_coordinates=            Freq  cluster  topics           x           y\n",
       "topic                                                    \n",
       "1      15.474589        1       1 -123.049324  407.018280\n",
       "2      14.709126        1       2 -237.709015   51.556286\n",
       "0      11.535850        1       3 -228.992020 -505.472717\n",
       "4      10.716056        1       4 -482.594513 -202.607193\n",
       "9      10.411071        1       5  -49.444897 -217.875305\n",
       "3       9.629104        1       6   89.866127   80.295982\n",
       "7       8.342430        1       7  214.350937 -433.260468\n",
       "8       7.406068        1       8 -513.208008  239.079803\n",
       "5       6.180483        1       9  286.660583  351.496521\n",
       "6       5.595222        1      10  393.510345  -86.079643, topic_info=     Category        Freq      Term       Total  loglift  logprob\n",
       "term                                                             \n",
       "569   Default  417.000000      movy  417.000000  30.0000  30.0000\n",
       "100   Default   89.000000      book   89.000000  29.0000  29.0000\n",
       "390   Default   64.000000       gre   64.000000  28.0000  28.0000\n",
       "993   Default   99.000000     would   99.000000  27.0000  27.0000\n",
       "846   Default  173.000000     story  173.000000  26.0000  26.0000\n",
       "701   Default   49.000000      read   49.000000  25.0000  25.0000\n",
       "763   Default   89.000000       see   89.000000  24.0000  24.0000\n",
       "962   Default   63.000000     watch   63.000000  23.0000  23.0000\n",
       "673   Default  141.000000    prison  141.000000  22.0000  22.0000\n",
       "128   Default  102.000000      cast  102.000000  21.0000  21.0000\n",
       "999   Default   41.000000       yet   41.000000  20.0000  20.0000\n",
       "398   Default   82.000000     guard   82.000000  19.0000  19.0000\n",
       "276   Default  112.000000      emot  112.000000  18.0000  18.0000\n",
       "329   Default   87.000000      feel   87.000000  17.0000  17.0000\n",
       "551   Default   49.000000       men   49.000000  16.0000  16.0000\n",
       "543   Default  104.000000       mak  104.000000  15.0000  15.0000\n",
       "766   Default   85.000000      seen   85.000000  14.0000  14.0000\n",
       "757   Default   49.000000    screen   49.000000  13.0000  13.0000\n",
       "334   Default  232.000000      film  232.000000  12.0000  12.0000\n",
       "156   Default   74.000000       com   74.000000  11.0000  11.0000\n",
       "891   Default   51.000000     three   51.000000  10.0000  10.0000\n",
       "502   Default  107.000000      king  107.000000   9.0000   9.0000\n",
       "289   Default  138.000000        ev  138.000000   8.0000   8.0000\n",
       "436   Default   73.000000      hour   73.000000   7.0000   7.0000\n",
       "198   Default   68.000000  darabont   68.000000   6.0000   6.0000\n",
       "659   Default   36.000000     point   36.000000   5.0000   5.0000\n",
       "640   Default  115.000000   perform  115.000000   4.0000   4.0000\n",
       "998   Default   62.000000      year   62.000000   3.0000   3.0000\n",
       "896   Default  117.000000       tim  117.000000   2.0000   2.0000\n",
       "265   Default   88.000000  edgecomb   88.000000   1.0000   1.0000\n",
       "...       ...         ...       ...         ...      ...      ...\n",
       "452   Topic10    8.336464    imagin   17.674992   2.1317  -4.7510\n",
       "659   Topic10   16.485468     point   36.514710   2.0880  -4.0691\n",
       "531   Topic10    8.122167      look   18.719607   2.0483  -4.7770\n",
       "434   Topic10   16.872187       hop   38.890010   2.0482  -4.0459\n",
       "656   Topic10    8.223198      plot   21.208032   1.9358  -4.7647\n",
       "576   Topic10    8.228685       nam   21.223643   1.9358  -4.7640\n",
       "708   Topic10    8.228685    receiv   21.223643   1.9358  -4.7640\n",
       "748   Topic10    7.987928      said   21.231199   1.9057  -4.7937\n",
       "993   Topic10   36.440146     would   99.252882   1.8813  -3.2759\n",
       "589   Topic10   16.228243     novel   44.035497   1.8850  -4.0849\n",
       "763   Topic10   27.987189       see   89.987597   1.7153  -3.5399\n",
       "654   Topic10   16.785638      play   51.815561   1.7561  -4.0511\n",
       "569   Topic10   70.751666      movy  417.917433   1.1071  -2.6124\n",
       "502   Topic10   17.038588      king  107.141867   1.0446  -4.0361\n",
       "640   Topic10   17.232375   perform  115.191600   0.9835  -4.0248\n",
       "554   Topic10   16.889716   michael  123.889519   0.8906  -4.0449\n",
       "234   Topic10    9.400902      diff   28.214703   1.7842  -4.6308\n",
       "917   Topic10    9.492079       tru   57.201479   1.0871  -4.6212\n",
       "84    Topic10    9.463521      best  104.068905   0.4856  -4.6242\n",
       "525   Topic10    9.325908       lik  131.958097   0.2336  -4.6388\n",
       "996   Topic10    8.772747      writ   44.680975   1.2554  -4.7000\n",
       "648   Topic10    8.643668      pict   30.284713   1.6294  -4.7148\n",
       "560   Topic10    8.644957     mirac   40.883378   1.3295  -4.7146\n",
       "128   Topic10    8.789972      cast  102.136992   0.4306  -4.6980\n",
       "838   Topic10    8.492748      stay   33.605134   1.5078  -4.7324\n",
       "964   Topic10    8.461230       way   35.651964   1.4449  -4.7361\n",
       "373   Topic10    8.436107       giv   35.187234   1.4551  -4.7391\n",
       "544   Topic10    8.511457       man   95.277922   0.4679  -4.7302\n",
       "493   Topic10    8.496585      john   98.792439   0.4299  -4.7320\n",
       "383   Topic10    8.463428      good   61.305606   0.9031  -4.7359\n",
       "\n",
       "[775 rows x 6 columns], token_table=      Topic      Freq     Term\n",
       "term                          \n",
       "4         6  1.028234       30\n",
       "5         3  1.070944      400\n",
       "10        2  0.734896      abl\n",
       "10        9  0.232072      abl\n",
       "13        1  0.138878  accompl\n",
       "13        5  0.833270  accompl\n",
       "14        5  0.998834  account\n",
       "16        1  0.138878   achiev\n",
       "16        5  0.833270   achiev\n",
       "17        1  0.240016      act\n",
       "17        2  0.130008      act\n",
       "17        3  0.130008      act\n",
       "17        4  0.070005      act\n",
       "17        5  0.070005      act\n",
       "17        6  0.080005      act\n",
       "17        7  0.080005      act\n",
       "17        8  0.190012      act\n",
       "18        1  0.828463       ad\n",
       "18        8  0.118352       ad\n",
       "20        1  0.177471   affect\n",
       "20       10  0.798618   affect\n",
       "23       10  0.968856      ago\n",
       "24        3  0.993151   alabam\n",
       "26        3  1.070944    alleg\n",
       "28        3  1.070944   almost\n",
       "30        1  0.906523  already\n",
       "31        1  0.218135     also\n",
       "31        2  0.109067     also\n",
       "31        3  0.311621     also\n",
       "31        4  0.109067     also\n",
       "...     ...       ...      ...\n",
       "988      10  0.146187     work\n",
       "989       1  0.121160    world\n",
       "989       2  0.424062    world\n",
       "989       5  0.060580    world\n",
       "989       9  0.363481    world\n",
       "990       7  0.964709    worry\n",
       "991       5  0.998834    worst\n",
       "992       2  1.000179   worthy\n",
       "993       1  0.130979    would\n",
       "993       3  0.201505    would\n",
       "993       4  0.141054    would\n",
       "993       8  0.100753    would\n",
       "993       9  0.060452    would\n",
       "993      10  0.362710    would\n",
       "994       9  0.940568   wretch\n",
       "995       6  1.028234    wring\n",
       "996       1  0.156666     writ\n",
       "996       2  0.290952     writ\n",
       "996       3  0.156666     writ\n",
       "996       5  0.022381     writ\n",
       "996       8  0.022381     writ\n",
       "996       9  0.156666     writ\n",
       "996      10  0.201428     writ\n",
       "997       5  0.998834    wrong\n",
       "998       2  0.627733     year\n",
       "998       7  0.128766     year\n",
       "998       9  0.096574     year\n",
       "998      10  0.128766     year\n",
       "999       5  0.144327      yet\n",
       "999       7  0.841906      yet\n",
       "\n",
       "[1272 rows x 3 columns], R=30, lambda_step=0.01, plot_opts={'xlab': 'PC1', 'ylab': 'PC2'}, topic_order=[2, 3, 1, 5, 10, 4, 8, 9, 6, 7])"
      ]
     },
     "execution_count": 176,
     "metadata": {},
     "output_type": "execute_result"
    }
   ],
   "source": [
    "# Help by https://www.machinelearningplus.com/nlp/topic-modeling-python-sklearn-examples/\n",
    "pyLDAvis.enable_notebook()\n",
    "panel = pyLDAvis.sklearn.prepare(nmf, tf, tf_vectorizer, mds='tsne')\n",
    "panel"
   ]
  },
  {
   "cell_type": "code",
   "execution_count": null,
   "metadata": {},
   "outputs": [],
   "source": []
  },
  {
   "cell_type": "code",
   "execution_count": null,
   "metadata": {},
   "outputs": [],
   "source": []
  },
  {
   "cell_type": "code",
   "execution_count": null,
   "metadata": {},
   "outputs": [],
   "source": []
  },
  {
   "cell_type": "markdown",
   "metadata": {},
   "source": [
    "### Testing stuff"
   ]
  },
  {
   "cell_type": "code",
   "execution_count": 135,
   "metadata": {},
   "outputs": [],
   "source": [
    "import numpy as np"
   ]
  },
  {
   "cell_type": "code",
   "execution_count": 142,
   "metadata": {},
   "outputs": [],
   "source": [
    "primary_topics = [np.argmax(transformed_topics) for transformed_topics in lda.transform(tf)]"
   ]
  },
  {
   "cell_type": "code",
   "execution_count": 152,
   "metadata": {},
   "outputs": [],
   "source": [
    "primary_topics_text = [nmf_topic_map[topic_index] for topic_index in primary_topics]"
   ]
  },
  {
   "cell_type": "code",
   "execution_count": 124,
   "metadata": {},
   "outputs": [],
   "source": [
    "a = tf[0]"
   ]
  },
  {
   "cell_type": "code",
   "execution_count": 126,
   "metadata": {},
   "outputs": [
    {
     "data": {
      "text/plain": [
       "[array(['30', 'act', 'also', 'alway', 'annoy', 'around', 'attract', 'auth',\n",
       "        'back', 'bad', 'bet', 'bit', 'black', 'bring', 'build', 'ca',\n",
       "        'cal', 'cam', 'cast', 'chair', 'childr', 'coffey', 'com', 'comp',\n",
       "        'complet', 'compr', 'cor', 'could', 'cruel', 'cur', 'dea', 'decay',\n",
       "        'despit', 'detry', 'diff', 'difficult', 'direct', 'drop', 'dunt',\n",
       "        'easy', 'edgecomb', 'el', 'emot', 'er', 'every', 'fac', 'fail',\n",
       "        'feel', 'film', 'find', 'flaw', 'found', 'gentl', 'get', 'gift',\n",
       "        'giv', 'good', 'guil', 'hank', 'head', 'help', 'hom', 'howev',\n",
       "        'hug', 'hum', 'includ', 'involv', 'john', 'known', 'leng', 'lik',\n",
       "        'littl', 'liv', 'long', 'los', 'lost', 'lov', 'main', 'mak', 'man',\n",
       "        'many', 'ment', 'minut', 'mom', 'mors', 'mous', 'mov', 'movy',\n",
       "        'much', 'murd', 'mystery', 'occas', 'oft', 'overlong', 'overtim',\n",
       "        'paul', 'peac', 'perform', 'play', 'pow', 'prison', 'put', 'quit',\n",
       "        'rap', 'real', 'rec', 'recount', 'resid', 'rest', 'review', 'ris',\n",
       "        'round', 'row', 'run', 'say', 'scor', 'see', 'set', 'shawskank',\n",
       "        'simpl', 'slav', 'slow', 'solid', 'someon', 'someth', 'spin',\n",
       "        'spirit', 'stil', 'story', 'strength', 'struggling', 'supern',\n",
       "        'support', 'surpr', 'thing', 'til', 'tim', 'tow', 'transcend',\n",
       "        'tri', 'tru', 'two', 'untold', 'us', 'ward', 'wel', 'wing', 'wis',\n",
       "        'wond', 'wor', 'work', 'wring'], dtype='<U12')]"
      ]
     },
     "execution_count": 126,
     "metadata": {},
     "output_type": "execute_result"
    }
   ],
   "source": [
    "tf_vectorizer.inverse_transform(a)"
   ]
  },
  {
   "cell_type": "code",
   "execution_count": null,
   "metadata": {},
   "outputs": [],
   "source": []
  }
 ],
 "metadata": {
  "kernelspec": {
   "display_name": "Python 3",
   "language": "python",
   "name": "python3"
  },
  "language_info": {
   "codemirror_mode": {
    "name": "ipython",
    "version": 3
   },
   "file_extension": ".py",
   "mimetype": "text/x-python",
   "name": "python",
   "nbconvert_exporter": "python",
   "pygments_lexer": "ipython3",
   "version": "3.6.5"
  }
 },
 "nbformat": 4,
 "nbformat_minor": 2
}

{
 "cells": [
  {
   "cell_type": "code",
   "execution_count": 1,
   "metadata": {},
   "outputs": [
    {
     "name": "stdout",
     "output_type": "stream",
     "text": [
      "bs4 4.6.3\n",
      "sklearn 0.19.1\n",
      "nltk 3.3\n",
      "re 2.2.1\n",
      "requests 2.19.1\n",
      "pandas 0.22.0\n",
      "seaborn 0.8.1\n",
      "numpy 1.14.2\n",
      "pyLDAvis  2.1.2\n",
      "matplotlib 2.2.2\n"
     ]
    }
   ],
   "source": [
    "import bs4; print( 'bs4 ' + bs4.__version__)\n",
    "from bs4 import BeautifulSoup, SoupStrainer\n",
    "\n",
    "import sklearn; print( 'sklearn ' + sklearn.__version__)\n",
    "from sklearn.feature_extraction.text import CountVectorizer, TfidfVectorizer\n",
    "from sklearn.decomposition import NMF, LatentDirichletAllocation\n",
    "from sklearn.manifold import TSNE\n",
    "\n",
    "import nltk; print( 'nltk ' + nltk.__version__)\n",
    "from nltk import word_tokenize, pos_tag, RegexpParser;\n",
    "from nltk.corpus import stopwords, wordnet\n",
    "from nltk.tokenize import sent_tokenize\n",
    "from nltk.stem.porter import PorterStemmer\n",
    "from nltk.stem import SnowballStemmer, LancasterStemmer\n",
    "\n",
    "# from autocorrect import spell; print('autocorrect 0.3.0')\n",
    "\n",
    "import re; print('re ' + re.__version__)\n",
    "import requests; print('requests ' + requests.__version__)\n",
    "\n",
    "import pandas as pd; print('pandas ' + pd.__version__)\n",
    "import seaborn as sns; print('seaborn ' + sns.__version__)\n",
    "import numpy as np; print('numpy ' + np.__version__)\n",
    "\n",
    "import pyLDAvis; print('pyLDAvis ', pyLDAvis.__version__)\n",
    "import pyLDAvis.sklearn\n",
    "\n",
    "import matplotlib; print('matplotlib', matplotlib.__version__)\n",
    "import matplotlib.pyplot as plt;"
   ]
  },
  {
   "cell_type": "markdown",
   "metadata": {},
   "source": [
    "# Final Project - Topic Modeling\n",
    "\n",
    "First we continue where we left off with [Homework 5](https://github.com/kjprice/smu-nlp/blob/e769b93945e6f45ae90aab3ec53b6595ae7bc7da/homework/Homework%205.ipynb)."
   ]
  },
  {
   "cell_type": "markdown",
   "metadata": {},
   "source": [
    "### Code from Homework 5\n"
   ]
  },
  {
   "cell_type": "code",
   "execution_count": 2,
   "metadata": {},
   "outputs": [],
   "source": [
    "# The home page for various movies' reviews, from which will get the links for individual reviews\n",
    "review_home_urls = {\n",
    "    'green_mile': 'https://www.imdb.com/title/tt0120689/reviews?ref_=tt_ql_3',\n",
    "    'forest_gump': 'https://www.imdb.com/title/tt0109830/reviews?ref_=tt_ov_rt',\n",
    "    'cast_away': 'https://www.imdb.com/title/tt0162222/reviews?ref_=tt_ov_rt',\n",
    "    'terminal': 'https://www.imdb.com/title/tt0362227/reviews?ref_=tt_ql_3',\n",
    "    'catch_me_if_you_can': 'https://www.imdb.com/title/tt0264464/reviews?ref_=tt_ql_3',\n",
    "    'road_to_perdition': 'https://www.imdb.com/title/tt0257044/reviews?ref_=tt_ql_3',\n",
    "}\n",
    "def get_text_from_url(url):\n",
    "    return requests.get(url).text\n",
    "text = get_text_from_url(review_home_urls['green_mile'])\n"
   ]
  },
  {
   "cell_type": "code",
   "execution_count": 3,
   "metadata": {},
   "outputs": [],
   "source": [
    "def get_all_links_from_html(html):\n",
    "    tags = BeautifulSoup(html, 'html.parser', parse_only=SoupStrainer('a', href=True))\n",
    "    urls = [str(tag.attrs['href']) for tag in tags]\n",
    "    return urls\n",
    "all_links = get_all_links_from_html(text)"
   ]
  },
  {
   "cell_type": "code",
   "execution_count": 4,
   "metadata": {},
   "outputs": [],
   "source": [
    "def get_review_urls_from_links(links):\n",
    "    url_template = 'https://www.imdb.com{}'\n",
    "    # url_template = 'http://www.gutenberg.org/files/{}/{}-h/{}-h.htm'\n",
    "    return [url_template.format(link) for link in links]\n",
    "\n",
    "urls = get_review_urls_from_links(all_links)"
   ]
  },
  {
   "cell_type": "code",
   "execution_count": 5,
   "metadata": {},
   "outputs": [],
   "source": [
    "def relevent_link(link):\n",
    "    if '/review/' in link:\n",
    "        return True\n",
    "    return False"
   ]
  },
  {
   "cell_type": "code",
   "execution_count": 6,
   "metadata": {},
   "outputs": [
    {
     "data": {
      "text/plain": [
       "25"
      ]
     },
     "execution_count": 6,
     "metadata": {},
     "output_type": "execute_result"
    }
   ],
   "source": [
    "def get_relevent_links(links):\n",
    "    relevent_links = filter(relevent_link, links)\n",
    "    unique_relevent_links = set(relevent_links)\n",
    "    return list(unique_relevent_links)\n",
    "relevent_urls = get_relevent_links(urls)\n",
    "len(relevent_urls)"
   ]
  },
  {
   "cell_type": "code",
   "execution_count": 7,
   "metadata": {},
   "outputs": [
    {
     "name": "stderr",
     "output_type": "stream",
     "text": [
      "<input>:6: DeprecationWarning: invalid escape sequence \\s\n",
      "<input>:6: DeprecationWarning: invalid escape sequence \\s\n",
      "<input>:6: DeprecationWarning: invalid escape sequence \\s\n",
      "<ipython-input-7-fe7ee7139024>:6: DeprecationWarning: invalid escape sequence \\s\n",
      "  return re.split('\\\\n\\\\n\\s+\\d+ out of \\d+', text)[0]\n"
     ]
    }
   ],
   "source": [
    "def strain_content(name, attrs):\n",
    "    if name == 'div' and dict(attrs).get('class', None) == 'content':\n",
    "        return True\n",
    "    return False\n",
    "def clean_review_text(text):\n",
    "    return re.split('\\\\n\\\\n\\s+\\d+ out of \\d+', text)[0]\n",
    "def get_review_from_url(url):\n",
    "    html = get_text_from_url(url)\n",
    "    tags = BeautifulSoup(html, 'html.parser', parse_only=SoupStrainer(strain_content))\n",
    "    review = clean_review_text(tags.text)\n",
    "    return review"
   ]
  },
  {
   "cell_type": "code",
   "execution_count": 8,
   "metadata": {},
   "outputs": [],
   "source": [
    "def get_review_from_site(url):\n",
    "    reviews = []\n",
    "\n",
    "    reviews_home_text = get_text_from_url(url)\n",
    "    all_links = get_all_links_from_html(reviews_home_text)\n",
    "    relevent_links = get_relevent_links(all_links)\n",
    "\n",
    "    review_urls = get_review_urls_from_links(relevent_links)\n",
    "    for url in review_urls:\n",
    "        reviews.append(get_review_from_url(url))\n",
    "        # break\n",
    "    return reviews"
   ]
  },
  {
   "cell_type": "code",
   "execution_count": 9,
   "metadata": {},
   "outputs": [
    {
     "data": {
      "text/plain": [
       "dict_values(['https://www.imdb.com/title/tt0120689/reviews?ref_=tt_ql_3', 'https://www.imdb.com/title/tt0109830/reviews?ref_=tt_ov_rt', 'https://www.imdb.com/title/tt0162222/reviews?ref_=tt_ov_rt', 'https://www.imdb.com/title/tt0362227/reviews?ref_=tt_ql_3', 'https://www.imdb.com/title/tt0264464/reviews?ref_=tt_ql_3', 'https://www.imdb.com/title/tt0257044/reviews?ref_=tt_ql_3'])"
      ]
     },
     "execution_count": 9,
     "metadata": {},
     "output_type": "execute_result"
    }
   ],
   "source": [
    "review_home_urls.values()"
   ]
  },
  {
   "cell_type": "code",
   "execution_count": 10,
   "metadata": {},
   "outputs": [],
   "source": [
    "def get_reviews_from_all_sites():\n",
    "    all_reviews = []\n",
    "    review_titles = review_home_urls.keys()\n",
    "    for title in review_titles:\n",
    "        review_home_url = review_home_urls[title]\n",
    "        all_reviews = all_reviews + get_review_from_site(review_home_url)\n",
    "    return all_reviews"
   ]
  },
  {
   "cell_type": "markdown",
   "metadata": {},
   "source": [
    "## Retrieve All Reviews"
   ]
  },
  {
   "cell_type": "code",
   "execution_count": 11,
   "metadata": {},
   "outputs": [],
   "source": [
    "all_reviews = get_reviews_from_all_sites()"
   ]
  },
  {
   "cell_type": "code",
   "execution_count": 12,
   "metadata": {},
   "outputs": [
    {
     "data": {
      "text/plain": [
       "150"
      ]
     },
     "execution_count": 12,
     "metadata": {},
     "output_type": "execute_result"
    }
   ],
   "source": [
    "len(all_reviews)"
   ]
  },
  {
   "cell_type": "code",
   "execution_count": 13,
   "metadata": {},
   "outputs": [
    {
     "data": {
      "text/plain": [
       "'\\nTHE GREEN MILE (1999) ****Starring: Tom Hanks, David Morse, Michael Clarke Duncan, Bonnie Hunt, Jam'"
      ]
     },
     "execution_count": 13,
     "metadata": {},
     "output_type": "execute_result"
    }
   ],
   "source": [
    "all_reviews[0][0:100]"
   ]
  },
  {
   "cell_type": "markdown",
   "metadata": {},
   "source": [
    "## Preprocess Data"
   ]
  },
  {
   "cell_type": "code",
   "execution_count": 14,
   "metadata": {},
   "outputs": [],
   "source": [
    "def sentences_to_words(sentences):\n",
    "    return [word_tokenize(sentence) for sentence in sentences]\n",
    "# sentences_to_words([all_reviews[0]])[0][0:5]"
   ]
  },
  {
   "cell_type": "code",
   "execution_count": 15,
   "metadata": {},
   "outputs": [
    {
     "data": {
      "text/plain": [
       "['boss', '.']"
      ]
     },
     "execution_count": 15,
     "metadata": {},
     "output_type": "execute_result"
    }
   ],
   "source": [
    "custom_stop_words = ['the', 'green', 'mile', 'shawshank', 'redemption', 'one']\n",
    "stop_words = custom_stop_words + stopwords.words('english')\n",
    "def remove_stop_words(words):\n",
    "    return [word for word in words if word not in stop_words]\n",
    "remove_stop_words(['he', 'her', 'boss', '.', 'the'])"
   ]
  },
  {
   "cell_type": "code",
   "execution_count": 16,
   "metadata": {},
   "outputs": [],
   "source": [
    "def include_only_numbers_and_letters(words):\n",
    "    regex_matcher = '^[a-zA-Z0-9]+$'\n",
    "    return [word for word in words if re.match(regex_matcher, word)]\n",
    "# include_only_numbers_and_letters(['1', 'KJ', '.'])"
   ]
  },
  {
   "cell_type": "code",
   "execution_count": 17,
   "metadata": {},
   "outputs": [
    {
     "data": {
      "text/plain": [
       "['run', 'fastest', 'hat', 'movie']"
      ]
     },
     "execution_count": 17,
     "metadata": {},
     "output_type": "execute_result"
    }
   ],
   "source": [
    "#stemmer = PorterStemmer()\n",
    "#stemmer = SnowballStemmer('english')\n",
    "stemmer = LancasterStemmer()\n",
    "def lemmatize_word(word):\n",
    "    lemma_word = stemmer.stem(word)\n",
    "    if wordnet.synsets(lemma_word):\n",
    "        return lemma_word\n",
    "    else:\n",
    "        return word\n",
    "def lemmatize_words(words):\n",
    "    return [lemmatize_word(word) for word in words]\n",
    "lemmatize_words(['running', 'fastest', 'hats', 'movie'])"
   ]
  },
  {
   "cell_type": "code",
   "execution_count": 18,
   "metadata": {},
   "outputs": [
    {
     "data": {
      "text/plain": [
       "['1999', 'tom', 'hank', 'david', 'mors']"
      ]
     },
     "execution_count": 18,
     "metadata": {},
     "output_type": "execute_result"
    }
   ],
   "source": [
    "def preprocess_documents(documents):\n",
    "    documents_with_formatted_words = [document.lower().strip() for document in documents]\n",
    "    documents_of_words = sentences_to_words(documents_with_formatted_words)\n",
    "    content_words_and_characters = [remove_stop_words(words) for words in documents_of_words]\n",
    "    content_words = [include_only_numbers_and_letters(characters) for characters in content_words_and_characters]\n",
    "    lematized_words = [lemmatize_words(words) for words in content_words]\n",
    "    return lematized_words  \n",
    "preprocess_documents(all_reviews[0:2])[0][0:5]"
   ]
  },
  {
   "cell_type": "code",
   "execution_count": 19,
   "metadata": {},
   "outputs": [
    {
     "data": {
      "text/plain": [
       "['1999', 'tom', 'hank', 'david', 'mors', 'michael', 'clark']"
      ]
     },
     "execution_count": 19,
     "metadata": {},
     "output_type": "execute_result"
    }
   ],
   "source": [
    "documents_of_words = preprocess_documents(all_reviews)\n",
    "documents_of_words[0][0:7]"
   ]
  },
  {
   "cell_type": "markdown",
   "metadata": {},
   "source": [
    "### Take a look at words"
   ]
  },
  {
   "cell_type": "code",
   "execution_count": 20,
   "metadata": {},
   "outputs": [
    {
     "data": {
      "text/plain": [
       "21896"
      ]
     },
     "execution_count": 20,
     "metadata": {},
     "output_type": "execute_result"
    }
   ],
   "source": [
    "list_of_all_words = [word for document in documents_of_words for word in document]\n",
    "len(list_of_all_words)"
   ]
  },
  {
   "cell_type": "code",
   "execution_count": 21,
   "metadata": {},
   "outputs": [
    {
     "data": {
      "text/plain": [
       "4154"
      ]
     },
     "execution_count": 21,
     "metadata": {},
     "output_type": "execute_result"
    }
   ],
   "source": [
    "# Unique Words\n",
    "len(set(list_of_all_words))"
   ]
  },
  {
   "cell_type": "markdown",
   "metadata": {},
   "source": [
    "### Flatten documents back to sentences"
   ]
  },
  {
   "cell_type": "code",
   "execution_count": 22,
   "metadata": {},
   "outputs": [],
   "source": [
    "flattened_documents = [' '.join(document) for document in documents_of_words]"
   ]
  },
  {
   "cell_type": "markdown",
   "metadata": {},
   "source": [
    "## Perform Topic Modeling"
   ]
  },
  {
   "cell_type": "markdown",
   "metadata": {},
   "source": [
    "Inspired, in part by https://medium.com/mlreview/topic-modeling-with-scikit-learn-e80d33668730"
   ]
  },
  {
   "cell_type": "code",
   "execution_count": 23,
   "metadata": {},
   "outputs": [],
   "source": [
    "# Settings\n",
    "NUMBER_OF_FEATURES = 1000\n",
    "NUMBER_OF_TOPICS  = 10\n",
    "NUMBER_OF_TOP_WORDS = 10"
   ]
  },
  {
   "cell_type": "code",
   "execution_count": 24,
   "metadata": {},
   "outputs": [],
   "source": [
    "def topics_to_map(model, feature_names, no_top_words):\n",
    "    map = []\n",
    "    for topic_idx, topic in enumerate(model.components_):\n",
    "        stuff = \" \".join([feature_names[i]\n",
    "                        for i in topic.argsort()[:-no_top_words - 1:-1]])\n",
    "        map.append(stuff)\n",
    "    return map\n"
   ]
  },
  {
   "cell_type": "code",
   "execution_count": 25,
   "metadata": {},
   "outputs": [],
   "source": [
    "# Helper function \n",
    "def display_topics(model, feature_names, no_top_words):\n",
    "    for topic_idx, topic in enumerate(model.components_):\n",
    "        print (\"Topic {}:\".format(topic_idx), end=' ')\n",
    "        stuff = \" \".join([feature_names[i]\n",
    "                        for i in topic.argsort()[:-no_top_words - 1:-1]])\n",
    "        print (stuff)"
   ]
  },
  {
   "cell_type": "markdown",
   "metadata": {},
   "source": [
    "### Vectorize (Bag Of Words)"
   ]
  },
  {
   "cell_type": "code",
   "execution_count": 26,
   "metadata": {},
   "outputs": [],
   "source": [
    "tf_vectorizer = TfidfVectorizer(max_features=NUMBER_OF_FEATURES)\n",
    "tf = tf_vectorizer.fit_transform(flattened_documents)\n",
    "tf_feature_names = tf_vectorizer.get_feature_names()"
   ]
  },
  {
   "cell_type": "code",
   "execution_count": 27,
   "metadata": {},
   "outputs": [
    {
     "data": {
      "text/plain": [
       "'1999 tom hank david mors michael clark duncan bonny hunt jam cromwell michael jet doug hutchison gar'"
      ]
     },
     "execution_count": 27,
     "metadata": {},
     "output_type": "execute_result"
    }
   ],
   "source": [
    "flattened_documents[0][0:100]"
   ]
  },
  {
   "cell_type": "markdown",
   "metadata": {},
   "source": [
    "### NMF"
   ]
  },
  {
   "cell_type": "code",
   "execution_count": 28,
   "metadata": {},
   "outputs": [],
   "source": [
    "nmf = NMF(n_components=NUMBER_OF_TOPICS, random_state=1, alpha=.1, l1_ratio=.7, init='nndsvd').fit(tf)"
   ]
  },
  {
   "cell_type": "code",
   "execution_count": 29,
   "metadata": {},
   "outputs": [
    {
     "name": "stdout",
     "output_type": "stream",
     "text": [
      "Topic 0: film movie real hank act story watch ev like think\n",
      "Topic 1: chuck island noland kelly away wilson zemeckis crash plan fedex\n",
      "Topic 2: son sullivan michael rooney newman perdition road con father law\n",
      "Topic 3: frank abagnale dicaprio spielberg walk catch fbi con hanratty christopher\n",
      "Topic 4: forrest gump jenny school vietnam meet wright life beat history\n",
      "Topic 5: spielberg airport terminal viktor steven hank catherine stuck new country\n",
      "Topic 6: frank pretend funny lawyer carl doctor tells watch movie pilot\n",
      "Topic 7: prison duncan edgecomb guard michael coffey paul clark darabont men\n",
      "Topic 8: best academy award nominated star second sin dram hank win\n",
      "Topic 9: gave movie whole vulnerable weak till long hop giant depth\n"
     ]
    }
   ],
   "source": [
    "nmf_topic_map = topics_to_map(nmf, tf_feature_names, NUMBER_OF_TOP_WORDS)\n",
    "display_topics(nmf, tf_feature_names, NUMBER_OF_TOP_WORDS)"
   ]
  },
  {
   "cell_type": "markdown",
   "metadata": {},
   "source": [
    "### LDA"
   ]
  },
  {
   "cell_type": "code",
   "execution_count": 30,
   "metadata": {
    "scrolled": true
   },
   "outputs": [
    {
     "name": "stderr",
     "output_type": "stream",
     "text": [
      "/usr/local/lib/python3.6/site-packages/sklearn/decomposition/online_lda.py:294: DeprecationWarning: n_topics has been renamed to n_components in version 0.19 and will be removed in 0.21\n",
      "  DeprecationWarning)\n"
     ]
    }
   ],
   "source": [
    "lda = LatentDirichletAllocation(n_topics=NUMBER_OF_TOPICS, max_iter=50, learning_method='online', learning_offset=50.,random_state=0).fit(tf)\n",
    "\n"
   ]
  },
  {
   "cell_type": "code",
   "execution_count": 31,
   "metadata": {},
   "outputs": [
    {
     "name": "stdout",
     "output_type": "stream",
     "text": [
      "Topic 0: film act comp reason quit character best movie academy thing\n",
      "Topic 1: review read sens sit complex direct chuck like seriously good\n",
      "Topic 2: son hank road father commit newman paul movie perdition eye\n",
      "Topic 3: film movie hank son act story newman real perdition tom\n",
      "Topic 4: rooney son sullivan michael con movie hank maguire hoechlin perdition\n",
      "Topic 5: film think zemeckis movie wright perform stuff mike act take\n",
      "Topic 6: rooney movie car real grow behind story choose relationship ar\n",
      "Topic 7: crusoe truly life perdition amazing truth superb struggles hank moving\n",
      "Topic 8: level spirit bas incredibly villain nasser mors two tells rub\n",
      "Topic 9: tom movie mean beauty forrest movies mess believe like seen\n"
     ]
    }
   ],
   "source": [
    "display_topics(lda, tf_feature_names, NUMBER_OF_TOP_WORDS)\n"
   ]
  },
  {
   "cell_type": "code",
   "execution_count": 32,
   "metadata": {},
   "outputs": [],
   "source": [
    "topic_map = nmf.transform(tf)\n",
    "# topic_map = lda.transform(tf)"
   ]
  },
  {
   "cell_type": "markdown",
   "metadata": {},
   "source": [
    "# Visualizations"
   ]
  },
  {
   "cell_type": "markdown",
   "metadata": {},
   "source": [
    "### Word counts per document"
   ]
  },
  {
   "cell_type": "code",
   "execution_count": 33,
   "metadata": {},
   "outputs": [],
   "source": [
    "number_of_words = [len(review.split(' ')) for review in all_reviews]"
   ]
  },
  {
   "cell_type": "code",
   "execution_count": 34,
   "metadata": {},
   "outputs": [
    {
     "data": {
      "text/plain": [
       "<matplotlib.axes._subplots.AxesSubplot at 0x11d0b6710>"
      ]
     },
     "execution_count": 34,
     "metadata": {},
     "output_type": "execute_result"
    },
    {
     "data": {
      "image/png": "[encoded data removed]",
      "text/plain": [
       "<Figure size 432x288 with 1 Axes>"
      ]
     },
     "metadata": {},
     "output_type": "display_data"
    }
   ],
   "source": [
    "sns.boxplot(number_of_words)"
   ]
  },
  {
   "cell_type": "code",
   "execution_count": 35,
   "metadata": {},
   "outputs": [
    {
     "data": {
      "text/plain": [
       "216.5"
      ]
     },
     "execution_count": 35,
     "metadata": {},
     "output_type": "execute_result"
    }
   ],
   "source": [
    "np.median(number_of_words)"
   ]
  },
  {
   "cell_type": "markdown",
   "metadata": {},
   "source": [
    "### Scatterplot"
   ]
  },
  {
   "cell_type": "markdown",
   "metadata": {},
   "source": [
    "With help from https://shuaiw.github.io/2016/12/22/topic-modeling-and-tsne-visualzation.html"
   ]
  },
  {
   "cell_type": "code",
   "execution_count": 36,
   "metadata": {},
   "outputs": [],
   "source": [
    "tsne_model = TSNE(n_components=2, verbose=1, random_state=0, angle=.99, init='pca')"
   ]
  },
  {
   "cell_type": "code",
   "execution_count": 37,
   "metadata": {},
   "outputs": [
    {
     "name": "stdout",
     "output_type": "stream",
     "text": [
      "[t-SNE] Computing 91 nearest neighbors...\n",
      "[t-SNE] Indexed 150 samples in 0.000s...\n",
      "[t-SNE] Computed neighbors for 150 samples in 0.003s...\n",
      "[t-SNE] Computed conditional probabilities for sample 150 / 150\n",
      "[t-SNE] Mean sigma: 0.066991\n",
      "[t-SNE] KL divergence after 250 iterations with early exaggeration: 56.741772\n",
      "[t-SNE] Error after 900 iterations: 0.144180\n"
     ]
    }
   ],
   "source": [
    "tsne_lda = tsne_model.fit_transform(topic_map)"
   ]
  },
  {
   "cell_type": "code",
   "execution_count": 38,
   "metadata": {},
   "outputs": [],
   "source": [
    "categories = review_home_urls.keys()"
   ]
  },
  {
   "cell_type": "code",
   "execution_count": 39,
   "metadata": {},
   "outputs": [],
   "source": [
    "categories_vector = []\n",
    "for category in categories:\n",
    "    for i in range(int(len(all_reviews) / len(categories))):\n",
    "        categories_vector.append(category)"
   ]
  },
  {
   "cell_type": "code",
   "execution_count": 40,
   "metadata": {},
   "outputs": [],
   "source": [
    "primary_topics = [np.argmax(transformed_topics) for transformed_topics in lda.transform(tf)]\n",
    "primary_topics_text = [nmf_topic_map[topic_index] for topic_index in primary_topics]"
   ]
  },
  {
   "cell_type": "code",
   "execution_count": 41,
   "metadata": {},
   "outputs": [],
   "source": [
    "category_df = pd.DataFrame({\n",
    "    'x': tsne_lda[:, 0],\n",
    "    'y': tsne_lda[:, 1],\n",
    "    'group': categories_vector,\n",
    "    'primary_topic': primary_topics,\n",
    "    'primary_topics_text': primary_topics_text,\n",
    "    'text': flattened_documents\n",
    "})"
   ]
  },
  {
   "cell_type": "code",
   "execution_count": 49,
   "metadata": {},
   "outputs": [
    {
     "data": {
      "text/plain": [
       "<seaborn.axisgrid.FacetGrid at 0x11d124048>"
      ]
     },
     "execution_count": 49,
     "metadata": {},
     "output_type": "execute_result"
    },
    {
     "data": {
      "image/png": "[encoded data removed]",
      "text/plain": [
       "<Figure size 501.875x360 with 1 Axes>"
      ]
     },
     "metadata": {},
     "output_type": "display_data"
    }
   ],
   "source": [
    "sns.lmplot(x='x', y='y', fit_reg=False, data=category_df, hue='group')"
   ]
  },
  {
   "cell_type": "markdown",
   "metadata": {},
   "source": [
    "### pyLDAvis"
   ]
  },
  {
   "cell_type": "code",
   "execution_count": 43,
   "metadata": {},
   "outputs": [
    {
     "name": "stderr",
     "output_type": "stream",
     "text": [
      "/usr/local/lib/python3.6/site-packages/pyLDAvis/_prepare.py:223: RuntimeWarning: divide by zero encountered in log\n",
      "  kernel = (topic_given_term * np.log((topic_given_term.T / topic_proportion).T))\n",
      "/usr/local/lib/python3.6/site-packages/pyLDAvis/_prepare.py:240: RuntimeWarning: divide by zero encountered in log\n",
      "  log_lift = np.log(topic_term_dists / term_proportion)\n",
      "/usr/local/lib/python3.6/site-packages/pyLDAvis/_prepare.py:241: RuntimeWarning: divide by zero encountered in log\n",
      "  log_ttd = np.log(topic_term_dists)\n"
     ]
    },
    {
     "data": {
      "text/html": [
       "\n",
       "<link rel=\"stylesheet\" type=\"text/css\" href=\"https://cdn.rawgit.com/bmabey/pyLDAvis/files/ldavis.v1.0.0.css\">\n",
       "\n",
       "\n",
       "<div id=\"ldavis_el4109248196729041504722514\"></div>\n",
       "<script type=\"text/javascript\">\n",
       "\n",
       "var ldavis_el4109248196729041504722514_data = {\"mdsDat\": {\"Freq\": [50.94554057792783, 8.266540606151164, 7.806677157924683, 7.763975108600565, 7.492529660889898, 6.629231953803771, 6.166016163796186, 1.823585627719007, 1.5780812705515816, 1.527821872635311], \"cluster\": [1, 1, 1, 1, 1, 1, 1, 1, 1, 1], \"topics\": [1, 2, 3, 4, 5, 6, 7, 8, 9, 10], \"x\": [90.72579956054688, 82.0243148803711, 260.5341796875, 40.446353912353516, -323.7521667480469, -168.17884826660156, 32.46953582763672, -117.4006118774414, 284.1688537597656, -195.3822784423828], \"y\": [339.4455261230469, -64.18193817138672, 123.17813873291016, -276.6884765625, 45.28458786010742, 247.17909240722656, 137.52911376953125, -6.278965473175049, -130.46327209472656, -208.32460021972656]}, \"tinfo\": {\"Category\": [\"Default\", \"Default\", \"Default\", \"Default\", \"Default\", \"Default\", \"Default\", \"Default\", \"Default\", \"Default\", \"Default\", \"Default\", \"Default\", \"Default\", \"Default\", \"Default\", \"Default\", \"Default\", \"Default\", \"Default\", \"Default\", \"Default\", \"Default\", \"Default\", \"Default\", \"Default\", \"Default\", \"Default\", \"Default\", \"Default\", \"Topic1\", \"Topic1\", \"Topic1\", \"Topic1\", \"Topic1\", \"Topic1\", \"Topic1\", \"Topic1\", \"Topic1\", \"Topic1\", \"Topic1\", \"Topic1\", \"Topic1\", \"Topic1\", \"Topic1\", \"Topic1\", \"Topic1\", \"Topic1\", \"Topic1\", \"Topic1\", \"Topic1\", \"Topic1\", \"Topic1\", \"Topic1\", \"Topic1\", \"Topic1\", \"Topic1\", \"Topic1\", \"Topic1\", \"Topic1\", \"Topic1\", \"Topic1\", \"Topic1\", \"Topic1\", \"Topic1\", \"Topic1\", \"Topic1\", \"Topic1\", \"Topic1\", \"Topic1\", \"Topic1\", \"Topic1\", \"Topic1\", \"Topic1\", \"Topic1\", \"Topic1\", \"Topic1\", \"Topic1\", \"Topic1\", \"Topic1\", \"Topic1\", \"Topic1\", \"Topic1\", \"Topic1\", \"Topic1\", \"Topic1\", \"Topic1\", \"Topic1\", \"Topic1\", \"Topic1\", \"Topic1\", \"Topic1\", \"Topic1\", \"Topic1\", \"Topic1\", \"Topic1\", \"Topic1\", \"Topic1\", \"Topic1\", \"Topic1\", \"Topic1\", \"Topic1\", \"Topic1\", \"Topic1\", \"Topic1\", \"Topic1\", \"Topic1\", \"Topic1\", \"Topic1\", \"Topic1\", \"Topic1\", \"Topic1\", \"Topic1\", \"Topic2\", \"Topic2\", \"Topic2\", \"Topic2\", \"Topic2\", \"Topic2\", \"Topic2\", \"Topic2\", \"Topic2\", \"Topic2\", \"Topic2\", \"Topic2\", \"Topic2\", \"Topic2\", \"Topic2\", \"Topic2\", \"Topic2\", \"Topic2\", \"Topic2\", \"Topic2\", \"Topic2\", \"Topic2\", \"Topic2\", \"Topic2\", \"Topic2\", \"Topic2\", \"Topic2\", \"Topic2\", \"Topic2\", \"Topic2\", \"Topic2\", \"Topic2\", \"Topic2\", \"Topic2\", \"Topic2\", \"Topic2\", \"Topic2\", \"Topic2\", \"Topic2\", \"Topic2\", \"Topic2\", \"Topic2\", \"Topic2\", \"Topic2\", \"Topic2\", \"Topic2\", \"Topic2\", \"Topic2\", \"Topic2\", \"Topic2\", \"Topic2\", \"Topic2\", \"Topic2\", \"Topic2\", \"Topic2\", \"Topic2\", \"Topic3\", \"Topic3\", \"Topic3\", \"Topic3\", \"Topic3\", \"Topic3\", \"Topic3\", \"Topic3\", \"Topic3\", \"Topic3\", \"Topic3\", \"Topic3\", \"Topic3\", \"Topic3\", \"Topic3\", \"Topic3\", \"Topic3\", \"Topic3\", \"Topic3\", \"Topic3\", \"Topic3\", \"Topic3\", \"Topic3\", \"Topic3\", \"Topic3\", \"Topic3\", \"Topic3\", \"Topic3\", \"Topic3\", \"Topic3\", \"Topic3\", \"Topic3\", \"Topic3\", \"Topic3\", \"Topic3\", \"Topic3\", \"Topic3\", \"Topic3\", \"Topic3\", \"Topic3\", \"Topic3\", \"Topic3\", \"Topic3\", \"Topic3\", \"Topic3\", \"Topic3\", \"Topic3\", \"Topic3\", \"Topic3\", \"Topic4\", \"Topic4\", \"Topic4\", \"Topic4\", \"Topic4\", \"Topic4\", \"Topic4\", \"Topic4\", \"Topic4\", \"Topic4\", \"Topic4\", \"Topic4\", \"Topic4\", \"Topic4\", \"Topic4\", \"Topic4\", \"Topic4\", \"Topic4\", \"Topic4\", \"Topic4\", \"Topic4\", \"Topic4\", \"Topic4\", \"Topic4\", \"Topic4\", \"Topic4\", \"Topic4\", \"Topic4\", \"Topic4\", \"Topic4\", \"Topic4\", \"Topic4\", \"Topic4\", \"Topic4\", \"Topic4\", \"Topic4\", \"Topic4\", \"Topic4\", \"Topic4\", \"Topic4\", \"Topic4\", \"Topic4\", \"Topic4\", \"Topic4\", \"Topic5\", \"Topic5\", \"Topic5\", \"Topic5\", \"Topic5\", \"Topic5\", \"Topic5\", \"Topic5\", \"Topic5\", \"Topic5\", \"Topic5\", \"Topic5\", \"Topic5\", \"Topic5\", \"Topic5\", \"Topic5\", \"Topic5\", \"Topic5\", \"Topic5\", \"Topic5\", \"Topic5\", \"Topic5\", \"Topic5\", \"Topic5\", \"Topic5\", \"Topic5\", \"Topic5\", \"Topic5\", \"Topic5\", \"Topic5\", \"Topic5\", \"Topic5\", \"Topic5\", \"Topic5\", \"Topic5\", \"Topic5\", \"Topic5\", \"Topic5\", \"Topic5\", \"Topic5\", \"Topic5\", \"Topic5\", \"Topic5\", \"Topic5\", \"Topic5\", \"Topic5\", \"Topic5\", \"Topic6\", \"Topic6\", \"Topic6\", \"Topic6\", \"Topic6\", \"Topic6\", \"Topic6\", \"Topic6\", \"Topic6\", \"Topic6\", \"Topic6\", \"Topic6\", \"Topic6\", \"Topic6\", \"Topic6\", \"Topic6\", \"Topic6\", \"Topic6\", \"Topic6\", \"Topic6\", \"Topic6\", \"Topic6\", \"Topic6\", \"Topic6\", \"Topic6\", \"Topic6\", \"Topic6\", \"Topic6\", \"Topic6\", \"Topic6\", \"Topic6\", \"Topic6\", \"Topic6\", \"Topic6\", \"Topic6\", \"Topic6\", \"Topic6\", \"Topic6\", \"Topic6\", \"Topic7\", \"Topic7\", \"Topic7\", \"Topic7\", \"Topic7\", \"Topic7\", \"Topic7\", \"Topic7\", \"Topic7\", \"Topic7\", \"Topic7\", \"Topic7\", \"Topic7\", \"Topic7\", \"Topic7\", \"Topic7\", \"Topic7\", \"Topic7\", \"Topic7\", \"Topic7\", \"Topic7\", \"Topic7\", \"Topic7\", \"Topic7\", \"Topic7\", \"Topic7\", \"Topic7\", \"Topic7\", \"Topic7\", \"Topic7\", \"Topic7\", \"Topic7\", \"Topic7\", \"Topic7\", \"Topic7\", \"Topic7\", \"Topic7\", \"Topic7\", \"Topic7\", \"Topic7\", \"Topic7\", \"Topic7\", \"Topic7\", \"Topic7\", \"Topic7\", \"Topic7\", \"Topic7\", \"Topic7\", \"Topic8\", \"Topic8\", \"Topic8\", \"Topic8\", \"Topic8\", \"Topic8\", \"Topic8\", \"Topic8\", \"Topic8\", \"Topic8\", \"Topic8\", \"Topic8\", \"Topic8\", \"Topic8\", \"Topic8\", \"Topic8\", \"Topic8\", \"Topic8\", \"Topic8\", \"Topic8\", \"Topic8\", \"Topic8\", \"Topic8\", \"Topic8\", \"Topic8\", \"Topic8\", \"Topic8\", \"Topic8\", \"Topic8\", \"Topic8\", \"Topic8\", \"Topic8\", \"Topic8\", \"Topic8\", \"Topic8\", \"Topic9\", \"Topic9\", \"Topic9\", \"Topic9\", \"Topic9\", \"Topic9\", \"Topic9\", \"Topic9\", \"Topic9\", \"Topic9\", \"Topic9\", \"Topic9\", \"Topic9\", \"Topic9\", \"Topic9\", \"Topic9\", \"Topic9\", \"Topic9\", \"Topic9\", \"Topic9\", \"Topic9\", \"Topic9\", \"Topic9\", \"Topic9\", \"Topic9\", \"Topic9\", \"Topic9\", \"Topic9\", \"Topic9\", \"Topic9\", \"Topic9\", \"Topic9\", \"Topic9\", \"Topic9\", \"Topic9\", \"Topic9\", \"Topic9\", \"Topic10\", \"Topic10\", \"Topic10\", \"Topic10\", \"Topic10\", \"Topic10\", \"Topic10\", \"Topic10\", \"Topic10\", \"Topic10\", \"Topic10\", \"Topic10\", \"Topic10\", \"Topic10\", \"Topic10\", \"Topic10\", \"Topic10\", \"Topic10\", \"Topic10\", \"Topic10\", \"Topic10\", \"Topic10\", \"Topic10\", \"Topic10\", \"Topic10\", \"Topic10\", \"Topic10\", \"Topic10\", \"Topic10\", \"Topic10\", \"Topic10\", \"Topic10\", \"Topic10\", \"Topic10\", \"Topic10\", \"Topic10\", \"Topic10\", \"Topic10\", \"Topic10\", \"Topic10\", \"Topic10\", \"Topic10\"], \"Freq\": [16.0, 12.0, 14.0, 11.0, 7.0, 13.0, 9.0, 7.0, 7.0, 7.0, 6.0, 7.0, 8.0, 6.0, 12.0, 5.0, 6.0, 4.0, 5.0, 5.0, 4.0, 4.0, 3.0, 3.0, 4.0, 4.0, 5.0, 6.0, 4.0, 6.0, 0.6406472658286725, 0.020929496923251953, 0.03866667901906573, 0.17018476870461935, 0.3485042241045015, 0.087825269543646, 0.4339675587975111, 0.5369270775564896, 0.40089546236703727, 0.15742038614944404, 0.12265833442175296, 0.0694352356865194, 0.9982404047692834, 1.1222408712899665, 1.1047895440996915, 0.2986778331429499, 1.1038928023232322, 0.30696487850319026, 0.2587701035733289, 0.6989960810973544, 0.25582434410323296, 1.3214820445333695, 2.6717767173885147, 1.9765827004022836, 1.6536654064708212, 0.3447039965444216, 1.716128665903061, 0.9181018752760753, 1.4552691288887267, 2.4197708679176997, 5.139516972815017, 4.516013878619992, 4.461626482959803, 4.235016249053556, 3.739768108174182, 3.387897272063186, 3.3726138900894633, 3.225162222822008, 2.9019293270454822, 2.577204931673516, 2.297506351403282, 2.2272475924814974, 2.2038789381056083, 2.0323960200700073, 1.9813592622592988, 1.8455145985842207, 1.804826338472198, 1.7771013141484753, 1.755678960355252, 1.709391387688757, 1.7051717070649268, 1.6832617667709309, 1.6251265994343231, 1.577299388931202, 1.5701181022774628, 5.266009081005912, 14.815423088337834, 2.342804155142345, 12.876912373985343, 4.81026499065422, 6.832239502071714, 3.867662599800195, 2.346809985561842, 6.175354346920423, 4.304773543727419, 5.586374722162953, 5.713486337366025, 3.028103775715692, 2.923095339497483, 3.313099116072292, 5.429339818208578, 3.392371154625918, 2.5463082245644584, 3.2908816858641345, 3.4569293200034505, 3.4193868936262404, 4.464779256289641, 6.756815647542683, 4.6604237149104915, 3.280738840859793, 3.768653863965363, 3.501626733002131, 3.2364199412535473, 1.1040307171069876, 0.021680532612949957, 0.22587743777456012, 0.5672949810613427, 0.6863842179970178, 4.293659451533915, 0.3459570430661955, 1.9136593577914092, 0.6713217588033142, 1.5207223159452274, 0.4840565210600196, 0.14415387211572384, 0.2481361282275698, 0.011222986390044357, 0.45224080563626934, 0.3330089717577329, 5.040864145706886, 0.34752734221069687, 0.026366797955774113, 0.13768813450775053, 5.872401404279615, 0.29903583638545345, 0.2568907898015375, 0.11128195172094826, 0.7666941230269934, 0.1325120219612286, 0.5764568395017553, 1.0227691997833945, 0.3112295547960206, 0.9987037904707062, 1.7593672501897868, 1.2404878804695478, 2.240919213098621, 0.8102259920480023, 0.5165859084135219, 3.4090959784244266, 6.064613422162092, 4.417438369785011, 0.7343341277753099, 1.1551067743564487, 1.8607547490877236, 2.178076775541795, 1.1321054996013098, 1.5738379656781054, 5.143038145941532, 1.730744584019505, 2.571773753302833, 2.844543009658474, 0.8853495922167302, 1.821103933655311, 1.0042471040299725, 0.7771497691873743, 0.8261870630940783, 0.9883182191226385, 1.1096324949077934, 0.8494510647993824, 0.8499709388978822, 0.5451866861186274, 0.07394358181156029, 0.18756881118670868, 0.05874296699064338, 2.0927561580262455, 1.1822706043978297, 0.01742534986916558, 0.8551885576946132, 0.24526131781496954, 0.9142691302076479, 0.3880998839635925, 1.1199883767697716, 0.5379764689936373, 0.8059530349358036, 0.23783028019711458, 0.660453135316262, 4.702761105295242, 2.855258377227789, 0.0479170314061412, 0.19539773035935976, 0.7735622847406965, 0.8573556585418014, 0.2829590521481404, 0.4009333746318203, 0.6165812515677445, 0.6511408570743682, 1.7935285885620111, 0.8782295940984662, 12.097893751840083, 2.480362286668213, 1.666146527409268, 0.46755602354601083, 0.3677552436518525, 6.294278118127731, 2.610456425738263, 2.312173347760371, 2.738727248751069, 2.6032066700591634, 1.6666131689463142, 1.5238955410928101, 1.0361728780611439, 1.0310108588656908, 1.0679366161354216, 1.2059291880037404, 1.270034962528981, 1.4898341810712061, 1.0042212547144491, 0.8645808947169674, 1.0801284487552014, 0.4772675555564188, 1.7822497209953618, 2.3949493106480504, 1.2742232743223523, 0.735282630089314, 0.2282339878061255, 1.5438506890170567, 0.5107175692879112, 0.5217598010901938, 0.9233954968900278, 0.3631499947646721, 0.48806771488439193, 4.628280264719534, 0.9572058914146461, 1.4736861151424263, 0.46931277034797386, 2.8596769238015485, 1.0918120605896808, 0.11322918654447693, 0.3489642574759444, 0.3117915149103401, 1.9913520838792462, 1.2423830910004998, 2.0318549765798424, 7.59554020019074, 1.3222417591798554, 0.49769293033387924, 1.4843452024777308, 2.063049836869001, 6.359718600878455, 3.4969145014145497, 7.669802606423835, 2.275785276413294, 1.1761340705725902, 1.3405249072723688, 3.0302722671409645, 0.7576724444904995, 1.8073326018597737, 0.5828398021007855, 0.835729500540572, 0.9859980831034387, 1.042312682170702, 0.8307266761008416, 1.9064240093627542, 2.1982237111517824, 0.8180837378827669, 0.3466100900303208, 1.7062801211024936, 0.9477846506269436, 0.7770665185805, 0.10973973086877102, 0.6232233944690747, 1.0417113983109074, 0.08463446527827785, 0.10411554043525, 0.30106168537659617, 0.05088294541929303, 0.9764118143713514, 0.47741980242434123, 2.5542237104676855, 0.4271037283647964, 0.7786977370508372, 0.14075782865479314, 0.5393493971254097, 0.2714893301569684, 0.7651076235707944, 0.07022233896038867, 5.876618931980426, 1.3216940382516542, 6.878348859103363, 0.25062399250121803, 0.18337317952659446, 3.3850599281470832, 2.885305862807644, 0.6793967965596922, 8.359013490733428, 1.7240412536866039, 0.6689162235834494, 1.423442416292713, 1.1702329133839384, 1.6495002552361355, 1.3972034192310558, 4.578029239559982, 2.2613494882723795, 1.1472860273027252, 0.9177637162478525, 1.1816813476838086, 1.4337171595037, 1.0758572195804188, 0.9500764303333796, 0.8070706096260676, 0.044310968335863156, 0.3764511776513913, 3.4135973895198686, 0.950929523589243, 0.4310975666558561, 2.3193540148007794, 5.008144626353087, 0.3471486467517972, 0.7584222565262042, 0.07928207475158947, 2.6352271862217345, 1.4993974717875038, 1.1032456429283257, 2.571983637122117, 2.0518223526258064, 15.037950354734985, 1.6653791810270895, 1.7181871355596032, 1.402656042452756, 0.3226596867961685, 7.871492870832842, 1.2609237132139948, 1.266073492413287, 1.02690941317413, 1.1115491408927032, 1.2883103262071793, 0.4241096143073641, 0.5318565254150047, 0.10684834892407909, 1.2281616988310768, 0.6179077091036966, 0.9737161426808735, 2.057838515493843, 1.5239542657404395, 1.154842270499978, 0.7376462649145354, 0.6656910809870922, 0.6595001590721605, 0.42709763265155093, 2.7254633115668305, 0.2746017722099652, 1.3953517202825545, 1.3901022090488848, 0.14179768400164997, 3.0309785351974186, 1.5852905340766192, 0.5489706149811193, 1.074908269988208, 0.1550092504146292, 0.2998862347941566, 0.26974999804962213, 0.5651303788161135, 0.8904791588130786, 3.1721139917476666, 0.36956510821124616, 0.6443439902855619, 0.2543603342229687, 0.5307682352150751, 4.949569505901733, 1.0567903133094076, 0.04496168522740486, 1.6242434475952319, 0.04983853811053983, 3.9035959710276877, 0.13505007732474447, 0.5166648805574764, 1.9806121562011827, 0.6978260777500667, 1.60106128920093, 1.4828347821123233, 0.2683174427474838, 1.5670346204336971, 2.3764714935682445, 0.8041521193990503, 2.895496547369404, 1.5935361230067373, 0.6870458236414878, 0.6938651799679016, 0.7719651857182976, 1.118242806246702, 0.8444950609367771, 0.7833359016637834, 0.7557388865257484, 0.6783321765625266, 0.6725855654513987, 0.672922773097738, 1.7408338521774875, 0.5650931369516813, 0.13407217698647017, 0.5361978466016619, 0.4664152255086077, 0.7902651814152142, 0.9112453079942601, 0.5578242490433162, 0.522062009151782, 0.5553386853000231, 0.8780676496768302, 0.47266132434418157, 1.5187820976199988, 0.879445957521349, 0.38669236701203047, 0.37559024327987267, 0.14695772497219844, 0.13428188673489438, 0.6007072234277662, 0.35923041010220347, 0.1263791934017758, 0.3609428065518653, 2.0314012191222797, 0.3546132335639788, 0.29169821308323945, 0.5378955852441275, 0.5742601645285145, 0.5262963126839206, 0.5720134557660782, 0.07936741265644198, 0.6951765303526023, 0.6304147980053452, 0.30287962856850803, 0.21186453679512096, 0.20038947894441564, 0.5679183089270647, 0.4882490411261577, 0.5369720663313334, 0.17739681996231207, 0.5402371182109196, 0.4688827855305667, 0.5102165898043705, 0.9550364606868792, 0.43486236478926266, 0.5079285612858617, 0.48839508373464874, 0.3766659416199027, 0.20833811220453596, 0.41908586482861193, 0.48529115474861934, 0.4848072329050964, 0.15614897821148582, 0.39357111564398417, 0.15598823390706365, 0.40465013237567, 0.3824755856286569, 0.5706930755969857, 0.462489274417426, 0.3606949156605651, 0.3293835293943371, 0.15449477594792244, 0.12819112821428444, 0.5288443667810795, 0.5127783722856785, 0.2884338197907708, 0.41379784425471167, 0.32031964593497514, 0.4451175874004365, 0.39573888775515187, 0.5800726775230866, 0.34573107938804615, 0.2973799505528638, 0.0678622476752602, 0.2321955897475449, 0.19975967978206316, 0.7118846476436207, 1.0190209587713484, 0.1755229273418875, 0.15560765053282255, 0.8139091143189193, 0.38189201822049057, 0.38189201822049057, 3.2109771887625778, 0.5953138126953501, 0.41465701018173, 0.13376164591444276, 0.06529182815949454, 0.1641773340851869, 0.5296874632897075, 0.15657379897012003, 0.171947068457515, 0.1293322002238353, 0.4200819842415359, 0.4467600923424752, 0.29119335000942825, 0.31095793929067933, 0.12151215882867868, 0.14443744848888904, 0.2753320096305631, 0.4337970258193761, 0.07946897162359226, 0.25998562616782456, 0.33438844396409156, 0.39699165437955697, 0.3181155845491389, 0.26943691098345274, 0.2322854553485234, 0.3307724467393596, 0.38867663328562385, 0.424935461139709, 0.23346191072990605, 0.2645006145801354, 0.20264217657451178, 0.19877867834049828], \"Term\": [\"forrest\", \"chuck\", \"movie\", \"frank\", \"best\", \"spielberg\", \"gump\", \"airport\", \"terminal\", \"island\", \"watch\", \"abagnale\", \"michael\", \"dicaprio\", \"hank\", \"sullivan\", \"son\", \"prison\", \"jenny\", \"rooney\", \"noland\", \"viktor\", \"say\", \"funny\", \"newman\", \"duncan\", \"time\", \"tom\", \"perdition\", \"act\", \"stuff\", \"imagine\", \"moves\", \"recently\", \"short\", \"rev\", \"leave\", \"oft\", \"atmosphere\", \"serious\", \"obviously\", \"obsess\", \"least\", \"read\", \"sur\", \"talent\", \"certain\", \"share\", \"suggest\", \"easy\", \"oh\", \"talk\", \"know\", \"characters\", \"ca\", \"amount\", \"saw\", \"cry\", \"anyone\", \"every\", \"think\", \"see\", \"good\", \"well\", \"would\", \"movies\", \"love\", \"many\", \"thing\", \"first\", \"lot\", \"thought\", \"mean\", \"bad\", \"amazing\", \"everything\", \"view\", \"plot\", \"chang\", \"mom\", \"around\", \"try\", \"go\", \"experience\", \"loved\", \"like\", \"film\", \"bit\", \"movie\", \"time\", \"real\", \"character\", \"little\", \"act\", \"great\", \"watch\", \"story\", \"mad\", \"never\", \"feel\", \"ev\", \"us\", \"hour\", \"say\", \"seen\", \"people\", \"tom\", \"hank\", \"mak\", \"way\", \"life\", \"get\", \"work\", \"maguire\", \"send\", \"gangsters\", \"genre\", \"mike\", \"perdition\", \"haunt\", \"hoechlin\", \"ir\", \"jude\", \"mafia\", \"kill\", \"killer\", \"saved\", \"relationships\", \"kills\", \"rooney\", \"room\", \"storytelling\", \"forever\", \"sullivan\", \"evil\", \"1930\", \"al\", \"wife\", \"move\", \"belong\", \"tyler\", \"mot\", \"craig\", \"boss\", \"dark\", \"law\", \"mob\", \"daniel\", \"road\", \"son\", \"newman\", \"conrad\", \"sam\", \"mend\", \"young\", \"hall\", \"gangster\", \"michael\", \"cinematography\", \"father\", \"con\", \"hit\", \"paul\", \"family\", \"godfather\", \"revenge\", \"beauty\", \"best\", \"car\", \"isolation\", \"struggles\", \"die\", \"emotionally\", \"lose\", \"fedex\", \"fir\", \"fish\", \"rescued\", \"relate\", \"four\", \"frears\", \"girlfriend\", \"isolated\", \"pack\", \"open\", \"ocean\", \"noland\", \"kelly\", \"dat\", \"employ\", \"water\", \"coconut\", \"body\", \"build\", \"weight\", \"cave\", \"wash\", \"christmas\", \"chuck\", \"crash\", \"survive\", \"survivor\", \"moved\", \"island\", \"wilson\", \"plan\", \"away\", \"zemeckis\", \"nee\", \"volleyball\", \"hel\", \"hunt\", \"begin\", \"scenes\", \"scene\", \"hank\", \"find\", \"end\", \"york\", \"rules\", \"navorski\", \"stuck\", \"luna\", \"lit\", \"leaves\", \"jfk\", \"trap\", \"govern\", \"foreign\", \"falls\", \"faces\", \"viktor\", \"english\", \"eastern\", \"dixon\", \"catherine\", \"attend\", \"woman\", \"astound\", \"amelia\", \"passport\", \"flight\", \"war\", \"airport\", \"stanley\", \"fake\", \"tucci\", \"country\", \"terminal\", \"steven\", \"spielberg\", \"new\", \"worst\", \"reason\", \"hank\", \"built\", \"mak\", \"immigrant\", \"without\", \"funny\", \"tom\", \"am\", \"christopher\", \"hanratty\", \"amy\", \"naive\", \"check\", \"jennifer\", \"bank\", \"unlike\", \"airline\", \"garner\", \"grand\", \"sequence\", \"gam\", \"lean\", \"fraud\", \"fill\", \"fbi\", \"pos\", \"1960s\", \"ability\", \"teen\", \"whos\", \"adam\", \"ass\", \"dicaprio\", \"leonardo\", \"abagnale\", \"opening\", \"airplane\", \"walk\", \"catch\", \"profess\", \"frank\", \"ag\", \"williams\", \"pilot\", \"charm\", \"entertain\", \"carl\", \"spielberg\", \"con\", \"gives\", \"fun\", \"fin\", \"steven\", \"john\", \"enjoy\", \"leg\", \"forth\", \"pen\", \"school\", \"shrimp\", \"loves\", \"wright\", \"jenny\", \"historical\", \"college\", \"child\", \"vietnam\", \"bus\", \"president\", \"meet\", \"beat\", \"forrest\", \"field\", \"history\", \"robin\", \"1994\", \"gump\", \"sally\", \"remark\", \"gary\", \"innocence\", \"sin\", \"dan\", \"sit\", \"upon\", \"simple\", \"heart\", \"goes\", \"life\", \"get\", \"am\", \"friend\", \"times\", \"ev\", \"earn\", \"coffey\", \"mouse\", \"percy\", \"hutchison\", \"places\", \"guard\", \"row\", \"size\", \"convict\", \"common\", \"magnificent\", \"ar\", \"unusual\", \"block\", \"edgecomb\", \"chair\", \"legend\", \"god\", \"heal\", \"prison\", \"doug\", \"firm\", \"darabont\", \"just\", \"duncan\", \"strange\", \"quest\", \"clark\", \"jet\", \"men\", \"dea\", \"particular\", \"king\", \"paul\", \"adapt\", \"michael\", \"john\", \"david\", \"three\", \"pow\", \"cast\", \"yet\", \"another\", \"hum\", \"bring\", \"role\", \"man\", \"pretend\", \"front\", \"inspired\", \"calls\", \"honest\", \"tells\", \"lawyer\", \"entire\", \"cut\", \"pass\", \"doctor\", \"teach\", \"funny\", \"carl\", \"boy\", \"nice\", \"kid\", \"heavy\", \"pilot\", \"class\", \"divorce\", \"believe\", \"frank\", \"begin\", \"take\", \"fin\", \"say\", \"want\", \"father\", \"pleas\", \"watch\", \"movie\", \"abagnale\", \"look\", \"also\", \"vulnerable\", \"carry\", \"till\", \"connect\", \"weak\", \"known\", \"giant\", \"gave\", \"marvel\", \"depth\", \"emotion\", \"side\", \"affect\", \"opinion\", \"mors\", \"david\", \"length\", \"roles\", \"surprised\", \"together\", \"cam\", \"whole\", \"bring\", \"excel\", \"let\", \"forget\", \"doubt\", \"long\", \"hop\", \"part\", \"clark\", \"support\", \"perform\", \"duncan\", \"movie\", \"michael\", \"seen\", \"20\", \"fiction\", \"future\", \"nominated\", \"academy\", \"intelligent\", \"straight\", \"award\", \"mykelti\", \"williamson\", \"best\", \"star\", \"portray\", \"screenplay\", \"vote\", \"spent\", \"second\", \"bubba\", \"dan\", \"edit\", \"win\", \"sin\", \"picture\", \"adapt\", \"masterpiece\", \"delivers\", \"gary\", \"dram\", \"name\", \"sally\", \"oscar\", \"car\", \"perfect\", \"support\", \"robin\", \"walk\", \"tom\", \"hank\", \"field\", \"also\", \"great\", \"act\"], \"Total\": [16.0, 12.0, 14.0, 11.0, 7.0, 13.0, 9.0, 7.0, 7.0, 7.0, 6.0, 7.0, 8.0, 6.0, 12.0, 5.0, 6.0, 4.0, 5.0, 5.0, 4.0, 4.0, 3.0, 3.0, 4.0, 4.0, 5.0, 6.0, 4.0, 6.0, 0.6406472658286725, 0.020929496923251953, 0.03866667901906573, 0.17018476870461935, 0.3485042241045015, 0.087825269543646, 0.4339675587975111, 0.5369270775564896, 0.40089546236703727, 0.15742038614944404, 0.12265833442175296, 0.0694352356865194, 0.9982404047692834, 1.1222408712899665, 1.1047895440996915, 0.2986778331429499, 1.1038928023232322, 0.30696487850319026, 0.2587701035733289, 0.6989960810973544, 0.25582434410323296, 1.3214820445333695, 2.6717767173885147, 1.9765827004022836, 1.6536654064708212, 0.3447039965444216, 1.716128665903061, 0.9181018752760753, 1.4552691288887267, 2.4197708679176997, 5.139516972815017, 4.516013878619992, 4.461626482959803, 4.235016249053556, 3.739768108174182, 3.387897272063186, 3.3726138900894633, 3.225162222822008, 2.9019293270454822, 2.577204931673516, 2.297506351403282, 2.2272475924814974, 2.2038789381056083, 2.0323960200700073, 1.9813592622592988, 1.8455145985842207, 1.804826338472198, 1.7771013141484753, 1.755678960355252, 1.709391387688757, 1.7051717070649268, 1.6832617667709309, 1.6251265994343231, 1.577299388931202, 1.5701181022774628, 5.4051181796312795, 15.739704157658775, 2.3730783839164804, 14.237863030908851, 5.068119459318771, 7.3390758797834845, 4.039966415918991, 2.391405755502089, 6.7036408435090085, 4.687581512048855, 6.281931765527127, 6.633307881524436, 3.2387658982507657, 3.1209006984785015, 3.679293050222744, 7.06342262307069, 3.8945193823725734, 2.674720747164547, 3.865141850392649, 4.221756678047825, 4.170280592091819, 6.2674406864116365, 12.123203389177723, 7.325075316046265, 4.078780302878692, 6.327156306634437, 5.215037083532338, 4.512053156447759, 1.1040307171069876, 0.021680532612949957, 0.22587743777456012, 0.5672949810613427, 0.6863842179970178, 4.293659451533915, 0.3459570430661955, 1.9136593577914092, 0.6713217588033142, 1.5207223159452274, 0.4840565210600196, 0.14415387211572384, 0.2481361282275698, 0.011222986390044357, 0.45224080563626934, 0.3330089717577329, 5.040864145706886, 0.34752734221069687, 0.026366797955774113, 0.13768813450775053, 5.872401404279615, 0.29903583638545345, 0.2568907898015375, 0.11128195172094826, 0.7666941230269934, 0.1325120219612286, 0.5764568395017553, 1.0227691997833945, 0.3112295547960206, 0.9987037904707062, 1.7628877843162052, 1.2404878804695478, 2.255683152933494, 0.8102259920480023, 0.5165859084135219, 3.4775703735943195, 6.408060514958627, 4.725159714412584, 0.7903274382499859, 1.3109147802580305, 2.2072316083052996, 2.690910544410724, 1.303407462830421, 1.9662645149781528, 8.384265772698981, 2.308797332236354, 4.068171531064808, 5.105892497930853, 1.1532910571956392, 4.572436382793423, 1.8261190951017023, 0.9909469947774125, 1.253287062816077, 3.195653377267517, 7.352000065249825, 3.060350675654949, 0.8499709388978822, 0.5451866861186274, 0.07394358181156029, 0.18756881118670868, 0.05874296699064338, 2.0927561580262455, 1.1822706043978297, 0.01742534986916558, 0.8551885576946132, 0.24526131781496954, 0.9142691302076479, 0.3880998839635925, 1.1199883767697716, 0.5379764689936373, 0.8059530349358036, 0.23783028019711458, 0.660453135316262, 4.702761105295242, 2.855258377227789, 0.0479170314061412, 0.19539773035935976, 0.7735622847406965, 0.8573556585418014, 0.2829590521481404, 0.4009333746318203, 0.6165812515677445, 0.6511408570743682, 1.7935285885620111, 0.8782295940984662, 12.097893751840083, 2.480362286668213, 1.666146527409268, 0.46755602354601083, 0.3677552436518525, 7.490436507207394, 3.14601506666693, 2.8207910002819707, 3.943044464666225, 4.014948270050605, 2.369757797247298, 2.341784181480185, 1.512421230831366, 1.8390664924708156, 2.049296364928692, 2.796577869915264, 3.1810740381536475, 12.123203389177723, 3.5023668807432258, 3.8790012803414804, 1.0801284487552014, 0.4772675555564188, 1.7822497209953618, 2.3949493106480504, 1.2742232743223523, 0.735282630089314, 0.2282339878061255, 1.5438506890170567, 0.5107175692879112, 0.5217598010901938, 0.9233954968900278, 0.3631499947646721, 0.48806771488439193, 4.628280264719534, 0.9572058914146461, 1.4736861151424263, 0.46931277034797386, 2.8596769238015485, 1.0918120605896808, 0.11322918654447693, 0.3489642574759444, 0.3117915149103401, 1.9913520838792462, 1.2523295440953544, 2.054602684291943, 7.905854680445071, 1.3877408340827224, 0.5297016945794893, 1.631053665947946, 2.2699781028650787, 7.421505991985251, 5.317284949502014, 13.504799432099361, 3.641577448606766, 1.7270676179534519, 2.3484109291856887, 12.123203389177723, 1.077055812423112, 7.325075316046265, 0.7221993532753908, 2.0412228652369038, 3.5203228654388354, 6.2674406864116365, 3.438659412838509, 1.9064240093627542, 2.1982237111517824, 0.8180837378827669, 0.3466100900303208, 1.7062801211024936, 0.9477846506269436, 0.7770665185805, 0.10973973086877102, 0.6232233944690747, 1.0417113983109074, 0.08463446527827785, 0.10411554043525, 0.30106168537659617, 0.05088294541929303, 0.9764118143713514, 0.47741980242434123, 2.5542237104676855, 0.4271037283647964, 0.7786977370508372, 0.14075782865479314, 0.5393493971254097, 0.2714893301569684, 0.7676450895605506, 0.07257495768639777, 6.100484875580326, 1.375972964044013, 7.181228487671871, 0.26567801474325864, 0.20015300184330806, 3.7811993295668023, 3.4330402330741783, 0.7842825190483917, 11.2220353194738, 2.1483861882239457, 0.847680174895621, 2.0241496397204792, 1.6864491051590362, 2.582881808791603, 2.2766493767524048, 13.504799432099361, 5.105892497930853, 1.9464864896139522, 1.9108880186436452, 3.3169672492635436, 5.317284949502014, 3.575853652885411, 3.075654983031235, 0.8070706096260676, 0.044310968335863156, 0.3764511776513913, 3.4135973895198686, 0.950929523589243, 0.4310975666558561, 2.3193540148007794, 5.008144626353087, 0.3471486467517972, 0.7584222565262042, 0.07928207475158947, 2.6352271862217345, 1.4993974717875038, 1.1032456429283257, 2.690806603109721, 2.1976419098301996, 16.191151495486622, 1.8988410917569956, 1.9853882799782105, 1.6349414978012795, 0.37623517845258964, 9.264385705082464, 1.5209093393818194, 1.5595624592457302, 1.3022414228046932, 1.41503024170182, 1.7350704185496546, 0.5960566827648791, 0.7764453154389918, 0.15769282440661025, 1.8174041892035593, 1.1287851207164707, 2.1132882438244165, 6.327156306634437, 5.215037083532338, 3.438659412838509, 1.8584053973712351, 2.439158288296265, 7.06342262307069, 0.42709763265155093, 2.7254633115668305, 0.2746017722099652, 1.3953517202825545, 1.3901022090488848, 0.14179768400164997, 3.0309785351974186, 1.5852905340766192, 0.5489706149811193, 1.074908269988208, 0.1550092504146292, 0.2998862347941566, 0.26974999804962213, 0.5651303788161135, 0.8904791588130786, 3.1721139917476666, 0.36956510821124616, 0.6443439902855619, 0.2543603342229687, 0.5307682352150751, 4.949569505901733, 1.0567903133094076, 0.04496168522740486, 1.7688936966103124, 0.056372849149638776, 4.4397789209356855, 0.1599123026139498, 0.6328511683003286, 2.46641296892566, 0.8690870205436795, 2.0101607824773775, 2.098448542495928, 0.3416638987343342, 2.7614732410290572, 4.572436382793423, 1.2516366075263476, 8.384265772698981, 3.575853652885411, 1.1718530565465843, 1.3045178592113693, 1.6068095498860795, 4.3671855239236885, 2.353170435812214, 2.701837504561221, 2.533440771719171, 1.6331178143376863, 2.277420154057297, 4.624605171914018, 1.7408338521774875, 0.5650931369516813, 0.14357260807787345, 0.6521790453594325, 0.5989027901948225, 1.1157366519667804, 1.3477959303718245, 0.8764608500602236, 0.847225523607391, 0.9346546080803425, 1.6342050986484227, 0.9883367060741786, 3.5203228654388354, 2.2766493767524048, 1.1482264069272952, 1.1602936867460114, 0.4772843736956155, 0.44523822299349836, 2.0241496397204792, 1.3759583814459575, 0.5140410947933076, 1.5312318682298067, 11.2220353194738, 2.049296364928692, 1.762739013679979, 3.3169672492635436, 3.865141850392649, 3.659501886483361, 4.068171531064808, 0.5886646137080109, 6.281931765527127, 14.237863030908851, 7.181228487671871, 2.547224978278933, 3.679681312004554, 0.5679183089270647, 0.4882490411261577, 0.5369720663313334, 0.17739681996231207, 0.5402371182109196, 0.4729332773544441, 0.5809441697415236, 1.3838446280680468, 0.6696635988439922, 0.7893177047446052, 0.8859226878586068, 0.7285341939344474, 0.40403317849850856, 0.917485067055792, 1.075737615436991, 1.1718530565465843, 0.46124490863990764, 1.1814018834425237, 0.4826595498565226, 1.3368155302931035, 1.2926833325497165, 1.9485488912860796, 1.6331178143376863, 1.433685128562919, 1.408406250095271, 0.6816206669055964, 0.6076964587920904, 2.753628183753011, 2.731687657539368, 1.6042683372925706, 2.46641296892566, 2.135065592996485, 4.821001249130993, 4.4397789209356855, 14.237863030908851, 8.384265772698981, 4.221756678047825, 0.0678622476752602, 0.2321955897475449, 0.19975967978206316, 0.7118846476436207, 1.3391782968694703, 0.23610832759854594, 0.25369320756914027, 1.6916781669380916, 0.8639774956043895, 0.8639774956043895, 7.352000065249825, 1.6192223985688785, 1.194140639281288, 0.3924274456587997, 0.1935795727811982, 0.49480479161287394, 1.6731337657280534, 0.4994465491479441, 0.5960566827648791, 0.4746878003178431, 1.575994378860967, 1.7350704185496546, 1.1609995353647258, 1.2516366075263476, 0.49410108088330557, 0.6408332960273079, 1.3022414228046932, 2.226696052701501, 0.4634759895516499, 1.5209093393818194, 2.018430229687507, 3.060350675654949, 2.2061402865442767, 2.135065592996485, 1.6349414978012795, 3.7811993295668023, 6.2674406864116365, 12.123203389177723, 1.8988410917569956, 3.679681312004554, 4.687581512048855, 6.7036408435090085], \"loglift\": [30.0, 29.0, 28.0, 27.0, 26.0, 25.0, 24.0, 23.0, 22.0, 21.0, 20.0, 19.0, 18.0, 17.0, 16.0, 15.0, 14.0, 13.0, 12.0, 11.0, 10.0, 9.0, 8.0, 7.0, 6.0, 5.0, 4.0, 3.0, 2.0, 1.0, 0.6744, 0.6744, 0.6744, 0.6744, 0.6744, 0.6744, 0.6744, 0.6744, 0.6744, 0.6744, 0.6744, 0.6744, 0.6744, 0.6744, 0.6744, 0.6744, 0.6744, 0.6744, 0.6744, 0.6744, 0.6744, 0.6744, 0.6744, 0.6744, 0.6744, 0.6744, 0.6744, 0.6744, 0.6744, 0.6744, 0.6744, 0.6744, 0.6744, 0.6744, 0.6744, 0.6744, 0.6744, 0.6744, 0.6744, 0.6744, 0.6744, 0.6744, 0.6744, 0.6744, 0.6744, 0.6744, 0.6744, 0.6744, 0.6744, 0.6744, 0.6744, 0.6744, 0.6744, 0.6744, 0.6744, 0.6483, 0.6139, 0.6616, 0.5739, 0.6222, 0.6029, 0.6308, 0.6556, 0.5923, 0.5892, 0.5571, 0.5251, 0.6072, 0.6089, 0.5696, 0.4113, 0.5364, 0.6252, 0.5136, 0.4745, 0.4759, 0.3353, 0.0898, 0.2222, 0.4567, 0.1563, 0.2761, 0.3421, 2.493, 2.493, 2.493, 2.493, 2.493, 2.493, 2.493, 2.493, 2.493, 2.493, 2.493, 2.493, 2.493, 2.493, 2.493, 2.493, 2.493, 2.493, 2.493, 2.493, 2.493, 2.493, 2.493, 2.493, 2.493, 2.493, 2.493, 2.493, 2.493, 2.493, 2.491, 2.493, 2.4864, 2.493, 2.493, 2.4731, 2.4379, 2.4256, 2.4195, 2.3664, 2.3222, 2.2815, 2.3521, 2.2703, 2.0042, 2.2048, 2.0344, 1.908, 2.2286, 1.5724, 1.895, 2.2499, 2.0763, 1.3194, 0.602, 1.2113, 2.5502, 2.5502, 2.5502, 2.5502, 2.5502, 2.5502, 2.5502, 2.5502, 2.5502, 2.5502, 2.5502, 2.5502, 2.5502, 2.5502, 2.5502, 2.5502, 2.5502, 2.5502, 2.5502, 2.5502, 2.5502, 2.5502, 2.5502, 2.5502, 2.5502, 2.5502, 2.5502, 2.5502, 2.5502, 2.5502, 2.5502, 2.5502, 2.5502, 2.5502, 2.3762, 2.3636, 2.3514, 2.1857, 2.1169, 2.1982, 2.1205, 2.172, 1.9715, 1.8984, 1.709, 1.632, 0.4537, 1.301, 1.0491, 2.5557, 2.5557, 2.5557, 2.5557, 2.5557, 2.5557, 2.5557, 2.5557, 2.5557, 2.5557, 2.5557, 2.5557, 2.5557, 2.5557, 2.5557, 2.5557, 2.5557, 2.5557, 2.5557, 2.5557, 2.5557, 2.5557, 2.5557, 2.5477, 2.5445, 2.5156, 2.5073, 2.4933, 2.4614, 2.4601, 2.4013, 2.1366, 1.9899, 2.0856, 2.1715, 1.995, 1.1692, 2.2039, 1.1562, 2.3413, 1.6627, 1.283, 0.7617, 1.1351, 2.5913, 2.5913, 2.5913, 2.5913, 2.5913, 2.5913, 2.5913, 2.5913, 2.5913, 2.5913, 2.5913, 2.5913, 2.5913, 2.5913, 2.5913, 2.5913, 2.5913, 2.5913, 2.5913, 2.5913, 2.5913, 2.5913, 2.588, 2.5583, 2.5539, 2.551, 2.5482, 2.5329, 2.5037, 2.4806, 2.4174, 2.4477, 2.2967, 2.3712, 2.3544, 2.2392, 2.2258, 2.1428, 2.103, 1.5095, 1.7768, 2.0626, 1.8579, 1.5592, 1.2806, 1.3902, 1.4165, 2.7137, 2.7137, 2.7137, 2.7137, 2.7137, 2.7137, 2.7137, 2.7137, 2.7137, 2.7137, 2.7137, 2.7137, 2.7137, 2.7137, 2.6685, 2.645, 2.6398, 2.5825, 2.5691, 2.5604, 2.5601, 2.5508, 2.5262, 2.5052, 2.4761, 2.4723, 2.416, 2.3733, 2.3353, 2.3244, 2.3218, 2.1111, 1.9388, 1.5905, 1.4834, 1.6226, 1.7897, 1.4151, 0.3425, 2.7861, 2.7861, 2.7861, 2.7861, 2.7861, 2.7861, 2.7861, 2.7861, 2.7861, 2.7861, 2.7861, 2.7861, 2.7861, 2.7861, 2.7861, 2.7861, 2.7861, 2.7861, 2.7861, 2.7861, 2.7861, 2.7861, 2.7861, 2.7008, 2.6629, 2.6574, 2.6171, 2.5833, 2.5668, 2.5666, 2.5586, 2.4389, 2.5445, 2.2195, 2.1317, 2.3437, 1.7229, 1.9779, 2.2522, 2.1548, 2.0531, 1.4238, 1.7613, 1.548, 1.5765, 1.9075, 1.5664, 0.8586, 4.0044, 4.0044, 3.9359, 3.8085, 3.7543, 3.6595, 3.613, 3.5525, 3.5202, 3.4838, 3.3832, 3.2667, 3.1637, 3.0532, 2.916, 2.8764, 2.8264, 2.8057, 2.7896, 2.6614, 2.6013, 2.5593, 2.2952, 2.2501, 2.2055, 2.1852, 2.0977, 2.0651, 2.0426, 2.0006, 1.8031, 0.8871, 0.8385, 1.5176, 1.094, 4.149, 4.149, 4.149, 4.149, 4.149, 4.1404, 4.0191, 3.7781, 3.7172, 3.7081, 3.5535, 3.4893, 3.4866, 3.3654, 3.3529, 3.2664, 3.0658, 3.0498, 3.0194, 2.9539, 2.9311, 2.921, 2.8873, 2.769, 2.696, 2.6646, 2.5928, 2.499, 2.4761, 2.433, 2.3638, 2.252, 1.7666, 1.7314, 0.9485, 0.9605, 1.496, 4.1813, 4.1813, 4.1813, 4.1813, 3.9081, 3.8848, 3.6925, 3.4497, 3.3649, 3.3649, 3.3529, 3.1807, 3.1236, 3.105, 3.0945, 3.0781, 3.0312, 3.0214, 2.9382, 2.8811, 2.8591, 2.8245, 2.7983, 2.7888, 2.7786, 2.6914, 2.6275, 2.5456, 2.4179, 2.4149, 2.3836, 2.139, 2.2447, 2.1114, 2.2299, 1.745, 1.401, 0.8304, 2.0853, 1.5486, 1.0401, 0.6631], \"logprob\": [30.0, 29.0, 28.0, 27.0, 26.0, 25.0, 24.0, 23.0, 22.0, 21.0, 20.0, 19.0, 18.0, 17.0, 16.0, 15.0, 14.0, 13.0, 12.0, 11.0, 10.0, 9.0, 8.0, 7.0, 6.0, 5.0, 4.0, 3.0, 2.0, 1.0, -6.8222, -10.2435, -9.6297, -8.1477, -7.431, -8.8093, -7.2117, -6.9988, -7.2909, -8.2257, -8.4752, -9.0442, -6.3786, -6.2615, -6.2772, -7.5853, -6.278, -7.5579, -7.7287, -6.735, -7.7401, -6.0981, -5.3941, -5.6955, -5.8739, -7.4419, -5.8368, -6.4623, -6.0017, -5.4932, -4.7399, -4.8692, -4.8814, -4.9335, -5.0579, -5.1567, -5.1612, -5.2059, -5.3115, -5.4302, -5.5451, -5.5761, -5.5867, -5.6677, -5.6931, -5.7641, -5.7864, -5.8019, -5.814, -5.8407, -5.8432, -5.8561, -5.8913, -5.9212, -5.9257, -4.7156, -3.6812, -5.5255, -3.8214, -4.8061, -4.4552, -5.0242, -5.5238, -4.5563, -4.9172, -4.6565, -4.634, -5.2689, -5.3042, -5.179, -4.6851, -5.1553, -5.4422, -5.1857, -5.1365, -5.1474, -4.8807, -4.4663, -4.8378, -5.1888, -5.0502, -5.1236, -5.2024, -4.4594, -8.3897, -6.0461, -5.1252, -4.9347, -3.1012, -5.6198, -3.9093, -4.9568, -4.1392, -5.2839, -6.4952, -5.9521, -9.0481, -5.3519, -5.6579, -2.9408, -5.6152, -8.194, -6.5411, -2.7881, -5.7655, -5.9174, -6.754, -4.824, -6.5794, -5.1092, -4.5358, -5.7256, -4.5596, -3.9934, -4.3428, -3.7514, -4.7688, -5.2188, -3.3319, -2.7559, -3.0728, -4.8671, -4.4141, -3.9374, -3.7799, -4.4343, -4.1048, -2.9207, -4.0098, -3.6137, -3.5129, -4.6801, -3.9589, -4.5541, -4.8105, -4.7493, -4.5701, -4.4543, -4.7215, -4.6637, -5.1077, -7.1056, -6.1747, -7.3357, -3.7626, -4.3337, -8.5509, -4.6575, -5.9065, -4.5907, -5.4476, -4.3878, -5.121, -4.7168, -5.9373, -4.9159, -2.9529, -3.4519, -7.5394, -6.1338, -4.7578, -4.655, -5.7636, -5.4151, -4.9847, -4.9301, -3.9169, -4.6309, -2.0081, -3.5927, -3.9906, -5.2613, -5.5014, -2.6615, -3.5416, -3.6629, -3.4936, -3.5444, -3.9903, -4.0798, -4.4656, -4.4706, -4.4354, -4.3138, -4.2621, -4.1024, -4.4969, -4.6466, -4.4185, -5.2353, -3.9177, -3.6223, -4.2533, -4.8031, -5.973, -4.0613, -5.1676, -5.1462, -4.5753, -5.5086, -5.2129, -2.9634, -4.5394, -4.1078, -5.2521, -3.4449, -4.4078, -6.674, -5.5484, -5.661, -3.8068, -4.2786, -3.7867, -2.4681, -4.2163, -5.1934, -4.1006, -3.7714, -2.6456, -3.2437, -2.4583, -3.6733, -4.3334, -4.2026, -3.387, -4.7731, -3.9038, -5.0355, -4.6751, -4.5097, -4.4542, -4.6811, -3.8148, -3.6724, -4.6608, -5.5196, -3.9257, -4.5137, -4.7123, -6.6697, -4.9329, -4.4192, -6.9294, -6.7223, -5.6605, -7.4383, -4.4839, -5.1994, -3.5223, -5.3108, -4.7102, -6.4207, -5.0774, -5.7639, -4.7278, -7.1161, -2.689, -4.1811, -2.5316, -5.8438, -6.1563, -3.2407, -3.4004, -4.8466, -2.3367, -3.9154, -4.8621, -4.1069, -4.3028, -3.9596, -4.1256, -2.9388, -3.6441, -4.3226, -4.5458, -4.2931, -4.0998, -4.3869, -4.5112, -4.552, -7.4541, -5.3146, -3.1098, -4.3879, -5.179, -3.4963, -2.7265, -5.3956, -4.6141, -6.8724, -3.3686, -3.9325, -4.2394, -3.3929, -3.6189, -1.627, -3.8276, -3.7963, -3.9992, -5.4688, -2.2744, -4.1058, -4.1017, -4.3111, -4.2319, -4.0843, -5.1954, -4.969, -6.574, -4.1321, -4.819, -4.3642, -3.616, -3.9163, -4.1936, -4.6419, -4.7445, -4.7539, -5.1159, -3.2625, -5.5576, -3.932, -3.9358, -6.2185, -3.1563, -3.8044, -4.8649, -4.1929, -6.1294, -5.4695, -5.5754, -4.8359, -4.3812, -3.1108, -5.2606, -4.7047, -5.6342, -4.8986, -2.6659, -4.2099, -7.3671, -3.7801, -7.2641, -2.9033, -6.2673, -4.9255, -3.5818, -4.625, -3.7945, -3.8712, -5.5808, -3.816, -3.3996, -4.4831, -3.202, -3.7992, -4.6405, -4.6307, -4.524, -4.1534, -4.4342, -4.5094, -4.5452, -4.6533, -4.6618, -4.6613, -2.4926, -3.6177, -5.0563, -3.6702, -3.8096, -3.2823, -3.1399, -3.6306, -3.6969, -3.6351, -3.177, -3.7963, -2.629, -3.1754, -3.997, -4.0262, -4.9645, -5.0547, -3.5566, -4.0707, -5.1154, -4.066, -2.3382, -4.0837, -4.279, -3.667, -3.6016, -3.6888, -3.6055, -5.5806, -3.4105, -3.5083, -4.2413, -4.5987, -4.6544, -3.4681, -3.6193, -3.5241, -4.6317, -3.5181, -3.6597, -3.5752, -2.9483, -3.7351, -3.5797, -3.619, -3.8787, -4.4709, -3.772, -3.6253, -3.6263, -4.7593, -3.8348, -4.7603, -3.8071, -3.8634, -3.4632, -3.6735, -3.9221, -4.0129, -4.7699, -4.9566, -3.5394, -3.5702, -4.1456, -3.7847, -4.0408, -3.7117, -3.8293, -3.4469, -3.9644, -4.1151, -5.5602, -4.3301, -4.4806, -3.2098, -2.8511, -4.6099, -4.7304, -3.0759, -3.8326, -3.8326, -1.7034, -3.3886, -3.7503, -4.8817, -5.5989, -4.6768, -3.5054, -4.7242, -4.6305, -4.9153, -3.7373, -3.6757, -4.1037, -4.0381, -4.9777, -4.8049, -4.1597, -3.7051, -5.4024, -4.2171, -3.9654, -3.7938, -4.0153, -4.1814, -4.3298, -3.9763, -3.815, -3.7258, -4.3247, -4.1999, -4.4663, -4.4855]}, \"token.table\": {\"Topic\": [5, 5, 10, 1, 5, 7, 5, 5, 4, 1, 1, 2, 4, 6, 1, 5, 1, 7, 1, 1, 4, 1, 10, 1, 3, 1, 5, 6, 1, 2, 1, 3, 1, 2, 1, 2, 10, 1, 7, 2, 7, 4, 6, 1, 8, 1, 1, 2, 5, 8, 1, 7, 1, 5, 4, 3, 1, 1, 1, 1, 5, 5, 3, 5, 3, 1, 2, 7, 1, 3, 7, 6, 2, 5, 2, 7, 4, 2, 3, 1, 8, 2, 7, 2, 7, 7, 9, 5, 5, 8, 7, 1, 7, 4, 1, 7, 1, 3, 4, 1, 5, 4, 5, 8, 1, 6, 1, 1, 1, 1, 1, 2, 1, 2, 8, 5, 3, 1, 6, 1, 5, 1, 3, 5, 8, 1, 3, 3, 1, 4, 4, 1, 1, 6, 3, 1, 5, 8, 5, 1, 6, 8, 1, 5, 1, 4, 8, 2, 5, 6, 9, 2, 1, 6, 9, 3, 1, 5, 1, 2, 1, 6, 1, 4, 1, 7, 1, 6, 2, 1, 3, 4, 5, 7, 1, 6, 3, 6, 2, 2, 1, 9, 1, 1, 7, 1, 3, 7, 4, 6, 2, 1, 3, 3, 3, 5, 6, 7, 4, 5, 7, 2, 3, 1, 7, 1, 2, 8, 1, 6, 7, 5, 1, 1, 3, 6, 1, 4, 1, 1, 9, 1, 1, 1, 1, 4, 1, 2, 1, 4, 1, 7, 1, 1, 6, 7, 2, 2, 7, 2, 2, 1, 7, 1, 8, 9, 1, 4, 1, 3, 1, 1, 4, 2, 1, 3, 10, 3, 1, 1, 3, 1, 8, 4, 2, 7, 1, 7, 2, 1, 1, 2, 7, 1, 5, 8, 1, 3, 1, 1, 1, 1, 7, 6, 8, 7, 5, 7, 1, 1, 1, 4, 6, 3, 2, 2, 6, 1, 7, 2, 7, 6, 2, 1, 1, 8, 1, 3, 1, 3, 6, 1, 10, 1, 1, 6, 1, 6, 6, 6, 7, 2, 1, 4, 5, 4, 1, 10, 4, 5, 1, 3, 4, 1, 2, 1, 7, 1, 3, 1, 1, 1, 5, 8, 1, 4, 1, 1, 1, 1, 7, 9, 1, 1, 2, 6, 1, 1, 4, 4, 1, 4, 2, 7, 1, 6, 1, 4, 1, 3, 9, 5, 1, 8, 4, 3, 1, 8, 3, 1, 3, 9, 3, 1, 1, 9, 2, 5, 1, 3, 1, 1, 4, 1, 2, 1, 4, 1, 6, 1, 7, 4, 2, 1, 3], \"Freq\": [1.2841953333360143, 0.9747635814703587, 0.746726557873324, 0.895036017004054, 1.3026853341463622, 0.7989539407738595, 0.9309313246206375, 1.6045610753298214, 1.0119083038280219, 0.815287995243727, 0.29081100508716284, 0.29081100508716284, 0.29081100508716284, 0.29081100508716284, 1.0094080554171916, 1.2223687548025823, 0.7402369671098338, 0.3701184835549169, 0.6871581208924705, 1.1729024072552519, 0.9159085488210363, 0.591128986318942, 0.591128986318942, 0.2536111395549908, 0.7608334186649724, 0.9840601832762439, 1.2868911168978712, 0.9100663720753895, 0.6258501044659996, 0.3129250522329998, 0.4879723680351115, 0.4879723680351115, 0.6530689575812305, 1.7347352507159473, 0.40805222706401845, 0.13601740902133946, 0.40805222706401845, 0.8427871635235413, 1.1229909089988157, 1.1345021604853691, 0.6123256945828809, 0.9284569921685346, 0.6669345645940379, 1.2094345036027032, 1.533321266783226, 0.7735846628637026, 0.6535198779375104, 0.3267599389687552, 0.43924198878023113, 0.43924198878023113, 0.6869412768397016, 0.2289804256132339, 0.29128700280466324, 0.8738610084139898, 1.0490695557356569, 1.535766016116829, 0.9058850622953775, 1.1391604303302187, 0.9901072405548945, 1.011847366463822, 0.5929618610730014, 1.172140479904157, 1.1386544096439102, 1.049084563653038, 0.9919081987453235, 0.4331259335921776, 0.8662518671843552, 0.8108942116336567, 0.7267661678466808, 1.1663770922102612, 1.1007302821755256, 1.3185267064554416, 0.587556436257861, 0.391704290838574, 1.2652983454734787, 0.9303119418840924, 0.8810657677603485, 1.0012978918691025, 0.8063338209703762, 1.0892037440826463, 1.180323269466803, 1.9357864465778456, 1.1306501933002255, 0.8061344377032377, 0.8533493123676871, 0.4765425407146673, 1.2669169765089257, 0.9835283788699226, 0.6119182964409149, 0.6119182964409149, 0.9462615122468666, 0.898191739089641, 0.9009457613166464, 0.6785705515745826, 1.4306231852260163, 0.9457415489495569, 0.7733949496752681, 0.2577983165584227, 1.0447073184245752, 0.6502679952836858, 0.3251339976418429, 0.3871644442251302, 0.7743288884502604, 1.1409522740591183, 0.7078721275531357, 0.14157442551062713, 0.8265245385490041, 1.0837085772901998, 0.6975032244369924, 1.2679900937229331, 0.5476094098585103, 0.5476094098585103, 0.24581067744168075, 0.7374320323250423, 0.24581067744168075, 1.174525155218566, 0.9556775128002838, 0.8153740294805765, 1.0532740252368364, 0.953003935128041, 0.06353359567520274, 0.30148021516402584, 0.30148021516402584, 0.30148021516402584, 0.30148021516402584, 0.5710424030664619, 0.28552120153323096, 0.845830046251834, 1.1640517846021428, 0.7985118651196321, 1.0829595805567325, 1.467091666307264, 0.06176212978297163, 0.9264319467445745, 1.0937698397110718, 0.08911039499801626, 0.7128831599841301, 0.17822078999603252, 1.0241580297180606, 0.5380957251924295, 0.5380957251924295, 1.7696197929324804, 0.5233169030542163, 0.5233169030542163, 0.28406485377168444, 0.28406485377168444, 0.5681297075433689, 1.0171571448118322, 0.9599587770868777, 0.7679067663553945, 0.7226244765614163, 1.7627513610804677, 0.7670127625038193, 0.38350638125190967, 1.7213358048587089, 0.8928664089212804, 0.5137461807907696, 0.5137461807907696, 1.2306733522767785, 1.0091357108607215, 0.47319621586040744, 0.47319621586040744, 0.8965340364723755, 1.9165907337256427, 0.8533184947757153, 0.9897793617349385, 0.10794023822339323, 0.8635219057871458, 0.7672197900635347, 0.5774051441097522, 0.08248644915853603, 0.2474593474756081, 0.9098255058635861, 1.8840615049142593, 0.8859082048895831, 0.8859082048895831, 0.6611914588439808, 1.0073596284259065, 0.8670838066078618, 1.045118083245619, 0.7321481262618242, 0.3660740631309121, 1.1216124162420618, 0.7894402041389811, 0.39472010206949054, 0.5437541296598166, 0.5437541296598166, 0.71937156382494, 1.384659229428412, 0.7066986771938712, 1.4895986714069591, 0.1335035680547839, 0.8010214083287033, 1.85881736030322, 1.1765108125892556, 1.055091997257517, 0.9983737238117626, 1.150632763304214, 1.295462063934023, 0.27965350293155444, 0.5593070058631089, 1.3151644971796645, 1.0506930034516675, 0.3621255441270733, 0.7242510882541466, 1.122848320548396, 0.8866493493995463, 0.7419520844851668, 1.0017626968637112, 1.2390489606148842, 1.551966053965705, 0.7267584655595116, 0.7100224100342891, 0.632195540326029, 0.15804888508150725, 0.3160977701630145, 0.9250491541224886, 1.3600212477187594, 0.8363281703234375, 0.7263144718667622, 0.3631572359333811, 0.7851681799034992, 0.870509018953715, 0.8895177739781001, 1.2737895302901048, 0.7847918180052177, 0.9262787414244045, 0.9057718997351897, 0.6825868382604928, 0.27303473530419714, 0.6487040273663771, 0.21623467578879235, 0.9301857682603663, 0.907490863231872, 1.1149073279859463, 0.9949452886724538, 0.9061124317332466, 0.5963551413507314, 0.35781308481043883, 1.4569099547745499, 1.2342235497435812, 1.1700070647390886, 0.9295947131064812, 0.9130583692074025, 0.07023525916980018, 0.07023525916980018, 0.885505007704392, 1.1221771990981306, 0.4219840530376549, 0.8439681060753098, 0.9612609595244594, 0.274606269978575, 0.54921253995715, 0.8465322320850411, 0.8618507636669579, 1.0632051869209498, 1.4047219634670558, 1.514111973321383, 1.862450306195986, 0.9908690281108401, 1.240767087724476, 0.6233371168364772, 1.069913946130184, 1.004342735868138, 0.4374035705616853, 0.4374035705616853, 0.7193760548604226, 0.7166651858912698, 0.9316062545600805, 0.9065606626189773, 0.6222773745476136, 0.2074257915158712, 0.2074257915158712, 0.8613267874270526, 0.49403462094733913, 0.49403462094733913, 0.35451049010722113, 0.7090209802144423, 1.6987601712645486, 1.125428237589442, 0.8374222994385865, 0.6223512923923675, 0.6223512923923675, 0.9064164507785568, 1.1488747174225384, 1.0101888647160393, 1.2750507319904933, 1.580150357762215, 0.8910743010549456, 0.9537985592004142, 0.42581985442673354, 0.42581985442673354, 0.6412054830324923, 1.169332764104988, 0.7979017973368744, 0.8626712554199971, 0.6116426803924369, 0.43909333032750586, 0.43909333032750586, 0.9918934245149836, 1.2615983991634288, 0.6575013869047939, 0.7628260929388313, 1.1654137826242534, 0.7761681501275919, 0.2587227167091973, 0.6287184693006503, 0.31435923465032517, 0.3575798874609202, 0.3575798874609202, 0.878838262886637, 0.5976808432676968, 0.5976808432676968, 1.1071710881295842, 0.7106046673886531, 1.0516026426706604, 0.5502353334170699, 0.5502353334170699, 0.5763454839117712, 1.2879207075061216, 1.8215911247533585, 0.9363207457223488, 0.0740477491004505, 0.592381992803604, 0.37023874550225255, 0.7205956439705014, 0.6175803897499396, 0.6175803897499396, 0.5641977115183497, 0.1880659038394499, 0.9045260836922148, 1.8342340806583997, 0.8350907433021282, 1.5609213577248433, 1.0217285207423654, 0.4683696853531031, 0.4683696853531031, 0.9051497684248215, 1.2003746171771872, 0.5672989547739978, 0.7567261349760613, 1.0118009316603749, 1.8540856916309476, 0.896268844657237, 0.13474354141597886, 0.8084612484958732, 1.0337949901262296, 0.9728540690588281, 0.8979693172646744, 0.7665667380012245, 0.7665667380012245, 1.8622942657560135, 0.9865592238175208, 0.40997749297299313, 0.40997749297299313, 0.40997749297299313, 0.7480463664128326, 0.6382190434880943, 0.15955476087202358, 1.9580293691370179, 1.1881693266500557, 0.6131006115110343, 0.9777376950848572, 1.7695031757006072, 0.7703132801389154, 1.1384217708763318, 1.1081398566540304, 1.0803148716195976, 0.4270248334190746, 0.8540496668381492, 1.7608166249988353, 0.7933990616526685, 0.8197837009131544, 0.27326123363771815, 0.9734242125207968, 1.115120223203986, 0.9551202120541546, 0.1591867020090258, 1.2927207281508133, 0.7355139961528896, 0.2451713320509632, 1.8510390461722765, 1.6218462651229817, 0.9445064114910827, 0.5132024166660663, 0.5132024166660663, 1.3043011156155588, 1.1796902058292622, 0.3178624319366206, 0.9535872958098619, 0.6345200296480368, 0.4899024094970347, 0.4899024094970347, 0.6648857839170128, 0.22162859463900428, 0.5790161251387391, 0.5790161251387391, 1.0695850342316726, 0.8623090684893956, 0.8499171881316304, 0.4249585940658152, 0.9258158149176186, 0.7432428417786645, 0.2490692115411479, 0.7472076346234436], \"Term\": [\"1960s\", \"abagnale\", \"academy\", \"act\", \"adam\", \"adapt\", \"ag\", \"airline\", \"airport\", \"also\", \"am\", \"am\", \"am\", \"am\", \"amazing\", \"amy\", \"another\", \"another\", \"anyone\", \"around\", \"attend\", \"award\", \"award\", \"away\", \"away\", \"bad\", \"bank\", \"beat\", \"beauty\", \"beauty\", \"begin\", \"begin\", \"believe\", \"belong\", \"best\", \"best\", \"best\", \"bit\", \"block\", \"boss\", \"bring\", \"built\", \"bus\", \"ca\", \"calls\", \"cam\", \"car\", \"car\", \"carl\", \"carl\", \"cast\", \"cast\", \"catch\", \"catch\", \"catherine\", \"cave\", \"certain\", \"chang\", \"character\", \"characters\", \"charm\", \"check\", \"christmas\", \"christopher\", \"chuck\", \"cinematography\", \"cinematography\", \"clark\", \"class\", \"coconut\", \"coffey\", \"college\", \"con\", \"con\", \"conrad\", \"convict\", \"country\", \"craig\", \"crash\", \"cry\", \"cut\", \"daniel\", \"darabont\", \"dark\", \"david\", \"dea\", \"depth\", \"dicaprio\", \"doctor\", \"doctor\", \"doug\", \"dram\", \"duncan\", \"eastern\", \"easy\", \"edgecomb\", \"end\", \"end\", \"english\", \"enjoy\", \"enjoy\", \"entertain\", \"entertain\", \"entire\", \"ev\", \"ev\", \"every\", \"everything\", \"excel\", \"experience\", \"family\", \"family\", \"father\", \"father\", \"father\", \"fbi\", \"fedex\", \"feel\", \"field\", \"film\", \"film\", \"fin\", \"fin\", \"fin\", \"fin\", \"find\", \"find\", \"fir\", \"first\", \"flight\", \"foreign\", \"forget\", \"forrest\", \"forrest\", \"four\", \"frank\", \"frank\", \"frank\", \"fraud\", \"friend\", \"friend\", \"front\", \"fun\", \"fun\", \"funny\", \"funny\", \"funny\", \"gangster\", \"garner\", \"gary\", \"gave\", \"genre\", \"get\", \"get\", \"giant\", \"girlfriend\", \"gives\", \"gives\", \"go\", \"godfather\", \"goes\", \"goes\", \"good\", \"govern\", \"great\", \"guard\", \"gump\", \"gump\", \"hall\", \"hank\", \"hank\", \"hank\", \"hanratty\", \"heal\", \"heart\", \"heart\", \"hel\", \"history\", \"hit\", \"hoechlin\", \"hop\", \"hop\", \"hour\", \"hum\", \"hum\", \"hunt\", \"hunt\", \"hutchison\", \"immigrant\", \"innocence\", \"ir\", \"island\", \"island\", \"isolated\", \"isolation\", \"jennifer\", \"jenny\", \"jet\", \"jfk\", \"john\", \"john\", \"jude\", \"kelly\", \"king\", \"king\", \"know\", \"law\", \"lawyer\", \"least\", \"leg\", \"legend\", \"leonardo\", \"let\", \"life\", \"life\", \"life\", \"like\", \"lit\", \"little\", \"long\", \"long\", \"look\", \"lot\", \"love\", \"loved\", \"luna\", \"mad\", \"maguire\", \"mak\", \"mak\", \"man\", \"man\", \"many\", \"mean\", \"meet\", \"men\", \"mend\", \"michael\", \"michael\", \"mike\", \"mob\", \"mom\", \"mors\", \"movie\", \"movie\", \"movie\", \"movies\", \"navorski\", \"nee\", \"nee\", \"never\", \"new\", \"new\", \"newman\", \"nice\", \"noland\", \"nominated\", \"ocean\", \"oft\", \"oscar\", \"pack\", \"part\", \"pass\", \"passport\", \"paul\", \"paul\", \"people\", \"percy\", \"perdition\", \"perfect\", \"perform\", \"perform\", \"perform\", \"picture\", \"pilot\", \"pilot\", \"plan\", \"plan\", \"pleas\", \"plot\", \"portray\", \"pow\", \"pow\", \"president\", \"pretend\", \"prison\", \"profess\", \"quest\", \"read\", \"real\", \"reason\", \"reason\", \"remark\", \"rescued\", \"revenge\", \"road\", \"robin\", \"role\", \"role\", \"rooney\", \"row\", \"sally\", \"sam\", \"saw\", \"say\", \"say\", \"scene\", \"scene\", \"scenes\", \"scenes\", \"school\", \"second\", \"second\", \"see\", \"seen\", \"shrimp\", \"simple\", \"simple\", \"sin\", \"sit\", \"size\", \"son\", \"spielberg\", \"spielberg\", \"spielberg\", \"stanley\", \"star\", \"star\", \"steven\", \"steven\", \"story\", \"struggles\", \"stuck\", \"stuff\", \"sullivan\", \"support\", \"support\", \"sur\", \"survive\", \"take\", \"talk\", \"teach\", \"teen\", \"tells\", \"terminal\", \"terminal\", \"thing\", \"think\", \"thought\", \"three\", \"three\", \"till\", \"time\", \"times\", \"times\", \"times\", \"together\", \"tom\", \"tom\", \"trap\", \"try\", \"tucci\", \"tyler\", \"unusual\", \"us\", \"vietnam\", \"view\", \"viktor\", \"volleyball\", \"volleyball\", \"vulnerable\", \"walk\", \"want\", \"want\", \"war\", \"wash\", \"watch\", \"watch\", \"water\", \"way\", \"way\", \"weak\", \"weight\", \"well\", \"whole\", \"whole\", \"wife\", \"williams\", \"wilson\", \"wilson\", \"win\", \"without\", \"without\", \"work\", \"work\", \"worst\", \"worst\", \"would\", \"wright\", \"yet\", \"yet\", \"york\", \"young\", \"zemeckis\", \"zemeckis\"]}, \"R\": 30, \"lambda.step\": 0.01, \"plot.opts\": {\"xlab\": \"PC1\", \"ylab\": \"PC2\"}, \"topic.order\": [1, 3, 2, 6, 4, 5, 8, 7, 10, 9]};\n",
       "\n",
       "function LDAvis_load_lib(url, callback){\n",
       "  var s = document.createElement('script');\n",
       "  s.src = url;\n",
       "  s.async = true;\n",
       "  s.onreadystatechange = s.onload = callback;\n",
       "  s.onerror = function(){console.warn(\"failed to load library \" + url);};\n",
       "  document.getElementsByTagName(\"head\")[0].appendChild(s);\n",
       "}\n",
       "\n",
       "if(typeof(LDAvis) !== \"undefined\"){\n",
       "   // already loaded: just create the visualization\n",
       "   !function(LDAvis){\n",
       "       new LDAvis(\"#\" + \"ldavis_el4109248196729041504722514\", ldavis_el4109248196729041504722514_data);\n",
       "   }(LDAvis);\n",
       "}else if(typeof define === \"function\" && define.amd){\n",
       "   // require.js is available: use it to load d3/LDAvis\n",
       "   require.config({paths: {d3: \"https://cdnjs.cloudflare.com/ajax/libs/d3/3.5.5/d3.min\"}});\n",
       "   require([\"d3\"], function(d3){\n",
       "      window.d3 = d3;\n",
       "      LDAvis_load_lib(\"https://cdn.rawgit.com/bmabey/pyLDAvis/files/ldavis.v1.0.0.js\", function(){\n",
       "        new LDAvis(\"#\" + \"ldavis_el4109248196729041504722514\", ldavis_el4109248196729041504722514_data);\n",
       "      });\n",
       "    });\n",
       "}else{\n",
       "    // require.js not available: dynamically load d3 & LDAvis\n",
       "    LDAvis_load_lib(\"https://cdnjs.cloudflare.com/ajax/libs/d3/3.5.5/d3.min.js\", function(){\n",
       "         LDAvis_load_lib(\"https://cdn.rawgit.com/bmabey/pyLDAvis/files/ldavis.v1.0.0.js\", function(){\n",
       "                 new LDAvis(\"#\" + \"ldavis_el4109248196729041504722514\", ldavis_el4109248196729041504722514_data);\n",
       "            })\n",
       "         });\n",
       "}\n",
       "</script>"
      ],
      "text/plain": [
       "PreparedData(topic_coordinates=            Freq  cluster  topics           x           y\n",
       "topic                                                    \n",
       "0      50.945541        1       1   90.725800  339.445526\n",
       "2       8.266541        1       2   82.024315  -64.181938\n",
       "1       7.806677        1       3  260.534180  123.178139\n",
       "5       7.763975        1       4   40.446354 -276.688477\n",
       "3       7.492530        1       5 -323.752167   45.284588\n",
       "4       6.629232        1       6 -168.178848  247.179092\n",
       "7       6.166016        1       7   32.469536  137.529114\n",
       "6       1.823586        1       8 -117.400612   -6.278965\n",
       "9       1.578081        1       9  284.168854 -130.463272\n",
       "8       1.527822        1      10 -195.382278 -208.324600, topic_info=     Category       Freq         Term      Total  loglift  logprob\n",
       "term                                                              \n",
       "349   Default  16.000000      forrest  16.000000  30.0000  30.0000\n",
       "136   Default  12.000000        chuck  12.000000  29.0000  29.0000\n",
       "597   Default  14.000000        movie  14.000000  28.0000  28.0000\n",
       "355   Default  11.000000        frank  11.000000  27.0000  27.0000\n",
       "78    Default   7.000000         best   7.000000  26.0000  26.0000\n",
       "823   Default  13.000000    spielberg  13.000000  25.0000  25.0000\n",
       "406   Default   9.000000         gump   9.000000  24.0000  24.0000\n",
       "24    Default   7.000000      airport   7.000000  23.0000  23.0000\n",
       "880   Default   7.000000     terminal   7.000000  22.0000  22.0000\n",
       "478   Default   7.000000       island   7.000000  21.0000  21.0000\n",
       "954   Default   6.000000        watch   6.000000  20.0000  20.0000\n",
       "6     Default   7.000000     abagnale   7.000000  19.0000  19.0000\n",
       "576   Default   8.000000      michael   8.000000  18.0000  18.0000\n",
       "213   Default   6.000000     dicaprio   6.000000  17.0000  17.0000\n",
       "411   Default  12.000000         hank  12.000000  16.0000  16.0000\n",
       "853   Default   5.000000     sullivan   5.000000  15.0000  15.0000\n",
       "814   Default   6.000000          son   6.000000  14.0000  14.0000\n",
       "699   Default   4.000000       prison   4.000000  13.0000  13.0000\n",
       "484   Default   5.000000        jenny   5.000000  12.0000  12.0000\n",
       "750   Default   5.000000       rooney   5.000000  11.0000  11.0000\n",
       "621   Default   4.000000       noland   4.000000  10.0000  10.0000\n",
       "939   Default   4.000000       viktor   4.000000   9.0000   9.0000\n",
       "762   Default   3.000000          say   3.000000   8.0000   8.0000\n",
       "363   Default   3.000000        funny   3.000000   7.0000   7.0000\n",
       "617   Default   4.000000       newman   4.000000   6.0000   6.0000\n",
       "236   Default   4.000000       duncan   4.000000   5.0000   5.0000\n",
       "890   Default   5.000000         time   5.000000   4.0000   4.0000\n",
       "896   Default   6.000000          tom   6.000000   3.0000   3.0000\n",
       "662   Default   4.000000    perdition   4.000000   2.0000   2.0000\n",
       "14    Default   6.000000          act   6.000000   1.0000   1.0000\n",
       "...       ...        ...          ...        ...      ...      ...\n",
       "689   Topic10   0.414657      portray   1.194141   3.1236  -3.7503\n",
       "768   Topic10   0.133762   screenplay   0.392427   3.1050  -4.8817\n",
       "945   Topic10   0.065292         vote   0.193580   3.0945  -5.5989\n",
       "822   Topic10   0.164177        spent   0.494805   3.0781  -4.6768\n",
       "771   Topic10   0.529687       second   1.673134   3.0312  -3.5054\n",
       "99    Topic10   0.156574        bubba   0.499447   3.0214  -4.7242\n",
       "184   Topic10   0.171947          dan   0.596057   2.9382  -4.6305\n",
       "244   Topic10   0.129332         edit   0.474688   2.8811  -4.9153\n",
       "972   Topic10   0.420082          win   1.575994   2.8591  -3.7373\n",
       "796   Topic10   0.446760          sin   1.735070   2.8245  -3.6757\n",
       "671   Topic10   0.291193      picture   1.161000   2.7983  -4.1037\n",
       "17    Topic10   0.310958        adapt   1.251637   2.7888  -4.0381\n",
       "564   Topic10   0.121512  masterpiece   0.494101   2.7786  -4.9777\n",
       "203   Topic10   0.144437     delivers   0.640833   2.6914  -4.8049\n",
       "369   Topic10   0.275332         gary   1.302241   2.6275  -4.1597\n",
       "229   Topic10   0.433797         dram   2.226696   2.5456  -3.7051\n",
       "606   Topic10   0.079469         name   0.463476   2.4179  -5.4024\n",
       "758   Topic10   0.259986        sally   1.520909   2.4149  -4.2171\n",
       "642   Topic10   0.334388        oscar   2.018430   2.3836  -3.9654\n",
       "111   Topic10   0.396992          car   3.060351   2.1390  -3.7938\n",
       "663   Topic10   0.318116      perfect   2.206140   2.2447  -4.0153\n",
       "855   Topic10   0.269437      support   2.135066   2.1114  -4.1814\n",
       "745   Topic10   0.232285        robin   1.634941   2.2299  -4.3298\n",
       "948   Topic10   0.330772         walk   3.781199   1.7450  -3.9763\n",
       "896   Topic10   0.388677          tom   6.267441   1.4010  -3.8150\n",
       "411   Topic10   0.424935         hank  12.123203   0.8304  -3.7258\n",
       "319   Topic10   0.233462        field   1.898841   2.0853  -4.3247\n",
       "31    Topic10   0.264501         also   3.679681   1.5486  -4.1999\n",
       "399   Topic10   0.202642        great   4.687582   1.0401  -4.4663\n",
       "14    Topic10   0.198779          act   6.703641   0.6631  -4.4855\n",
       "\n",
       "[510 rows x 6 columns], token_table=      Topic      Freq      Term\n",
       "term                           \n",
       "2         5  1.284195     1960s\n",
       "6         5  0.974764  abagnale\n",
       "10       10  0.746727   academy\n",
       "14        1  0.895036       act\n",
       "16        5  1.302685      adam\n",
       "17        7  0.798954     adapt\n",
       "20        5  0.930931        ag\n",
       "22        5  1.604561   airline\n",
       "24        4  1.011908   airport\n",
       "31        1  0.815288      also\n",
       "34        1  0.290811        am\n",
       "34        2  0.290811        am\n",
       "34        4  0.290811        am\n",
       "34        6  0.290811        am\n",
       "35        1  1.009408   amazing\n",
       "39        5  1.222369       amy\n",
       "41        1  0.740237   another\n",
       "41        7  0.370118   another\n",
       "42        1  0.687158    anyone\n",
       "47        1  1.172902    around\n",
       "56        4  0.915909    attend\n",
       "62        1  0.591129     award\n",
       "62       10  0.591129     award\n",
       "63        1  0.253611      away\n",
       "63        3  0.760833      away\n",
       "65        1  0.984060       bad\n",
       "66        5  1.286891      bank\n",
       "68        6  0.910066      beat\n",
       "69        1  0.625850    beauty\n",
       "69        2  0.312925    beauty\n",
       "...     ...       ...       ...\n",
       "952       3  1.115120      wash\n",
       "954       1  0.955120     watch\n",
       "954       8  0.159187     watch\n",
       "955       3  1.292721     water\n",
       "956       1  0.735514       way\n",
       "956       3  0.245171       way\n",
       "957       9  1.851039      weak\n",
       "958       3  1.621846    weight\n",
       "960       1  0.944506      well\n",
       "964       1  0.513202     whole\n",
       "964       9  0.513202     whole\n",
       "966       2  1.304301      wife\n",
       "969       5  1.179690  williams\n",
       "971       1  0.317862    wilson\n",
       "971       3  0.953587    wilson\n",
       "972       1  0.634520       win\n",
       "977       1  0.489902   without\n",
       "977       4  0.489902   without\n",
       "984       1  0.664886      work\n",
       "984       2  0.221629      work\n",
       "987       1  0.579016     worst\n",
       "987       4  0.579016     worst\n",
       "990       1  1.069585     would\n",
       "991       6  0.862309    wright\n",
       "996       1  0.849917       yet\n",
       "996       7  0.424959       yet\n",
       "997       4  0.925816      york\n",
       "998       2  0.743243     young\n",
       "999       1  0.249069  zemeckis\n",
       "999       3  0.747208  zemeckis\n",
       "\n",
       "[405 rows x 3 columns], R=30, lambda_step=0.01, plot_opts={'xlab': 'PC1', 'ylab': 'PC2'}, topic_order=[1, 3, 2, 6, 4, 5, 8, 7, 10, 9])"
      ]
     },
     "execution_count": 43,
     "metadata": {},
     "output_type": "execute_result"
    }
   ],
   "source": [
    "# Help by https://www.machinelearningplus.com/nlp/topic-modeling-python-sklearn-examples/\n",
    "pyLDAvis.enable_notebook()\n",
    "panel = pyLDAvis.sklearn.prepare(nmf, tf, tf_vectorizer, mds='tsne')\n",
    "panel"
   ]
  },
  {
   "cell_type": "markdown",
   "metadata": {},
   "source": [
    "### Heatmap"
   ]
  },
  {
   "cell_type": "code",
   "execution_count": 44,
   "metadata": {},
   "outputs": [],
   "source": [
    "words = tf_vectorizer.get_feature_names()"
   ]
  },
  {
   "cell_type": "code",
   "execution_count": 45,
   "metadata": {},
   "outputs": [
    {
     "data": {
      "image/png": "[encoded data removed]",
      "text/plain": [
       "<Figure size 1008x576 with 2 Axes>"
      ]
     },
     "metadata": {},
     "output_type": "display_data"
    }
   ],
   "source": [
    "sns.heatmap(pd.DataFrame(tf.todense(), columns=words), cmap='Blues')\n",
    "plt.gcf().set_size_inches(14, 8)"
   ]
  },
  {
   "cell_type": "markdown",
   "metadata": {},
   "source": [
    "### Frequency of categories and topics"
   ]
  },
  {
   "cell_type": "code",
   "execution_count": 46,
   "metadata": {},
   "outputs": [
    {
     "data": {
      "text/html": [
       "<div>\n",
       "<style scoped>\n",
       "    .dataframe tbody tr th:only-of-type {\n",
       "        vertical-align: middle;\n",
       "    }\n",
       "\n",
       "    .dataframe tbody tr th {\n",
       "        vertical-align: top;\n",
       "    }\n",
       "\n",
       "    .dataframe thead th {\n",
       "        text-align: right;\n",
       "    }\n",
       "</style>\n",
       "<table border=\"1\" class=\"dataframe\">\n",
       "  <thead>\n",
       "    <tr style=\"text-align: right;\">\n",
       "      <th></th>\n",
       "      <th>group</th>\n",
       "      <th>primary_topic</th>\n",
       "      <th>primary_topics_text</th>\n",
       "      <th>text</th>\n",
       "      <th>x</th>\n",
       "      <th>y</th>\n",
       "    </tr>\n",
       "  </thead>\n",
       "  <tbody>\n",
       "  </tbody>\n",
       "</table>\n",
       "</div>"
      ],
      "text/plain": [
       "Empty DataFrame\n",
       "Columns: [group, primary_topic, primary_topics_text, text, x, y]\n",
       "Index: []"
      ]
     },
     "execution_count": 46,
     "metadata": {},
     "output_type": "execute_result"
    }
   ],
   "source": [
    "category_df[category_df['primary_topics_text'] == 'products art never us cent provide profit unfortunately expense pond']"
   ]
  },
  {
   "cell_type": "code",
   "execution_count": 47,
   "metadata": {},
   "outputs": [
    {
     "data": {
      "text/plain": [
       "<matplotlib.axes._subplots.AxesSubplot at 0x11d112080>"
      ]
     },
     "execution_count": 47,
     "metadata": {},
     "output_type": "execute_result"
    },
    {
     "data": {
      "image/png": "[encoded data removed]",
      "text/plain": [
       "<Figure size 432x288 with 2 Axes>"
      ]
     },
     "metadata": {},
     "output_type": "display_data"
    }
   ],
   "source": [
    "sns.heatmap(category_df.groupby(['primary_topics_text', 'group']).size().unstack())"
   ]
  },
  {
   "cell_type": "code",
   "execution_count": 50,
   "metadata": {},
   "outputs": [
    {
     "data": {
      "text/html": [
       "<div>\n",
       "<style scoped>\n",
       "    .dataframe tbody tr th:only-of-type {\n",
       "        vertical-align: middle;\n",
       "    }\n",
       "\n",
       "    .dataframe tbody tr th {\n",
       "        vertical-align: top;\n",
       "    }\n",
       "\n",
       "    .dataframe thead th {\n",
       "        text-align: right;\n",
       "    }\n",
       "</style>\n",
       "<table border=\"1\" class=\"dataframe\">\n",
       "  <thead>\n",
       "    <tr style=\"text-align: right;\">\n",
       "      <th></th>\n",
       "      <th>group</th>\n",
       "      <th>primary_topic</th>\n",
       "      <th>primary_topics_text</th>\n",
       "      <th>text</th>\n",
       "      <th>x</th>\n",
       "      <th>y</th>\n",
       "    </tr>\n",
       "  </thead>\n",
       "  <tbody>\n",
       "    <tr>\n",
       "      <th>0</th>\n",
       "      <td>green_mile</td>\n",
       "      <td>3</td>\n",
       "      <td>frank abagnale dicaprio spielberg walk catch f...</td>\n",
       "      <td>1999 tom hank david mors michael clark duncan ...</td>\n",
       "      <td>-9.326426</td>\n",
       "      <td>10.481794</td>\n",
       "    </tr>\n",
       "    <tr>\n",
       "      <th>1</th>\n",
       "      <td>green_mile</td>\n",
       "      <td>3</td>\n",
       "      <td>frank abagnale dicaprio spielberg walk catch f...</td>\n",
       "      <td>poss favorite movie ev seen many movies certai...</td>\n",
       "      <td>-3.172189</td>\n",
       "      <td>9.743814</td>\n",
       "    </tr>\n",
       "    <tr>\n",
       "      <th>2</th>\n",
       "      <td>green_mile</td>\n",
       "      <td>3</td>\n",
       "      <td>frank abagnale dicaprio spielberg walk catch f...</td>\n",
       "      <td>movie real gem hard find fault hank excel role...</td>\n",
       "      <td>-8.130284</td>\n",
       "      <td>10.623970</td>\n",
       "    </tr>\n",
       "    <tr>\n",
       "      <th>3</th>\n",
       "      <td>green_mile</td>\n",
       "      <td>3</td>\n",
       "      <td>frank abagnale dicaprio spielberg walk catch f...</td>\n",
       "      <td>reason oscar win tour de force 67 rank film im...</td>\n",
       "      <td>-1.877655</td>\n",
       "      <td>12.694761</td>\n",
       "    </tr>\n",
       "    <tr>\n",
       "      <th>4</th>\n",
       "      <td>green_mile</td>\n",
       "      <td>3</td>\n",
       "      <td>frank abagnale dicaprio spielberg walk catch f...</td>\n",
       "      <td>excel movie picture first saw trail october th...</td>\n",
       "      <td>-3.099057</td>\n",
       "      <td>10.475416</td>\n",
       "    </tr>\n",
       "    <tr>\n",
       "      <th>5</th>\n",
       "      <td>green_mile</td>\n",
       "      <td>3</td>\n",
       "      <td>frank abagnale dicaprio spielberg walk catch f...</td>\n",
       "      <td>doubt see movie length 3 hour dea film surpris...</td>\n",
       "      <td>-1.263281</td>\n",
       "      <td>17.020771</td>\n",
       "    </tr>\n",
       "    <tr>\n",
       "      <th>6</th>\n",
       "      <td>green_mile</td>\n",
       "      <td>3</td>\n",
       "      <td>frank abagnale dicaprio spielberg walk catch f...</td>\n",
       "      <td>every way wonderful film imo deserves rare har...</td>\n",
       "      <td>-8.578020</td>\n",
       "      <td>10.478954</td>\n",
       "    </tr>\n",
       "    <tr>\n",
       "      <th>7</th>\n",
       "      <td>green_mile</td>\n",
       "      <td>3</td>\n",
       "      <td>frank abagnale dicaprio spielberg walk catch f...</td>\n",
       "      <td>world teem wretch prison wherein man men house...</td>\n",
       "      <td>-9.904798</td>\n",
       "      <td>10.522441</td>\n",
       "    </tr>\n",
       "    <tr>\n",
       "      <th>8</th>\n",
       "      <td>green_mile</td>\n",
       "      <td>3</td>\n",
       "      <td>frank abagnale dicaprio spielberg walk catch f...</td>\n",
       "      <td>length movie perfect kept story amazing degree...</td>\n",
       "      <td>-2.361107</td>\n",
       "      <td>10.806163</td>\n",
       "    </tr>\n",
       "    <tr>\n",
       "      <th>9</th>\n",
       "      <td>green_mile</td>\n",
       "      <td>3</td>\n",
       "      <td>frank abagnale dicaprio spielberg walk catch f...</td>\n",
       "      <td>expect movie norm want see tom hank movie goes...</td>\n",
       "      <td>-2.640566</td>\n",
       "      <td>6.776878</td>\n",
       "    </tr>\n",
       "    <tr>\n",
       "      <th>10</th>\n",
       "      <td>green_mile</td>\n",
       "      <td>3</td>\n",
       "      <td>frank abagnale dicaprio spielberg walk catch f...</td>\n",
       "      <td>tom hank opinion gave perform car bring emotio...</td>\n",
       "      <td>-1.241156</td>\n",
       "      <td>17.020756</td>\n",
       "    </tr>\n",
       "    <tr>\n",
       "      <th>11</th>\n",
       "      <td>green_mile</td>\n",
       "      <td>3</td>\n",
       "      <td>frank abagnale dicaprio spielberg walk catch f...</td>\n",
       "      <td>went look experience something would take limi...</td>\n",
       "      <td>-9.665167</td>\n",
       "      <td>10.514556</td>\n",
       "    </tr>\n",
       "    <tr>\n",
       "      <th>12</th>\n",
       "      <td>green_mile</td>\n",
       "      <td>3</td>\n",
       "      <td>frank abagnale dicaprio spielberg walk catch f...</td>\n",
       "      <td>favorite stephen king book read several times ...</td>\n",
       "      <td>-5.620952</td>\n",
       "      <td>10.613112</td>\n",
       "    </tr>\n",
       "    <tr>\n",
       "      <th>13</th>\n",
       "      <td>green_mile</td>\n",
       "      <td>3</td>\n",
       "      <td>frank abagnale dicaprio spielberg walk catch f...</td>\n",
       "      <td>movie goes beyond others elite group movies li...</td>\n",
       "      <td>-2.587370</td>\n",
       "      <td>11.610188</td>\n",
       "    </tr>\n",
       "    <tr>\n",
       "      <th>14</th>\n",
       "      <td>green_mile</td>\n",
       "      <td>3</td>\n",
       "      <td>frank abagnale dicaprio spielberg walk catch f...</td>\n",
       "      <td>yet another movie mad work frank darabont pris...</td>\n",
       "      <td>-8.138305</td>\n",
       "      <td>10.423463</td>\n",
       "    </tr>\n",
       "    <tr>\n",
       "      <th>15</th>\n",
       "      <td>green_mile</td>\n",
       "      <td>3</td>\n",
       "      <td>frank abagnale dicaprio spielberg walk catch f...</td>\n",
       "      <td>resid rest home time head ward dea row paul ed...</td>\n",
       "      <td>-7.027691</td>\n",
       "      <td>10.302828</td>\n",
       "    </tr>\n",
       "    <tr>\n",
       "      <th>16</th>\n",
       "      <td>green_mile</td>\n",
       "      <td>3</td>\n",
       "      <td>frank abagnale dicaprio spielberg walk catch f...</td>\n",
       "      <td>greatest film ev seen remember see first cam 1...</td>\n",
       "      <td>-4.535823</td>\n",
       "      <td>10.559357</td>\n",
       "    </tr>\n",
       "    <tr>\n",
       "      <th>17</th>\n",
       "      <td>green_mile</td>\n",
       "      <td>3</td>\n",
       "      <td>frank abagnale dicaprio spielberg walk catch f...</td>\n",
       "      <td>frank darabont return direct chair another ada...</td>\n",
       "      <td>-9.222445</td>\n",
       "      <td>10.499079</td>\n",
       "    </tr>\n",
       "    <tr>\n",
       "      <th>18</th>\n",
       "      <td>green_mile</td>\n",
       "      <td>3</td>\n",
       "      <td>frank abagnale dicaprio spielberg walk catch f...</td>\n",
       "      <td>masterwork film art best depth cast extraordin...</td>\n",
       "      <td>-1.849185</td>\n",
       "      <td>14.561660</td>\n",
       "    </tr>\n",
       "    <tr>\n",
       "      <th>19</th>\n",
       "      <td>green_mile</td>\n",
       "      <td>3</td>\n",
       "      <td>frank abagnale dicaprio spielberg walk catch f...</td>\n",
       "      <td>frank darabont direct another masterpiece adap...</td>\n",
       "      <td>-8.404666</td>\n",
       "      <td>10.471489</td>\n",
       "    </tr>\n",
       "    <tr>\n",
       "      <th>20</th>\n",
       "      <td>green_mile</td>\n",
       "      <td>3</td>\n",
       "      <td>frank abagnale dicaprio spielberg walk catch f...</td>\n",
       "      <td>watch film like feel absolutely fury mainstrea...</td>\n",
       "      <td>-1.701251</td>\n",
       "      <td>13.035801</td>\n",
       "    </tr>\n",
       "    <tr>\n",
       "      <th>21</th>\n",
       "      <td>green_mile</td>\n",
       "      <td>3</td>\n",
       "      <td>frank abagnale dicaprio spielberg walk catch f...</td>\n",
       "      <td>glad numb review inform high unusual tale fait...</td>\n",
       "      <td>-9.242097</td>\n",
       "      <td>10.472039</td>\n",
       "    </tr>\n",
       "    <tr>\n",
       "      <th>22</th>\n",
       "      <td>green_mile</td>\n",
       "      <td>3</td>\n",
       "      <td>frank abagnale dicaprio spielberg walk catch f...</td>\n",
       "      <td>easy favourite movies time put watch movie run...</td>\n",
       "      <td>-2.949039</td>\n",
       "      <td>7.528491</td>\n",
       "    </tr>\n",
       "    <tr>\n",
       "      <th>23</th>\n",
       "      <td>green_mile</td>\n",
       "      <td>3</td>\n",
       "      <td>frank abagnale dicaprio spielberg walk catch f...</td>\n",
       "      <td>seen movie read novel name stephen king glad s...</td>\n",
       "      <td>-6.092135</td>\n",
       "      <td>10.433558</td>\n",
       "    </tr>\n",
       "    <tr>\n",
       "      <th>24</th>\n",
       "      <td>green_mile</td>\n",
       "      <td>3</td>\n",
       "      <td>frank abagnale dicaprio spielberg walk catch f...</td>\n",
       "      <td>without us old cliches would recommend movie a...</td>\n",
       "      <td>-3.027793</td>\n",
       "      <td>7.607533</td>\n",
       "    </tr>\n",
       "    <tr>\n",
       "      <th>25</th>\n",
       "      <td>forest_gump</td>\n",
       "      <td>3</td>\n",
       "      <td>frank abagnale dicaprio spielberg walk catch f...</td>\n",
       "      <td>ca take credit gem ev gump movie review joseph...</td>\n",
       "      <td>-2.379815</td>\n",
       "      <td>13.334170</td>\n",
       "    </tr>\n",
       "    <tr>\n",
       "      <th>26</th>\n",
       "      <td>forest_gump</td>\n",
       "      <td>3</td>\n",
       "      <td>frank abagnale dicaprio spielberg walk catch f...</td>\n",
       "      <td>awesome movie innocent man represents world lo...</td>\n",
       "      <td>-4.513727</td>\n",
       "      <td>14.834594</td>\n",
       "    </tr>\n",
       "    <tr>\n",
       "      <th>27</th>\n",
       "      <td>forest_gump</td>\n",
       "      <td>3</td>\n",
       "      <td>frank abagnale dicaprio spielberg walk catch f...</td>\n",
       "      <td>may good philadelphia excel forrest hank deliv...</td>\n",
       "      <td>-4.033699</td>\n",
       "      <td>17.849344</td>\n",
       "    </tr>\n",
       "    <tr>\n",
       "      <th>28</th>\n",
       "      <td>forest_gump</td>\n",
       "      <td>3</td>\n",
       "      <td>frank abagnale dicaprio spielberg walk catch f...</td>\n",
       "      <td>remember john byner comic impress 1970s talk g...</td>\n",
       "      <td>-4.173902</td>\n",
       "      <td>14.793276</td>\n",
       "    </tr>\n",
       "    <tr>\n",
       "      <th>29</th>\n",
       "      <td>forest_gump</td>\n",
       "      <td>3</td>\n",
       "      <td>frank abagnale dicaprio spielberg walk catch f...</td>\n",
       "      <td>forrest gump 1994 4 forrest gump tom hank slow...</td>\n",
       "      <td>-6.290832</td>\n",
       "      <td>15.578355</td>\n",
       "    </tr>\n",
       "    <tr>\n",
       "      <th>...</th>\n",
       "      <td>...</td>\n",
       "      <td>...</td>\n",
       "      <td>...</td>\n",
       "      <td>...</td>\n",
       "      <td>...</td>\n",
       "      <td>...</td>\n",
       "    </tr>\n",
       "    <tr>\n",
       "      <th>120</th>\n",
       "      <td>catch_me_if_you_can</td>\n",
       "      <td>3</td>\n",
       "      <td>frank abagnale dicaprio spielberg walk catch f...</td>\n",
       "      <td>catch best movies ev seen without doubt under ...</td>\n",
       "      <td>-4.132356</td>\n",
       "      <td>17.752323</td>\n",
       "    </tr>\n",
       "    <tr>\n",
       "      <th>121</th>\n",
       "      <td>catch_me_if_you_can</td>\n",
       "      <td>3</td>\n",
       "      <td>frank abagnale dicaprio spielberg walk catch f...</td>\n",
       "      <td>good movie worth see plot pretty bas kid broke...</td>\n",
       "      <td>-3.384978</td>\n",
       "      <td>13.429994</td>\n",
       "    </tr>\n",
       "    <tr>\n",
       "      <th>122</th>\n",
       "      <td>catch_me_if_you_can</td>\n",
       "      <td>3</td>\n",
       "      <td>frank abagnale dicaprio spielberg walk catch f...</td>\n",
       "      <td>kind od story another life tales hyped little ...</td>\n",
       "      <td>-0.809371</td>\n",
       "      <td>1.612794</td>\n",
       "    </tr>\n",
       "    <tr>\n",
       "      <th>123</th>\n",
       "      <td>catch_me_if_you_can</td>\n",
       "      <td>3</td>\n",
       "      <td>frank abagnale dicaprio spielberg walk catch f...</td>\n",
       "      <td>catch bas true story frank abagnale success co...</td>\n",
       "      <td>-0.482747</td>\n",
       "      <td>0.041210</td>\n",
       "    </tr>\n",
       "    <tr>\n",
       "      <th>124</th>\n",
       "      <td>catch_me_if_you_can</td>\n",
       "      <td>3</td>\n",
       "      <td>frank abagnale dicaprio spielberg walk catch f...</td>\n",
       "      <td>going movie far excited ut impress movie execu...</td>\n",
       "      <td>-0.477336</td>\n",
       "      <td>10.270247</td>\n",
       "    </tr>\n",
       "    <tr>\n",
       "      <th>125</th>\n",
       "      <td>road_to_perdition</td>\n",
       "      <td>3</td>\n",
       "      <td>frank abagnale dicaprio spielberg walk catch f...</td>\n",
       "      <td>road perdition film tries recreate film noir g...</td>\n",
       "      <td>-8.305078</td>\n",
       "      <td>3.655100</td>\n",
       "    </tr>\n",
       "    <tr>\n",
       "      <th>126</th>\n",
       "      <td>road_to_perdition</td>\n",
       "      <td>3</td>\n",
       "      <td>frank abagnale dicaprio spielberg walk catch f...</td>\n",
       "      <td>seen film four five times never ceases amaze p...</td>\n",
       "      <td>-8.303058</td>\n",
       "      <td>3.332195</td>\n",
       "    </tr>\n",
       "    <tr>\n",
       "      <th>127</th>\n",
       "      <td>road_to_perdition</td>\n",
       "      <td>3</td>\n",
       "      <td>frank abagnale dicaprio spielberg walk catch f...</td>\n",
       "      <td>lot solemn slow sam mend gangster flick peridi...</td>\n",
       "      <td>-2.331495</td>\n",
       "      <td>10.645909</td>\n",
       "    </tr>\n",
       "    <tr>\n",
       "      <th>128</th>\n",
       "      <td>road_to_perdition</td>\n",
       "      <td>3</td>\n",
       "      <td>frank abagnale dicaprio spielberg walk catch f...</td>\n",
       "      <td>best mad movies maybe best movie look best gre...</td>\n",
       "      <td>-8.589470</td>\n",
       "      <td>3.571767</td>\n",
       "    </tr>\n",
       "    <tr>\n",
       "      <th>129</th>\n",
       "      <td>road_to_perdition</td>\n",
       "      <td>3</td>\n",
       "      <td>frank abagnale dicaprio spielberg walk catch f...</td>\n",
       "      <td>loved much movie time taken develop characters...</td>\n",
       "      <td>-2.612271</td>\n",
       "      <td>9.233315</td>\n",
       "    </tr>\n",
       "    <tr>\n",
       "      <th>130</th>\n",
       "      <td>road_to_perdition</td>\n",
       "      <td>3</td>\n",
       "      <td>frank abagnale dicaprio spielberg walk catch f...</td>\n",
       "      <td>many either hat loved let film hype terrible t...</td>\n",
       "      <td>-6.179102</td>\n",
       "      <td>6.317330</td>\n",
       "    </tr>\n",
       "    <tr>\n",
       "      <th>131</th>\n",
       "      <td>road_to_perdition</td>\n",
       "      <td>3</td>\n",
       "      <td>frank abagnale dicaprio spielberg walk catch f...</td>\n",
       "      <td>michael sullivan work john rooney sullivan son...</td>\n",
       "      <td>-7.901518</td>\n",
       "      <td>4.392326</td>\n",
       "    </tr>\n",
       "    <tr>\n",
       "      <th>132</th>\n",
       "      <td>road_to_perdition</td>\n",
       "      <td>3</td>\n",
       "      <td>frank abagnale dicaprio spielberg walk catch f...</td>\n",
       "      <td>real would like say beauty don movies every se...</td>\n",
       "      <td>-2.947768</td>\n",
       "      <td>11.354304</td>\n",
       "    </tr>\n",
       "    <tr>\n",
       "      <th>133</th>\n",
       "      <td>road_to_perdition</td>\n",
       "      <td>3</td>\n",
       "      <td>frank abagnale dicaprio spielberg walk catch f...</td>\n",
       "      <td>excel depict unwholesome aspect er loved vis f...</td>\n",
       "      <td>-2.339976</td>\n",
       "      <td>11.769456</td>\n",
       "    </tr>\n",
       "    <tr>\n",
       "      <th>134</th>\n",
       "      <td>road_to_perdition</td>\n",
       "      <td>3</td>\n",
       "      <td>frank abagnale dicaprio spielberg walk catch f...</td>\n",
       "      <td>road perdition sum thomas newman score haunt b...</td>\n",
       "      <td>-7.600552</td>\n",
       "      <td>4.234064</td>\n",
       "    </tr>\n",
       "    <tr>\n",
       "      <th>135</th>\n",
       "      <td>road_to_perdition</td>\n",
       "      <td>3</td>\n",
       "      <td>frank abagnale dicaprio spielberg walk catch f...</td>\n",
       "      <td>frank movie gone head opposite perdition lost ...</td>\n",
       "      <td>-8.815860</td>\n",
       "      <td>2.949278</td>\n",
       "    </tr>\n",
       "    <tr>\n",
       "      <th>136</th>\n",
       "      <td>road_to_perdition</td>\n",
       "      <td>3</td>\n",
       "      <td>frank abagnale dicaprio spielberg walk catch f...</td>\n",
       "      <td>beauty film true tale bond father son far tom ...</td>\n",
       "      <td>-5.406327</td>\n",
       "      <td>6.008979</td>\n",
       "    </tr>\n",
       "    <tr>\n",
       "      <th>137</th>\n",
       "      <td>road_to_perdition</td>\n",
       "      <td>3</td>\n",
       "      <td>frank abagnale dicaprio spielberg walk catch f...</td>\n",
       "      <td>look mean take look begin see mean mus like se...</td>\n",
       "      <td>-1.872823</td>\n",
       "      <td>9.128676</td>\n",
       "    </tr>\n",
       "    <tr>\n",
       "      <th>138</th>\n",
       "      <td>road_to_perdition</td>\n",
       "      <td>3</td>\n",
       "      <td>frank abagnale dicaprio spielberg walk catch f...</td>\n",
       "      <td>driven house theater sweltering heat could ple...</td>\n",
       "      <td>-8.781053</td>\n",
       "      <td>3.135757</td>\n",
       "    </tr>\n",
       "    <tr>\n",
       "      <th>139</th>\n",
       "      <td>road_to_perdition</td>\n",
       "      <td>3</td>\n",
       "      <td>frank abagnale dicaprio spielberg walk catch f...</td>\n",
       "      <td>innocent lad get involved father underworld bu...</td>\n",
       "      <td>-3.075497</td>\n",
       "      <td>8.775867</td>\n",
       "    </tr>\n",
       "    <tr>\n",
       "      <th>140</th>\n",
       "      <td>road_to_perdition</td>\n",
       "      <td>3</td>\n",
       "      <td>frank abagnale dicaprio spielberg walk catch f...</td>\n",
       "      <td>seen film 5 times every time get immersed atmo...</td>\n",
       "      <td>-2.857933</td>\n",
       "      <td>10.267179</td>\n",
       "    </tr>\n",
       "    <tr>\n",
       "      <th>141</th>\n",
       "      <td>road_to_perdition</td>\n",
       "      <td>3</td>\n",
       "      <td>frank abagnale dicaprio spielberg walk catch f...</td>\n",
       "      <td>conrad hall went bang great film photograph fi...</td>\n",
       "      <td>-6.125623</td>\n",
       "      <td>5.940461</td>\n",
       "    </tr>\n",
       "    <tr>\n",
       "      <th>142</th>\n",
       "      <td>road_to_perdition</td>\n",
       "      <td>3</td>\n",
       "      <td>frank abagnale dicaprio spielberg walk catch f...</td>\n",
       "      <td>film real catch view takes trip back time atmo...</td>\n",
       "      <td>-2.390743</td>\n",
       "      <td>7.284354</td>\n",
       "    </tr>\n",
       "    <tr>\n",
       "      <th>143</th>\n",
       "      <td>road_to_perdition</td>\n",
       "      <td>3</td>\n",
       "      <td>frank abagnale dicaprio spielberg walk catch f...</td>\n",
       "      <td>f thought sam mend first film much herald am b...</td>\n",
       "      <td>-7.282080</td>\n",
       "      <td>4.667927</td>\n",
       "    </tr>\n",
       "    <tr>\n",
       "      <th>144</th>\n",
       "      <td>road_to_perdition</td>\n",
       "      <td>3</td>\n",
       "      <td>frank abagnale dicaprio spielberg walk catch f...</td>\n",
       "      <td>road perdition simply amazing movie sad overlo...</td>\n",
       "      <td>-7.543540</td>\n",
       "      <td>3.866424</td>\n",
       "    </tr>\n",
       "    <tr>\n",
       "      <th>145</th>\n",
       "      <td>road_to_perdition</td>\n",
       "      <td>3</td>\n",
       "      <td>frank abagnale dicaprio spielberg walk catch f...</td>\n",
       "      <td>road perdition movie undeservedly overlook yea...</td>\n",
       "      <td>-8.164219</td>\n",
       "      <td>3.965762</td>\n",
       "    </tr>\n",
       "    <tr>\n",
       "      <th>146</th>\n",
       "      <td>road_to_perdition</td>\n",
       "      <td>3</td>\n",
       "      <td>frank abagnale dicaprio spielberg walk catch f...</td>\n",
       "      <td>act film well act film say perform slight weak...</td>\n",
       "      <td>-5.669990</td>\n",
       "      <td>6.025879</td>\n",
       "    </tr>\n",
       "    <tr>\n",
       "      <th>147</th>\n",
       "      <td>road_to_perdition</td>\n",
       "      <td>3</td>\n",
       "      <td>frank abagnale dicaprio spielberg walk catch f...</td>\n",
       "      <td>road perdition rocky road revenge reconciliati...</td>\n",
       "      <td>-7.711635</td>\n",
       "      <td>3.505718</td>\n",
       "    </tr>\n",
       "    <tr>\n",
       "      <th>148</th>\n",
       "      <td>road_to_perdition</td>\n",
       "      <td>3</td>\n",
       "      <td>frank abagnale dicaprio spielberg walk catch f...</td>\n",
       "      <td>let start say movie beauty technical standpoin...</td>\n",
       "      <td>-2.805462</td>\n",
       "      <td>11.624192</td>\n",
       "    </tr>\n",
       "    <tr>\n",
       "      <th>149</th>\n",
       "      <td>road_to_perdition</td>\n",
       "      <td>3</td>\n",
       "      <td>frank abagnale dicaprio spielberg walk catch f...</td>\n",
       "      <td>could bet strong restraint mike sullivan expre...</td>\n",
       "      <td>-7.571640</td>\n",
       "      <td>4.339386</td>\n",
       "    </tr>\n",
       "  </tbody>\n",
       "</table>\n",
       "<p>150 rows × 6 columns</p>\n",
       "</div>"
      ],
      "text/plain": [
       "                   group  primary_topic  \\\n",
       "0             green_mile              3   \n",
       "1             green_mile              3   \n",
       "2             green_mile              3   \n",
       "3             green_mile              3   \n",
       "4             green_mile              3   \n",
       "5             green_mile              3   \n",
       "6             green_mile              3   \n",
       "7             green_mile              3   \n",
       "8             green_mile              3   \n",
       "9             green_mile              3   \n",
       "10            green_mile              3   \n",
       "11            green_mile              3   \n",
       "12            green_mile              3   \n",
       "13            green_mile              3   \n",
       "14            green_mile              3   \n",
       "15            green_mile              3   \n",
       "16            green_mile              3   \n",
       "17            green_mile              3   \n",
       "18            green_mile              3   \n",
       "19            green_mile              3   \n",
       "20            green_mile              3   \n",
       "21            green_mile              3   \n",
       "22            green_mile              3   \n",
       "23            green_mile              3   \n",
       "24            green_mile              3   \n",
       "25           forest_gump              3   \n",
       "26           forest_gump              3   \n",
       "27           forest_gump              3   \n",
       "28           forest_gump              3   \n",
       "29           forest_gump              3   \n",
       "..                   ...            ...   \n",
       "120  catch_me_if_you_can              3   \n",
       "121  catch_me_if_you_can              3   \n",
       "122  catch_me_if_you_can              3   \n",
       "123  catch_me_if_you_can              3   \n",
       "124  catch_me_if_you_can              3   \n",
       "125    road_to_perdition              3   \n",
       "126    road_to_perdition              3   \n",
       "127    road_to_perdition              3   \n",
       "128    road_to_perdition              3   \n",
       "129    road_to_perdition              3   \n",
       "130    road_to_perdition              3   \n",
       "131    road_to_perdition              3   \n",
       "132    road_to_perdition              3   \n",
       "133    road_to_perdition              3   \n",
       "134    road_to_perdition              3   \n",
       "135    road_to_perdition              3   \n",
       "136    road_to_perdition              3   \n",
       "137    road_to_perdition              3   \n",
       "138    road_to_perdition              3   \n",
       "139    road_to_perdition              3   \n",
       "140    road_to_perdition              3   \n",
       "141    road_to_perdition              3   \n",
       "142    road_to_perdition              3   \n",
       "143    road_to_perdition              3   \n",
       "144    road_to_perdition              3   \n",
       "145    road_to_perdition              3   \n",
       "146    road_to_perdition              3   \n",
       "147    road_to_perdition              3   \n",
       "148    road_to_perdition              3   \n",
       "149    road_to_perdition              3   \n",
       "\n",
       "                                   primary_topics_text  \\\n",
       "0    frank abagnale dicaprio spielberg walk catch f...   \n",
       "1    frank abagnale dicaprio spielberg walk catch f...   \n",
       "2    frank abagnale dicaprio spielberg walk catch f...   \n",
       "3    frank abagnale dicaprio spielberg walk catch f...   \n",
       "4    frank abagnale dicaprio spielberg walk catch f...   \n",
       "5    frank abagnale dicaprio spielberg walk catch f...   \n",
       "6    frank abagnale dicaprio spielberg walk catch f...   \n",
       "7    frank abagnale dicaprio spielberg walk catch f...   \n",
       "8    frank abagnale dicaprio spielberg walk catch f...   \n",
       "9    frank abagnale dicaprio spielberg walk catch f...   \n",
       "10   frank abagnale dicaprio spielberg walk catch f...   \n",
       "11   frank abagnale dicaprio spielberg walk catch f...   \n",
       "12   frank abagnale dicaprio spielberg walk catch f...   \n",
       "13   frank abagnale dicaprio spielberg walk catch f...   \n",
       "14   frank abagnale dicaprio spielberg walk catch f...   \n",
       "15   frank abagnale dicaprio spielberg walk catch f...   \n",
       "16   frank abagnale dicaprio spielberg walk catch f...   \n",
       "17   frank abagnale dicaprio spielberg walk catch f...   \n",
       "18   frank abagnale dicaprio spielberg walk catch f...   \n",
       "19   frank abagnale dicaprio spielberg walk catch f...   \n",
       "20   frank abagnale dicaprio spielberg walk catch f...   \n",
       "21   frank abagnale dicaprio spielberg walk catch f...   \n",
       "22   frank abagnale dicaprio spielberg walk catch f...   \n",
       "23   frank abagnale dicaprio spielberg walk catch f...   \n",
       "24   frank abagnale dicaprio spielberg walk catch f...   \n",
       "25   frank abagnale dicaprio spielberg walk catch f...   \n",
       "26   frank abagnale dicaprio spielberg walk catch f...   \n",
       "27   frank abagnale dicaprio spielberg walk catch f...   \n",
       "28   frank abagnale dicaprio spielberg walk catch f...   \n",
       "29   frank abagnale dicaprio spielberg walk catch f...   \n",
       "..                                                 ...   \n",
       "120  frank abagnale dicaprio spielberg walk catch f...   \n",
       "121  frank abagnale dicaprio spielberg walk catch f...   \n",
       "122  frank abagnale dicaprio spielberg walk catch f...   \n",
       "123  frank abagnale dicaprio spielberg walk catch f...   \n",
       "124  frank abagnale dicaprio spielberg walk catch f...   \n",
       "125  frank abagnale dicaprio spielberg walk catch f...   \n",
       "126  frank abagnale dicaprio spielberg walk catch f...   \n",
       "127  frank abagnale dicaprio spielberg walk catch f...   \n",
       "128  frank abagnale dicaprio spielberg walk catch f...   \n",
       "129  frank abagnale dicaprio spielberg walk catch f...   \n",
       "130  frank abagnale dicaprio spielberg walk catch f...   \n",
       "131  frank abagnale dicaprio spielberg walk catch f...   \n",
       "132  frank abagnale dicaprio spielberg walk catch f...   \n",
       "133  frank abagnale dicaprio spielberg walk catch f...   \n",
       "134  frank abagnale dicaprio spielberg walk catch f...   \n",
       "135  frank abagnale dicaprio spielberg walk catch f...   \n",
       "136  frank abagnale dicaprio spielberg walk catch f...   \n",
       "137  frank abagnale dicaprio spielberg walk catch f...   \n",
       "138  frank abagnale dicaprio spielberg walk catch f...   \n",
       "139  frank abagnale dicaprio spielberg walk catch f...   \n",
       "140  frank abagnale dicaprio spielberg walk catch f...   \n",
       "141  frank abagnale dicaprio spielberg walk catch f...   \n",
       "142  frank abagnale dicaprio spielberg walk catch f...   \n",
       "143  frank abagnale dicaprio spielberg walk catch f...   \n",
       "144  frank abagnale dicaprio spielberg walk catch f...   \n",
       "145  frank abagnale dicaprio spielberg walk catch f...   \n",
       "146  frank abagnale dicaprio spielberg walk catch f...   \n",
       "147  frank abagnale dicaprio spielberg walk catch f...   \n",
       "148  frank abagnale dicaprio spielberg walk catch f...   \n",
       "149  frank abagnale dicaprio spielberg walk catch f...   \n",
       "\n",
       "                                                  text         x          y  \n",
       "0    1999 tom hank david mors michael clark duncan ... -9.326426  10.481794  \n",
       "1    poss favorite movie ev seen many movies certai... -3.172189   9.743814  \n",
       "2    movie real gem hard find fault hank excel role... -8.130284  10.623970  \n",
       "3    reason oscar win tour de force 67 rank film im... -1.877655  12.694761  \n",
       "4    excel movie picture first saw trail october th... -3.099057  10.475416  \n",
       "5    doubt see movie length 3 hour dea film surpris... -1.263281  17.020771  \n",
       "6    every way wonderful film imo deserves rare har... -8.578020  10.478954  \n",
       "7    world teem wretch prison wherein man men house... -9.904798  10.522441  \n",
       "8    length movie perfect kept story amazing degree... -2.361107  10.806163  \n",
       "9    expect movie norm want see tom hank movie goes... -2.640566   6.776878  \n",
       "10   tom hank opinion gave perform car bring emotio... -1.241156  17.020756  \n",
       "11   went look experience something would take limi... -9.665167  10.514556  \n",
       "12   favorite stephen king book read several times ... -5.620952  10.613112  \n",
       "13   movie goes beyond others elite group movies li... -2.587370  11.610188  \n",
       "14   yet another movie mad work frank darabont pris... -8.138305  10.423463  \n",
       "15   resid rest home time head ward dea row paul ed... -7.027691  10.302828  \n",
       "16   greatest film ev seen remember see first cam 1... -4.535823  10.559357  \n",
       "17   frank darabont return direct chair another ada... -9.222445  10.499079  \n",
       "18   masterwork film art best depth cast extraordin... -1.849185  14.561660  \n",
       "19   frank darabont direct another masterpiece adap... -8.404666  10.471489  \n",
       "20   watch film like feel absolutely fury mainstrea... -1.701251  13.035801  \n",
       "21   glad numb review inform high unusual tale fait... -9.242097  10.472039  \n",
       "22   easy favourite movies time put watch movie run... -2.949039   7.528491  \n",
       "23   seen movie read novel name stephen king glad s... -6.092135  10.433558  \n",
       "24   without us old cliches would recommend movie a... -3.027793   7.607533  \n",
       "25   ca take credit gem ev gump movie review joseph... -2.379815  13.334170  \n",
       "26   awesome movie innocent man represents world lo... -4.513727  14.834594  \n",
       "27   may good philadelphia excel forrest hank deliv... -4.033699  17.849344  \n",
       "28   remember john byner comic impress 1970s talk g... -4.173902  14.793276  \n",
       "29   forrest gump 1994 4 forrest gump tom hank slow... -6.290832  15.578355  \n",
       "..                                                 ...       ...        ...  \n",
       "120  catch best movies ev seen without doubt under ... -4.132356  17.752323  \n",
       "121  good movie worth see plot pretty bas kid broke... -3.384978  13.429994  \n",
       "122  kind od story another life tales hyped little ... -0.809371   1.612794  \n",
       "123  catch bas true story frank abagnale success co... -0.482747   0.041210  \n",
       "124  going movie far excited ut impress movie execu... -0.477336  10.270247  \n",
       "125  road perdition film tries recreate film noir g... -8.305078   3.655100  \n",
       "126  seen film four five times never ceases amaze p... -8.303058   3.332195  \n",
       "127  lot solemn slow sam mend gangster flick peridi... -2.331495  10.645909  \n",
       "128  best mad movies maybe best movie look best gre... -8.589470   3.571767  \n",
       "129  loved much movie time taken develop characters... -2.612271   9.233315  \n",
       "130  many either hat loved let film hype terrible t... -6.179102   6.317330  \n",
       "131  michael sullivan work john rooney sullivan son... -7.901518   4.392326  \n",
       "132  real would like say beauty don movies every se... -2.947768  11.354304  \n",
       "133  excel depict unwholesome aspect er loved vis f... -2.339976  11.769456  \n",
       "134  road perdition sum thomas newman score haunt b... -7.600552   4.234064  \n",
       "135  frank movie gone head opposite perdition lost ... -8.815860   2.949278  \n",
       "136  beauty film true tale bond father son far tom ... -5.406327   6.008979  \n",
       "137  look mean take look begin see mean mus like se... -1.872823   9.128676  \n",
       "138  driven house theater sweltering heat could ple... -8.781053   3.135757  \n",
       "139  innocent lad get involved father underworld bu... -3.075497   8.775867  \n",
       "140  seen film 5 times every time get immersed atmo... -2.857933  10.267179  \n",
       "141  conrad hall went bang great film photograph fi... -6.125623   5.940461  \n",
       "142  film real catch view takes trip back time atmo... -2.390743   7.284354  \n",
       "143  f thought sam mend first film much herald am b... -7.282080   4.667927  \n",
       "144  road perdition simply amazing movie sad overlo... -7.543540   3.866424  \n",
       "145  road perdition movie undeservedly overlook yea... -8.164219   3.965762  \n",
       "146  act film well act film say perform slight weak... -5.669990   6.025879  \n",
       "147  road perdition rocky road revenge reconciliati... -7.711635   3.505718  \n",
       "148  let start say movie beauty technical standpoin... -2.805462  11.624192  \n",
       "149  could bet strong restraint mike sullivan expre... -7.571640   4.339386  \n",
       "\n",
       "[150 rows x 6 columns]"
      ]
     },
     "execution_count": 50,
     "metadata": {},
     "output_type": "execute_result"
    }
   ],
   "source": [
    "category_df"
   ]
  },
  {
   "cell_type": "code",
   "execution_count": 48,
   "metadata": {},
   "outputs": [
    {
     "data": {
      "text/html": [
       "<div>\n",
       "<style scoped>\n",
       "    .dataframe tbody tr th:only-of-type {\n",
       "        vertical-align: middle;\n",
       "    }\n",
       "\n",
       "    .dataframe tbody tr th {\n",
       "        vertical-align: top;\n",
       "    }\n",
       "\n",
       "    .dataframe thead th {\n",
       "        text-align: right;\n",
       "    }\n",
       "</style>\n",
       "<table border=\"1\" class=\"dataframe\">\n",
       "  <thead>\n",
       "    <tr style=\"text-align: right;\">\n",
       "      <th>group</th>\n",
       "      <th>cast_away</th>\n",
       "      <th>catch_me_if_you_can</th>\n",
       "      <th>forest_gump</th>\n",
       "      <th>green_mile</th>\n",
       "      <th>road_to_perdition</th>\n",
       "      <th>terminal</th>\n",
       "    </tr>\n",
       "    <tr>\n",
       "      <th>primary_topics_text</th>\n",
       "      <th></th>\n",
       "      <th></th>\n",
       "      <th></th>\n",
       "      <th></th>\n",
       "      <th></th>\n",
       "      <th></th>\n",
       "    </tr>\n",
       "  </thead>\n",
       "  <tbody>\n",
       "    <tr>\n",
       "      <th>frank abagnale dicaprio spielberg walk catch fbi con hanratty christopher</th>\n",
       "      <td>25</td>\n",
       "      <td>25</td>\n",
       "      <td>25</td>\n",
       "      <td>25</td>\n",
       "      <td>25</td>\n",
       "      <td>25</td>\n",
       "    </tr>\n",
       "  </tbody>\n",
       "</table>\n",
       "</div>"
      ],
      "text/plain": [
       "group                                               cast_away  \\\n",
       "primary_topics_text                                             \n",
       "frank abagnale dicaprio spielberg walk catch fb...         25   \n",
       "\n",
       "group                                               catch_me_if_you_can  \\\n",
       "primary_topics_text                                                       \n",
       "frank abagnale dicaprio spielberg walk catch fb...                   25   \n",
       "\n",
       "group                                               forest_gump  green_mile  \\\n",
       "primary_topics_text                                                           \n",
       "frank abagnale dicaprio spielberg walk catch fb...           25          25   \n",
       "\n",
       "group                                               road_to_perdition  \\\n",
       "primary_topics_text                                                     \n",
       "frank abagnale dicaprio spielberg walk catch fb...                 25   \n",
       "\n",
       "group                                               terminal  \n",
       "primary_topics_text                                           \n",
       "frank abagnale dicaprio spielberg walk catch fb...        25  "
      ]
     },
     "execution_count": 48,
     "metadata": {},
     "output_type": "execute_result"
    }
   ],
   "source": [
    "category_df.groupby(['primary_topics_text', 'group']).size().unstack()"
   ]
  },
  {
   "cell_type": "code",
   "execution_count": null,
   "metadata": {},
   "outputs": [],
   "source": []
  }
 ],
 "metadata": {
  "kernelspec": {
   "display_name": "Python 3",
   "language": "python",
   "name": "python3"
  },
  "language_info": {
   "codemirror_mode": {
    "name": "ipython",
    "version": 3
   },
   "file_extension": ".py",
   "mimetype": "text/x-python",
   "name": "python",
   "nbconvert_exporter": "python",
   "pygments_lexer": "ipython3",
   "version": "3.6.5"
  }
 },
 "nbformat": 4,
 "nbformat_minor": 2
}

{
 "cells": [
  {
   "cell_type": "code",
   "execution_count": 1,
   "metadata": {},
   "outputs": [
    {
     "name": "stdout",
     "output_type": "stream",
     "text": [
      "pattern 3.6\n",
      "spacy 2.0.12\n"
     ]
    }
   ],
   "source": [
    "import pattern; print( 'pattern ' + pattern.__version__)\n",
    "from pattern.en import tag;\n",
    "import spacy; print( 'spacy ' + spacy.__version__)"
   ]
  },
  {
   "cell_type": "markdown",
   "metadata": {},
   "source": [
    "# Homework 4\n",
    "\n",
    "\n",
    "In a news article from this week’s news, find a random sentence of at least 10 words.\n",
    " - Looking at the Penn tag set, manually POS tag the sentence yourself.\n",
    " - Now run the same sentences through both taggers that you implemented for questions 1 and 2. Did either of the taggers produce the same results as you had created manually?\n",
    " - Explain any differences between the two taggers and your manual tagging as much as you can.\n"
   ]
  },
  {
   "cell_type": "code",
   "execution_count": 2,
   "metadata": {},
   "outputs": [],
   "source": [
    "LONG_SENTENCE = 'this is an incredibly long sentence taken from the imagination of KJ Price'\n",
    "SHORT_SENTENCE = 'one said'"
   ]
  },
  {
   "cell_type": "code",
   "execution_count": 3,
   "metadata": {},
   "outputs": [
    {
     "data": {
      "text/plain": [
       "13"
      ]
     },
     "execution_count": 3,
     "metadata": {},
     "output_type": "execute_result"
    }
   ],
   "source": [
    "len(LONG_SENTENCE.split(' '))"
   ]
  },
  {
   "cell_type": "code",
   "execution_count": 4,
   "metadata": {},
   "outputs": [
    {
     "data": {
      "text/plain": [
       "[('this', 'DT'),\n",
       " ('is', 'VBZ'),\n",
       " ('an', 'DT'),\n",
       " ('incredibly', 'RB'),\n",
       " ('long', 'JJ'),\n",
       " ('sentence', 'NN'),\n",
       " ('taken', 'VBN'),\n",
       " ('from', 'IN'),\n",
       " ('the', 'DT'),\n",
       " ('imagination', 'NN'),\n",
       " ('of', 'IN'),\n",
       " ('KJ', 'NNP'),\n",
       " ('Price', 'NNP')]"
      ]
     },
     "execution_count": 4,
     "metadata": {},
     "output_type": "execute_result"
    }
   ],
   "source": [
    "tag(LONG_SENTENCE)"
   ]
  },
  {
   "cell_type": "markdown",
   "metadata": {},
   "source": [
    "## Run one of the part-of-speech (POS) taggers available in Python\n",
    " - Find the longest sentence you can, longer than 10 words, that the POS tagger tags correctly. Show the input and output.\n",
    " - Find the shortest sentence you can, shorter than 10 words, that the POS tagger fails to tag 100 percent correctly. Show the input and output. Explain your conjecture as to why the tagger might have been less than perfect with this sentence."
   ]
  },
  {
   "cell_type": "code",
   "execution_count": 5,
   "metadata": {},
   "outputs": [
    {
     "data": {
      "text/plain": [
       "[('this', 'DT'),\n",
       " ('is', 'VBZ'),\n",
       " ('an', 'DT'),\n",
       " ('incredibly', 'RB'),\n",
       " ('long', 'JJ'),\n",
       " ('sentence', 'NN'),\n",
       " ('taken', 'VBN'),\n",
       " ('from', 'IN'),\n",
       " ('the', 'DT'),\n",
       " ('imagination', 'NN'),\n",
       " ('of', 'IN'),\n",
       " ('KJ', 'NNP'),\n",
       " ('Price', 'NNP')]"
      ]
     },
     "execution_count": 5,
     "metadata": {},
     "output_type": "execute_result"
    }
   ],
   "source": [
    "tag(LONG_SENTENCE)"
   ]
  },
  {
   "cell_type": "code",
   "execution_count": 6,
   "metadata": {},
   "outputs": [
    {
     "data": {
      "text/plain": [
       "[('one', 'CD'), ('said', 'VBD')]"
      ]
     },
     "execution_count": 6,
     "metadata": {},
     "output_type": "execute_result"
    }
   ],
   "source": [
    "tag(SHORT_SENTENCE)"
   ]
  },
  {
   "cell_type": "markdown",
   "metadata": {},
   "source": [
    "The word \"one\" can be a numerical value (as this tagger assumes) but it can also be a noun as the tagger in the following example"
   ]
  },
  {
   "cell_type": "code",
   "execution_count": 7,
   "metadata": {},
   "outputs": [
    {
     "data": {
      "text/plain": [
       "[('one', 'NN'), ('does', 'VBZ')]"
      ]
     },
     "execution_count": 7,
     "metadata": {},
     "output_type": "execute_result"
    }
   ],
   "source": [
    "tag('one does')"
   ]
  },
  {
   "cell_type": "markdown",
   "metadata": {},
   "source": [
    "I believe that it gets confused because of the verb type used in the first sentence \"said\" which it tags as a past tense verb. Perhaps past tense verbs are most often used in conjuction with numerical subjects."
   ]
  },
  {
   "cell_type": "markdown",
   "metadata": {},
   "source": [
    "## Run a different POS tagger in Python. Process the same two sentences from question 1.\n",
    " - Does it produce the same or different output?\n",
    " - Explain any differences as best you can.\n"
   ]
  },
  {
   "cell_type": "code",
   "execution_count": 8,
   "metadata": {},
   "outputs": [],
   "source": [
    "nlp = spacy.load('en_core_web_sm')"
   ]
  },
  {
   "cell_type": "code",
   "execution_count": 16,
   "metadata": {},
   "outputs": [
    {
     "name": "stdout",
     "output_type": "stream",
     "text": [
      "[('this', 'DT'), ('is', 'VBZ'), ('an', 'DT'), ('incredibly', 'RB'), ('long', 'JJ'), ('sentence', 'NN'), ('taken', 'VBN'), ('from', 'IN'), ('the', 'DT'), ('imagination', 'NN'), ('of', 'IN'), ('KJ', 'NNP'), ('Price', 'NNP')]\n"
     ]
    }
   ],
   "source": [
    "doc = nlp(LONG_SENTENCE)\n",
    "print([(token.text, token.tag_) for token in doc])"
   ]
  },
  {
   "cell_type": "code",
   "execution_count": 17,
   "metadata": {},
   "outputs": [
    {
     "name": "stdout",
     "output_type": "stream",
     "text": [
      "[('one', 'CD'), ('said', 'VBD')]\n"
     ]
    }
   ],
   "source": [
    "doc = nlp(SHORT_SENTENCE)\n",
    "print([(token.text, token.tag_) for token in doc])"
   ]
  },
  {
   "cell_type": "markdown",
   "metadata": {},
   "source": [
    "Both were completely identical"
   ]
  }
 ],
 "metadata": {
  "kernelspec": {
   "display_name": "Python 3",
   "language": "python",
   "name": "python3"
  },
  "language_info": {
   "codemirror_mode": {
    "name": "ipython",
    "version": 3
   },
   "file_extension": ".py",
   "mimetype": "text/x-python",
   "name": "python",
   "nbconvert_exporter": "python",
   "pygments_lexer": "ipython3",
   "version": "3.6.5"
  }
 },
 "nbformat": 4,
 "nbformat_minor": 2
}

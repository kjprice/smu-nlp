{
 "cells": [
  {
   "cell_type": "code",
   "execution_count": 1,
   "metadata": {},
   "outputs": [
    {
     "name": "stdout",
     "output_type": "stream",
     "text": [
      "pattern 3.6\n",
      "spacy 2.0.12\n"
     ]
    }
   ],
   "source": [
    "import pattern; print( 'pattern ' + pattern.__version__)\n",
    "from pattern.en import tag;\n",
    "import spacy; print( 'spacy ' + spacy.__version__)"
   ]
  },
  {
   "cell_type": "markdown",
   "metadata": {},
   "source": [
    "# Homework 4"
   ]
  },
  {
   "cell_type": "markdown",
   "metadata": {},
   "source": [
    "Using various POS taggers"
   ]
  },
  {
   "cell_type": "code",
   "execution_count": 2,
   "metadata": {},
   "outputs": [],
   "source": [
    "LONG_SENTENCE = 'this is an incredibly long sentence taken from the imagination of KJ Price'\n",
    "SHORT_SENTENCE = 'one said'\n",
    "NEWS_SENTENCE = 'Kanye West Jumps On Massage Table To Deliver Speech About Relaxation' # Onion News https://entertainment.theonion.com/kanye-west-jumps-on-massage-table-to-deliver-speech-abo-1829714982#_ga=2.206536403.1133562475.1539620956-392341734.1539620956"
   ]
  },
  {
   "cell_type": "code",
   "execution_count": 3,
   "metadata": {},
   "outputs": [
    {
     "data": {
      "text/plain": [
       "13"
      ]
     },
     "execution_count": 3,
     "metadata": {},
     "output_type": "execute_result"
    }
   ],
   "source": [
    "len(LONG_SENTENCE.split(' '))"
   ]
  },
  {
   "cell_type": "code",
   "execution_count": 4,
   "metadata": {},
   "outputs": [
    {
     "data": {
      "text/plain": [
       "[('this', 'DT'),\n",
       " ('is', 'VBZ'),\n",
       " ('an', 'DT'),\n",
       " ('incredibly', 'RB'),\n",
       " ('long', 'JJ'),\n",
       " ('sentence', 'NN'),\n",
       " ('taken', 'VBN'),\n",
       " ('from', 'IN'),\n",
       " ('the', 'DT'),\n",
       " ('imagination', 'NN'),\n",
       " ('of', 'IN'),\n",
       " ('KJ', 'NNP'),\n",
       " ('Price', 'NNP')]"
      ]
     },
     "execution_count": 4,
     "metadata": {},
     "output_type": "execute_result"
    }
   ],
   "source": [
    "tag(LONG_SENTENCE)"
   ]
  },
  {
   "cell_type": "markdown",
   "metadata": {},
   "source": [
    "## 1. Run one of the part-of-speech (POS) taggers available in Python\n",
    " - Find the longest sentence you can, longer than 10 words, that the POS tagger tags correctly. Show the input and output.\n",
    " - Find the shortest sentence you can, shorter than 10 words, that the POS tagger fails to tag 100 percent correctly. Show the input and output. Explain your conjecture as to why the tagger might have been less than perfect with this sentence."
   ]
  },
  {
   "cell_type": "code",
   "execution_count": 5,
   "metadata": {},
   "outputs": [
    {
     "data": {
      "text/plain": [
       "[('this', 'DT'),\n",
       " ('is', 'VBZ'),\n",
       " ('an', 'DT'),\n",
       " ('incredibly', 'RB'),\n",
       " ('long', 'JJ'),\n",
       " ('sentence', 'NN'),\n",
       " ('taken', 'VBN'),\n",
       " ('from', 'IN'),\n",
       " ('the', 'DT'),\n",
       " ('imagination', 'NN'),\n",
       " ('of', 'IN'),\n",
       " ('KJ', 'NNP'),\n",
       " ('Price', 'NNP')]"
      ]
     },
     "execution_count": 5,
     "metadata": {},
     "output_type": "execute_result"
    }
   ],
   "source": [
    "tag(LONG_SENTENCE)"
   ]
  },
  {
   "cell_type": "code",
   "execution_count": 6,
   "metadata": {},
   "outputs": [
    {
     "data": {
      "text/plain": [
       "[('one', 'CD'), ('said', 'VBD')]"
      ]
     },
     "execution_count": 6,
     "metadata": {},
     "output_type": "execute_result"
    }
   ],
   "source": [
    "tag(SHORT_SENTENCE)"
   ]
  },
  {
   "cell_type": "markdown",
   "metadata": {},
   "source": [
    "### Assessment\n",
    "The word \"one\" can be a numerical value (as this tagger assumes) but it can also be a noun as the tagger in the following example"
   ]
  },
  {
   "cell_type": "code",
   "execution_count": 7,
   "metadata": {},
   "outputs": [
    {
     "data": {
      "text/plain": [
       "[('one', 'NN'), ('does', 'VBZ')]"
      ]
     },
     "execution_count": 7,
     "metadata": {},
     "output_type": "execute_result"
    }
   ],
   "source": [
    "tag('one does')"
   ]
  },
  {
   "cell_type": "markdown",
   "metadata": {},
   "source": [
    "I believe that it gets confused because of the verb type used in the first sentence \"said\" which it tags as a past tense verb. Perhaps past tense verbs are most often used in conjuction with numerical subjects."
   ]
  },
  {
   "cell_type": "markdown",
   "metadata": {},
   "source": [
    "## 2. Run a different POS tagger in Python. Process the same two sentences from question 1.\n",
    " - Does it produce the same or different output?\n",
    " - Explain any differences as best you can.\n"
   ]
  },
  {
   "cell_type": "code",
   "execution_count": 8,
   "metadata": {},
   "outputs": [],
   "source": [
    "nlp = spacy.load('en_core_web_sm')"
   ]
  },
  {
   "cell_type": "code",
   "execution_count": 9,
   "metadata": {},
   "outputs": [
    {
     "name": "stdout",
     "output_type": "stream",
     "text": [
      "[('this', 'DT'), ('is', 'VBZ'), ('an', 'DT'), ('incredibly', 'RB'), ('long', 'JJ'), ('sentence', 'NN'), ('taken', 'VBN'), ('from', 'IN'), ('the', 'DT'), ('imagination', 'NN'), ('of', 'IN'), ('KJ', 'NNP'), ('Price', 'NNP')]\n"
     ]
    }
   ],
   "source": [
    "doc = nlp(LONG_SENTENCE)\n",
    "print([(token.text, token.tag_) for token in doc])"
   ]
  },
  {
   "cell_type": "code",
   "execution_count": 10,
   "metadata": {},
   "outputs": [
    {
     "name": "stdout",
     "output_type": "stream",
     "text": [
      "[('one', 'CD'), ('said', 'VBD')]\n"
     ]
    }
   ],
   "source": [
    "doc = nlp(SHORT_SENTENCE)\n",
    "print([(token.text, token.tag_) for token in doc])"
   ]
  },
  {
   "cell_type": "markdown",
   "metadata": {},
   "source": [
    "### Assesment\n",
    "Both were completely identical"
   ]
  },
  {
   "cell_type": "markdown",
   "metadata": {},
   "source": [
    "## 3. In a news article from this week’s news, find a random sentence of at least 10 words.\n",
    " - Looking at the Penn tag set, manually POS tag the sentence yourself.\n",
    " - Now run the same sentences through both taggers that you implemented for questions 1 and 2. Did either of the taggers produce the same results as you had created manually?\n",
    " - Explain any differences between the two taggers and your manual tagging as much as you can.\n"
   ]
  },
  {
   "cell_type": "code",
   "execution_count": 11,
   "metadata": {},
   "outputs": [],
   "source": [
    "## My Tagging\n",
    "manual_tagging = [\n",
    "    ('Kanye', \t'NNP'),\n",
    "    ('West', \t'NNP'),\n",
    "    ('Jumps', \t'VBZ'),\n",
    "    ('On', \t\t'IN'),\n",
    "    ('Massage', 'JJ'),\n",
    "    ('Table', \t'NN'),\n",
    "    ('To', \t\t'TO'),\n",
    "    ('Deliver', 'VB'),\n",
    "    ('Speech', \t'NN'),\n",
    "    ('About', \t'RP'),\n",
    "    ('Relaxation', \t'NN')\n",
    "]"
   ]
  },
  {
   "cell_type": "code",
   "execution_count": 12,
   "metadata": {},
   "outputs": [
    {
     "name": "stdout",
     "output_type": "stream",
     "text": [
      "[('Kanye', 'NNP'), ('West', 'NNP'), ('Jumps', 'NNP'), ('On', 'IN'), ('Massage', 'NN'), ('Table', 'NN'), ('To', 'TO'), ('Deliver', 'VB'), ('Speech', 'NNP'), ('About', 'IN'), ('Relaxation', 'NNP')]\n"
     ]
    }
   ],
   "source": [
    "## using spacy\n",
    "news_doc = nlp(NEWS_SENTENCE)\n",
    "news_nlp_tag = [(token.text, token.tag_) for token in news_doc]\n",
    "print(news_nlp_tag)"
   ]
  },
  {
   "cell_type": "code",
   "execution_count": 13,
   "metadata": {},
   "outputs": [
    {
     "name": "stdout",
     "output_type": "stream",
     "text": [
      "Kanye West Jumps On Massage Table To Deliver Speech About Relaxation\n",
      "differences:\n"
     ]
    },
    {
     "data": {
      "text/plain": [
       "['Jumps (mine=VBZ) (theirs=NNP)',\n",
       " 'Massage (mine=JJ) (theirs=NN)',\n",
       " 'Speech (mine=NN) (theirs=NNP)',\n",
       " 'About (mine=RP) (theirs=IN)',\n",
       " 'Relaxation (mine=NN) (theirs=NNP)']"
      ]
     },
     "execution_count": 13,
     "metadata": {},
     "output_type": "execute_result"
    }
   ],
   "source": [
    "## differences\n",
    "diffs = []\n",
    "i = 0\n",
    "print(NEWS_SENTENCE)\n",
    "print('differences:')\n",
    "while i < len(news_doc):\n",
    "    nlp_tag = news_nlp_tag[i][1]\n",
    "    my_tag = manual_tagging[i][1]\n",
    "    if nlp_tag != my_tag:\n",
    "        word = news_nlp_tag[i][0]\n",
    "        diffs.append('{} (mine={}) (theirs={})'.format(word, my_tag, nlp_tag))\n",
    "    i += 1\n",
    "diffs"
   ]
  },
  {
   "cell_type": "markdown",
   "metadata": {},
   "source": [
    "### Assesment\n",
    "Several key differences between my manual tagging and the parsing from `spacy`.\n",
    "\n",
    "- Three of the disagreements were that `spacy` tagged various words as proper nouns (`Jumps`, `Speech` and `Relaxation`). This was no doubt due to the fact I used the title of the article as the sentence, which automatically had the first letter of each word in all caps.\n",
    "\n",
    "- Another difference is that `spacy` tagged the word _massage_ from _massage table_ as a singular noun where I had put this down as an adjective. I think that I tend to agree with `spacy` in this regard as the word `massage` does not just described the table (as in \"a big table\" or \"a green table\") but actually changes the meaning of the word _table_ entirely. **Interesting!**\n",
    "\n",
    "\n",
    "- Another disagreement is that `spacy` tagged the word _about_ as a conjuction while I tagged it as an adverb. Really, I'm not sure what to say about this one but I'll definitely give `spacy` the benefit of the doubt that it's probably right."
   ]
  }
 ],
 "metadata": {
  "kernelspec": {
   "display_name": "Python 3",
   "language": "python",
   "name": "python3"
  },
  "language_info": {
   "codemirror_mode": {
    "name": "ipython",
    "version": 3
   },
   "file_extension": ".py",
   "mimetype": "text/x-python",
   "name": "python",
   "nbconvert_exporter": "python",
   "pygments_lexer": "ipython3",
   "version": "3.6.5"
  }
 },
 "nbformat": 4,
 "nbformat_minor": 2
}

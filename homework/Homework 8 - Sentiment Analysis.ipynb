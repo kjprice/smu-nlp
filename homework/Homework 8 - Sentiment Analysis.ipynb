{
 "cells": [
  {
   "cell_type": "code",
   "execution_count": 81,
   "metadata": {},
   "outputs": [
    {
     "name": "stdout",
     "output_type": "stream",
     "text": [
      "bs4 4.6.3\n",
      "nltk 3.3\n",
      "sklearn 0.19.1\n",
      "matplotlib 2.2.2\n",
      "re 2.2.1\n",
      "requests 2.19.1\n",
      "np 1.14.2\n"
     ]
    }
   ],
   "source": [
    "import bs4; print( 'bs4 ' + bs4.__version__)\n",
    "from bs4 import BeautifulSoup, SoupStrainer\n",
    "\n",
    "import nltk; print( 'nltk ' + nltk.__version__)\n",
    "from nltk import word_tokenize, pos_tag, RegexpParser;\n",
    "from nltk.tokenize import sent_tokenize\n",
    "from nltk.sentiment.vader import SentimentIntensityAnalyzer\n",
    "\n",
    "import sklearn; print( 'sklearn ' + sklearn.__version__)\n",
    "from sklearn.feature_extraction.text import TfidfVectorizer\n",
    "from sklearn.cluster import AgglomerativeClustering, KMeans\n",
    "\n",
    "import matplotlib; print( 'matplotlib ' + matplotlib.__version__)\n",
    "import matplotlib.pyplot as plt\n",
    "\n",
    "import re; print('re ' + re.__version__)\n",
    "import requests; print('requests ' + requests.__version__)\n",
    "\n",
    "import numpy as np; print('np ' + np.__version__)"
   ]
  },
  {
   "cell_type": "markdown",
   "metadata": {},
   "source": [
    "# Homework 8: Sentiment Analysis"
   ]
  },
  {
   "cell_type": "markdown",
   "metadata": {},
   "source": [
    "### Write Up"
   ]
  },
  {
   "cell_type": "markdown",
   "metadata": {},
   "source": [
    "First we get the reviews from various Forest Gump dramas. Then we cluster these reviews into three different clusters (using K-Means). Finally we take the sentiment from each cluster.\n",
    "\n",
    "Results:\n",
    "\n",
    "```\n",
    "Cluster 0: mean: -0.06 | median: 0.0 | max: 0.4 | min: -0.6\n",
    "Cluster 1: mean: 0.10 | median: 0.0 | max: 0.6 | min: -0.2\n",
    "Cluster 2: mean: -0.03 | median: 0.0 | max: 0.4 | min: -0.6\n",
    "```\n",
    "\n",
    "The clusters seem to be fairly neutral in general. Interesting that the mean is negative in two of the clusters but the reviews are mostly favorable (5 stars usually). I think this is due to some words showing up such as \"death\" which seems to drop the score a bit. There are some sad dramas in here after all (think Green Mile and Road To Perdition)."
   ]
  },
  {
   "cell_type": "markdown",
   "metadata": {},
   "source": [
    "### Code from Homework 5"
   ]
  },
  {
   "cell_type": "code",
   "execution_count": 2,
   "metadata": {},
   "outputs": [],
   "source": [
    "# The home page for various movies' reviews, from which will get the links for individual reviews\n",
    "review_home_urls = {\n",
    "    'green_mile': 'https://www.imdb.com/title/tt0120689/reviews?ref_=tt_ql_3',\n",
    "    'forest_gump': 'https://www.imdb.com/title/tt0109830/reviews?ref_=tt_ov_rt',\n",
    "    'cast_away': 'https://www.imdb.com/title/tt0162222/reviews?ref_=tt_ov_rt',\n",
    "    'terminal': 'https://www.imdb.com/title/tt0362227/reviews?ref_=tt_ql_3',\n",
    "    'catch_me_if_you_can': 'https://www.imdb.com/title/tt0264464/reviews?ref_=tt_ql_3',\n",
    "    'road_to_perdition': 'https://www.imdb.com/title/tt0257044/reviews?ref_=tt_ql_3',\n",
    "}"
   ]
  },
  {
   "cell_type": "code",
   "execution_count": 3,
   "metadata": {},
   "outputs": [],
   "source": [
    "def get_text_from_url(url):\n",
    "    return requests.get(url).text\n",
    "text = get_text_from_url(review_home_urls['green_mile'])"
   ]
  },
  {
   "cell_type": "code",
   "execution_count": 4,
   "metadata": {},
   "outputs": [],
   "source": [
    "def get_all_links_from_html(html):\n",
    "    tags = BeautifulSoup(html, 'html.parser', parse_only=SoupStrainer('a', href=True))\n",
    "    urls = [str(tag.attrs['href']) for tag in tags]\n",
    "    return urls\n",
    "all_links = get_all_links_from_html(text)"
   ]
  },
  {
   "cell_type": "code",
   "execution_count": 5,
   "metadata": {},
   "outputs": [],
   "source": [
    "def get_review_urls_from_links(links):\n",
    "    url_template = 'https://www.imdb.com{}'\n",
    "    # url_template = 'http://www.gutenberg.org/files/{}/{}-h/{}-h.htm'\n",
    "    return [url_template.format(link) for link in links]\n",
    "\n",
    "urls = get_review_urls_from_links(all_links);  "
   ]
  },
  {
   "cell_type": "code",
   "execution_count": 6,
   "metadata": {},
   "outputs": [
    {
     "data": {
      "text/plain": [
       "25"
      ]
     },
     "execution_count": 6,
     "metadata": {},
     "output_type": "execute_result"
    }
   ],
   "source": [
    "def relevent_link(link):\n",
    "    if '/review/' in link:\n",
    "        return True\n",
    "    return False\n",
    "def get_relevent_links(links):\n",
    "    relevent_links = filter(relevent_link, all_links)\n",
    "    unique_relevent_links = set(relevent_links)\n",
    "    return list(unique_relevent_links)\n",
    "relevent_urls = get_relevent_links(urls)\n",
    "len(relevent_urls)"
   ]
  },
  {
   "cell_type": "code",
   "execution_count": 7,
   "metadata": {},
   "outputs": [],
   "source": [
    "def strain_content(name, attrs):\n",
    "    if name == 'div' and dict(attrs).get('class', None) == 'content':\n",
    "        return True\n",
    "    return False\n",
    "def clean_review_text(text):\n",
    "    return re.split('\\\\n\\\\n\\s+\\d+ out of \\d+', text)[0]\n",
    "def get_review_from_url(url):\n",
    "    html = get_text_from_url(url)\n",
    "    tags = BeautifulSoup(html, 'html.parser', parse_only=SoupStrainer(strain_content))\n",
    "    review = clean_review_text(tags.text)\n",
    "    return review"
   ]
  },
  {
   "cell_type": "code",
   "execution_count": 8,
   "metadata": {},
   "outputs": [],
   "source": [
    "def get_review_from_site(url):\n",
    "    reviews = []\n",
    "\n",
    "    reviews_home_text = get_text_from_url(url)\n",
    "    all_links = get_all_links_from_html(reviews_home_text)\n",
    "    relevent_links = get_relevent_links(all_links)\n",
    "\n",
    "    \n",
    "    \n",
    "    \n",
    "    review_urls = get_review_urls_from_links(relevent_links)\n",
    "    for url in review_urls:\n",
    "        reviews.append(get_review_from_url(url))\n",
    "        # break\n",
    "    return reviews"
   ]
  },
  {
   "cell_type": "code",
   "execution_count": 9,
   "metadata": {},
   "outputs": [],
   "source": [
    "def get_reviews_from_all_sites():\n",
    "    all_reviews = []\n",
    "    review_titles = review_home_urls.keys()\n",
    "    for title in review_titles:\n",
    "        review_home_url = review_home_urls[title]\n",
    "        all_reviews = all_reviews + get_review_from_site(review_home_url)\n",
    "    return all_reviews"
   ]
  },
  {
   "cell_type": "markdown",
   "metadata": {},
   "source": [
    "### Get All Reviews"
   ]
  },
  {
   "cell_type": "code",
   "execution_count": 12,
   "metadata": {},
   "outputs": [],
   "source": [
    "all_reviews = get_reviews_from_all_sites()"
   ]
  },
  {
   "cell_type": "markdown",
   "metadata": {},
   "source": [
    "### Run k-means"
   ]
  },
  {
   "cell_type": "code",
   "execution_count": 127,
   "metadata": {},
   "outputs": [
    {
     "name": "stdout",
     "output_type": "stream",
     "text": [
      "Top terms per cluster:\n",
      "\n",
      "cluster 0\n",
      " products\n",
      " films\n",
      " senses\n",
      " morality\n",
      " trigger\n",
      " treat\n",
      " multiplicity\n",
      " wake\n",
      " relations\n",
      " moral\n",
      " fear\n",
      " return\n",
      " sadness\n",
      " seek\n",
      " points\n",
      " sex\n",
      " meaning\n",
      " realities\n",
      " reactions\n",
      " furious\n",
      " expense\n",
      " unrealistic\n",
      " effects\n",
      " unfortunately\n",
      "\n",
      "cluster 1\n",
      " movie\n",
      " seen\n",
      " movies\n",
      " time\n",
      " gave\n",
      " book\n",
      " forget\n",
      " like\n",
      " best\n",
      " long\n",
      " shawshank\n",
      " redemption\n",
      " recommend\n",
      " story\n",
      " great\n",
      " people\n",
      " performance\n",
      " think\n",
      " hours\n",
      " miracle\n",
      " tom\n",
      " say\n",
      " read\n",
      " marvel\n",
      "\n",
      "cluster 2\n",
      " film\n",
      " mile\n",
      " green\n",
      " cast\n",
      " story\n",
      " movie\n",
      " duncan\n",
      " michael\n",
      " make\n",
      " darabont\n",
      " paul\n",
      " hanks\n",
      " coffey\n",
      " prison\n",
      " john\n",
      " edgecomb\n",
      " just\n",
      " tom\n",
      " king\n",
      " long\n",
      " like\n",
      " death\n",
      " scenes\n",
      " hours\n"
     ]
    }
   ],
   "source": [
    "# Create a cluster from titles (helped by https://pythonprogramminglanguage.com/kmeans-text-clustering/)\n",
    "def run_kmeans(data, true_k, n_terms=20):\n",
    "    def create_vectorization(text):\n",
    "        vectorizor = TfidfVectorizer(stop_words='english')\n",
    "        return [vectorizor, vectorizor.fit_transform(text)]\n",
    "    vectorizor, X = create_vectorization(data)\n",
    "\n",
    "    def create_cluster_model(X):\n",
    "        # model = AgglomerativeClustering(linkage='average', n_clusters=true_k)\n",
    "        model = KMeans(n_clusters=true_k, max_iter=100)\n",
    "        model.fit(X.toarray())\n",
    "\n",
    "        return model\n",
    "    model = create_cluster_model(X)\n",
    "    \n",
    "    def get_top_terms_per_cluster(model, vectorizor, true_k, n_terms):\n",
    "        order_centroids = model.cluster_centers_.argsort()[:, ::-1]\n",
    "        terms = vectorizor.get_feature_names()\n",
    "        clusters = []\n",
    "        for i in range(true_k):\n",
    "            cluster_terms = []\n",
    "            for ind in order_centroids[i, :24]:\n",
    "                cluster_terms.append(terms[ind])\n",
    "            clusters.append(cluster_terms)\n",
    "        return clusters\n",
    "\n",
    "    cluster_top_terms = get_top_terms_per_cluster(model, vectorizor, true_k, n_terms)\n",
    "    def print_top_terms():\n",
    "        print(\"Top terms per cluster:\")\n",
    "        for index, cluster in enumerate(cluster_top_terms):\n",
    "            print()\n",
    "            print('cluster', index)\n",
    "            for term in cluster:\n",
    "                print(' %s' % term)\n",
    "    print_top_terms()\n",
    "    \n",
    "    return cluster_top_terms\n",
    "\n",
    "top_terms = run_kmeans(all_reviews, 3)"
   ]
  },
  {
   "cell_type": "markdown",
   "metadata": {},
   "source": [
    "### Sentiment Analysis"
   ]
  },
  {
   "cell_type": "code",
   "execution_count": 79,
   "metadata": {},
   "outputs": [
    {
     "name": "stdout",
     "output_type": "stream",
     "text": [
      "[nltk_data] Downloading package vader_lexicon to\n",
      "[nltk_data]     /Users/kjprice/nltk_data...\n",
      "[nltk_data]   Package vader_lexicon is already up-to-date!\n"
     ]
    }
   ],
   "source": [
    "sid = None\n",
    "try:\n",
    "    sid = SentimentIntensityAnalyzer('vader_lexicon')\n",
    "except:\n",
    "    nltk.download('vader_lexicon')\n",
    "    sid = SentimentIntensityAnalyzer()"
   ]
  },
  {
   "cell_type": "code",
   "execution_count": 78,
   "metadata": {},
   "outputs": [
    {
     "data": {
      "text/plain": [
       "{'neg': 1.0, 'neu': 0.0, 'pos': 0.0, 'compound': -0.5106}"
      ]
     },
     "execution_count": 78,
     "metadata": {},
     "output_type": "execute_result"
    }
   ],
   "source": [
    "sid.polarity_scores('):{')"
   ]
  },
  {
   "cell_type": "code",
   "execution_count": 128,
   "metadata": {},
   "outputs": [
    {
     "name": "stdout",
     "output_type": "stream",
     "text": [
      "Cluster 0: mean: -0.06 | median: 0.0 | max: 0.4 | min: -0.6\n",
      "Cluster 1: mean: 0.1 | median: 0.0 | max: 0.6 | min: -0.2\n",
      "Cluster 2: mean: -0.03 | median: 0.0 | max: 0.4 | min: -0.6\n"
     ]
    }
   ],
   "source": [
    "all_scores = []\n",
    "for terms in top_terms:\n",
    "    scores = []\n",
    "    for term in terms:\n",
    "        score = sid.polarity_scores(term)\n",
    "        scores.append(score['compound'])\n",
    "    all_scores.append(np.array(scores))\n",
    "for i, scores in enumerate(all_scores):\n",
    "    print('Cluster {}: '.format(i), end='')\n",
    "\n",
    "    mean = scores.mean()\n",
    "    print('mean: {0:.1}'.format(mean), end=' | ')\n",
    "\n",
    "    median = np.median(scores)\n",
    "    print('median: {}'.format(median), end=' | ')\n",
    "\n",
    "    _max = scores.max()\n",
    "    print('max: {0:.1}'.format(_max), end=' | ')\n",
    "\n",
    "    _min = scores.min()\n",
    "    print('min: {0:.1}'.format(_min))"
   ]
  },
  {
   "cell_type": "code",
   "execution_count": 124,
   "metadata": {},
   "outputs": [
    {
     "data": {
      "text/plain": [
       "-0.5994"
      ]
     },
     "execution_count": 124,
     "metadata": {},
     "output_type": "execute_result"
    }
   ],
   "source": [
    "all_scores[0][12]"
   ]
  },
  {
   "cell_type": "code",
   "execution_count": 125,
   "metadata": {},
   "outputs": [
    {
     "data": {
      "text/plain": [
       "'death'"
      ]
     },
     "execution_count": 125,
     "metadata": {},
     "output_type": "execute_result"
    }
   ],
   "source": [
    "top_terms[0][12]"
   ]
  }
 ],
 "metadata": {
  "kernelspec": {
   "display_name": "Python 3",
   "language": "python",
   "name": "python3"
  },
  "language_info": {
   "codemirror_mode": {
    "name": "ipython",
    "version": 3
   },
   "file_extension": ".py",
   "mimetype": "text/x-python",
   "name": "python",
   "nbconvert_exporter": "python",
   "pygments_lexer": "ipython3",
   "version": "3.6.5"
  }
 },
 "nbformat": 4,
 "nbformat_minor": 2
}

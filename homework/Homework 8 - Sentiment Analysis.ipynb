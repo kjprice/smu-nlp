{
 "cells": [
  {
   "cell_type": "code",
   "execution_count": 13,
   "metadata": {},
   "outputs": [
    {
     "name": "stdout",
     "output_type": "stream",
     "text": [
      "bs4 4.6.3\n",
      "nltk 3.3\n",
      "sklearn 0.19.1\n",
      "matplotlib 2.2.2\n",
      "re 2.2.1\n",
      "requests 2.19.1\n"
     ]
    }
   ],
   "source": [
    "import bs4; print( 'bs4 ' + bs4.__version__)\n",
    "from bs4 import BeautifulSoup, SoupStrainer\n",
    "\n",
    "import nltk; print( 'nltk ' + nltk.__version__)\n",
    "from nltk import word_tokenize, pos_tag, RegexpParser;\n",
    "from nltk.tokenize import sent_tokenize\n",
    "\n",
    "import sklearn; print( 'sklearn ' + sklearn.__version__)\n",
    "from sklearn.feature_extraction.text import TfidfVectorizer\n",
    "from sklearn.cluster import AgglomerativeClustering, KMeans\n",
    "\n",
    "import matplotlib; print( 'matplotlib ' + matplotlib.__version__)\n",
    "import matplotlib.pyplot as plt\n",
    "\n",
    "import re; print('re ' + re.__version__)\n",
    "import requests; print('requests ' + requests.__version__)"
   ]
  },
  {
   "cell_type": "code",
   "execution_count": 2,
   "metadata": {},
   "outputs": [],
   "source": [
    "# The home page for various movies' reviews, from which will get the links for individual reviews\n",
    "review_home_urls = {\n",
    "    'green_mile': 'https://www.imdb.com/title/tt0120689/reviews?ref_=tt_ql_3',\n",
    "    'forest_gump': 'https://www.imdb.com/title/tt0109830/reviews?ref_=tt_ov_rt',\n",
    "    'cast_away': 'https://www.imdb.com/title/tt0162222/reviews?ref_=tt_ov_rt',\n",
    "    'terminal': 'https://www.imdb.com/title/tt0362227/reviews?ref_=tt_ql_3',\n",
    "    'catch_me_if_you_can': 'https://www.imdb.com/title/tt0264464/reviews?ref_=tt_ql_3',\n",
    "    'road_to_perdition': 'https://www.imdb.com/title/tt0257044/reviews?ref_=tt_ql_3',\n",
    "}"
   ]
  },
  {
   "cell_type": "code",
   "execution_count": 3,
   "metadata": {},
   "outputs": [],
   "source": [
    "def get_text_from_url(url):\n",
    "    return requests.get(url).text\n",
    "text = get_text_from_url(review_home_urls['green_mile'])"
   ]
  },
  {
   "cell_type": "code",
   "execution_count": 4,
   "metadata": {},
   "outputs": [],
   "source": [
    "def get_all_links_from_html(html):\n",
    "    tags = BeautifulSoup(html, 'html.parser', parse_only=SoupStrainer('a', href=True))\n",
    "    urls = [str(tag.attrs['href']) for tag in tags]\n",
    "    return urls\n",
    "all_links = get_all_links_from_html(text)"
   ]
  },
  {
   "cell_type": "code",
   "execution_count": 5,
   "metadata": {},
   "outputs": [],
   "source": [
    "def get_review_urls_from_links(links):\n",
    "    url_template = 'https://www.imdb.com{}'\n",
    "    # url_template = 'http://www.gutenberg.org/files/{}/{}-h/{}-h.htm'\n",
    "    return [url_template.format(link) for link in links]\n",
    "\n",
    "urls = get_review_urls_from_links(all_links);  "
   ]
  },
  {
   "cell_type": "code",
   "execution_count": 6,
   "metadata": {},
   "outputs": [
    {
     "data": {
      "text/plain": [
       "25"
      ]
     },
     "execution_count": 6,
     "metadata": {},
     "output_type": "execute_result"
    }
   ],
   "source": [
    "def relevent_link(link):\n",
    "    if '/review/' in link:\n",
    "        return True\n",
    "    return False\n",
    "def get_relevent_links(links):\n",
    "    relevent_links = filter(relevent_link, all_links)\n",
    "    unique_relevent_links = set(relevent_links)\n",
    "    return list(unique_relevent_links)\n",
    "relevent_urls = get_relevent_links(urls)\n",
    "len(relevent_urls)"
   ]
  },
  {
   "cell_type": "code",
   "execution_count": 7,
   "metadata": {},
   "outputs": [],
   "source": [
    "def strain_content(name, attrs):\n",
    "    if name == 'div' and dict(attrs).get('class', None) == 'content':\n",
    "        return True\n",
    "    return False\n",
    "def clean_review_text(text):\n",
    "    return re.split('\\\\n\\\\n\\s+\\d+ out of \\d+', text)[0]\n",
    "def get_review_from_url(url):\n",
    "    html = get_text_from_url(url)\n",
    "    tags = BeautifulSoup(html, 'html.parser', parse_only=SoupStrainer(strain_content))\n",
    "    review = clean_review_text(tags.text)\n",
    "    return review"
   ]
  },
  {
   "cell_type": "code",
   "execution_count": 8,
   "metadata": {},
   "outputs": [],
   "source": [
    "def get_review_from_site(url):\n",
    "    reviews = []\n",
    "\n",
    "    reviews_home_text = get_text_from_url(url)\n",
    "    all_links = get_all_links_from_html(reviews_home_text)\n",
    "    relevent_links = get_relevent_links(all_links)\n",
    "\n",
    "    \n",
    "    \n",
    "    \n",
    "    review_urls = get_review_urls_from_links(relevent_links)\n",
    "    for url in review_urls:\n",
    "        reviews.append(get_review_from_url(url))\n",
    "        # break\n",
    "    return reviews"
   ]
  },
  {
   "cell_type": "code",
   "execution_count": 9,
   "metadata": {},
   "outputs": [],
   "source": [
    "def get_reviews_from_all_sites():\n",
    "    all_reviews = []\n",
    "    review_titles = review_home_urls.keys()\n",
    "    for title in review_titles:\n",
    "        review_home_url = review_home_urls[title]\n",
    "        all_reviews = all_reviews + get_review_from_site(review_home_url)\n",
    "    return all_reviews"
   ]
  },
  {
   "cell_type": "markdown",
   "metadata": {},
   "source": [
    "### Get All Reviews"
   ]
  },
  {
   "cell_type": "code",
   "execution_count": 12,
   "metadata": {},
   "outputs": [],
   "source": [
    "all_reviews = get_reviews_from_all_sites()"
   ]
  },
  {
   "cell_type": "code",
   "execution_count": null,
   "metadata": {},
   "outputs": [],
   "source": []
  },
  {
   "cell_type": "markdown",
   "metadata": {},
   "source": [
    "### Run k-means"
   ]
  },
  {
   "cell_type": "code",
   "execution_count": 21,
   "metadata": {},
   "outputs": [],
   "source": [
    "# Create a cluster from titles (helped by https://pythonprogramminglanguage.com/kmeans-text-clustering/)\n",
    "def run_kmeans(data, true_k):\n",
    "    def create_vectorization(text):\n",
    "        vectorizor = TfidfVectorizer(stop_words='english')\n",
    "        return [vectorizor, vectorizor.fit_transform(text)]\n",
    "    vectorizor, X = create_vectorization(data)\n",
    "\n",
    "    def create_cluster_model(X):\n",
    "        # model = AgglomerativeClustering(linkage='average', n_clusters=true_k)\n",
    "        model = KMeans(n_clusters=true_k, max_iter=100)\n",
    "        model.fit(X.toarray())\n",
    "\n",
    "        return model\n",
    "    model = create_cluster_model(X)\n",
    "\n",
    "    def get_top_terms_per_cluster(model):\n",
    "        print(\"Top terms per cluster:\")\n",
    "        order_centroids = model.cluster_centers_.argsort()[:, ::-1]\n",
    "        terms = vectorizor.get_feature_names()\n",
    "        for i in range(true_k):\n",
    "            print(\"Cluster %d:\" % i),\n",
    "            for ind in order_centroids[i, :24]:\n",
    "                print(' %s' % terms[ind]),\n",
    "            print\n",
    "    get_top_terms_per_cluster(model)\n",
    "    \n",
    "    return model"
   ]
  },
  {
   "cell_type": "code",
   "execution_count": 23,
   "metadata": {},
   "outputs": [
    {
     "name": "stdout",
     "output_type": "stream",
     "text": [
      "Top terms per cluster:\n",
      "Cluster 0:\n",
      " movie\n",
      " movies\n",
      " recommend\n",
      " seen\n",
      " time\n",
      " story\n",
      " songs\n",
      " think\n",
      " just\n",
      " drama\n",
      " title\n",
      " especially\n",
      " mind\n",
      " watched\n",
      " best\n",
      " experience\n",
      " sure\n",
      " viewing\n",
      " goes\n",
      " 10\n",
      " acting\n",
      " ve\n",
      " steven\n",
      " hours\n",
      "Cluster 1:\n",
      " film\n",
      " mile\n",
      " movie\n",
      " green\n",
      " story\n",
      " paul\n",
      " coffey\n",
      " duncan\n",
      " king\n",
      " darabont\n",
      " john\n",
      " like\n",
      " long\n",
      " prison\n",
      " hanks\n",
      " make\n",
      " certainly\n",
      " death\n",
      " michael\n",
      " cast\n",
      " tom\n",
      " hours\n",
      " just\n",
      " edgecomb\n",
      "Cluster 2:\n",
      " movie\n",
      " gave\n",
      " cast\n",
      " book\n",
      " mile\n",
      " green\n",
      " michael\n",
      " performance\n",
      " career\n",
      " excellent\n",
      " film\n",
      " vulnerable\n",
      " weak\n",
      " great\n",
      " redemption\n",
      " shawshank\n",
      " depth\n",
      " miracle\n",
      " long\n",
      " bring\n",
      " duncan\n",
      " emotion\n",
      " hanks\n",
      " extraordinary\n"
     ]
    },
    {
     "data": {
      "text/plain": [
       "KMeans(algorithm='auto', copy_x=True, init='k-means++', max_iter=100,\n",
       "    n_clusters=3, n_init=10, n_jobs=1, precompute_distances='auto',\n",
       "    random_state=None, tol=0.0001, verbose=0)"
      ]
     },
     "execution_count": 23,
     "metadata": {},
     "output_type": "execute_result"
    }
   ],
   "source": [
    "run_kmeans(all_reviews, 3)"
   ]
  },
  {
   "cell_type": "code",
   "execution_count": null,
   "metadata": {},
   "outputs": [],
   "source": []
  }
 ],
 "metadata": {
  "kernelspec": {
   "display_name": "Python 3",
   "language": "python",
   "name": "python3"
  },
  "language_info": {
   "codemirror_mode": {
    "name": "ipython",
    "version": 3
   },
   "file_extension": ".py",
   "mimetype": "text/x-python",
   "name": "python",
   "nbconvert_exporter": "python",
   "pygments_lexer": "ipython3",
   "version": "3.6.5"
  }
 },
 "nbformat": 4,
 "nbformat_minor": 2
}

{
 "cells": [
  {
   "cell_type": "code",
   "execution_count": 1,
   "metadata": {},
   "outputs": [
    {
     "name": "stdout",
     "output_type": "stream",
     "text": [
      "system (python) info\n",
      "3.6.5 (default, Mar 30 2018, 06:41:53) \n",
      "[GCC 4.2.1 Compatible Apple LLVM 9.0.0 (clang-900.0.39.2)]\n",
      "\n",
      "nltk 3.3\n",
      "sklearn 0.19.1\n",
      "pandas 0.22.0\n",
      "matplotlib 2.2.2\n"
     ]
    }
   ],
   "source": [
    "import sys;\n",
    "print('system (python) info')\n",
    "print(sys.version)\n",
    "print('')\n",
    "\n",
    "import nltk; print( 'nltk ' + nltk.__version__)\n",
    "\n",
    "import sklearn; print( 'sklearn ' + sklearn.__version__)\n",
    "from sklearn.feature_extraction.text import TfidfVectorizer\n",
    "from sklearn.cluster import AgglomerativeClustering, KMeans\n",
    "\n",
    "import pandas as pd; print( 'pandas ' + pd.__version__)\n",
    "\n",
    "import matplotlib; print( 'matplotlib ' + matplotlib.__version__)\n",
    "import matplotlib.pyplot as plt"
   ]
  },
  {
   "cell_type": "markdown",
   "metadata": {},
   "source": [
    "# Write Up"
   ]
  },
  {
   "cell_type": "markdown",
   "metadata": {},
   "source": [
    "### Question 1\n",
    "\n",
    "\n",
    "#### 2 Clusters (k=2)\n",
    " - Cluster 1: _personal_ and _succes_\n",
    " - Cluster 2: _succès_ and _french_\n",
    " \n",
    "#### 3 Clusters (k=3)\n",
    " - Cluster 1: _personal_ and _life_\n",
    " - Cluster 2: _lois_ and _les_\n",
    " - Cluster 3: _pour_ and _succès_\n",
    "\n",
    "### Question 2\n",
    "Using K-means, I see that by using `k=2`, my crazy titles get split into two categories where one is always French and the second is always English. When using `k=3`, one of the categories is always English and two of the categories are in French..annoyingly split by whether the titel is plural (_Les Lois_) or some other derivitive.\n",
    "\n",
    "### Question 3\n",
    "I would say that `k=2` is definitely preferably to `k=3` due to the fact that half of the documents are French. It is very helpful, in my opinion, to know which is which."
   ]
  },
  {
   "cell_type": "markdown",
   "metadata": {},
   "source": [
    "# Code"
   ]
  },
  {
   "cell_type": "code",
   "execution_count": 2,
   "metadata": {},
   "outputs": [],
   "source": [
    "# https://www.amazon.com/s/ref=sr_nr_n_18?fst=as%3Aoff&rh=n%3A283155%2Ck%3Asucces&keywords=succes&ie=UTF8&qid=1541269254&rnid=2941120011\n",
    "titles = [\n",
    "    # page 1\n",
    "    \"Positive Thinking: Happiness and Success Follow Optimism (Destroy Stress and Self-Doubt) (Positive Thinking, Happiness, techniques, power of positive thinking, health, success,quotes)\",\n",
    "    \"Les Sept Lois Spirituelles Du Succes. (Aventure Secrete) (English and French Edition)\",\n",
    "    \"L'ETAT D'ESPRIT POUR ENTREPRENDRE: Réveillez l'entrepreneur à succès qui est en vous ! (French Edition)\",\n",
    "    \"Working With the Law - Original: 11 principles for succes in life - FULL BOOK\",\n",
    "    \"Five Secrets of Compelling People: How to Have a Powerful, Irresistible Effect and Gain Respect Instantly (book about personal development, succes principles, ... respect, leadership, power, influence)\",\n",
    "    \"COACHING :Coaching Questions Powerful Coaching Questions To Kickstart Personal Growth And Succes Now ! - Life Coaching,Life Coach, Success Principles,Success Habits-\",\n",
    "    \"Five Secrets Of Happy People: How To Be Happy, Stay Happy And Live Happily Ever After (personal development, succes principles, happier at home, succesful people, happiness project)\",\n",
    "    \"le succès par la pensée constructive\",\n",
    "    \"A Woman's Guide to Personal Achievement & Professional Succes\",\n",
    "    \"non, mon mariage ne sera pas un echec: prieres contre les esprits qui detruisent les mariages (mariage spirituel, succes est un choix, emotion invincible, ... maledictions, sexualite) (French Edition)\",\n",
    "    \"Des associés qui cartonnent: Comment et pourquoi s'associer avec succès (French Edition)\",\n",
    "    \"CONSEILS POUR ÊTRE UN ÉTUDIANT DE SUCCÈS: Tout le monde est un génie en potentiel. Il suffit de le réveiller chez nous! (French Edition)\",\n",
    "    # page 2\n",
    "    \"LES BASES DU SUCCES: développement personnel - 60 pages indispensables pour réussir et devenir riche. Appliquez des principes simples pour réaliser vos objectifs et surperformer. (French Edition)\",\n",
    "    \"Les Lois Du Succès Spirituel (volume Un) (French Edition)\",\n",
    "    \"Les 7 lois spirituelles du succès (French Edition)\",\n",
    "    \"Les 7 lois spirituelles du succès (French Edition)\",\n",
    "    \"Le Secret du Succès: Un cours en 9 leçons sur la mise en pratique des pouvoirs latents de l'individu pour réussir dans la vie. (French Edition)\",\n",
    "    \"Comment écrire son premier roman ?: Découvrez les secrets pour devenir un écrivain à succès (French Edition)\",\n",
    "    \"Wealth: Succes Tips for Entrepreneurs & Business Owners\",\n",
    "    \"LES BASES DU SUCCES ET DE L'ENRICHISSEMENT FINANCIER: développement personnel : apprenez comment devenir riche (French Edition)\",\n",
    "    \"Clefs de Succès Pour Maximiser Chaque Nouvelle Année (French Edition)\",\n",
    "    \"Le Système-clé Universel du Succès - Charles Haanel - The Master Key System (traduit) (Les guides pratiques de la Web-librairie.com) (French Edition)\",\n",
    "    \"le succes est un choix: les secrets du succes dans la vie (gestion du temps. sexualite, emotions, non mon mariage ne sera pas un echec, reussir son mariage, ... combats, delivrance) (French Edition)\",\n",
    "    \"BOLD! Life Skills and Goal Success System. Prosper with Passion, Purpose & Personal Power. Self Help Personal Development.: Self Development. How to be Successful. Create Prosperity, Abundance & Joy\",\n",
    "]"
   ]
  },
  {
   "cell_type": "code",
   "execution_count": 3,
   "metadata": {},
   "outputs": [],
   "source": [
    "# Create a cluster from titles (helped by https://pythonprogramminglanguage.com/kmeans-text-clustering/)\n",
    "def run_kmeans(true_k):\n",
    "    def create_vectorization(text):\n",
    "        vectorizor = TfidfVectorizer(stop_words='english')\n",
    "        return [vectorizor, vectorizor.fit_transform(text)]\n",
    "    vectorizor, X = create_vectorization(titles)\n",
    "\n",
    "    def create_cluster_model(X):\n",
    "        # model = AgglomerativeClustering(linkage='average', n_clusters=true_k)\n",
    "        model = KMeans(n_clusters=true_k, max_iter=100)\n",
    "        model.fit(X.toarray())\n",
    "\n",
    "        return model\n",
    "    model = create_cluster_model(X)\n",
    "\n",
    "    def get_top_terms_per_cluster(model):\n",
    "        print(\"Top terms per cluster:\")\n",
    "        order_centroids = model.cluster_centers_.argsort()[:, ::-1]\n",
    "        terms = vectorizor.get_feature_names()\n",
    "        for i in range(true_k):\n",
    "            print(\"Cluster %d:\" % i),\n",
    "            for ind in order_centroids[i, :2]:\n",
    "                print(' %s' % terms[ind]),\n",
    "            print\n",
    "    get_top_terms_per_cluster(model)"
   ]
  },
  {
   "cell_type": "code",
   "execution_count": 4,
   "metadata": {},
   "outputs": [
    {
     "name": "stdout",
     "output_type": "stream",
     "text": [
      "Top terms per cluster:\n",
      "Cluster 0:\n",
      " succes\n",
      " personal\n",
      "Cluster 1:\n",
      " edition\n",
      " french\n"
     ]
    }
   ],
   "source": [
    "# 2 clusters\n",
    "run_kmeans(2)"
   ]
  },
  {
   "cell_type": "code",
   "execution_count": 5,
   "metadata": {},
   "outputs": [
    {
     "name": "stdout",
     "output_type": "stream",
     "text": [
      "Top terms per cluster:\n",
      "Cluster 0:\n",
      " personal\n",
      " succes\n",
      "Cluster 1:\n",
      " en\n",
      " le\n",
      "Cluster 2:\n",
      " les\n",
      " du\n"
     ]
    }
   ],
   "source": [
    "# 3 clusters\n",
    "run_kmeans(3)"
   ]
  }
 ],
 "metadata": {
  "kernelspec": {
   "display_name": "Python 3",
   "language": "python",
   "name": "python3"
  },
  "language_info": {
   "codemirror_mode": {
    "name": "ipython",
    "version": 3
   },
   "file_extension": ".py",
   "mimetype": "text/x-python",
   "name": "python",
   "nbconvert_exporter": "python",
   "pygments_lexer": "ipython3",
   "version": "3.6.5"
  }
 },
 "nbformat": 4,
 "nbformat_minor": 2
}

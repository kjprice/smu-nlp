{
 "cells": [
  {
   "cell_type": "code",
   "execution_count": 1,
   "metadata": {
    "collapsed": false
   },
   "outputs": [
    {
     "name": "stdout",
     "output_type": "stream",
     "text": [
      "*** Introductory Examples for the NLTK Book ***\n",
      "Loading text1, ..., text9 and sent1, ..., sent9\n",
      "Type the name of the text or sentence to view it.\n",
      "Type: 'texts()' or 'sents()' to list the materials.\n",
      "text1: Moby Dick by Herman Melville 1851\n",
      "text2: Sense and Sensibility by Jane Austen 1811\n",
      "text3: The Book of Genesis\n",
      "text4: Inaugural Address Corpus\n",
      "text5: Chat Corpus\n",
      "text6: Monty Python and the Holy Grail\n",
      "text7: Wall Street Journal\n",
      "text8: Personals Corpus\n",
      "text9: The Man Who Was Thursday by G . K . Chesterton 1908\n"
     ]
    },
    {
     "data": {
      "text/plain": [
       "'3.6.0 |Anaconda custom (x86_64)| (default, Dec 23 2016, 13:19:00) \\n[GCC 4.2.1 Compatible Apple LLVM 6.0 (clang-600.0.57)]'"
      ]
     },
     "execution_count": 1,
     "metadata": {},
     "output_type": "execute_result"
    }
   ],
   "source": [
    "from nltk import word_tokenize\n",
    "\n",
    "from bs4 import BeautifulSoup, SoupStrainer\n",
    "\n",
    "import re\n",
    "import requests;\n",
    "import sys; sys.version"
   ]
  },
  {
   "cell_type": "markdown",
   "metadata": {},
   "source": [
    "### Steps\n",
    "\n",
    " - Use the pipeline here https://www.nltk.org/book/ch03.html\n",
    " - Pull text from here http://www.gutenberg.org/wiki/Children%27s_Instructional_Books_(Bookshelf)\n",
    "  - Install https://www.digitalocean.com/community/tutorials/how-to-work-with-web-data-using-requests-and-beautiful-soup-with-python-3\n",
    "  - Collecting https://www.digitalocean.com/community/tutorials/how-to-scrape-web-pages-with-beautiful-soup-and-python-3\n",
    " - Create function that will pull all texts\n",
    " - Create function that will compare all texts and score them appropriately"
   ]
  },
  {
   "cell_type": "markdown",
   "metadata": {},
   "source": [
    "### Steps From Prof\n",
    "\n",
    "Overall general comment for homework 2\n",
    " The normalized vocabulary scores should be based on the largest vocabulary of the 100+ texts not from the three (3) texts files from homework 1.  \n",
    "\n",
    "Url link: http://www.gutenberg.org/wiki/Children%27s_Instructional_Books_(Bookshelf)\n",
    "\n",
    "The Bookshelf contains the following categories:\n",
    "- Misc.\n",
    "- Graded Readers\n",
    "- Poetry Readers\n",
    "- Readers for English Speakers Learning Other Languages\n",
    "- Non-English Readers\n",
    "- About Readers\n",
    "- Science and Nature\n",
    "- History\n",
    "- Geography\n",
    "- Uncategorized\n",
    "\n",
    "In your final homework product, please deliver the following:\n",
    "1) WORD or PDF file with your results\n",
    "   - You can elect to put all of your code and results in a Jupyter notebook file in the *.ipynb format, or\n",
    "   - Put all of your python code in a *.py file or multiple *.py files.\n",
    "\n",
    "If you decide to put all of your results in a Jupyter notebook, submit the following\n",
    "2) Jupyter notebook in *.ipynb format, or\n",
    "   - additionally, please upload a *.html file or *.pdf file of the Jupyter notebook file containing the python code\n",
    "\n",
    "Note: \n",
    "Please list all of the Text Mining/Text Analytics software tools used to analyze your homework assignment.\n",
    "\n",
    "I want everyone to get the best score on this assignment.  \n",
    "\n",
    "For those who have already submitted homework 2, if you want to resubmit your homework, please let me know.\n",
    "\n",
    "Please reference the NLP Pipeline listed in chapter 3 or in the following link: \n",
    "- https://www.nltk.org/book/ch03.html\n",
    "\n",
    "to help you frame how would do webscraping to obtain the Gutenberg Instructional Books."
   ]
  },
  {
   "cell_type": "code",
   "execution_count": 2,
   "metadata": {
    "collapsed": true
   },
   "outputs": [],
   "source": [
    "url_to_fetch_images = 'http://www.gutenberg.org/wiki/Children%27s_Instructional_Books_(Bookshelf)'"
   ]
  },
  {
   "cell_type": "code",
   "execution_count": 3,
   "metadata": {
    "collapsed": true
   },
   "outputs": [],
   "source": [
    "def get_text_from_url(url):\n",
    "    return requests.get(url).text\n",
    "\n",
    "# _txt = get_text_from_url(url_to_fetch_images)"
   ]
  },
  {
   "cell_type": "code",
   "execution_count": 4,
   "metadata": {
    "collapsed": false
   },
   "outputs": [],
   "source": [
    "def get_all_links_from_html(html):\n",
    "    tags = BeautifulSoup(html, 'html.parser', parse_only=SoupStrainer('a', href=True))\n",
    "    urls = [str(tag.attrs['href']) for tag in tags]\n",
    "    return urls\n",
    "#_links = get_all_links_from_html(_txt)"
   ]
  },
  {
   "cell_type": "code",
   "execution_count": 5,
   "metadata": {
    "collapsed": false
   },
   "outputs": [],
   "source": [
    "def relevent_link(link):\n",
    "    if '/ebooks/' in link:\n",
    "        return True\n",
    "    return False\n",
    "    \n",
    "#_relevent_links = list(filter(relevent_link, _links))"
   ]
  },
  {
   "cell_type": "code",
   "execution_count": 6,
   "metadata": {
    "collapsed": false
   },
   "outputs": [],
   "source": [
    "def get_book_ids_from_links(links):\n",
    "    return [link.split('/ebooks/').pop() for link in links]\n",
    "\n",
    "#_book_ids = get_book_ids_from_links(_relevent_links)"
   ]
  },
  {
   "cell_type": "code",
   "execution_count": 7,
   "metadata": {
    "collapsed": false
   },
   "outputs": [],
   "source": [
    "def get_book_text_urls_from_ids(ids):\n",
    "    url_template = 'http://www.gutenberg.org/files/{}/{}.txt'\n",
    "    # url_template = 'http://www.gutenberg.org/files/{}/{}-h/{}-h.htm'\n",
    "    return [url_template.format(id, id, id) for id in ids]\n",
    "\n",
    "#_book_text_urls = get_book_text_urls_from_ids(_book_ids)"
   ]
  },
  {
   "cell_type": "code",
   "execution_count": 8,
   "metadata": {
    "collapsed": false
   },
   "outputs": [],
   "source": [
    "#get_text_from_url(_book_text_urls[0])"
   ]
  },
  {
   "cell_type": "code",
   "execution_count": 9,
   "metadata": {
    "collapsed": false
   },
   "outputs": [],
   "source": [
    "#get_text_from_url(clean_link(_relevent_links[0]))"
   ]
  },
  {
   "cell_type": "code",
   "execution_count": null,
   "metadata": {
    "collapsed": true
   },
   "outputs": [],
   "source": []
  },
  {
   "cell_type": "code",
   "execution_count": null,
   "metadata": {
    "collapsed": true
   },
   "outputs": [],
   "source": []
  },
  {
   "cell_type": "code",
   "execution_count": 20,
   "metadata": {
    "collapsed": false
   },
   "outputs": [
    {
     "name": "stdout",
     "output_type": "stream",
     "text": [
      "found 104 books\n",
      "fetching book via http://www.gutenberg.org/files/7841/7841.txt found text with 68479 characters\n",
      "fetching book via http://www.gutenberg.org/files/5742/5742.txt found text with 69077 characters\n",
      "fetching book via http://www.gutenberg.org/files/13539/13539.txt found text with 231140 characters\n",
      "fetching book via http://www.gutenberg.org/files/7425/7425.txt found text with 238071 characters\n",
      "fetching book via http://www.gutenberg.org/files/16046/16046.txt found text with 83404 characters\n",
      "fetching book via http://www.gutenberg.org/files/22420/22420.txt found text with 203822 characters\n",
      "fetching book via http://www.gutenberg.org/files/23424/23424.txt found text with 78 characters\n",
      "fetching book via http://www.gutenberg.org/files/18217/18217.txt found text with 140578 characters\n",
      "fetching book via http://www.gutenberg.org/files/24053/24053.txt found text with 99211 characters\n",
      "fetching book via http://www.gutenberg.org/files/24644/24644.txt found text with 89469 characters\n",
      "fetching book via http://www.gutenberg.org/files/24703/24703.txt found text with 22146 characters\n",
      "fetching book via http://www.gutenberg.org/files/15659/15659.txt found text with 142821 characters\n",
      "fetching book via http://www.gutenberg.org/files/15170/15170.txt found text with 214849 characters\n",
      "fetching book via http://www.gutenberg.org/files/10811/10811.txt found text with 351917 characters\n",
      "fetching book via http://www.gutenberg.org/files/9106/9106.txt found text with 78 characters\n",
      "fetching book via http://www.gutenberg.org/files/19721/19721.txt found text with 621706 characters\n",
      "fetching book via http://www.gutenberg.org/files/14640/14640.txt found text with 63841 characters\n",
      "fetching book via http://www.gutenberg.org/files/14668/14668.txt found text with 121626 characters\n",
      "fetching book via http://www.gutenberg.org/files/14766/14766.txt found text with 168180 characters\n",
      "fetching book via http://www.gutenberg.org/files/14880/14880.txt found text with 388629 characters\n",
      "fetching book via http://www.gutenberg.org/files/15040/15040.txt found text with 605299 characters\n",
      "fetching book via http://www.gutenberg.org/files/16751/16751.txt found text with 841543 characters\n",
      "fetching book via http://www.gutenberg.org/files/13853/13853.txt found text with 66774 characters\n",
      "fetching book via http://www.gutenberg.org/files/15825/15825.txt found text with 432007 characters\n",
      "fetching book via http://www.gutenberg.org/files/18561/18561.txt found text with 399454 characters\n",
      "fetching book via http://www.gutenberg.org/files/18702/18702.txt found text with 479739 characters\n",
      "fetching book via http://www.gutenberg.org/files/19923/19923.txt found text with 785254 characters\n",
      "fetching book via http://www.gutenberg.org/files/22795/22795.txt found text with 513537 characters\n",
      "fetching book via http://www.gutenberg.org/files/16936/16936.txt found text with 238258 characters\n",
      "fetching book via http://www.gutenberg.org/files/9078/9078.txt found text with 684884 characters\n",
      "fetching book via http://www.gutenberg.org/files/6685/6685.txt found text with 156482 characters\n",
      "fetching book via http://www.gutenberg.org/files/18909/18909.txt found text with 536835 characters\n",
      "fetching book via http://www.gutenberg.org/files/19469/19469.txt found text with 561948 characters\n",
      "fetching book via http://www.gutenberg.org/files/9542/9542.txt found text with 132918 characters\n",
      "fetching book via http://www.gutenberg.org/files/11023/11023.txt found text with 35241 characters\n",
      "fetching book via http://www.gutenberg.org/files/8997/8997.txt found text with 78 characters\n",
      "fetching book via http://www.gutenberg.org/files/15353/15353.txt found text with 286595 characters\n",
      "fetching book via http://www.gutenberg.org/files/22065/22065.txt found text with 78 characters\n",
      "fetching book via http://www.gutenberg.org/files/24072/24072.txt found text with 78 characters\n",
      "fetching book via http://www.gutenberg.org/files/15626/15626.txt found text with 78 characters\n",
      "fetching book via http://www.gutenberg.org/files/23424/23424.txt found text with 78 characters\n",
      "fetching book via http://www.gutenberg.org/files/15577/15577.txt found text with 126454 characters\n",
      "fetching book via http://www.gutenberg.org/files/18274/18274.txt found text with 630095 characters\n",
      "fetching book via http://www.gutenberg.org/files/19381/19381.txt found text with 232209 characters\n",
      "fetching book via http://www.gutenberg.org/files/13347/13347.txt found text with 97264 characters\n",
      "fetching book via http://www.gutenberg.org/files/21973/21973.txt found text with 613582 characters\n",
      "fetching book via http://www.gutenberg.org/files/10737/10737.txt found text with 26088 characters\n",
      "fetching book via http://www.gutenberg.org/files/21266/21266.txt found text with 145366 characters\n",
      "fetching book via http://www.gutenberg.org/files/17365/17365.txt found text with 22913 characters\n",
      "fetching book via http://www.gutenberg.org/files/2284/2284.txt found text with 332475 characters\n",
      "fetching book via http://www.gutenberg.org/files/3031/3031.txt found text with 302442 characters\n",
      "fetching book via http://www.gutenberg.org/files/23667/23667.txt found text with 286339 characters\n",
      "fetching book via http://www.gutenberg.org/files/15950/15950.txt found text with 223431 characters\n",
      "fetching book via http://www.gutenberg.org/files/18072/18072.txt found text with 78 characters\n",
      "fetching book via http://www.gutenberg.org/files/2441/2441.txt found text with 439568 characters\n",
      "fetching book via http://www.gutenberg.org/files/17185/17185.txt found text with 217449 characters\n",
      "fetching book via http://www.gutenberg.org/files/10834/10834.txt found text with 36117 characters\n",
      "fetching book via http://www.gutenberg.org/files/18790/18790.txt found text with 219534 characters\n",
      "fetching book via http://www.gutenberg.org/files/16140/16140.txt found text with 237283 characters\n",
      "fetching book via http://www.gutenberg.org/files/21948/21948.txt found text with 191165 characters\n",
      "fetching book via http://www.gutenberg.org/files/10726/10726.txt found text with 182391 characters\n",
      "fetching book via http://www.gutenberg.org/files/18767/18767.txt found text with 315982 characters\n",
      "fetching book via http://www.gutenberg.org/files/22408/22408.txt found text with 94045 characters\n",
      "fetching book via http://www.gutenberg.org/files/14759/14759.txt found text with 374708 characters\n",
      "fetching book via http://www.gutenberg.org/files/23576/23576.txt found text with 289343 characters\n",
      "fetching book via http://www.gutenberg.org/files/24263/24263.txt found text with 146740 characters\n",
      "fetching book via http://www.gutenberg.org/files/24222/24222.txt found text with 410766 characters\n",
      "fetching book via http://www.gutenberg.org/files/23941/23941.txt found text with 273457 characters\n",
      "fetching book via http://www.gutenberg.org/files/18525/18525.txt found text with 359198 characters\n",
      "fetching book via http://www.gutenberg.org/files/24409/24409.txt found text with 451923 characters\n",
      "fetching book via http://www.gutenberg.org/files/24852/24852.txt found text with 205111 characters\n",
      "fetching book via http://www.gutenberg.org/files/24598/24598.txt found text with 1336787 characters\n",
      "fetching book via http://www.gutenberg.org/files/11313/11313.txt found text with 906157 characters\n",
      "fetching book via http://www.gutenberg.org/files/18561/18561.txt found text with 399454 characters\n",
      "fetching book via http://www.gutenberg.org/files/16667/16667.txt found text with 386515 characters\n",
      "fetching book via http://www.gutenberg.org/files/20107/20107.txt found text with 139853 characters\n",
      "fetching book via http://www.gutenberg.org/files/22727/22727.txt found text with 401154 characters\n",
      "fetching book via http://www.gutenberg.org/files/9995/9995.txt found text with 139249 characters\n",
      "fetching book via http://www.gutenberg.org/files/22911/22911.txt found text with 107468 characters\n",
      "fetching book via http://www.gutenberg.org/files/24676/24676.txt found text with 163780 characters\n",
      "fetching book via http://www.gutenberg.org/files/24884/24884.txt found text with 620661 characters\n",
      "fetching book via http://www.gutenberg.org/files/21783/21783.txt found text with 216472 characters\n",
      "fetching book via http://www.gutenberg.org/files/17160/17160.txt found text with 571702 characters\n",
      "fetching book via http://www.gutenberg.org/files/16728/16728.txt found text with 421177 characters\n",
      "fetching book via http://www.gutenberg.org/files/16379/16379.txt found text with 110187 characters\n",
      "fetching book via http://www.gutenberg.org/files/20522/20522.txt found text with 438480 characters\n",
      "fetching book via http://www.gutenberg.org/files/20698/20698.txt found text with 234593 characters\n",
      "fetching book via http://www.gutenberg.org/files/19423/19423.txt found text with 287775 characters\n",
      "fetching book via http://www.gutenberg.org/files/7803/7803.txt found text with 178134 characters\n",
      "fetching book via http://www.gutenberg.org/files/24858/24858.txt found text with 210728 characters\n",
      "fetching book via http://www.gutenberg.org/files/22245/22245.txt found text with 361808 characters\n",
      "fetching book via http://www.gutenberg.org/files/23560/23560.txt found text with 377508 characters\n",
      "fetching book via http://www.gutenberg.org/files/23728/23728.txt found text with 367101 characters\n",
      "fetching book via http://www.gutenberg.org/files/22425/22425.txt found text with 89251 characters\n",
      "fetching book via http://www.gutenberg.org/files/22600/22600.txt found text with 241658 characters\n",
      "fetching book via http://www.gutenberg.org/files/22766/22766.txt found text with 275255 characters\n",
      "fetching book via http://www.gutenberg.org/files/22917/22917.txt found text with 78 characters\n",
      "fetching book via http://www.gutenberg.org/files/12655/12655.txt found text with 1356690 characters\n",
      "fetching book via http://www.gutenberg.org/files/22925/22925.txt found text with 323114 characters\n",
      "fetching book via http://www.gutenberg.org/files/23395/23395.txt found text with 196584 characters\n",
      "fetching book via http://www.gutenberg.org/files/24030/24030.txt found text with 318646 characters\n",
      "fetching book via http://www.gutenberg.org/files/24125/24125.txt found text with 32226 characters\n",
      "fetching book via http://www.gutenberg.org/files/24656/24656.txt found text with 333240 characters\n",
      "fetching book via http://www.gutenberg.org/files/20557/20557.txt found text with 348760 characters\n"
     ]
    },
    {
     "data": {
      "text/plain": [
       "1"
      ]
     },
     "execution_count": 20,
     "metadata": {},
     "output_type": "execute_result"
    }
   ],
   "source": [
    "#all_texts = [{ 'corpus': 'a bad bunny.'}, { 'corpus': 'one 1 sad day did no wrong on this day'}, { 'corpus': 'the big bad bear died'}]\n",
    "all_texts = []\n",
    "\n",
    "def fetch_all_texts():\n",
    "    if len(all_texts) > 0:\n",
    "        print(len(all_texts))\n",
    "        return\n",
    "    # get all the html from the home page of some site\n",
    "    home_page_html = get_text_from_url(url_to_fetch_images)\n",
    "    # get all the links from the html\n",
    "    all_links_from_home_page = get_all_links_from_html(home_page_html)\n",
    "    # remove unhelpful links\n",
    "    relevent_links_from_home_page = list(filter(relevent_link, all_links_from_home_page))\n",
    "\n",
    "    book_ids = get_book_ids_from_links(relevent_links_from_home_page)\n",
    "    book_urls = get_book_text_urls_from_ids(book_ids)\n",
    "    print('found {} books'.format(len(book_urls)))\n",
    "    book_i = 0\n",
    "    for url in book_urls:\n",
    "        print ('fetching book via {}'.format(url), end=' ')\n",
    "        book_text = get_text_from_url(url)\n",
    "        print('found text with {} characters'.format(len(book_text)))\n",
    "        all_texts.append({\n",
    "            'url': url,\n",
    "            'corpus': book_text\n",
    "        })\n",
    "\n",
    "        book_i += 1\n",
    "        # provide a number to cap\n",
    "        if book_i == 200:\n",
    "            return\n",
    "        \n",
    "    \n",
    "    # append to all_texts a dictionary with the raw text\n",
    "    return 1\n",
    "fetch_all_texts()"
   ]
  },
  {
   "cell_type": "code",
   "execution_count": 12,
   "metadata": {
    "collapsed": true
   },
   "outputs": [],
   "source": [
    "def get_words_from_corpus(corpus):\n",
    "    # use regex to only take in actually alphabetic characters\n",
    "    corpus = re.sub('[^a-zA-Z\\s]', '', corpus)\n",
    "    # get the lowercase of all letter\n",
    "    corpus = corpus.lower()\n",
    "    # vectorize all the words\n",
    "    return word_tokenize(corpus)"
   ]
  },
  {
   "cell_type": "code",
   "execution_count": 13,
   "metadata": {
    "collapsed": true
   },
   "outputs": [],
   "source": [
    "def get_unique_words(words):\n",
    "    return set(words)"
   ]
  },
  {
   "cell_type": "code",
   "execution_count": 21,
   "metadata": {
    "collapsed": false
   },
   "outputs": [
    {
     "name": "stdout",
     "output_type": "stream",
     "text": [
      "score: 0.10336668469442942, url: http://www.gutenberg.org/files/7841/7841.txt\n",
      "score: 0.11918604651162791, url: http://www.gutenberg.org/files/5742/5742.txt\n",
      "score: 0.31672525689561926, url: http://www.gutenberg.org/files/13539/13539.txt\n",
      "score: 0.3146295294753921, url: http://www.gutenberg.org/files/7425/7425.txt\n",
      "score: 0.12053812871822607, url: http://www.gutenberg.org/files/16046/16046.txt\n",
      "score: 0.15555705786911844, url: http://www.gutenberg.org/files/22420/22420.txt\n",
      "score: 0.0006760411032990806, url: http://www.gutenberg.org/files/23424/23424.txt\n",
      "score: 0.17326933477555434, url: http://www.gutenberg.org/files/18217/18217.txt\n",
      "score: 0.19253650621957816, url: http://www.gutenberg.org/files/24053/24053.txt\n",
      "score: 0.17685235262303947, url: http://www.gutenberg.org/files/24644/24644.txt\n",
      "score: 0.05428610059491617, url: http://www.gutenberg.org/files/24703/24703.txt\n",
      "score: 0.27055164954029204, url: http://www.gutenberg.org/files/15659/15659.txt\n",
      "score: 0.2844104921579232, url: http://www.gutenberg.org/files/15170/15170.txt\n",
      "score: 0.5157517577068685, url: http://www.gutenberg.org/files/10811/10811.txt\n",
      "score: 0.0006760411032990806, url: http://www.gutenberg.org/files/9106/9106.txt\n",
      "score: 0.8057733910221742, url: http://www.gutenberg.org/files/19721/19721.txt\n",
      "score: 0.11215521903731747, url: http://www.gutenberg.org/files/14640/14640.txt\n",
      "score: 0.20267712276906436, url: http://www.gutenberg.org/files/14668/14668.txt\n",
      "score: 0.2601406165494862, url: http://www.gutenberg.org/files/14766/14766.txt\n",
      "score: 0.5645619253650622, url: http://www.gutenberg.org/files/14880/14880.txt\n",
      "score: 0.7850865332612222, url: http://www.gutenberg.org/files/15040/15040.txt\n",
      "score: 1.0, url: http://www.gutenberg.org/files/16751/16751.txt\n",
      "score: 0.0930908599242834, url: http://www.gutenberg.org/files/13853/13853.txt\n",
      "score: 0.5152109248242294, url: http://www.gutenberg.org/files/15825/15825.txt\n",
      "score: 0.5784207679826934, url: http://www.gutenberg.org/files/18561/18561.txt\n",
      "score: 0.7210654407787993, url: http://www.gutenberg.org/files/18702/18702.txt\n",
      "score: 0.9988507301243915, url: http://www.gutenberg.org/files/19923/19923.txt\n",
      "score: 0.6577203893996755, url: http://www.gutenberg.org/files/22795/22795.txt\n",
      "score: 0.34288804759329367, url: http://www.gutenberg.org/files/16936/16936.txt\n",
      "score: 0.9089372633856139, url: http://www.gutenberg.org/files/9078/9078.txt\n",
      "score: 0.21957815035154138, url: http://www.gutenberg.org/files/6685/6685.txt\n",
      "score: 0.7119388858842618, url: http://www.gutenberg.org/files/18909/18909.txt\n",
      "score: 0.7362763656030287, url: http://www.gutenberg.org/files/19469/19469.txt\n",
      "score: 0.3188885884261763, url: http://www.gutenberg.org/files/9542/9542.txt\n",
      "score: 0.09674148188209843, url: http://www.gutenberg.org/files/11023/11023.txt\n",
      "score: 0.0006760411032990806, url: http://www.gutenberg.org/files/8997/8997.txt\n",
      "score: 0.5968090859924283, url: http://www.gutenberg.org/files/15353/15353.txt\n",
      "score: 0.0006760411032990806, url: http://www.gutenberg.org/files/22065/22065.txt\n",
      "score: 0.0006760411032990806, url: http://www.gutenberg.org/files/24072/24072.txt\n",
      "score: 0.0006760411032990806, url: http://www.gutenberg.org/files/15626/15626.txt\n",
      "score: 0.0006760411032990806, url: http://www.gutenberg.org/files/23424/23424.txt\n",
      "score: 0.24438885884261763, url: http://www.gutenberg.org/files/15577/15577.txt\n",
      "score: 0.7127501352082206, url: http://www.gutenberg.org/files/18274/18274.txt\n",
      "score: 0.22613574905354245, url: http://www.gutenberg.org/files/19381/19381.txt\n",
      "score: 0.1484586262844781, url: http://www.gutenberg.org/files/13347/13347.txt\n",
      "score: 0.6729313142239048, url: http://www.gutenberg.org/files/21973/21973.txt\n",
      "score: 0.06834775554353704, url: http://www.gutenberg.org/files/10737/10737.txt\n",
      "score: 0.2814359113034072, url: http://www.gutenberg.org/files/21266/21266.txt\n",
      "score: 0.05820713899405084, url: http://www.gutenberg.org/files/17365/17365.txt\n",
      "score: 0.5066928069226609, url: http://www.gutenberg.org/files/2284/2284.txt\n",
      "score: 0.4503785830178475, url: http://www.gutenberg.org/files/3031/3031.txt\n",
      "score: 0.3800027041644132, url: http://www.gutenberg.org/files/23667/23667.txt\n",
      "score: 0.310302866414278, url: http://www.gutenberg.org/files/15950/15950.txt\n",
      "score: 0.0006760411032990806, url: http://www.gutenberg.org/files/18072/18072.txt\n",
      "score: 0.30888318009734994, url: http://www.gutenberg.org/files/2441/2441.txt\n",
      "score: 0.3589778258518118, url: http://www.gutenberg.org/files/17185/17185.txt\n",
      "score: 0.09958085451595457, url: http://www.gutenberg.org/files/10834/10834.txt\n",
      "score: 0.25135208220659816, url: http://www.gutenberg.org/files/18790/18790.txt\n",
      "score: 0.3216603569497025, url: http://www.gutenberg.org/files/16140/16140.txt\n",
      "score: 0.2718361276365603, url: http://www.gutenberg.org/files/21948/21948.txt\n",
      "score: 0.2399269875608437, url: http://www.gutenberg.org/files/10726/10726.txt\n",
      "score: 0.43226068144943214, url: http://www.gutenberg.org/files/18767/18767.txt\n",
      "score: 0.2381692806922661, url: http://www.gutenberg.org/files/22408/22408.txt\n",
      "score: 0.5217685235262304, url: http://www.gutenberg.org/files/14759/14759.txt\n",
      "score: 0.3841941590048675, url: http://www.gutenberg.org/files/23576/23576.txt\n",
      "score: 0.284545700378583, url: http://www.gutenberg.org/files/24263/24263.txt\n",
      "score: 0.46944294213088156, url: http://www.gutenberg.org/files/24222/24222.txt\n",
      "score: 0.4210383991346674, url: http://www.gutenberg.org/files/23941/23941.txt\n",
      "score: 0.4354380746349378, url: http://www.gutenberg.org/files/18525/18525.txt\n",
      "score: 0.5425905895078421, url: http://www.gutenberg.org/files/24409/24409.txt\n",
      "score: 0.20267712276906436, url: http://www.gutenberg.org/files/24852/24852.txt\n",
      "score: 0.9148864250946458, url: http://www.gutenberg.org/files/24598/24598.txt\n",
      "score: 0.6634667387777177, url: http://www.gutenberg.org/files/11313/11313.txt\n",
      "score: 0.5784207679826934, url: http://www.gutenberg.org/files/18561/18561.txt\n",
      "score: 0.4355732828555976, url: http://www.gutenberg.org/files/16667/16667.txt\n",
      "score: 0.3196998377501352, url: http://www.gutenberg.org/files/20107/20107.txt\n",
      "score: 0.39372633856138456, url: http://www.gutenberg.org/files/22727/22727.txt\n",
      "score: 0.2730530016224986, url: http://www.gutenberg.org/files/9995/9995.txt\n",
      "score: 0.16515684153596538, url: http://www.gutenberg.org/files/22911/22911.txt\n",
      "score: 0.31334505137912383, url: http://www.gutenberg.org/files/24676/24676.txt\n",
      "score: 0.5959978366684694, url: http://www.gutenberg.org/files/24884/24884.txt\n",
      "score: 0.24979718766901027, url: http://www.gutenberg.org/files/21783/21783.txt\n",
      "score: 0.8057733910221742, url: http://www.gutenberg.org/files/17160/17160.txt\n",
      "score: 0.49263115197404, url: http://www.gutenberg.org/files/16728/16728.txt\n",
      "score: 0.13730394808004326, url: http://www.gutenberg.org/files/16379/16379.txt\n",
      "score: 0.4582882639264467, url: http://www.gutenberg.org/files/20522/20522.txt\n",
      "score: 0.3379529475392104, url: http://www.gutenberg.org/files/20698/20698.txt\n",
      "score: 0.3835181179015684, url: http://www.gutenberg.org/files/19423/19423.txt\n",
      "score: 0.30739588967009196, url: http://www.gutenberg.org/files/7803/7803.txt\n",
      "score: 0.29725527312060573, url: http://www.gutenberg.org/files/24858/24858.txt\n",
      "score: 0.4733639805300162, url: http://www.gutenberg.org/files/22245/22245.txt\n",
      "score: 0.4890481341265549, url: http://www.gutenberg.org/files/23560/23560.txt\n",
      "score: 0.4607896160086533, url: http://www.gutenberg.org/files/23728/23728.txt\n",
      "score: 0.19273931855056786, url: http://www.gutenberg.org/files/22425/22425.txt\n",
      "score: 0.3510005408328826, url: http://www.gutenberg.org/files/22600/22600.txt\n",
      "score: 0.2643320713899405, url: http://www.gutenberg.org/files/22766/22766.txt\n",
      "score: 0.0006760411032990806, url: http://www.gutenberg.org/files/22917/22917.txt\n",
      "score: 0.6711060032449973, url: http://www.gutenberg.org/files/12655/12655.txt\n",
      "score: 0.4780962682531098, url: http://www.gutenberg.org/files/22925/22925.txt\n",
      "score: 0.3841941590048675, url: http://www.gutenberg.org/files/23395/23395.txt\n",
      "score: 0.284545700378583, url: http://www.gutenberg.org/files/24030/24030.txt\n",
      "score: 0.07896160086533262, url: http://www.gutenberg.org/files/24125/24125.txt\n",
      "score: 0.3096944294213088, url: http://www.gutenberg.org/files/24656/24656.txt\n",
      "score: 0.31726608977825854, url: http://www.gutenberg.org/files/20557/20557.txt\n"
     ]
    }
   ],
   "source": [
    "# Loop through all_texts\n",
    "# Get the largest text\n",
    "# Score each item based on largest text\n",
    "#  - Add text scores to each record of all_texts\n",
    "def score_vocabulary_size():\n",
    "    highest_vocab = 0\n",
    "    \n",
    "    # get the vocabulary size of each item (and the highest item)\n",
    "    for text in all_texts:\n",
    "        corpus = text['corpus']\n",
    "        words = get_words_from_corpus(corpus)\n",
    "        unique_words = get_unique_words(words)\n",
    "        vocabulary_size = len(unique_words)\n",
    "        text['vocabulary_size'] = vocabulary_size\n",
    "\n",
    "        if vocabulary_size > highest_vocab:\n",
    "            highest_vocab = vocabulary_size\n",
    "\n",
    "    # score each item\n",
    "    for text in all_texts:\n",
    "        vocabulary_size = text['vocabulary_size']\n",
    "\n",
    "        vocabulary_score = float(vocabulary_size) / highest_vocab\n",
    "        text['vocabulary_score'] = vocabulary_score\n",
    "        print('score: {}, url: {}'.format(vocabulary_score, text['url']))\n",
    "\n",
    "score_vocabulary_size()"
   ]
  },
  {
   "cell_type": "markdown",
   "metadata": {},
   "source": [
    "## TODO\n",
    "\n",
    "Write paragraph describing why we used `score_vocabulary_size`."
   ]
  },
  {
   "cell_type": "code",
   "execution_count": null,
   "metadata": {
    "collapsed": false
   },
   "outputs": [],
   "source": [
    "help(re.sub)"
   ]
  },
  {
   "cell_type": "code",
   "execution_count": null,
   "metadata": {
    "collapsed": true
   },
   "outputs": [],
   "source": []
  }
 ],
 "metadata": {
  "kernelspec": {
   "display_name": "Python [conda root]",
   "language": "python",
   "name": "conda-root-py"
  },
  "language_info": {
   "codemirror_mode": {
    "name": "ipython",
    "version": 3
   },
   "file_extension": ".py",
   "mimetype": "text/x-python",
   "name": "python",
   "nbconvert_exporter": "python",
   "pygments_lexer": "ipython3",
   "version": "3.6.0"
  }
 },
 "nbformat": 4,
 "nbformat_minor": 2
}

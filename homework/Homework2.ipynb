{
 "cells": [
  {
   "cell_type": "code",
   "execution_count": 1,
   "metadata": {
    "collapsed": false
   },
   "outputs": [
    {
     "name": "stdout",
     "output_type": "stream",
     "text": [
      "system (python) info\n",
      "3.6.0 |Anaconda custom (x86_64)| (default, Dec 23 2016, 13:19:00) \n",
      "[GCC 4.2.1 Compatible Apple LLVM 6.0 (clang-600.0.57)]\n",
      "\n",
      "nltk 3.2.2\n",
      "bs4 4.5.3\n",
      "re 2.2.1\n",
      "requests 2.18.4\n"
     ]
    }
   ],
   "source": [
    "import sys;\n",
    "print('system (python) info')\n",
    "print(sys.version)\n",
    "print('')\n",
    "\n",
    "import nltk; print( 'nltk ' + nltk.__version__)\n",
    "from nltk import word_tokenize;\n",
    "\n",
    "import bs4; print( 'bs4 ' + bs4.__version__)\n",
    "from bs4 import BeautifulSoup, SoupStrainer;\n",
    "\n",
    "import re; print('re ' + re.__version__)\n",
    "import requests; print('requests ' + requests.__version__)"
   ]
  },
  {
   "cell_type": "markdown",
   "metadata": {},
   "source": [
    "# Write Up\n",
    "\n",
    "### Question 1\n",
    "\n",
    "I decided to simply divide the length of each text by the highest vocabulary size. There are various approaches, but this is the most straightforward way to interpret the results as each score is computed on a linear scale. This syntax is as follows and can be reviewed in the function named `get_vocabulary_score` below:\n",
    "\n",
    "```\n",
    "float(vocab_size) / highest_vocab_size\n",
    "```\n",
    "\n",
    "### Question 2\n",
    "\n",
    "To get the long word score, I simply count the number of long words are found in each corpus. Then I divide each number by the largest of these numbers. This syntax can reviewed in the function named `get_long_word_count` below and is summarized here:\n",
    "\n",
    "```\n",
    "    minimum_size = 15\n",
    "    long_words = [w for w in vocab if len(w) >= minimum_size]\n",
    "    return len(long_words)\n",
    "```\n",
    "\n",
    "### Question 3\n",
    "We first get the lexical diversity as explained in homework 1 by simply taking the number of unique words divided by the entire number of words. Then we find the _text difficulty_ by summing all three scores we have come calculated.\n",
    "\n",
    "Using this formula, it appears that the text with the most complexity is `A Modern History, From the Time of Luther to the Fall of Napoleon`"
   ]
  },
  {
   "cell_type": "markdown",
   "metadata": {},
   "source": [
    "# Code"
   ]
  },
  {
   "cell_type": "code",
   "execution_count": 2,
   "metadata": {
    "collapsed": true
   },
   "outputs": [],
   "source": [
    "url_to_fetch_images = 'http://www.gutenberg.org/wiki/Children%27s_Instructional_Books_(Bookshelf)'"
   ]
  },
  {
   "cell_type": "markdown",
   "metadata": {},
   "source": [
    "## Fetch all text from the server\n",
    "\n",
    "The following methods are used to fetch all text from the server"
   ]
  },
  {
   "cell_type": "code",
   "execution_count": 3,
   "metadata": {
    "collapsed": true
   },
   "outputs": [],
   "source": [
    "def get_text_from_url(url):\n",
    "    return requests.get(url).text"
   ]
  },
  {
   "cell_type": "code",
   "execution_count": 4,
   "metadata": {
    "collapsed": false
   },
   "outputs": [],
   "source": [
    "def get_all_links_from_html(html):\n",
    "    tags = BeautifulSoup(html, 'html.parser', parse_only=SoupStrainer('a', href=True))\n",
    "    urls = [str(tag.attrs['href']) for tag in tags]\n",
    "    return urls"
   ]
  },
  {
   "cell_type": "code",
   "execution_count": 5,
   "metadata": {
    "collapsed": false
   },
   "outputs": [],
   "source": [
    "def relevent_link(link):\n",
    "    if '/ebooks/' in link:\n",
    "        return True\n",
    "    return False"
   ]
  },
  {
   "cell_type": "code",
   "execution_count": 6,
   "metadata": {
    "collapsed": false
   },
   "outputs": [],
   "source": [
    "def get_book_ids_from_links(links):\n",
    "    return [link.split('/ebooks/').pop() for link in links]"
   ]
  },
  {
   "cell_type": "code",
   "execution_count": 7,
   "metadata": {
    "collapsed": false
   },
   "outputs": [],
   "source": [
    "def get_book_text_urls_from_ids(ids):\n",
    "    url_template = 'http://www.gutenberg.org/files/{}/{}.txt'\n",
    "    # url_template = 'http://www.gutenberg.org/files/{}/{}-h/{}-h.htm'\n",
    "    return [url_template.format(id, id, id) for id in ids]"
   ]
  },
  {
   "cell_type": "markdown",
   "metadata": {},
   "source": [
    "### Get all texts\n",
    "\n",
    "Note that there will be a few texts that cannot be loaded"
   ]
  },
  {
   "cell_type": "code",
   "execution_count": 8,
   "metadata": {
    "collapsed": false
   },
   "outputs": [
    {
     "name": "stdout",
     "output_type": "stream",
     "text": [
      "found 104 books\n",
      "fetching book via http://www.gutenberg.org/files/7841/7841.txt found text with 68479 characters\n",
      "fetching book via http://www.gutenberg.org/files/5742/5742.txt found text with 69077 characters\n",
      "fetching book via http://www.gutenberg.org/files/13539/13539.txt found text with 231140 characters\n",
      "fetching book via http://www.gutenberg.org/files/7425/7425.txt found text with 238071 characters\n",
      "fetching book via http://www.gutenberg.org/files/16046/16046.txt found text with 83404 characters\n",
      "fetching book via http://www.gutenberg.org/files/22420/22420.txt found text with 203822 characters\n",
      "fetching book via http://www.gutenberg.org/files/23424/23424.txt found text with 78 characters\n",
      "fetching book via http://www.gutenberg.org/files/18217/18217.txt found text with 140578 characters\n",
      "fetching book via http://www.gutenberg.org/files/24053/24053.txt found text with 99211 characters\n",
      "fetching book via http://www.gutenberg.org/files/24644/24644.txt found text with 89469 characters\n",
      "fetching book via http://www.gutenberg.org/files/24703/24703.txt found text with 22146 characters\n",
      "fetching book via http://www.gutenberg.org/files/15659/15659.txt found text with 142821 characters\n",
      "fetching book via http://www.gutenberg.org/files/15170/15170.txt found text with 214849 characters\n",
      "fetching book via http://www.gutenberg.org/files/10811/10811.txt found text with 351917 characters\n",
      "fetching book via http://www.gutenberg.org/files/9106/9106.txt found text with 78 characters\n",
      "fetching book via http://www.gutenberg.org/files/19721/19721.txt found text with 621706 characters\n",
      "fetching book via http://www.gutenberg.org/files/14640/14640.txt found text with 63841 characters\n",
      "fetching book via http://www.gutenberg.org/files/14668/14668.txt found text with 121626 characters\n",
      "fetching book via http://www.gutenberg.org/files/14766/14766.txt found text with 168180 characters\n",
      "fetching book via http://www.gutenberg.org/files/14880/14880.txt found text with 388629 characters\n",
      "fetching book via http://www.gutenberg.org/files/15040/15040.txt found text with 605299 characters\n",
      "fetching book via http://www.gutenberg.org/files/16751/16751.txt found text with 841543 characters\n",
      "fetching book via http://www.gutenberg.org/files/13853/13853.txt found text with 66774 characters\n",
      "fetching book via http://www.gutenberg.org/files/15825/15825.txt found text with 432007 characters\n",
      "fetching book via http://www.gutenberg.org/files/18561/18561.txt found text with 399454 characters\n",
      "fetching book via http://www.gutenberg.org/files/18702/18702.txt found text with 479739 characters\n",
      "fetching book via http://www.gutenberg.org/files/19923/19923.txt found text with 785254 characters\n",
      "fetching book via http://www.gutenberg.org/files/22795/22795.txt found text with 513537 characters\n",
      "fetching book via http://www.gutenberg.org/files/16936/16936.txt found text with 238258 characters\n",
      "fetching book via http://www.gutenberg.org/files/9078/9078.txt found text with 684884 characters\n",
      "fetching book via http://www.gutenberg.org/files/6685/6685.txt found text with 156482 characters\n",
      "fetching book via http://www.gutenberg.org/files/18909/18909.txt found text with 536835 characters\n",
      "fetching book via http://www.gutenberg.org/files/19469/19469.txt found text with 561948 characters\n",
      "fetching book via http://www.gutenberg.org/files/9542/9542.txt found text with 132918 characters\n",
      "fetching book via http://www.gutenberg.org/files/11023/11023.txt found text with 35241 characters\n",
      "fetching book via http://www.gutenberg.org/files/8997/8997.txt found text with 78 characters\n",
      "fetching book via http://www.gutenberg.org/files/15353/15353.txt found text with 286595 characters\n",
      "fetching book via http://www.gutenberg.org/files/22065/22065.txt found text with 78 characters\n",
      "fetching book via http://www.gutenberg.org/files/24072/24072.txt found text with 78 characters\n",
      "fetching book via http://www.gutenberg.org/files/15626/15626.txt found text with 78 characters\n",
      "fetching book via http://www.gutenberg.org/files/23424/23424.txt found text with 78 characters\n",
      "fetching book via http://www.gutenberg.org/files/15577/15577.txt found text with 126454 characters\n",
      "fetching book via http://www.gutenberg.org/files/18274/18274.txt found text with 630095 characters\n",
      "fetching book via http://www.gutenberg.org/files/19381/19381.txt found text with 232209 characters\n",
      "fetching book via http://www.gutenberg.org/files/13347/13347.txt found text with 97264 characters\n",
      "fetching book via http://www.gutenberg.org/files/21973/21973.txt found text with 613582 characters\n",
      "fetching book via http://www.gutenberg.org/files/10737/10737.txt found text with 26088 characters\n",
      "fetching book via http://www.gutenberg.org/files/21266/21266.txt found text with 145366 characters\n",
      "fetching book via http://www.gutenberg.org/files/17365/17365.txt found text with 22913 characters\n",
      "fetching book via http://www.gutenberg.org/files/2284/2284.txt found text with 332475 characters\n",
      "fetching book via http://www.gutenberg.org/files/3031/3031.txt found text with 302442 characters\n",
      "fetching book via http://www.gutenberg.org/files/23667/23667.txt found text with 286339 characters\n",
      "fetching book via http://www.gutenberg.org/files/15950/15950.txt found text with 223431 characters\n",
      "fetching book via http://www.gutenberg.org/files/18072/18072.txt found text with 78 characters\n",
      "fetching book via http://www.gutenberg.org/files/2441/2441.txt found text with 439568 characters\n",
      "fetching book via http://www.gutenberg.org/files/17185/17185.txt found text with 217449 characters\n",
      "fetching book via http://www.gutenberg.org/files/10834/10834.txt found text with 36117 characters\n",
      "fetching book via http://www.gutenberg.org/files/18790/18790.txt found text with 219534 characters\n",
      "fetching book via http://www.gutenberg.org/files/16140/16140.txt found text with 237283 characters\n",
      "fetching book via http://www.gutenberg.org/files/21948/21948.txt found text with 191165 characters\n",
      "fetching book via http://www.gutenberg.org/files/10726/10726.txt found text with 182391 characters\n",
      "fetching book via http://www.gutenberg.org/files/18767/18767.txt found text with 315982 characters\n",
      "fetching book via http://www.gutenberg.org/files/22408/22408.txt found text with 94045 characters\n",
      "fetching book via http://www.gutenberg.org/files/14759/14759.txt found text with 374708 characters\n",
      "fetching book via http://www.gutenberg.org/files/23576/23576.txt found text with 289343 characters\n",
      "fetching book via http://www.gutenberg.org/files/24263/24263.txt found text with 146740 characters\n",
      "fetching book via http://www.gutenberg.org/files/24222/24222.txt found text with 410766 characters\n",
      "fetching book via http://www.gutenberg.org/files/23941/23941.txt found text with 273457 characters\n",
      "fetching book via http://www.gutenberg.org/files/18525/18525.txt found text with 359198 characters\n",
      "fetching book via http://www.gutenberg.org/files/24409/24409.txt found text with 451923 characters\n",
      "fetching book via http://www.gutenberg.org/files/24852/24852.txt found text with 205111 characters\n",
      "fetching book via http://www.gutenberg.org/files/24598/24598.txt found text with 1336787 characters\n",
      "fetching book via http://www.gutenberg.org/files/11313/11313.txt found text with 906157 characters\n",
      "fetching book via http://www.gutenberg.org/files/18561/18561.txt found text with 399454 characters\n",
      "fetching book via http://www.gutenberg.org/files/16667/16667.txt found text with 386515 characters\n",
      "fetching book via http://www.gutenberg.org/files/20107/20107.txt found text with 139853 characters\n",
      "fetching book via http://www.gutenberg.org/files/22727/22727.txt found text with 401154 characters\n",
      "fetching book via http://www.gutenberg.org/files/9995/9995.txt found text with 139249 characters\n",
      "fetching book via http://www.gutenberg.org/files/22911/22911.txt found text with 107468 characters\n",
      "fetching book via http://www.gutenberg.org/files/24676/24676.txt found text with 163780 characters\n",
      "fetching book via http://www.gutenberg.org/files/24884/24884.txt found text with 620661 characters\n",
      "fetching book via http://www.gutenberg.org/files/21783/21783.txt found text with 216472 characters\n",
      "fetching book via http://www.gutenberg.org/files/17160/17160.txt found text with 571702 characters\n",
      "fetching book via http://www.gutenberg.org/files/16728/16728.txt found text with 421177 characters\n",
      "fetching book via http://www.gutenberg.org/files/16379/16379.txt found text with 110187 characters\n",
      "fetching book via http://www.gutenberg.org/files/20522/20522.txt found text with 438480 characters\n",
      "fetching book via http://www.gutenberg.org/files/20698/20698.txt found text with 234593 characters\n",
      "fetching book via http://www.gutenberg.org/files/19423/19423.txt found text with 287775 characters\n",
      "fetching book via http://www.gutenberg.org/files/7803/7803.txt found text with 178134 characters\n",
      "fetching book via http://www.gutenberg.org/files/24858/24858.txt found text with 210728 characters\n",
      "fetching book via http://www.gutenberg.org/files/22245/22245.txt found text with 361808 characters\n",
      "fetching book via http://www.gutenberg.org/files/23560/23560.txt found text with 377508 characters\n",
      "fetching book via http://www.gutenberg.org/files/23728/23728.txt found text with 367101 characters\n",
      "fetching book via http://www.gutenberg.org/files/22425/22425.txt found text with 89251 characters\n",
      "fetching book via http://www.gutenberg.org/files/22600/22600.txt found text with 241658 characters\n",
      "fetching book via http://www.gutenberg.org/files/22766/22766.txt found text with 275255 characters\n",
      "fetching book via http://www.gutenberg.org/files/22917/22917.txt found text with 78 characters\n",
      "fetching book via http://www.gutenberg.org/files/12655/12655.txt found text with 1356690 characters\n",
      "fetching book via http://www.gutenberg.org/files/22925/22925.txt found text with 323114 characters\n",
      "fetching book via http://www.gutenberg.org/files/23395/23395.txt found text with 196584 characters\n",
      "fetching book via http://www.gutenberg.org/files/24030/24030.txt found text with 318646 characters\n",
      "fetching book via http://www.gutenberg.org/files/24125/24125.txt found text with 32226 characters\n",
      "fetching book via http://www.gutenberg.org/files/24656/24656.txt found text with 333240 characters\n",
      "fetching book via http://www.gutenberg.org/files/20557/20557.txt found text with 348760 characters\n"
     ]
    },
    {
     "data": {
      "text/plain": [
       "1"
      ]
     },
     "execution_count": 8,
     "metadata": {},
     "output_type": "execute_result"
    }
   ],
   "source": [
    "#all_texts = [{ 'corpus': 'a bad bunny.'}, { 'corpus': 'one 1 sad day did no wrong on this day'}, { 'corpus': 'the big bad bear died'}]\n",
    "all_texts = []\n",
    "\n",
    "def fetch_all_texts():\n",
    "    if len(all_texts) > 0:\n",
    "        print(len(all_texts))\n",
    "        return\n",
    "    # get all the html from the home page of some site\n",
    "    home_page_html = get_text_from_url(url_to_fetch_images)\n",
    "    # get all the links from the html\n",
    "    all_links_from_home_page = get_all_links_from_html(home_page_html)\n",
    "    # remove unhelpful links\n",
    "    relevent_links_from_home_page = list(filter(relevent_link, all_links_from_home_page))\n",
    "\n",
    "    book_ids = get_book_ids_from_links(relevent_links_from_home_page)\n",
    "    book_urls = get_book_text_urls_from_ids(book_ids)\n",
    "    print('found {} books'.format(len(book_urls)))\n",
    "    book_i = 0\n",
    "    for url in book_urls:\n",
    "        print ('fetching book via {}'.format(url), end=' ')\n",
    "        book_text = get_text_from_url(url)\n",
    "        print('found text with {} characters'.format(len(book_text)))\n",
    "        all_texts.append({\n",
    "            'url': url,\n",
    "            'corpus': book_text\n",
    "        })\n",
    "\n",
    "        book_i += 1\n",
    "        # provide a number to cap\n",
    "        if book_i == 200:\n",
    "            return\n",
    "        \n",
    "    \n",
    "    # append to all_texts a dictionary with the raw text\n",
    "    return 1\n",
    "fetch_all_texts()"
   ]
  },
  {
   "cell_type": "markdown",
   "metadata": {},
   "source": [
    "# Score Vocabulary Size\n",
    "\n",
    "Various methods to help get vocabulary size"
   ]
  },
  {
   "cell_type": "code",
   "execution_count": 9,
   "metadata": {
    "collapsed": true
   },
   "outputs": [],
   "source": [
    "def get_words_from_corpus(corpus):\n",
    "    # use regex to only take in actually alphabetic characters\n",
    "    corpus = re.sub('[^a-zA-Z\\s]', '', corpus)\n",
    "    # get the lowercase of all letter\n",
    "    corpus = corpus.lower()\n",
    "    # vectorize all the words\n",
    "    return word_tokenize(corpus)"
   ]
  },
  {
   "cell_type": "code",
   "execution_count": 10,
   "metadata": {
    "collapsed": true
   },
   "outputs": [],
   "source": [
    "def get_unique_words(words):\n",
    "    return set(words)"
   ]
  },
  {
   "cell_type": "code",
   "execution_count": 12,
   "metadata": {
    "collapsed": false
   },
   "outputs": [
    {
     "data": {
      "text/plain": [
       "0.1"
      ]
     },
     "execution_count": 12,
     "metadata": {},
     "output_type": "execute_result"
    }
   ],
   "source": [
    "def get_vocabulary_score(vocab_size, highest_vocab_size):\n",
    "    return float(vocab_size) / highest_vocab_size\n",
    "\n",
    "get_vocabulary_score(10, 100)"
   ]
  },
  {
   "cell_type": "code",
   "execution_count": 13,
   "metadata": {
    "collapsed": false
   },
   "outputs": [
    {
     "data": {
      "text/plain": [
       "1"
      ]
     },
     "execution_count": 13,
     "metadata": {},
     "output_type": "execute_result"
    }
   ],
   "source": [
    "def get_long_word_count(vocab):\n",
    "    minimum_size = 15\n",
    "    long_words = [w for w in vocab if len(w) >= minimum_size]\n",
    "    return len(long_words)\n",
    "\n",
    "get_long_word_count(['kj', 'superlongwordthatmakesnosense'])"
   ]
  },
  {
   "cell_type": "code",
   "execution_count": 14,
   "metadata": {
    "collapsed": true
   },
   "outputs": [],
   "source": [
    "def get_lexical_diversity(words, unique_words):\n",
    "    return float(len(unique_words)) / len(words)"
   ]
  },
  {
   "cell_type": "markdown",
   "metadata": {},
   "source": [
    "### Get vocabulary score for each item"
   ]
  },
  {
   "cell_type": "code",
   "execution_count": 15,
   "metadata": {
    "collapsed": false
   },
   "outputs": [
    {
     "name": "stdout",
     "output_type": "stream",
     "text": [
      "text difficulty: 0.29, v score: 0.10, lw score: 0.04, lexical diversity: 0.14, url: http://www.gutenberg.org/files/7841/7841.txt\n",
      "text difficulty: 0.32, v score: 0.12, lw score: 0.05, lexical diversity: 0.15, url: http://www.gutenberg.org/files/5742/5742.txt\n",
      "text difficulty: 0.57, v score: 0.32, lw score: 0.14, lexical diversity: 0.11, url: http://www.gutenberg.org/files/13539/13539.txt\n",
      "text difficulty: 0.52, v score: 0.31, lw score: 0.09, lexical diversity: 0.11, url: http://www.gutenberg.org/files/7425/7425.txt\n",
      "text difficulty: 0.33, v score: 0.12, lw score: 0.09, lexical diversity: 0.12, url: http://www.gutenberg.org/files/16046/16046.txt\n",
      "text difficulty: 0.30, v score: 0.16, lw score: 0.08, lexical diversity: 0.06, url: http://www.gutenberg.org/files/22420/22420.txt\n",
      "text difficulty: 0.91, v score: 0.00, lw score: 0.00, lexical diversity: 0.91, url: http://www.gutenberg.org/files/23424/23424.txt\n",
      "text difficulty: 0.38, v score: 0.17, lw score: 0.09, lexical diversity: 0.11, url: http://www.gutenberg.org/files/18217/18217.txt\n",
      "text difficulty: 0.51, v score: 0.19, lw score: 0.16, lexical diversity: 0.17, url: http://www.gutenberg.org/files/24053/24053.txt\n",
      "text difficulty: 0.45, v score: 0.18, lw score: 0.09, lexical diversity: 0.18, url: http://www.gutenberg.org/files/24644/24644.txt\n",
      "text difficulty: 0.39, v score: 0.05, lw score: 0.09, lexical diversity: 0.24, url: http://www.gutenberg.org/files/24703/24703.txt\n",
      "text difficulty: 0.55, v score: 0.27, lw score: 0.11, lexical diversity: 0.17, url: http://www.gutenberg.org/files/15659/15659.txt\n",
      "text difficulty: 0.52, v score: 0.28, lw score: 0.12, lexical diversity: 0.11, url: http://www.gutenberg.org/files/15170/15170.txt\n",
      "text difficulty: 0.90, v score: 0.52, lw score: 0.25, lexical diversity: 0.13, url: http://www.gutenberg.org/files/10811/10811.txt\n",
      "text difficulty: 0.91, v score: 0.00, lw score: 0.00, lexical diversity: 0.91, url: http://www.gutenberg.org/files/9106/9106.txt\n",
      "text difficulty: 1.46, v score: 0.81, lw score: 0.54, lexical diversity: 0.11, url: http://www.gutenberg.org/files/19721/19721.txt\n",
      "text difficulty: 0.36, v score: 0.11, lw score: 0.09, lexical diversity: 0.16, url: http://www.gutenberg.org/files/14640/14640.txt\n",
      "text difficulty: 0.50, v score: 0.20, lw score: 0.14, lexical diversity: 0.15, url: http://www.gutenberg.org/files/14668/14668.txt\n",
      "text difficulty: 0.49, v score: 0.26, lw score: 0.10, lexical diversity: 0.13, url: http://www.gutenberg.org/files/14766/14766.txt\n",
      "text difficulty: 0.90, v score: 0.56, lw score: 0.20, lexical diversity: 0.13, url: http://www.gutenberg.org/files/14880/14880.txt\n",
      "text difficulty: 1.25, v score: 0.79, lw score: 0.34, lexical diversity: 0.12, url: http://www.gutenberg.org/files/15040/15040.txt\n",
      "text difficulty: 1.82, v score: 1.00, lw score: 0.71, lexical diversity: 0.11, url: http://www.gutenberg.org/files/16751/16751.txt\n",
      "text difficulty: 0.32, v score: 0.09, lw score: 0.09, lexical diversity: 0.13, url: http://www.gutenberg.org/files/13853/13853.txt\n",
      "text difficulty: 0.81, v score: 0.52, lw score: 0.18, lexical diversity: 0.11, url: http://www.gutenberg.org/files/15825/15825.txt\n",
      "text difficulty: 1.01, v score: 0.58, lw score: 0.30, lexical diversity: 0.13, url: http://www.gutenberg.org/files/18561/18561.txt\n",
      "text difficulty: 1.24, v score: 0.72, lw score: 0.39, lexical diversity: 0.13, url: http://www.gutenberg.org/files/18702/18702.txt\n",
      "text difficulty: 1.73, v score: 1.00, lw score: 0.61, lexical diversity: 0.12, url: http://www.gutenberg.org/files/19923/19923.txt\n",
      "text difficulty: 1.20, v score: 0.66, lw score: 0.42, lexical diversity: 0.12, url: http://www.gutenberg.org/files/22795/22795.txt\n",
      "text difficulty: 0.68, v score: 0.34, lw score: 0.21, lexical diversity: 0.12, url: http://www.gutenberg.org/files/16936/16936.txt\n",
      "text difficulty: 1.40, v score: 0.91, lw score: 0.36, lexical diversity: 0.12, url: http://www.gutenberg.org/files/9078/9078.txt\n",
      "text difficulty: 0.41, v score: 0.22, lw score: 0.07, lexical diversity: 0.12, url: http://www.gutenberg.org/files/6685/6685.txt\n",
      "text difficulty: 1.12, v score: 0.71, lw score: 0.30, lexical diversity: 0.11, url: http://www.gutenberg.org/files/18909/18909.txt\n",
      "text difficulty: 1.12, v score: 0.74, lw score: 0.27, lexical diversity: 0.11, url: http://www.gutenberg.org/files/19469/19469.txt\n",
      "text difficulty: 0.66, v score: 0.32, lw score: 0.12, lexical diversity: 0.22, url: http://www.gutenberg.org/files/9542/9542.txt\n",
      "text difficulty: 0.47, v score: 0.10, lw score: 0.11, lexical diversity: 0.27, url: http://www.gutenberg.org/files/11023/11023.txt\n",
      "text difficulty: 0.91, v score: 0.00, lw score: 0.00, lexical diversity: 0.91, url: http://www.gutenberg.org/files/8997/8997.txt\n",
      "text difficulty: 1.35, v score: 0.60, lw score: 0.54, lexical diversity: 0.21, url: http://www.gutenberg.org/files/15353/15353.txt\n",
      "text difficulty: 0.91, v score: 0.00, lw score: 0.00, lexical diversity: 0.91, url: http://www.gutenberg.org/files/22065/22065.txt\n",
      "text difficulty: 0.91, v score: 0.00, lw score: 0.00, lexical diversity: 0.91, url: http://www.gutenberg.org/files/24072/24072.txt\n",
      "text difficulty: 0.91, v score: 0.00, lw score: 0.00, lexical diversity: 0.91, url: http://www.gutenberg.org/files/15626/15626.txt\n",
      "text difficulty: 0.91, v score: 0.00, lw score: 0.00, lexical diversity: 0.91, url: http://www.gutenberg.org/files/23424/23424.txt\n",
      "text difficulty: 0.53, v score: 0.24, lw score: 0.11, lexical diversity: 0.18, url: http://www.gutenberg.org/files/15577/15577.txt\n",
      "text difficulty: 1.24, v score: 0.71, lw score: 0.43, lexical diversity: 0.10, url: http://www.gutenberg.org/files/18274/18274.txt\n",
      "text difficulty: 0.45, v score: 0.23, lw score: 0.14, lexical diversity: 0.08, url: http://www.gutenberg.org/files/19381/19381.txt\n",
      "text difficulty: 0.38, v score: 0.15, lw score: 0.11, lexical diversity: 0.13, url: http://www.gutenberg.org/files/13347/13347.txt\n",
      "text difficulty: 1.33, v score: 0.67, lw score: 0.56, lexical diversity: 0.09, url: http://www.gutenberg.org/files/21973/21973.txt\n",
      "text difficulty: 0.41, v score: 0.07, lw score: 0.09, lexical diversity: 0.25, url: http://www.gutenberg.org/files/10737/10737.txt\n",
      "text difficulty: 0.59, v score: 0.28, lw score: 0.14, lexical diversity: 0.18, url: http://www.gutenberg.org/files/21266/21266.txt\n",
      "text difficulty: 0.40, v score: 0.06, lw score: 0.09, lexical diversity: 0.25, url: http://www.gutenberg.org/files/17365/17365.txt\n",
      "text difficulty: 0.94, v score: 0.51, lw score: 0.31, lexical diversity: 0.13, url: http://www.gutenberg.org/files/2284/2284.txt\n",
      "text difficulty: 0.80, v score: 0.45, lw score: 0.23, lexical diversity: 0.12, url: http://www.gutenberg.org/files/3031/3031.txt\n",
      "text difficulty: 0.65, v score: 0.38, lw score: 0.16, lexical diversity: 0.11, url: http://www.gutenberg.org/files/23667/23667.txt\n",
      "text difficulty: 0.64, v score: 0.31, lw score: 0.22, lexical diversity: 0.11, url: http://www.gutenberg.org/files/15950/15950.txt\n",
      "text difficulty: 0.91, v score: 0.00, lw score: 0.00, lexical diversity: 0.91, url: http://www.gutenberg.org/files/18072/18072.txt\n",
      "text difficulty: 0.50, v score: 0.31, lw score: 0.14, lexical diversity: 0.06, url: http://www.gutenberg.org/files/2441/2441.txt\n",
      "text difficulty: 0.69, v score: 0.36, lw score: 0.19, lexical diversity: 0.14, url: http://www.gutenberg.org/files/17185/17185.txt\n",
      "text difficulty: 0.48, v score: 0.10, lw score: 0.11, lexical diversity: 0.26, url: http://www.gutenberg.org/files/10834/10834.txt\n",
      "text difficulty: 0.50, v score: 0.25, lw score: 0.16, lexical diversity: 0.10, url: http://www.gutenberg.org/files/18790/18790.txt\n",
      "text difficulty: 0.60, v score: 0.32, lw score: 0.16, lexical diversity: 0.11, url: http://www.gutenberg.org/files/16140/16140.txt\n",
      "text difficulty: 0.60, v score: 0.27, lw score: 0.21, lexical diversity: 0.12, url: http://www.gutenberg.org/files/21948/21948.txt\n",
      "text difficulty: 0.59, v score: 0.24, lw score: 0.23, lexical diversity: 0.12, url: http://www.gutenberg.org/files/10726/10726.txt\n",
      "text difficulty: 0.78, v score: 0.43, lw score: 0.23, lexical diversity: 0.11, url: http://www.gutenberg.org/files/18767/18767.txt\n",
      "text difficulty: 0.58, v score: 0.24, lw score: 0.11, lexical diversity: 0.23, url: http://www.gutenberg.org/files/22408/22408.txt\n",
      "text difficulty: 0.97, v score: 0.52, lw score: 0.32, lexical diversity: 0.13, url: http://www.gutenberg.org/files/14759/14759.txt\n",
      "text difficulty: 1.07, v score: 0.38, lw score: 0.57, lexical diversity: 0.12, url: http://www.gutenberg.org/files/23576/23576.txt\n",
      "text difficulty: 0.58, v score: 0.28, lw score: 0.12, lexical diversity: 0.18, url: http://www.gutenberg.org/files/24263/24263.txt\n",
      "text difficulty: 0.89, v score: 0.47, lw score: 0.31, lexical diversity: 0.11, url: http://www.gutenberg.org/files/24222/24222.txt\n",
      "text difficulty: 1.15, v score: 0.42, lw score: 0.59, lexical diversity: 0.13, url: http://www.gutenberg.org/files/23941/23941.txt\n",
      "text difficulty: 0.80, v score: 0.44, lw score: 0.26, lexical diversity: 0.11, url: http://www.gutenberg.org/files/18525/18525.txt\n",
      "text difficulty: 1.04, v score: 0.54, lw score: 0.39, lexical diversity: 0.11, url: http://www.gutenberg.org/files/24409/24409.txt\n",
      "text difficulty: 0.41, v score: 0.20, lw score: 0.13, lexical diversity: 0.08, url: http://www.gutenberg.org/files/24852/24852.txt\n",
      "text difficulty: 1.92, v score: 0.91, lw score: 0.94, lexical diversity: 0.06, url: http://www.gutenberg.org/files/24598/24598.txt\n",
      "text difficulty: 1.73, v score: 0.66, lw score: 1.00, lexical diversity: 0.07, url: http://www.gutenberg.org/files/11313/11313.txt\n",
      "text difficulty: 1.01, v score: 0.58, lw score: 0.30, lexical diversity: 0.13, url: http://www.gutenberg.org/files/18561/18561.txt\n",
      "text difficulty: 0.72, v score: 0.44, lw score: 0.19, lexical diversity: 0.10, url: http://www.gutenberg.org/files/16667/16667.txt\n",
      "text difficulty: 0.81, v score: 0.32, lw score: 0.28, lexical diversity: 0.21, url: http://www.gutenberg.org/files/20107/20107.txt\n",
      "text difficulty: 0.94, v score: 0.39, lw score: 0.47, lexical diversity: 0.08, url: http://www.gutenberg.org/files/22727/22727.txt\n",
      "text difficulty: 0.58, v score: 0.27, lw score: 0.14, lexical diversity: 0.17, url: http://www.gutenberg.org/files/9995/9995.txt\n",
      "text difficulty: 0.43, v score: 0.17, lw score: 0.13, lexical diversity: 0.14, url: http://www.gutenberg.org/files/22911/22911.txt\n",
      "text difficulty: 0.72, v score: 0.31, lw score: 0.24, lexical diversity: 0.17, url: http://www.gutenberg.org/files/24676/24676.txt\n",
      "text difficulty: 1.62, v score: 0.60, lw score: 0.93, lexical diversity: 0.09, url: http://www.gutenberg.org/files/24884/24884.txt\n",
      "text difficulty: 0.72, v score: 0.25, lw score: 0.09, lexical diversity: 0.37, url: http://www.gutenberg.org/files/21783/21783.txt\n",
      "text difficulty: 1.64, v score: 0.81, lw score: 0.70, lexical diversity: 0.13, url: http://www.gutenberg.org/files/17160/17160.txt\n",
      "text difficulty: 0.91, v score: 0.49, lw score: 0.30, lexical diversity: 0.11, url: http://www.gutenberg.org/files/16728/16728.txt\n",
      "text difficulty: 0.36, v score: 0.14, lw score: 0.11, lexical diversity: 0.11, url: http://www.gutenberg.org/files/16379/16379.txt\n",
      "text difficulty: 1.32, v score: 0.46, lw score: 0.77, lexical diversity: 0.09, url: http://www.gutenberg.org/files/20522/20522.txt\n",
      "text difficulty: 0.65, v score: 0.34, lw score: 0.19, lexical diversity: 0.12, url: http://www.gutenberg.org/files/20698/20698.txt\n",
      "text difficulty: 0.77, v score: 0.38, lw score: 0.27, lexical diversity: 0.11, url: http://www.gutenberg.org/files/19423/19423.txt\n",
      "text difficulty: 0.59, v score: 0.31, lw score: 0.14, lexical diversity: 0.15, url: http://www.gutenberg.org/files/7803/7803.txt\n",
      "text difficulty: 0.54, v score: 0.30, lw score: 0.12, lexical diversity: 0.12, url: http://www.gutenberg.org/files/24858/24858.txt\n",
      "text difficulty: 0.82, v score: 0.47, lw score: 0.24, lexical diversity: 0.11, url: http://www.gutenberg.org/files/22245/22245.txt\n",
      "text difficulty: 0.82, v score: 0.49, lw score: 0.22, lexical diversity: 0.11, url: http://www.gutenberg.org/files/23560/23560.txt\n",
      "text difficulty: 0.78, v score: 0.46, lw score: 0.21, lexical diversity: 0.11, url: http://www.gutenberg.org/files/23728/23728.txt\n",
      "text difficulty: 0.58, v score: 0.19, lw score: 0.10, lexical diversity: 0.29, url: http://www.gutenberg.org/files/22425/22425.txt\n",
      "text difficulty: 0.82, v score: 0.35, lw score: 0.33, lexical diversity: 0.14, url: http://www.gutenberg.org/files/22600/22600.txt\n",
      "text difficulty: 0.76, v score: 0.26, lw score: 0.40, lexical diversity: 0.10, url: http://www.gutenberg.org/files/22766/22766.txt\n",
      "text difficulty: 0.91, v score: 0.00, lw score: 0.00, lexical diversity: 0.91, url: http://www.gutenberg.org/files/22917/22917.txt\n",
      "text difficulty: 1.47, v score: 0.67, lw score: 0.76, lexical diversity: 0.04, url: http://www.gutenberg.org/files/12655/12655.txt\n",
      "text difficulty: 0.93, v score: 0.48, lw score: 0.32, lexical diversity: 0.13, url: http://www.gutenberg.org/files/22925/22925.txt\n",
      "text difficulty: 0.76, v score: 0.38, lw score: 0.17, lexical diversity: 0.21, url: http://www.gutenberg.org/files/23395/23395.txt\n",
      "text difficulty: 0.46, v score: 0.28, lw score: 0.10, lexical diversity: 0.07, url: http://www.gutenberg.org/files/24030/24030.txt\n",
      "text difficulty: 0.41, v score: 0.08, lw score: 0.09, lexical diversity: 0.24, url: http://www.gutenberg.org/files/24125/24125.txt\n",
      "text difficulty: 0.73, v score: 0.31, lw score: 0.32, lexical diversity: 0.10, url: http://www.gutenberg.org/files/24656/24656.txt\n",
      "text difficulty: 0.73, v score: 0.32, lw score: 0.33, lexical diversity: 0.09, url: http://www.gutenberg.org/files/20557/20557.txt\n"
     ]
    }
   ],
   "source": [
    "# Loop through all_texts\n",
    "# Get the largest text\n",
    "# Score each item based on largest text\n",
    "#  - Add text scores to each record of all_texts\n",
    "def score_vocabulary_size():\n",
    "    highest_vocab = 0\n",
    "    highest_long_word_count = 0\n",
    "    \n",
    "    # get the vocabulary size of each item (and the highest item)\n",
    "    for text in all_texts:\n",
    "        corpus = text['corpus']\n",
    "        words = get_words_from_corpus(corpus)\n",
    "        unique_words = get_unique_words(words)\n",
    "\n",
    "        vocabulary_size = len(unique_words)\n",
    "        long_word_count = get_long_word_count(unique_words)\n",
    "        lexical_diversity = get_lexical_diversity(words, unique_words)\n",
    "\n",
    "        text['vocabulary_size'] = vocabulary_size\n",
    "        text['long_word_count'] = long_word_count\n",
    "        text['lexical_diversity'] = lexical_diversity\n",
    "\n",
    "        if vocabulary_size > highest_vocab:\n",
    "            highest_vocab = vocabulary_size\n",
    "        if long_word_count > highest_long_word_count:\n",
    "            highest_long_word_count = long_word_count\n",
    "\n",
    "    # score each item\n",
    "    for text in all_texts:\n",
    "        vocabulary_size = text['vocabulary_size']\n",
    "        long_word_count = text['long_word_count']\n",
    "        lexical_diversity = text['lexical_diversity']\n",
    "\n",
    "        vocabulary_score = get_vocabulary_score(vocabulary_size, highest_vocab)\n",
    "        long_word_score = get_vocabulary_score(long_word_count, highest_long_word_count)\n",
    "        text_difficulty = vocabulary_score + long_word_score + lexical_diversity\n",
    "\n",
    "        text['vocabulary_score'] = vocabulary_score\n",
    "        text['long_word_score'] = long_word_score\n",
    "        print('text difficulty: {0:.2f}, v score: {1:.2f}, lw score: {2:.2f}, lexical diversity: {3:.2f}, url: {4}'.format(text_difficulty, vocabulary_score, long_word_score, lexical_diversity, text['url']))\n",
    "\n",
    "score_vocabulary_size()"
   ]
  },
  {
   "cell_type": "code",
   "execution_count": null,
   "metadata": {
    "collapsed": true
   },
   "outputs": [],
   "source": []
  }
 ],
 "metadata": {
  "kernelspec": {
   "display_name": "Python [conda root]",
   "language": "python",
   "name": "conda-root-py"
  },
  "language_info": {
   "codemirror_mode": {
    "name": "ipython",
    "version": 3
   },
   "file_extension": ".py",
   "mimetype": "text/x-python",
   "name": "python",
   "nbconvert_exporter": "python",
   "pygments_lexer": "ipython3",
   "version": "3.6.0"
  }
 },
 "nbformat": 4,
 "nbformat_minor": 2
}

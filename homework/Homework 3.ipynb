{
 "cells": [
  {
   "cell_type": "markdown",
   "metadata": {},
   "source": [
    "# Homework 3\n",
    "_Show your work for both calculations (number 2 and 3 below)._\n",
    "\n"
   ]
  },
  {
   "cell_type": "markdown",
   "metadata": {},
   "source": [
    "## Calculations"
   ]
  },
  {
   "cell_type": "code",
   "execution_count": 1,
   "metadata": {
    "collapsed": false
   },
   "outputs": [],
   "source": [
    "from nltk.corpus import stopwords, wordnet\n",
    "from nltk.tokenize import word_tokenize\n",
    "from nltk.stem.porter import PorterStemmer\n",
    "import re\n",
    "QUOTE_FROM_JANE_EYRE = 'There was no possibility of taking a walk that day. We had been wandering, indeed, in the leafless shrubbery an hour in the morning; but since dinner (Mrs. Reed, when there was no company, dined early) the cold winter wind had brought with it clouds sombre, and a rain so penetrating, that further out-door excercise was now out of the question.'\n",
    "\n",
    "# Question Number 2 calculations\n",
    "# With assistance from https://www.geeksforgeeks.org/removing-stop-words-nltk-python/\n",
    "\n",
    "def remove_stop_words_from_text(text):\n",
    "    words = word_tokenize(text)\n",
    "\n",
    "    stop_words = set(stopwords.words('english'))\n",
    "    return ' '.join([w for w in words if not w in stop_words])\n",
    "\n",
    "# Question Number 3 calculations\n",
    "def is_true_word(word):\n",
    "    return len(wordnet.synsets(word)) > 0\n",
    "\n",
    "def how_many_words_are_true(text):\n",
    "    # take only words\n",
    "    text = re.sub(r'[^\\w\\s]+', '', text)\n",
    "    words = word_tokenize(text)\n",
    "    stemmer = PorterStemmer()\n",
    "    \n",
    "    stem_words = [stemmer.stem(w) for w in words]\n",
    "    \n",
    "    true_words = []\n",
    "    false_words = []\n",
    "    \n",
    "    for word in stem_words:\n",
    "        if is_true_word(word):\n",
    "            true_words.append(word)\n",
    "        else:\n",
    "            false_words.append(word)\n",
    "\n",
    "    percent_true = len(true_words) / float(len(words))\n",
    "\n",
    "    print('{} True Words: \"{}\"'.format(len(true_words), ', '.join(true_words)))\n",
    "    print('{} False Words: \"{}\"'.format(len(false_words), ', '.join(false_words)))\n",
    "    print()\n",
    "    print('{0:.0%} Percent True'.format(percent_true))\n",
    "    "
   ]
  },
  {
   "cell_type": "markdown",
   "metadata": {},
   "source": [
    "### Question 1\n",
    "Compare your given name with your nickname (if you don’t have a nickname, invent one for this assignment) by answering the following questions:\n",
    "> Nickname: KJ\n",
    "> Real Name: Kevin\n"
   ]
  },
  {
   "cell_type": "markdown",
   "metadata": {},
   "source": [
    "- What is the edit distance between your nickname and your given name?\n",
    "> K -e -v -i -n +J (Total of five for the edit distance)\n"
   ]
  },
  {
   "cell_type": "markdown",
   "metadata": {},
   "source": [
    "- What is the percentage string match between your nickname and your given name?\n",
    "\n",
    "> 1 matching | 5 not matching | 20% matching"
   ]
  },
  {
   "cell_type": "markdown",
   "metadata": {},
   "source": [
    "### Question 2"
   ]
  },
  {
   "cell_type": "markdown",
   "metadata": {},
   "source": [
    "Find a friend (or family member or classmate) who you know has read a certain book. Without your friend knowing, copy the first two sentences of that book. Now rewrite the words from those sentences, excluding stop words. Now tell your friend to guess which book the words are from by reading them just that list of words. Did you friend correctly guess the book on the first try? What did he or she guess? Explain why you think you friend either was or was not able to guess the book from hearing the list of words. \n",
    "\n",
    "Book: Jane Eyre\n",
    "First two sentences:\n",
    "\n",
    "> There was no possibility of taking a walk that day. We had been wandering, indeed, in the leafless shrubbery an hour in the morning; but since dinner (Mrs. Reed, when there was no company, dined early) the cold winter wind had brought with it clouds sombre, and a rain so penetrating, that further out-door excercise was now out of the question."
   ]
  },
  {
   "cell_type": "markdown",
   "metadata": {},
   "source": [
    "Remove stopwords from text (allowing for some reformmating errors as I am reading the text):"
   ]
  },
  {
   "cell_type": "code",
   "execution_count": 2,
   "metadata": {
    "collapsed": false
   },
   "outputs": [
    {
     "data": {
      "text/plain": [
       "'There possibility taking walk day . We wandering , indeed , leafless shrubbery hour morning ; since dinner ( Mrs. Reed , company , dined early ) cold winter wind brought clouds sombre , rain penetrating , out-door excercise question .'"
      ]
     },
     "execution_count": 2,
     "metadata": {},
     "output_type": "execute_result"
    }
   ],
   "source": [
    "remove_stop_words_from_text(QUOTE_FROM_JANE_EYRE)"
   ]
  },
  {
   "cell_type": "markdown",
   "metadata": {},
   "source": [
    "#### Question 2 Results\n",
    "\n",
    "My wife, was able to guess that this came from Jane Eyre. She's a genius. When I asked what gave it away, it was the phrase \"wondering...leafless shrubbery\". Wondeful!"
   ]
  },
  {
   "cell_type": "markdown",
   "metadata": {},
   "source": [
    "### Question 3\n",
    "Run one of the stemmers available in Python. Run the same two sentences from question 2 above through the stemmer and show the results. How many of the outputted stems are valid morphological roots of the corresponding words? Express this answer as a percentage.\n",
    "\n",
    "\n"
   ]
  },
  {
   "cell_type": "code",
   "execution_count": 3,
   "metadata": {
    "collapsed": false
   },
   "outputs": [
    {
     "name": "stdout",
     "output_type": "stream",
     "text": [
      "40 True Words: \"there, wa, no, take, a, walk, day, had, been, wander, in, leafless, an, hour, in, morn, but, dinner, mr, reed, there, wa, no, dine, cold, winter, wind, had, brought, it, cloud, a, rain, so, further, outdoor, wa, now, out, question\"\n",
      "21 False Words: \"possibl, of, that, We, inde, the, shrubberi, the, sinc, when, compani, earli, the, with, sombr, and, penetr, that, excercis, of, the\"\n",
      "\n",
      "66% Percent True\n"
     ]
    }
   ],
   "source": [
    "how_many_words_are_true(QUOTE_FROM_JANE_EYRE)"
   ]
  },
  {
   "cell_type": "code",
   "execution_count": null,
   "metadata": {
    "collapsed": true
   },
   "outputs": [],
   "source": []
  }
 ],
 "metadata": {
  "kernelspec": {
   "display_name": "Python [default]",
   "language": "python",
   "name": "python3"
  },
  "language_info": {
   "codemirror_mode": {
    "name": "ipython",
    "version": 3
   },
   "file_extension": ".py",
   "mimetype": "text/x-python",
   "name": "python",
   "nbconvert_exporter": "python",
   "pygments_lexer": "ipython3",
   "version": "3.6.0"
  }
 },
 "nbformat": 4,
 "nbformat_minor": 2
}

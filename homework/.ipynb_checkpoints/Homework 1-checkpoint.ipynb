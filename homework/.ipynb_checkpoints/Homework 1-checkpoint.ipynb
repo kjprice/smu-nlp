{
 "cells": [
  {
   "cell_type": "code",
   "execution_count": 24,
   "metadata": {
    "collapsed": true
   },
   "outputs": [],
   "source": [
    "import nltk\n",
    "import requests"
   ]
  },
  {
   "cell_type": "markdown",
   "metadata": {},
   "source": [
    "http://www.nltk.org/book/ch01.html"
   ]
  },
  {
   "cell_type": "code",
   "execution_count": 11,
   "metadata": {
    "collapsed": false
   },
   "outputs": [],
   "source": [
    "from nltk.book import *"
   ]
  },
  {
   "cell_type": "code",
   "execution_count": 3,
   "metadata": {
    "collapsed": false
   },
   "outputs": [
    {
     "data": {
      "text/plain": [
       "<Text: Moby Dick by Herman Melville 1851>"
      ]
     },
     "execution_count": 3,
     "metadata": {},
     "output_type": "execute_result"
    }
   ],
   "source": [
    "text1"
   ]
  },
  {
   "cell_type": "code",
   "execution_count": 4,
   "metadata": {
    "collapsed": false
   },
   "outputs": [
    {
     "name": "stdout",
     "output_type": "stream",
     "text": [
      "Displaying 11 of 11 matches:\n",
      "ong the former , one was of a most monstrous size . ... This came towards us , \n",
      "ON OF THE PSALMS . \" Touching that monstrous bulk of the whale or ork we have r\n",
      "ll over with a heathenish array of monstrous clubs and spears . Some were thick\n",
      "d as you gazed , and wondered what monstrous cannibal and savage could ever hav\n",
      "that has survived the flood ; most monstrous and most mountainous ! That Himmal\n",
      "they might scout at Moby Dick as a monstrous fable , or still worse and more de\n",
      "th of Radney .'\" CHAPTER 55 Of the Monstrous Pictures of Whales . I shall ere l\n",
      "ing Scenes . In connexion with the monstrous pictures of whales , I am strongly\n",
      "ere to enter upon those still more monstrous stories of them which are to be fo\n",
      "ght have been rummaged out of this monstrous cabinet there is no telling . But \n",
      "of Whale - Bones ; for Whales of a monstrous size are oftentimes cast up dead u\n"
     ]
    }
   ],
   "source": [
    "text1.concordance(\"monstrous\")"
   ]
  },
  {
   "cell_type": "markdown",
   "metadata": {},
   "source": [
    "### Get Diversity"
   ]
  },
  {
   "cell_type": "code",
   "execution_count": 12,
   "metadata": {
    "collapsed": false
   },
   "outputs": [
    {
     "data": {
      "text/plain": [
       "0.04826383002768831"
      ]
     },
     "execution_count": 12,
     "metadata": {},
     "output_type": "execute_result"
    }
   ],
   "source": [
    "def lexical_diversity(text):\n",
    "    return float(len(set(text))) / len(text)\n",
    "lexical_diversity(text2)"
   ]
  },
  {
   "cell_type": "markdown",
   "metadata": {},
   "source": [
    "### Get Text"
   ]
  },
  {
   "cell_type": "code",
   "execution_count": 29,
   "metadata": {
    "collapsed": true
   },
   "outputs": [],
   "source": [
    "text_urls_by_level = {\n",
    "    'second': 'http://www.gutenberg.org/ebooks/15659.txt.utf-8',\n",
    "    'four': 'http://www.gutenberg.org/ebooks/14880.txt.utf-8',\n",
    "    'seven': 'http://www.gutenberg.org/ebooks/19721.txt.utf-8'\n",
    "}\n"
   ]
  },
  {
   "cell_type": "code",
   "execution_count": 34,
   "metadata": {
    "collapsed": false
   },
   "outputs": [
    {
     "name": "stdout",
     "output_type": "stream",
     "text": [
      "text_diversity 0.000226454519955 | level:four\n",
      "text_diversity 0.000609277830691 | level:second\n",
      "text_diversity 0.000151206110014 | level:seven\n"
     ]
    }
   ],
   "source": [
    "books_by_url = {}\n",
    "def get_book_text(url):\n",
    "    if url in books_by_url:\n",
    "        return books_by_url[url]\n",
    "    text = requests.get(url).text\n",
    "    books_by_url[url] = text\n",
    "    return text\n",
    "\n",
    "def get_diversity_all_texts():\n",
    "    for text_level in text_urls_by_level:\n",
    "        url = text_urls_by_level[text_level]\n",
    "        text = get_book_text(url)\n",
    "        diversity = lexical_diversity(text)\n",
    "        print('text_diversity {} | level:{}'.format(diversity, text_level))\n",
    "get_diversity_all_texts()"
   ]
  },
  {
   "cell_type": "code",
   "execution_count": 36,
   "metadata": {
    "collapsed": false
   },
   "outputs": [
    {
     "name": "stdout",
     "output_type": "stream",
     "text": [
      "vocabulary size 88 | level:four\n",
      "vocabulary size 87 | level:second\n",
      "vocabulary size 94 | level:seven\n"
     ]
    }
   ],
   "source": [
    "def get_vocabulary_size_all_texts():\n",
    "    for text_level in text_urls_by_level:\n",
    "        url = text_urls_by_level[text_level]\n",
    "        text = get_book_text(url)\n",
    "        unique_characters = set(text)\n",
    "        vocabulary_size = len(unique_characters)\n",
    "        print('vocabulary size {} | level:{}'.format(vocabulary_size, text_level))\n",
    "get_vocabulary_size_all_texts()"
   ]
  }
 ],
 "metadata": {
  "kernelspec": {
   "display_name": "Python [conda env:gl-env]",
   "language": "python",
   "name": "conda-env-gl-env-py"
  },
  "language_info": {
   "codemirror_mode": {
    "name": "ipython",
    "version": 2
   },
   "file_extension": ".py",
   "mimetype": "text/x-python",
   "name": "python",
   "nbconvert_exporter": "python",
   "pygments_lexer": "ipython2",
   "version": "2.7.11"
  }
 },
 "nbformat": 4,
 "nbformat_minor": 2
}
